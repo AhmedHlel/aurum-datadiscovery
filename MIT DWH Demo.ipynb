{
 "cells": [
  {
   "cell_type": "markdown",
   "metadata": {},
   "source": [
    "# MIT Datawarehouse Demo"
   ]
  },
  {
   "cell_type": "code",
   "execution_count": 1,
   "metadata": {
    "collapsed": false
   },
   "outputs": [
    {
     "name": "stdout",
     "output_type": "stream",
     "text": [
      "Loading (cache) graph...\n",
      "Done deserialization of cgraph_cache!\n",
      "Loading (cache) graph...DONE!\n",
      "Loading graph...\n",
      "Done deserialization of cgraph!\n",
      "Loading graph...DONE!\n",
      "Loading jgraph...\n",
      "Done deserialization of jgraph!\n",
      "Loading jgraph...DONE!\n",
      "Loading simrank matrix...\n",
      "Loading concepts for schema primitives...\n",
      "Loading concepts for schema primitives...DONE\n"
     ]
    }
   ],
   "source": [
    "from api import p as API\n",
    "from api import load_precomputed_model_DBVersion\n",
    "load_precomputed_model_DBVersion(\"mitdwh\")"
   ]
  },
  {
   "cell_type": "markdown",
   "metadata": {},
   "source": [
    "# Schema primitives"
   ]
  },
  {
   "cell_type": "code",
   "execution_count": 12,
   "metadata": {
    "collapsed": false
   },
   "outputs": [
    {
     "data": {
      "text/plain": [
       "[(('short_tip_subject_offered.csv', 'Responsible Faculty Name'), 0),\n",
       " (('short_subjects_offered.csv', 'Responsible Faculty Name'), 0),\n",
       " (('short_subject_offered_summary.csv', 'Responsible Faculty Mit Id'), 0),\n",
       " (('Library_subject_offered.csv', 'Responsible Faculty Mit Id'), 0),\n",
       " (('Library_subject_offered.csv', 'Responsible Faculty Name'), 0),\n",
       " (('short_course_catalog_subject_offered.csv', 'Responsible Faculty Mit Id'),\n",
       "  0),\n",
       " (('short_course_catalog_subject_offered.csv', 'Responsible Faculty Name'), 0),\n",
       " (('short_tip_subject_offered.csv', 'Responsible Faculty Mit Id'), 0),\n",
       " (('short_subjects_offered.csv', 'Responsible Faculty Mit Id'), 0),\n",
       " (('short_subject_offered_summary.csv', 'Responsible Faculty Name'), 0)]"
      ]
     },
     "execution_count": 12,
     "metadata": {},
     "output_type": "execute_result"
    }
   ],
   "source": [
    "API.search_schema('Faculty', 10)"
   ]
  },
  {
   "cell_type": "code",
   "execution_count": 16,
   "metadata": {
    "collapsed": false
   },
   "outputs": [
    {
     "data": {
      "text/markdown": [
       "**short_subject_offered_summary.csv**"
      ],
      "text/plain": [
       "<IPython.core.display.Markdown object>"
      ]
     },
     "metadata": {},
     "output_type": "display_data"
    },
    {
     "name": "stdout",
     "output_type": "stream",
     "text": [
      "   Responsible Faculty Name\n"
     ]
    },
    {
     "data": {
      "text/markdown": [
       "**short_subjects_offered.csv**"
      ],
      "text/plain": [
       "<IPython.core.display.Markdown object>"
      ]
     },
     "metadata": {},
     "output_type": "display_data"
    },
    {
     "name": "stdout",
     "output_type": "stream",
     "text": [
      "   Responsible Faculty Name\n"
     ]
    },
    {
     "data": {
      "text/markdown": [
       "**short_tip_subject_offered.csv**"
      ],
      "text/plain": [
       "<IPython.core.display.Markdown object>"
      ]
     },
     "metadata": {},
     "output_type": "display_data"
    },
    {
     "name": "stdout",
     "output_type": "stream",
     "text": [
      "   Responsible Faculty Name\n"
     ]
    },
    {
     "data": {
      "text/markdown": [
       "**Warehouse_users.csv**"
      ],
      "text/plain": [
       "<IPython.core.display.Markdown object>"
      ]
     },
     "metadata": {},
     "output_type": "display_data"
    },
    {
     "name": "stdout",
     "output_type": "stream",
     "text": [
      "   First Name\n"
     ]
    },
    {
     "data": {
      "text/markdown": [
       "**Drupal_employee_directory.csv**"
      ],
      "text/plain": [
       "<IPython.core.display.Markdown object>"
      ]
     },
     "metadata": {},
     "output_type": "display_data"
    },
    {
     "name": "stdout",
     "output_type": "stream",
     "text": [
      "   Full Name\n",
      "   First Name\n"
     ]
    },
    {
     "data": {
      "text/markdown": [
       "**Hr_faculty_roster.csv**"
      ],
      "text/plain": [
       "<IPython.core.display.Markdown object>"
      ]
     },
     "metadata": {},
     "output_type": "display_data"
    },
    {
     "name": "stdout",
     "output_type": "stream",
     "text": [
      "   First Name\n"
     ]
    },
    {
     "data": {
      "text/markdown": [
       "**Employee_directory.csv**"
      ],
      "text/plain": [
       "<IPython.core.display.Markdown object>"
      ]
     },
     "metadata": {},
     "output_type": "display_data"
    },
    {
     "name": "stdout",
     "output_type": "stream",
     "text": [
      "   Preferred First Name Upper\n",
      "   Full Name\n",
      "   Full Name Uppercase\n",
      "   First Name\n",
      "   Directory Full Name\n",
      "   Name Known By\n"
     ]
    },
    {
     "data": {
      "text/markdown": [
       "**Se_person.csv**"
      ],
      "text/plain": [
       "<IPython.core.display.Markdown object>"
      ]
     },
     "metadata": {},
     "output_type": "display_data"
    },
    {
     "name": "stdout",
     "output_type": "stream",
     "text": [
      "   First Name\n",
      "   Full Name\n"
     ]
    },
    {
     "data": {
      "text/markdown": [
       "**short_course_catalog_subject_offered.csv**"
      ],
      "text/plain": [
       "<IPython.core.display.Markdown object>"
      ]
     },
     "metadata": {},
     "output_type": "display_data"
    },
    {
     "name": "stdout",
     "output_type": "stream",
     "text": [
      "   Responsible Faculty Name\n"
     ]
    }
   ],
   "source": [
    "res = API.columns_like(('short_tip_subject_offered.csv', 'Responsible Faculty Name'))\n",
    "API.print(res)"
   ]
  },
  {
   "cell_type": "markdown",
   "metadata": {},
   "source": [
    "# Data primitives"
   ]
  },
  {
   "cell_type": "markdown",
   "metadata": {},
   "source": [
    "## Question 1: I want to know all the existing information of an employee"
   ]
  },
  {
   "cell_type": "markdown",
   "metadata": {},
   "source": [
    "### Find tables that contain employees. I can provide the name of some employee and do a keyword search"
   ]
  },
  {
   "cell_type": "code",
   "execution_count": null,
   "metadata": {
    "collapsed": false
   },
   "outputs": [],
   "source": [
    "result = API.search_keyword(\"Stonebraker\")\n",
    "API.print(result)"
   ]
  },
  {
   "cell_type": "markdown",
   "metadata": {},
   "source": [
    "### Looks like \"Full Name\" could be a good guiding column to find related tables. It'd be useful to know what other columns can JOIN, then I can retrieve all the containing tables"
   ]
  },
  {
   "cell_type": "code",
   "execution_count": null,
   "metadata": {
    "collapsed": false
   },
   "outputs": [],
   "source": [
    "col = ('Drupal_employee_directory.csv', 'Full Name')\n",
    "result = API.columns_joinable_with(col)\n",
    "API.print(result)"
   ]
  },
  {
   "cell_type": "markdown",
   "metadata": {},
   "source": [
    "### We found two different tables with a \"Full Name\" column that joins. Let's explore those two tables"
   ]
  },
  {
   "cell_type": "code",
   "execution_count": null,
   "metadata": {
    "collapsed": false
   },
   "outputs": [],
   "source": [
    "API.columns_of_table('Drupal_employee_directory.csv')"
   ]
  },
  {
   "cell_type": "code",
   "execution_count": null,
   "metadata": {
    "collapsed": false
   },
   "outputs": [],
   "source": [
    "API.columns_of_table('Employee_directory.csv')"
   ]
  },
  {
   "cell_type": "markdown",
   "metadata": {},
   "source": [
    "### I may have missed columns with a different name formatting. We can find columns that are \"similar\" then"
   ]
  },
  {
   "cell_type": "code",
   "execution_count": null,
   "metadata": {
    "collapsed": false
   },
   "outputs": [],
   "source": [
    "col = ('Drupal_employee_directory.csv', 'Full Name')\n",
    "result = API.columns_like(col)\n",
    "API.print(result)"
   ]
  },
  {
   "cell_type": "code",
   "execution_count": null,
   "metadata": {
    "collapsed": false
   },
   "outputs": [],
   "source": [
    "col = ('Employee_directory.csv', 'Full Name')\n",
    "API.columns_like(col)"
   ]
  },
  {
   "cell_type": "markdown",
   "metadata": {},
   "source": [
    "## Question 2: I want to check whether two tables can be joined to perform some analysis on interesting data they have"
   ]
  },
  {
   "cell_type": "code",
   "execution_count": null,
   "metadata": {
    "collapsed": false
   },
   "outputs": [],
   "source": [
    "table1 = \"Buildings.csv\"\n",
    "table2 = \"Fac_building.csv\"\n",
    "API.join_path(table1, table2, 3)"
   ]
  },
  {
   "cell_type": "code",
   "execution_count": null,
   "metadata": {
    "collapsed": false
   },
   "outputs": [],
   "source": [
    "table1 = \"Master_dept_dcode_parent.csv\"\n",
    "table2 = \"Master_dept_hierarchy.csv\"\n",
    "API.may_join_path(table1, table2, 3)"
   ]
  },
  {
   "cell_type": "code",
   "execution_count": null,
   "metadata": {
    "collapsed": false
   },
   "outputs": [],
   "source": [
    "table1 = \"Master_dept_dcode_parent.csv\"\n",
    "table2 = \"Fac_building.csv\"\n",
    "API.may_join_path(table1, table2, 3)"
   ]
  },
  {
   "cell_type": "code",
   "execution_count": null,
   "metadata": {
    "collapsed": false
   },
   "outputs": [],
   "source": [
    "table1 = \"Master_dept_dcode_parent.csv\"\n",
    "table2 = \"Master_dept_hierarchy.csv\"\n",
    "API.join_path(table1, table2, 3)"
   ]
  },
  {
   "cell_type": "code",
   "execution_count": null,
   "metadata": {
    "collapsed": false
   },
   "outputs": [],
   "source": [
    "API.columns_joinable_with(('Master_dept_hierarchy.csv', 'Dlc Key'))"
   ]
  }
 ],
 "metadata": {
  "kernelspec": {
   "display_name": "Python 3",
   "language": "python",
   "name": "python3"
  },
  "language_info": {
   "codemirror_mode": {
    "name": "ipython",
    "version": 3
   },
   "file_extension": ".py",
   "mimetype": "text/x-python",
   "name": "python",
   "nbconvert_exporter": "python",
   "pygments_lexer": "ipython3",
   "version": "3.5.0"
  }
 },
 "nbformat": 4,
 "nbformat_minor": 0
}
