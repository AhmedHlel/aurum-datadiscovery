{
 "cells": [
  {
   "cell_type": "markdown",
   "metadata": {},
   "source": [
    "# MIT Datawarehouse Demo"
   ]
  },
  {
   "cell_type": "code",
   "execution_count": 1,
   "metadata": {
    "collapsed": false
   },
   "outputs": [
    {
     "name": "stdout",
     "output_type": "stream",
     "text": [
      "Loading (cache) graph...\n",
      "Done deserialization of cgraph_cache!\n",
      "Loading (cache) graph...DONE!\n",
      "Loading graph...\n",
      "Done deserialization of cgraph!\n",
      "Loading graph...DONE!\n",
      "Loading jgraph...\n",
      "Done deserialization of jgraph!\n",
      "Loading jgraph...DONE!\n",
      "Loading simrank matrix...\n"
     ]
    }
   ],
   "source": [
    "from api import p as API\n",
    "from api import load_precomputed_model_DBVersion\n",
    "load_precomputed_model_DBVersion(\"mitdwh\")"
   ]
  },
  {
   "cell_type": "markdown",
   "metadata": {},
   "source": [
    "### Keyword search"
   ]
  },
  {
   "cell_type": "code",
   "execution_count": 3,
   "metadata": {
    "collapsed": false
   },
   "outputs": [
    {
     "data": {
      "text/plain": [
       "[{'column': 'Full Name', 'filename': 'Drupal_employee_directory.csv'},\n",
       " {'column': 'Full Name', 'filename': 'Employee_directory.csv'},\n",
       " {'column': 'Krb Name Uppercase', 'filename': 'Employee_directory.csv'},\n",
       " {'column': 'Last Name', 'filename': 'Drupal_employee_directory.csv'},\n",
       " {'column': 'Krb Name Uppercase', 'filename': 'Warehouse_users.csv'},\n",
       " {'column': 'User Name', 'filename': 'Person_auth_area.csv'},\n",
       " {'column': 'Full Name Uppercase', 'filename': 'Employee_directory.csv'},\n",
       " {'column': 'Krb Name', 'filename': 'Se_person.csv'},\n",
       " {'column': 'Last Name', 'filename': 'Se_person.csv'},\n",
       " {'column': 'Last Name', 'filename': 'Warehouse_users.csv'},\n",
       " {'column': 'Preferred Last Name Upper', 'filename': 'Employee_directory.csv'},\n",
       " {'column': 'Directory Full Name', 'filename': 'Employee_directory.csv'},\n",
       " {'column': 'Krb Name', 'filename': 'Warehouse_users.csv'},\n",
       " {'column': 'Full Name', 'filename': 'Se_person.csv'},\n",
       " {'column': 'Last Name', 'filename': 'Employee_directory.csv'},\n",
       " {'column': 'Krb Name', 'filename': 'Employee_directory.csv'}]"
      ]
     },
     "execution_count": 3,
     "metadata": {},
     "output_type": "execute_result"
    }
   ],
   "source": [
    "API.search_keyword(\"Pirk\")"
   ]
  },
  {
   "cell_type": "code",
   "execution_count": 5,
   "metadata": {
    "collapsed": false
   },
   "outputs": [
    {
     "data": {
      "text/plain": [
       "[{'column': 'Personal Url', 'filename': 'Drupal_employee_directory.csv'},\n",
       " {'column': 'Email Address', 'filename': 'Employee_directory.csv'},\n",
       " {'column': 'Email Address Uppercase', 'filename': 'Employee_directory.csv'},\n",
       " {'column': 'Email Address', 'filename': 'Drupal_employee_directory.csv'},\n",
       " {'column': 'Full Name Uppercase', 'filename': 'Employee_directory.csv'},\n",
       " {'column': 'Full Name', 'filename': 'Employee_directory.csv'},\n",
       " {'column': 'Email Address', 'filename': 'Warehouse_users.csv'},\n",
       " {'column': 'Full Name', 'filename': 'Se_person.csv'},\n",
       " {'column': 'Directory Full Name', 'filename': 'Employee_directory.csv'},\n",
       " {'column': 'First Name', 'filename': 'Drupal_employee_directory.csv'},\n",
       " {'column': 'Preferred First Name Upper',\n",
       "  'filename': 'Employee_directory.csv'},\n",
       " {'column': 'First Name', 'filename': 'Employee_directory.csv'},\n",
       " {'column': 'Full Name', 'filename': 'Drupal_employee_directory.csv'},\n",
       " {'column': 'Personal Url', 'filename': 'Employee_directory.csv'},\n",
       " {'column': 'First Name', 'filename': 'Se_person.csv'},\n",
       " {'column': 'Name Known By', 'filename': 'Employee_directory.csv'},\n",
       " {'column': 'First Name', 'filename': 'Warehouse_users.csv'}]"
      ]
     },
     "execution_count": 5,
     "metadata": {},
     "output_type": "execute_result"
    }
   ],
   "source": [
    "API.search_keyword(\"Holger\")"
   ]
  },
  {
   "cell_type": "code",
   "execution_count": 4,
   "metadata": {
    "collapsed": false
   },
   "outputs": [
    {
     "data": {
      "text/plain": [
       "['Preferred First Name Upper',\n",
       " 'Full Name',\n",
       " 'Email Address',\n",
       " 'Personal Url',\n",
       " 'Department Number',\n",
       " 'Full Name Uppercase',\n",
       " 'Office Location',\n",
       " 'Mit Id',\n",
       " 'Krb Name Uppercase',\n",
       " 'Last Name',\n",
       " 'Preferred Last Name Upper',\n",
       " 'Email Address Uppercase',\n",
       " 'Middle Name',\n",
       " 'First Name',\n",
       " 'Directory Full Name',\n",
       " 'Primary Title',\n",
       " 'Directory Title',\n",
       " 'Department Name',\n",
       " 'Office Phone',\n",
       " 'Name Known By',\n",
       " 'Krb Name']"
      ]
     },
     "execution_count": 4,
     "metadata": {},
     "output_type": "execute_result"
    }
   ],
   "source": [
    "API.columns_of_table('Employee_directory.csv')"
   ]
  },
  {
   "cell_type": "code",
   "execution_count": 16,
   "metadata": {
    "collapsed": false
   },
   "outputs": [
    {
     "data": {
      "text/plain": [
       "[('Drupal_employee_directory.csv', 'Full Name'),\n",
       " ('Drupal_employee_directory.csv', 'Last Name'),\n",
       " ('Drupal_employee_directory.csv', 'First Name'),\n",
       " ('Drupal_employee_directory.csv', 'Middle Name'),\n",
       " ('Employee_directory.csv', 'Preferred First Name Upper'),\n",
       " ('Employee_directory.csv', 'Full Name'),\n",
       " ('Employee_directory.csv', 'Full Name Uppercase'),\n",
       " ('Employee_directory.csv', 'Last Name'),\n",
       " ('Employee_directory.csv', 'Preferred Last Name Upper'),\n",
       " ('Employee_directory.csv', 'Middle Name'),\n",
       " ('Employee_directory.csv', 'First Name'),\n",
       " ('Employee_directory.csv', 'Directory Full Name'),\n",
       " ('Employee_directory.csv', 'Name Known By'),\n",
       " ('Hr_faculty_roster.csv', 'First Name'),\n",
       " ('Library_subject_offered.csv', 'Responsible Faculty Name'),\n",
       " ('Mit_student_directory.csv', 'Middle Name'),\n",
       " ('Mit_student_directory.csv', 'First Name'),\n",
       " ('Se_person.csv', 'First Name'),\n",
       " ('Se_person.csv', 'Middle Name'),\n",
       " ('Se_person.csv', 'Full Name'),\n",
       " ('short_subject_offered_summary.csv', 'Responsible Faculty Name'),\n",
       " ('short_subjects_offered.csv', 'Responsible Faculty Name'),\n",
       " ('short_tip_subject_offered.csv', 'Responsible Faculty Name'),\n",
       " ('Warehouse_users.csv', 'First Name'),\n",
       " ('Warehouse_users.csv', 'Middle Name')]"
      ]
     },
     "execution_count": 16,
     "metadata": {},
     "output_type": "execute_result"
    }
   ],
   "source": [
    "col = ('Employee_directory.csv', 'Full Name')\n",
    "API.columns_like(col)"
   ]
  },
  {
   "cell_type": "code",
   "execution_count": 17,
   "metadata": {
    "collapsed": false
   },
   "outputs": [
    {
     "data": {
      "text/plain": [
       "[('Drupal_employee_directory.csv', 'Full Name'),\n",
       " ('Employee_directory.csv', 'Full Name'),\n",
       " ('Employee_directory.csv', 'Directory Full Name')]"
      ]
     },
     "execution_count": 17,
     "metadata": {},
     "output_type": "execute_result"
    }
   ],
   "source": [
    "col = ('Drupal_employee_directory.csv', 'Full Name')\n",
    "API.columns_joinable_with(col)"
   ]
  },
  {
   "cell_type": "code",
   "execution_count": 24,
   "metadata": {
    "collapsed": false
   },
   "outputs": [
    {
     "data": {
      "text/plain": [
       "[('Drupal_employee_directory.csv', 'Email Address'),\n",
       " ('Employee_directory.csv', 'Email Address'),\n",
       " ('Employee_directory.csv', 'Email Address Uppercase')]"
      ]
     },
     "execution_count": 24,
     "metadata": {},
     "output_type": "execute_result"
    }
   ],
   "source": [
    "API.columns_joinable_with(('Employee_directory.csv', 'Email Address'))"
   ]
  },
  {
   "cell_type": "code",
   "execution_count": 23,
   "metadata": {
    "collapsed": false
   },
   "outputs": [
    {
     "data": {
      "text/plain": [
       "[[('Employee_directory.csv', 'Email Address'),\n",
       "  ('Drupal_employee_directory.csv', 'Email Address')],\n",
       " [('Employee_directory.csv', 'Email Address Uppercase'),\n",
       "  ('Drupal_employee_directory.csv', 'Email Address')],\n",
       " [('Employee_directory.csv', 'Full Name'),\n",
       "  ('Drupal_employee_directory.csv', 'Email Address')],\n",
       " [('Employee_directory.csv', 'Directory Full Name'),\n",
       "  ('Drupal_employee_directory.csv', 'Email Address')],\n",
       " [('Employee_directory.csv', 'Mit Id'),\n",
       "  ('Drupal_employee_directory.csv', 'Email Address')],\n",
       " [('Employee_directory.csv', 'Email Address'),\n",
       "  ('Drupal_employee_directory.csv', 'Email Address')],\n",
       " [('Employee_directory.csv', 'Email Address Uppercase'),\n",
       "  ('Drupal_employee_directory.csv', 'Email Address')],\n",
       " [('Employee_directory.csv', 'Email Address Uppercase'),\n",
       "  ('Drupal_employee_directory.csv', 'Email Address')],\n",
       " [('Employee_directory.csv', 'Email Address'),\n",
       "  ('Drupal_employee_directory.csv', 'Email Address')],\n",
       " [('Employee_directory.csv', 'Full Name'),\n",
       "  ('Drupal_employee_directory.csv', 'Email Address')],\n",
       " [('Employee_directory.csv', 'Directory Full Name'),\n",
       "  ('Drupal_employee_directory.csv', 'Email Address')],\n",
       " [('Employee_directory.csv', 'Directory Full Name'),\n",
       "  ('Drupal_employee_directory.csv', 'Email Address')],\n",
       " [('Employee_directory.csv', 'Full Name'),\n",
       "  ('Drupal_employee_directory.csv', 'Email Address')],\n",
       " [('Employee_directory.csv', 'Mit Id'),\n",
       "  ('Drupal_employee_directory.csv', 'Email Address')]]"
      ]
     },
     "execution_count": 23,
     "metadata": {},
     "output_type": "execute_result"
    }
   ],
   "source": [
    "file1 = 'Drupal_employee_directory.csv'\n",
    "file2 = 'Employee_directory.csv'\n",
    "API.join_path(file1, file2, 2)"
   ]
  },
  {
   "cell_type": "markdown",
   "metadata": {
    "collapsed": true
   },
   "source": [
    "### Column similarity"
   ]
  },
  {
   "cell_type": "code",
   "execution_count": 9,
   "metadata": {
    "collapsed": false
   },
   "outputs": [
    {
     "data": {
      "text/markdown": [
       "**Iap_subject_person.csv**"
      ],
      "text/plain": [
       "<IPython.core.display.Markdown object>"
      ]
     },
     "metadata": {},
     "output_type": "display_data"
    },
    {
     "name": "stdout",
     "output_type": "stream",
     "text": [
      "   Person Mit Affiliation\n"
     ]
    },
    {
     "data": {
      "text/markdown": [
       "**Se_person.csv**"
      ],
      "text/plain": [
       "<IPython.core.display.Markdown object>"
      ]
     },
     "metadata": {},
     "output_type": "display_data"
    },
    {
     "name": "stdout",
     "output_type": "stream",
     "text": [
      "   Employee Type\n"
     ]
    },
    {
     "data": {
      "text/markdown": [
       "**Drupal_employee_directory.csv**"
      ],
      "text/plain": [
       "<IPython.core.display.Markdown object>"
      ]
     },
     "metadata": {},
     "output_type": "display_data"
    },
    {
     "name": "stdout",
     "output_type": "stream",
     "text": [
      "   Employee Type\n"
     ]
    },
    {
     "data": {
      "text/markdown": [
       "**short_cis_course_catalog.csv**"
      ],
      "text/plain": [
       "<IPython.core.display.Markdown object>"
      ]
     },
     "metadata": {},
     "output_type": "display_data"
    },
    {
     "name": "stdout",
     "output_type": "stream",
     "text": [
      "   Spring Instructors\n",
      "   Fall Instructors\n"
     ]
    },
    {
     "data": {
      "text/markdown": [
       "**short_course_catalog_subject_offered.csv**"
      ],
      "text/plain": [
       "<IPython.core.display.Markdown object>"
      ]
     },
     "metadata": {},
     "output_type": "display_data"
    },
    {
     "name": "stdout",
     "output_type": "stream",
     "text": [
      "   Fall Instructors\n",
      "   Spring Instructors\n"
     ]
    }
   ],
   "source": [
    "column = (\"short_cis_course_catalog.csv\", \"Fall Instructors\")\n",
    "API.print(API.columns_like(column))"
   ]
  },
  {
   "cell_type": "code",
   "execution_count": null,
   "metadata": {
    "collapsed": true
   },
   "outputs": [],
   "source": []
  },
  {
   "cell_type": "code",
   "execution_count": 10,
   "metadata": {
    "collapsed": false
   },
   "outputs": [
    {
     "data": {
      "text/plain": [
       "['Email Address',\n",
       " 'Primary Title',\n",
       " 'Has Dual Appointment',\n",
       " 'Middle Name',\n",
       " 'Has Addl Appointment',\n",
       " 'Office Phone',\n",
       " 'Hr Org Unit Id',\n",
       " 'First Name',\n",
       " 'Directory Title',\n",
       " 'Office Location',\n",
       " 'Last Name',\n",
       " 'Full Name',\n",
       " 'Mit Id',\n",
       " 'Hr Org Unit Title',\n",
       " 'Personal Url',\n",
       " 'Employee Group',\n",
       " 'Employee Type',\n",
       " 'Warehouse Load Date']"
      ]
     },
     "execution_count": 10,
     "metadata": {},
     "output_type": "execute_result"
    }
   ],
   "source": [
    "API.columns_of_table(\"Drupal_employee_directory.csv\")"
   ]
  },
  {
   "cell_type": "code",
   "execution_count": null,
   "metadata": {
    "collapsed": false
   },
   "outputs": [],
   "source": [
    "API.columns_of_table(\"Iap_subject_person.csv\")"
   ]
  },
  {
   "cell_type": "code",
   "execution_count": null,
   "metadata": {
    "collapsed": false
   },
   "outputs": [],
   "source": [
    "column = (\"Iap_subject_person.csv\", \"Person Mit Affiliation\")\n",
    "API.print(API.columns_like(column))"
   ]
  },
  {
   "cell_type": "markdown",
   "metadata": {},
   "source": [
    "### Overlap"
   ]
  },
  {
   "cell_type": "code",
   "execution_count": 11,
   "metadata": {
    "collapsed": false
   },
   "outputs": [
    {
     "data": {
      "text/plain": [
       "[[('short_course_catalog_subject_offered.csv', 'Is Printed In Bulletin'),\n",
       "  ('Fac_rooms.csv', 'Use Key'),\n",
       "  ('Iap_subject_person.csv', 'Person Role')],\n",
       " [('short_course_catalog_subject_offered.csv', 'Source Subject Id'),\n",
       "  ('Fac_rooms.csv', 'Use Key'),\n",
       "  ('Iap_subject_person.csv', 'Person Role')],\n",
       " [('short_course_catalog_subject_offered.csv', 'Subject Description'),\n",
       "  ('Fac_rooms.csv', 'Use Key'),\n",
       "  ('Iap_subject_person.csv', 'Person Role')],\n",
       " [('short_course_catalog_subject_offered.csv', 'Subject Short Title'),\n",
       "  ('Fac_rooms.csv', 'Use Key'),\n",
       "  ('Iap_subject_person.csv', 'Person Role')],\n",
       " [('short_course_catalog_subject_offered.csv', 'Subject Number'),\n",
       "  ('Fac_rooms.csv', 'Use Key'),\n",
       "  ('Iap_subject_person.csv', 'Person Role')],\n",
       " [('short_course_catalog_subject_offered.csv', 'Subject Title'),\n",
       "  ('Fac_rooms.csv', 'Use Key'),\n",
       "  ('Iap_subject_person.csv', 'Person Role')],\n",
       " [('short_course_catalog_subject_offered.csv', 'Subject Id'),\n",
       "  ('Fac_rooms.csv', 'Use Key'),\n",
       "  ('Iap_subject_person.csv', 'Person Role')],\n",
       " [('short_course_catalog_subject_offered.csv', 'Meet Time'),\n",
       "  ('Fac_rooms.csv', 'Use Key'),\n",
       "  ('Iap_subject_person.csv', 'Person Role')],\n",
       " [('short_course_catalog_subject_offered.csv', 'Print Subject Id'),\n",
       "  ('Fac_rooms.csv', 'Use Key'),\n",
       "  ('Iap_subject_person.csv', 'Person Role')],\n",
       " [('short_course_catalog_subject_offered.csv', 'Responsible Faculty Name'),\n",
       "  ('Fac_rooms.csv', 'Use Key'),\n",
       "  ('Iap_subject_person.csv', 'Person Role')],\n",
       " [('short_course_catalog_subject_offered.csv', 'Last Activity Date'),\n",
       "  ('Fac_rooms.csv', 'Use Key'),\n",
       "  ('Iap_subject_person.csv', 'Person Role')],\n",
       " [('short_course_catalog_subject_offered.csv', 'Joint Subjects'),\n",
       "  ('Fac_rooms.csv', 'Use Key'),\n",
       "  ('Iap_subject_person.csv', 'Person Role')],\n",
       " [('short_course_catalog_subject_offered.csv', 'Meets With Subjects'),\n",
       "  ('Fac_rooms.csv', 'Use Key'),\n",
       "  ('Iap_subject_person.csv', 'Person Role')],\n",
       " [('short_course_catalog_subject_offered.csv', 'Prerequisites'),\n",
       "  ('Fac_rooms.csv', 'Use Key'),\n",
       "  ('Iap_subject_person.csv', 'Person Role')],\n",
       " [('short_course_catalog_subject_offered.csv', 'Fall Instructors'),\n",
       "  ('Fac_rooms.csv', 'Use Key'),\n",
       "  ('Iap_subject_person.csv', 'Person Role')],\n",
       " [('short_course_catalog_subject_offered.csv', 'Meet Place'),\n",
       "  ('Fac_rooms.csv', 'Use Key'),\n",
       "  ('Iap_subject_person.csv', 'Person Role')],\n",
       " [('short_course_catalog_subject_offered.csv', 'Responsible Faculty Mit Id'),\n",
       "  ('Fac_rooms.csv', 'Use Key'),\n",
       "  ('Iap_subject_person.csv', 'Person Role')],\n",
       " [('short_course_catalog_subject_offered.csv', 'Spring Instructors'),\n",
       "  ('Fac_rooms.csv', 'Use Key'),\n",
       "  ('Iap_subject_person.csv', 'Person Role')],\n",
       " [('short_course_catalog_subject_offered.csv', 'Responsible Faculty Name'),\n",
       "  ('Fac_rooms.csv', 'Use Key'),\n",
       "  ('Iap_subject_person.csv', 'Person Role')],\n",
       " [('short_course_catalog_subject_offered.csv', 'Last Activity Date'),\n",
       "  ('Fac_rooms.csv', 'Use Key'),\n",
       "  ('Iap_subject_person.csv', 'Person Role')],\n",
       " [('short_course_catalog_subject_offered.csv', 'Joint Subjects'),\n",
       "  ('Fac_rooms.csv', 'Use Key'),\n",
       "  ('Iap_subject_person.csv', 'Person Role')],\n",
       " [('short_course_catalog_subject_offered.csv', 'Meets With Subjects'),\n",
       "  ('Fac_rooms.csv', 'Use Key'),\n",
       "  ('Iap_subject_person.csv', 'Person Role')],\n",
       " [('short_course_catalog_subject_offered.csv', 'Prerequisites'),\n",
       "  ('Fac_rooms.csv', 'Use Key'),\n",
       "  ('Iap_subject_person.csv', 'Person Role')],\n",
       " [('short_course_catalog_subject_offered.csv', 'Fall Instructors'),\n",
       "  ('Fac_rooms.csv', 'Use Key'),\n",
       "  ('Iap_subject_person.csv', 'Person Role')],\n",
       " [('short_course_catalog_subject_offered.csv', 'Meet Place'),\n",
       "  ('Fac_rooms.csv', 'Use Key'),\n",
       "  ('Iap_subject_person.csv', 'Person Role')],\n",
       " [('short_course_catalog_subject_offered.csv', 'Responsible Faculty Mit Id'),\n",
       "  ('Fac_rooms.csv', 'Use Key'),\n",
       "  ('Iap_subject_person.csv', 'Person Role')],\n",
       " [('short_course_catalog_subject_offered.csv', 'Spring Instructors'),\n",
       "  ('Fac_rooms.csv', 'Use Key'),\n",
       "  ('Iap_subject_person.csv', 'Person Role')],\n",
       " [('short_course_catalog_subject_offered.csv', 'Subject Id'),\n",
       "  ('Fac_rooms.csv', 'Use Key'),\n",
       "  ('Iap_subject_person.csv', 'Person Role')],\n",
       " [('short_course_catalog_subject_offered.csv', 'Meet Time'),\n",
       "  ('Fac_rooms.csv', 'Use Key'),\n",
       "  ('Iap_subject_person.csv', 'Person Role')],\n",
       " [('short_course_catalog_subject_offered.csv', 'Print Subject Id'),\n",
       "  ('Fac_rooms.csv', 'Use Key'),\n",
       "  ('Iap_subject_person.csv', 'Person Role')],\n",
       " [('short_course_catalog_subject_offered.csv', 'Subject Id'),\n",
       "  ('Fac_rooms.csv', 'Use Key'),\n",
       "  ('Iap_subject_person.csv', 'Person Role')],\n",
       " [('short_course_catalog_subject_offered.csv', 'Meet Time'),\n",
       "  ('Fac_rooms.csv', 'Use Key'),\n",
       "  ('Iap_subject_person.csv', 'Person Role')],\n",
       " [('short_course_catalog_subject_offered.csv', 'Print Subject Id'),\n",
       "  ('Fac_rooms.csv', 'Use Key'),\n",
       "  ('Iap_subject_person.csv', 'Person Role')],\n",
       " [('short_course_catalog_subject_offered.csv', 'Gir Attribute'),\n",
       "  ('Fac_rooms.csv', 'Use Key'),\n",
       "  ('Iap_subject_person.csv', 'Person Role')],\n",
       " [('short_course_catalog_subject_offered.csv', 'Section Id'),\n",
       "  ('Fac_rooms.csv', 'Use Key'),\n",
       "  ('Iap_subject_person.csv', 'Person Role')],\n",
       " [('short_course_catalog_subject_offered.csv', 'School Wide Electives'),\n",
       "  ('Fac_rooms.csv', 'Use Key'),\n",
       "  ('Iap_subject_person.csv', 'Person Role')],\n",
       " [('short_course_catalog_subject_offered.csv', 'Equivalent Subjects'),\n",
       "  ('Fac_rooms.csv', 'Use Key'),\n",
       "  ('Iap_subject_person.csv', 'Person Role')],\n",
       " [('short_course_catalog_subject_offered.csv', 'Term Code'),\n",
       "  ('Fac_rooms.csv', 'Use Key'),\n",
       "  ('Iap_subject_person.csv', 'Person Role')],\n",
       " [('short_course_catalog_subject_offered.csv', 'Gir Attribute Desc'),\n",
       "  ('Fac_rooms.csv', 'Use Key'),\n",
       "  ('Iap_subject_person.csv', 'Person Role')],\n",
       " [('short_course_catalog_subject_offered.csv', 'Lab Units'),\n",
       "  ('Fac_rooms.csv', 'Use Key'),\n",
       "  ('Iap_subject_person.csv', 'Person Role')],\n",
       " [('short_course_catalog_subject_offered.csv', 'Preparation Units'),\n",
       "  ('Fac_rooms.csv', 'Use Key'),\n",
       "  ('Iap_subject_person.csv', 'Person Role')],\n",
       " [('short_course_catalog_subject_offered.csv', 'Total Units'),\n",
       "  ('Fac_rooms.csv', 'Use Key'),\n",
       "  ('Iap_subject_person.csv', 'Person Role')],\n",
       " [('short_course_catalog_subject_offered.csv', 'Status Change'),\n",
       "  ('Fac_rooms.csv', 'Use Key'),\n",
       "  ('Iap_subject_person.csv', 'Person Role')],\n",
       " [('short_course_catalog_subject_offered.csv', 'Effective Term Code'),\n",
       "  ('Fac_rooms.csv', 'Use Key'),\n",
       "  ('Iap_subject_person.csv', 'Person Role')]]"
      ]
     },
     "execution_count": 11,
     "metadata": {},
     "output_type": "execute_result"
    }
   ],
   "source": [
    "API.join_path(\"Iap_subject_person.csv\", \"short_course_catalog_subject_offered.csv\", 2)"
   ]
  },
  {
   "cell_type": "code",
   "execution_count": 12,
   "metadata": {
    "collapsed": false
   },
   "outputs": [
    {
     "data": {
      "text/plain": [
       "['Law and the Construction Industry',\n",
       " 'Law and the Construction Industry',\n",
       " 'Law and the Construction Industry',\n",
       " 'Solid Mechanics',\n",
       " 'Solid Mechanics',\n",
       " 'Solid Mechanics',\n",
       " 'Structural Engineering Design',\n",
       " 'Structural Engineering Design',\n",
       " 'Structural Engineering Design',\n",
       " 'High-Performance Composite Structures']"
      ]
     },
     "execution_count": 12,
     "metadata": {},
     "output_type": "execute_result"
    }
   ],
   "source": [
    "col = (\"short_course_catalog_subject_offered.csv\", \"Subject Title\")\n",
    "API.peek(col, 10)"
   ]
  },
  {
   "cell_type": "code",
   "execution_count": 13,
   "metadata": {
    "collapsed": false
   },
   "outputs": [
    {
     "data": {
      "text/plain": [
       "[('short_course_catalog_subject_offered.csv', 'Subject Title')]"
      ]
     },
     "execution_count": 13,
     "metadata": {},
     "output_type": "execute_result"
    }
   ],
   "source": [
    "API.columns_in_context_with(col)"
   ]
  },
  {
   "cell_type": "code",
   "execution_count": null,
   "metadata": {
    "collapsed": true
   },
   "outputs": [],
   "source": []
  }
 ],
 "metadata": {
  "kernelspec": {
   "display_name": "Python 3",
   "language": "python",
   "name": "python3"
  },
  "language_info": {
   "codemirror_mode": {
    "name": "ipython",
    "version": 3
   },
   "file_extension": ".py",
   "mimetype": "text/x-python",
   "name": "python",
   "nbconvert_exporter": "python",
   "pygments_lexer": "ipython3",
   "version": "3.5.0"
  }
 },
 "nbformat": 4,
 "nbformat_minor": 0
}
