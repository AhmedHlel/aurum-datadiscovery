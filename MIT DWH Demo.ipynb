{
 "cells": [
  {
   "cell_type": "markdown",
   "metadata": {},
   "source": [
    "# MIT Datawarehouse Demo"
   ]
  },
  {
   "cell_type": "code",
   "execution_count": 1,
   "metadata": {
    "collapsed": false
   },
   "outputs": [
    {
     "name": "stdout",
     "output_type": "stream",
     "text": [
      "Loading (cache) graph...\n",
      "Done deserialization of cgraph_cache!\n",
      "Loading (cache) graph...DONE!\n",
      "Loading graph...\n",
      "Done deserialization of cgraph!\n",
      "Loading graph...DONE!\n",
      "Loading jgraph...\n",
      "Done deserialization of jgraph!\n",
      "Loading jgraph...DONE!\n",
      "Loading simrank matrix...\n",
      "Loading concepts for schema primitives...\n",
      "Loading concepts for schema primitives...DONE\n"
     ]
    }
   ],
   "source": [
    "from api import p as API\n",
    "from api import load_precomputed_model_DBVersion\n",
    "load_precomputed_model_DBVersion(\"mitdwh\")"
   ]
  },
  {
   "cell_type": "code",
   "execution_count": null,
   "metadata": {
    "collapsed": true
   },
   "outputs": [],
   "source": [
    "API."
   ]
  },
  {
   "cell_type": "markdown",
   "metadata": {},
   "source": [
    "# Schema primitives"
   ]
  },
  {
   "cell_type": "code",
   "execution_count": 3,
   "metadata": {
    "collapsed": false
   },
   "outputs": [
    {
     "data": {
      "text/plain": [
       "[(('short_subjects_offered.csv', 'Responsible Faculty Mit Id'), 0),\n",
       " (('short_course_catalog_subject_offered.csv', 'Responsible Faculty Mit Id'),\n",
       "  0),\n",
       " (('short_tip_subject_offered.csv', 'Responsible Faculty Name'), 0),\n",
       " (('Library_subject_offered.csv', 'Responsible Faculty Name'), 0),\n",
       " (('Library_subject_offered.csv', 'Responsible Faculty Mit Id'), 0),\n",
       " (('short_course_catalog_subject_offered.csv', 'Responsible Faculty Name'), 0),\n",
       " (('short_subject_offered_summary.csv', 'Responsible Faculty Mit Id'), 0),\n",
       " (('short_subject_offered_summary.csv', 'Responsible Faculty Name'), 0),\n",
       " (('short_tip_subject_offered.csv', 'Responsible Faculty Mit Id'), 0),\n",
       " (('short_subjects_offered.csv', 'Responsible Faculty Name'), 0),\n",
       " (('Fclt_organization.csv', 'Fclt Org Parent Key'), 3),\n",
       " (('Fclt_organization_hist.csv', 'Fclt Organization Hist Key'), 3),\n",
       " (('Fclt_building_list.csv', 'Fclt Building Hist Key'), 3),\n",
       " (('Fclt_rooms.csv', 'Fclt Use Key'), 3),\n",
       " (('Fclt_rooms.csv', 'Fclt Major Use Key'), 3),\n",
       " (('Fclt_building_address_list.csv', 'Fclt Building Address Hist Key'), 3),\n",
       " (('Fclt_organization_hist.csv', 'Fclt Organization Key'), 3),\n",
       " (('Fclt_floor_hist.csv', 'Fclt Floor Key'), 3),\n",
       " (('short_fclt_rooms_hist.csv', 'Fclt Minor Organization Key'), 3),\n",
       " (('Fclt_major_user_hist.csv', 'Fclt Major Use Key'), 3),\n",
       " (('short_fclt_rooms_hist.csv', 'Fclt Organization Key'), 3),\n",
       " (('short_fclt_rooms_hist.csv', 'Fclt Minor Use Key'), 3),\n",
       " (('Fclt_floor_hist.csv', 'Fclt Building Key'), 3),\n",
       " (('Fclt_org_dlc_key.csv', 'Fclt Organization Key'), 3),\n",
       " (('Fclt_major_user_hist.csv', 'Fclt Major Use Hist Key'), 3),\n",
       " (('Fclt_building_address.csv', 'Fclt Building Key'), 3),\n",
       " (('Fclt_building_list.csv', 'Fclt Building Key'), 3),\n",
       " (('Fclt_building_address_list.csv', 'Fclt Building Key'), 3),\n",
       " (('Fclt_building_hist_1.csv', 'Fclt Building Hist Key'), 3),\n",
       " (('Fclt_rooms.csv', 'Fclt Building Key'), 3)]"
      ]
     },
     "execution_count": 3,
     "metadata": {},
     "output_type": "execute_result"
    }
   ],
   "source": [
    "API.search_schema('Faculty', 30, True)"
   ]
  },
  {
   "cell_type": "code",
   "execution_count": 4,
   "metadata": {
    "collapsed": false
   },
   "outputs": [
    {
     "data": {
      "text/plain": [
       "['Cost Center Code',\n",
       " 'Campus Sector',\n",
       " 'Easting X Spcs',\n",
       " 'Cost Collector Key',\n",
       " 'Building Named For',\n",
       " 'Num Of Rooms',\n",
       " 'Building Name Long',\n",
       " 'Longitude Wgs',\n",
       " 'Building Use',\n",
       " 'Building Number',\n",
       " 'Site',\n",
       " 'Parent Building Name Long',\n",
       " 'Latitude Wgs',\n",
       " 'Warehouse Load Date',\n",
       " 'Date Acquired',\n",
       " 'Access Level Code',\n",
       " 'Building Height',\n",
       " 'Access Level Name',\n",
       " 'Assignable Area',\n",
       " 'Fclt Building Hist Key',\n",
       " 'Fclt Building Key',\n",
       " 'Occupancy Class',\n",
       " 'Building Name',\n",
       " 'Parent Building Name',\n",
       " 'Fiscal Period',\n",
       " 'Non Assignable Area',\n",
       " 'Ext Gross Area',\n",
       " 'Building Sort',\n",
       " 'Northing Y Spcs',\n",
       " 'Building Type',\n",
       " 'Ownership Type',\n",
       " 'Parent Building Number',\n",
       " 'Date Built',\n",
       " 'Date Occupied']"
      ]
     },
     "execution_count": 4,
     "metadata": {},
     "output_type": "execute_result"
    }
   ],
   "source": [
    "API.columns_of_table('Fclt_building_list.csv')"
   ]
  },
  {
   "cell_type": "code",
   "execution_count": 6,
   "metadata": {
    "collapsed": false
   },
   "outputs": [
    {
     "data": {
      "text/plain": [
       "[('Fclt_building_list.csv', [('building', 0), ('size', 0)]),\n",
       " ('Fac_rooms.csv', [('building', 0), ('size', 0)]),\n",
       " ('Sis_course_description.csv', [('department', 0), ('size', 0)]),\n",
       " ('Sis_admin_department.csv', [('department', 0), ('size', 0)])]"
      ]
     },
     "execution_count": 6,
     "metadata": {},
     "output_type": "execute_result"
    }
   ],
   "source": [
    "API.tables_with_schema(['building', 'department', 'size'], 4)"
   ]
  },
  {
   "cell_type": "code",
   "execution_count": 7,
   "metadata": {
    "collapsed": false
   },
   "outputs": [
    {
     "data": {
      "text/plain": [
       "[('short_course_catalog_subject_offered.csv',\n",
       "  [('faculty', 0), ('department', 0), ('subject', 0)]),\n",
       " ('subject_grouping_slice.csv', [('department', 0), ('subject', 0)]),\n",
       " ('short_subjects_offered.csv', [('faculty', 0), ('subject', 0)]),\n",
       " ('Library_subject_offered.csv', [('faculty', 0), ('subject', 0)])]"
      ]
     },
     "execution_count": 7,
     "metadata": {},
     "output_type": "execute_result"
    }
   ],
   "source": [
    "API.tables_with_schema(['faculty', 'department', 'subject'], 4)"
   ]
  },
  {
   "cell_type": "code",
   "execution_count": 9,
   "metadata": {
    "collapsed": false
   },
   "outputs": [
    {
     "data": {
      "text/plain": [
       "[('short_tip_subject_offered.csv',\n",
       "  [('faculty', 0), ('subject', 0), ('year', 0), ('term', 0)]),\n",
       " ('subject_grouping_slice.csv',\n",
       "  [('department', 0), ('subject', 0), ('year', 0), ('term', 0)]),\n",
       " ('short_course_catalog_subject_offered.csv',\n",
       "  [('faculty', 0), ('department', 0), ('subject', 0), ('term', 0)]),\n",
       " ('short_subject_summary.csv',\n",
       "  [('department', 0), ('subject', 0), ('term', 0)]),\n",
       " ('short_subjects_offered.csv', [('faculty', 0), ('subject', 0), ('year', 0)]),\n",
       " ('short_subject_offered_summary.csv',\n",
       "  [('faculty', 0), ('subject', 0), ('term', 0)]),\n",
       " ('short_cis_course_catalog.csv',\n",
       "  [('department', 0), ('subject', 0), ('year', 0)]),\n",
       " ('Library_subject_offered.csv', [('faculty', 0), ('subject', 0)]),\n",
       " ('Fac_rooms.csv', [('building', 0), ('year', 0)]),\n",
       " ('Fclt_building_address_list.csv', [('faculty', 3), ('building', 3)])]"
      ]
     },
     "execution_count": 9,
     "metadata": {},
     "output_type": "execute_result"
    }
   ],
   "source": [
    "API.tables_with_schema(['faculty', 'building', 'department', 'subject', 'year', 'term'], 10)"
   ]
  },
  {
   "cell_type": "code",
   "execution_count": 6,
   "metadata": {
    "collapsed": false
   },
   "outputs": [
    {
     "data": {
      "text/plain": [
       "[[('subject_grouping_slice.csv', 'Department Code'),\n",
       "  ('short_subjects_offered.csv', 'Master Course Number Sort')],\n",
       " [('subject_grouping_slice.csv', 'School Name'),\n",
       "  ('short_subjects_offered.csv', 'Offer School Name')],\n",
       " [('subject_grouping_slice.csv', 'Department Name'),\n",
       "  ('short_subjects_offered.csv', 'Offer School Name')],\n",
       " [('subject_grouping_slice.csv', 'Department Full Name'),\n",
       "  ('short_subjects_offered.csv', 'Offer Dept Name')],\n",
       " [('subject_grouping_slice.csv', 'Warehouse Load Date'),\n",
       "  ('short_subjects_offered.csv', 'Warehouse Load Date')],\n",
       " [('subject_grouping_slice.csv', 'Term Code'),\n",
       "  ('short_subjects_offered.csv', 'Term Code')]]"
      ]
     },
     "execution_count": 6,
     "metadata": {},
     "output_type": "execute_result"
    }
   ],
   "source": [
    "API.may_join_path('short_subjects_offered.csv', 'subject_grouping_slice.csv', 3)"
   ]
  },
  {
   "cell_type": "code",
   "execution_count": 7,
   "metadata": {
    "collapsed": false
   },
   "outputs": [
    {
     "data": {
      "text/plain": [
       "[[('subject_grouping_slice.csv', 'School Name'),\n",
       "  ('short_subject_offered_summary.csv', 'Offer School Name')],\n",
       " [('subject_grouping_slice.csv', 'Department Full Name'),\n",
       "  ('short_subject_offered_summary.csv', 'Offer School Name')],\n",
       " [('subject_grouping_slice.csv', 'Department Name'),\n",
       "  ('short_subject_offered_summary.csv', 'Offer School Name')],\n",
       " [('subject_grouping_slice.csv', 'Department Code'),\n",
       "  ('short_subject_offered_summary.csv', 'Subject Id')],\n",
       " [('subject_grouping_slice.csv', 'Term Code'),\n",
       "  ('short_subject_offered_summary.csv', 'Term Code')],\n",
       " [('subject_grouping_slice.csv', 'Warehouse Load Date'),\n",
       "  ('short_subject_offered_summary.csv', 'Warehouse Load Date')]]"
      ]
     },
     "execution_count": 7,
     "metadata": {},
     "output_type": "execute_result"
    }
   ],
   "source": [
    "API.may_join_path('short_subject_offered_summary.csv', 'subject_grouping_slice.csv', 3)"
   ]
  },
  {
   "cell_type": "markdown",
   "metadata": {},
   "source": [
    "# Data primitives"
   ]
  },
  {
   "cell_type": "markdown",
   "metadata": {},
   "source": [
    "## Question 1: I want to know all the existing information of an employee"
   ]
  },
  {
   "cell_type": "markdown",
   "metadata": {},
   "source": [
    "### Find tables that contain employees. I can provide the name of some employee and do a keyword search"
   ]
  },
  {
   "cell_type": "code",
   "execution_count": 11,
   "metadata": {
    "collapsed": false
   },
   "outputs": [
    {
     "data": {
      "text/plain": [
       "[('Employee_directory.csv', 'Email Address'),\n",
       " ('Employee_directory.csv', 'Email Address Uppercase'),\n",
       " ('Employee_directory.csv', 'Full Name'),\n",
       " ('Drupal_employee_directory.csv', 'Email Address'),\n",
       " ('Employee_directory.csv', 'Full Name Uppercase'),\n",
       " ('Employee_directory.csv', 'Directory Full Name'),\n",
       " ('Warehouse_users.csv', 'Email Address'),\n",
       " ('Employee_directory.csv', 'Last Name'),\n",
       " ('Se_person.csv', 'Full Name'),\n",
       " ('Drupal_employee_directory.csv', 'Last Name'),\n",
       " ('Employee_directory.csv', 'Preferred Last Name Upper'),\n",
       " ('Se_person.csv', 'Last Name'),\n",
       " ('Warehouse_users.csv', 'Last Name'),\n",
       " ('Moira_list.csv', 'Moira List Description'),\n",
       " ('Drupal_employee_directory.csv', 'Full Name'),\n",
       " ('Moira_list.csv', 'Moira List Name'),\n",
       " ('Moira_list.csv', 'Moira List Key'),\n",
       " ('Tip_material.csv', 'Author')]"
      ]
     },
     "execution_count": 11,
     "metadata": {},
     "output_type": "execute_result"
    }
   ],
   "source": [
    "API.search_keyword(\"Stonebraker\")"
   ]
  },
  {
   "cell_type": "markdown",
   "metadata": {},
   "source": [
    "### Looks like \"Full Name\" could be a good guiding column to find related tables. It'd be useful to know what other columns can JOIN, then I can retrieve all the containing tables"
   ]
  },
  {
   "cell_type": "code",
   "execution_count": null,
   "metadata": {
    "collapsed": false
   },
   "outputs": [],
   "source": [
    "col = ('Drupal_employee_directory.csv', 'Full Name')\n",
    "result = API.columns_joinable_with(col)\n",
    "API.print(result)"
   ]
  },
  {
   "cell_type": "markdown",
   "metadata": {},
   "source": [
    "### We found two different tables with a \"Full Name\" column that joins. Let's explore those two tables"
   ]
  },
  {
   "cell_type": "code",
   "execution_count": null,
   "metadata": {
    "collapsed": false
   },
   "outputs": [],
   "source": [
    "API.columns_of_table('Drupal_employee_directory.csv')"
   ]
  },
  {
   "cell_type": "code",
   "execution_count": null,
   "metadata": {
    "collapsed": false
   },
   "outputs": [],
   "source": [
    "API.columns_of_table('Employee_directory.csv')"
   ]
  },
  {
   "cell_type": "markdown",
   "metadata": {},
   "source": [
    "### I may have missed columns with a different name formatting. We can find columns that are \"similar\" then"
   ]
  },
  {
   "cell_type": "code",
   "execution_count": null,
   "metadata": {
    "collapsed": false
   },
   "outputs": [],
   "source": [
    "col = ('Drupal_employee_directory.csv', 'Full Name')\n",
    "result = API.columns_like(col)\n",
    "API.print(result)"
   ]
  },
  {
   "cell_type": "code",
   "execution_count": null,
   "metadata": {
    "collapsed": false
   },
   "outputs": [],
   "source": [
    "col = ('Employee_directory.csv', 'Full Name')\n",
    "API.columns_like(col)"
   ]
  },
  {
   "cell_type": "markdown",
   "metadata": {},
   "source": [
    "## Question 2: I want to check whether two tables can be joined to perform some analysis on interesting data they have"
   ]
  },
  {
   "cell_type": "code",
   "execution_count": null,
   "metadata": {
    "collapsed": false
   },
   "outputs": [],
   "source": [
    "table1 = \"Buildings.csv\"\n",
    "table2 = \"Fac_building.csv\"\n",
    "API.join_path(table1, table2, 3)"
   ]
  },
  {
   "cell_type": "code",
   "execution_count": null,
   "metadata": {
    "collapsed": false
   },
   "outputs": [],
   "source": [
    "table1 = \"Master_dept_dcode_parent.csv\"\n",
    "table2 = \"Master_dept_hierarchy.csv\"\n",
    "API.may_join_path(table1, table2, 3)"
   ]
  },
  {
   "cell_type": "code",
   "execution_count": null,
   "metadata": {
    "collapsed": false
   },
   "outputs": [],
   "source": [
    "table1 = \"Master_dept_dcode_parent.csv\"\n",
    "table2 = \"Fac_building.csv\"\n",
    "API.may_join_path(table1, table2, 3)"
   ]
  },
  {
   "cell_type": "code",
   "execution_count": null,
   "metadata": {
    "collapsed": false
   },
   "outputs": [],
   "source": [
    "table1 = \"Master_dept_dcode_parent.csv\"\n",
    "table2 = \"Master_dept_hierarchy.csv\"\n",
    "API.join_path(table1, table2, 3)"
   ]
  },
  {
   "cell_type": "code",
   "execution_count": null,
   "metadata": {
    "collapsed": false
   },
   "outputs": [],
   "source": [
    "API.columns_joinable_with(('Master_dept_hierarchy.csv', 'Dlc Key'))"
   ]
  }
 ],
 "metadata": {
  "kernelspec": {
   "display_name": "Python 3",
   "language": "python",
   "name": "python3"
  },
  "language_info": {
   "codemirror_mode": {
    "name": "ipython",
    "version": 3
   },
   "file_extension": ".py",
   "mimetype": "text/x-python",
   "name": "python",
   "nbconvert_exporter": "python",
   "pygments_lexer": "ipython3",
   "version": "3.5.0"
  }
 },
 "nbformat": 4,
 "nbformat_minor": 0
}
