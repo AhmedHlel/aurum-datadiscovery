{
 "cells": [
  {
   "cell_type": "markdown",
   "metadata": {},
   "source": [
    "# MIT Datawarehouse Demo"
   ]
  },
  {
   "cell_type": "code",
   "execution_count": 1,
   "metadata": {
    "collapsed": false
   },
   "outputs": [
    {
     "name": "stdout",
     "output_type": "stream",
     "text": [
      "Loading (cache) graph...\n",
      "Done deserialization of cgraph_cache!\n",
      "Loading (cache) graph...DONE!\n",
      "Loading graph...\n",
      "Done deserialization of cgraph!\n",
      "Loading graph...DONE!\n",
      "Loading jgraph...\n",
      "Done deserialization of jgraph!\n",
      "Loading jgraph...DONE!\n",
      "Loading simrank matrix...\n"
     ]
    }
   ],
   "source": [
    "from api import p as API\n",
    "from api import load_precomputed_model_DBVersion\n",
    "load_precomputed_model_DBVersion(\"mitdwh\")"
   ]
  },
  {
   "cell_type": "markdown",
   "metadata": {},
   "source": [
    "## Question 1: I want to know all the existing information of an employee"
   ]
  },
  {
   "cell_type": "markdown",
   "metadata": {},
   "source": [
    "### Find tables that contain employees. I can provide the name of some employee and do a keyword search"
   ]
  },
  {
   "cell_type": "code",
   "execution_count": 2,
   "metadata": {
    "collapsed": false
   },
   "outputs": [
    {
     "data": {
      "text/markdown": [
       "**Drupal_employee_directory.csv**"
      ],
      "text/plain": [
       "<IPython.core.display.Markdown object>"
      ]
     },
     "metadata": {},
     "output_type": "display_data"
    },
    {
     "name": "stdout",
     "output_type": "stream",
     "text": [
      "   Full Name\n",
      "   Last Name\n"
     ]
    },
    {
     "data": {
      "text/markdown": [
       "**Warehouse_users.csv**"
      ],
      "text/plain": [
       "<IPython.core.display.Markdown object>"
      ]
     },
     "metadata": {},
     "output_type": "display_data"
    },
    {
     "name": "stdout",
     "output_type": "stream",
     "text": [
      "   Krb Name Uppercase\n",
      "   Last Name\n",
      "   Krb Name\n"
     ]
    },
    {
     "data": {
      "text/markdown": [
       "**Se_person.csv**"
      ],
      "text/plain": [
       "<IPython.core.display.Markdown object>"
      ]
     },
     "metadata": {},
     "output_type": "display_data"
    },
    {
     "name": "stdout",
     "output_type": "stream",
     "text": [
      "   Krb Name\n",
      "   Last Name\n",
      "   Full Name\n"
     ]
    },
    {
     "data": {
      "text/markdown": [
       "**Person_auth_area.csv**"
      ],
      "text/plain": [
       "<IPython.core.display.Markdown object>"
      ]
     },
     "metadata": {},
     "output_type": "display_data"
    },
    {
     "name": "stdout",
     "output_type": "stream",
     "text": [
      "   User Name\n"
     ]
    },
    {
     "data": {
      "text/markdown": [
       "**Employee_directory.csv**"
      ],
      "text/plain": [
       "<IPython.core.display.Markdown object>"
      ]
     },
     "metadata": {},
     "output_type": "display_data"
    },
    {
     "name": "stdout",
     "output_type": "stream",
     "text": [
      "   Full Name\n",
      "   Krb Name Uppercase\n",
      "   Full Name Uppercase\n",
      "   Preferred Last Name Upper\n",
      "   Directory Full Name\n",
      "   Last Name\n",
      "   Krb Name\n"
     ]
    }
   ],
   "source": [
    "result = API.search_keyword(\"Pirk\")\n",
    "API.print(result)"
   ]
  },
  {
   "cell_type": "markdown",
   "metadata": {},
   "source": [
    "### Looks like \"Full Name\" could be a good guiding column to find related tables. It'd be useful to know what other columns can JOIN, then I can retrieve all the containing tables"
   ]
  },
  {
   "cell_type": "code",
   "execution_count": 3,
   "metadata": {
    "collapsed": false
   },
   "outputs": [
    {
     "data": {
      "text/markdown": [
       "**Drupal_employee_directory.csv**"
      ],
      "text/plain": [
       "<IPython.core.display.Markdown object>"
      ]
     },
     "metadata": {},
     "output_type": "display_data"
    },
    {
     "name": "stdout",
     "output_type": "stream",
     "text": [
      "   Full Name\n"
     ]
    },
    {
     "data": {
      "text/markdown": [
       "**Employee_directory.csv**"
      ],
      "text/plain": [
       "<IPython.core.display.Markdown object>"
      ]
     },
     "metadata": {},
     "output_type": "display_data"
    },
    {
     "name": "stdout",
     "output_type": "stream",
     "text": [
      "   Full Name\n",
      "   Directory Full Name\n"
     ]
    }
   ],
   "source": [
    "col = ('Drupal_employee_directory.csv', 'Full Name')\n",
    "result = API.columns_joinable_with(col)\n",
    "API.print(result)"
   ]
  },
  {
   "cell_type": "markdown",
   "metadata": {},
   "source": [
    "### We found two different tables with a \"Full Name\" column that joins. Let's explore those two tables"
   ]
  },
  {
   "cell_type": "code",
   "execution_count": 4,
   "metadata": {
    "collapsed": false
   },
   "outputs": [
    {
     "data": {
      "text/plain": [
       "['Email Address',\n",
       " 'Hr Org Unit Title',\n",
       " 'Full Name',\n",
       " 'Last Name',\n",
       " 'Warehouse Load Date',\n",
       " 'Directory Title',\n",
       " 'Hr Org Unit Id',\n",
       " 'Employee Group',\n",
       " 'Office Location',\n",
       " 'Mit Id',\n",
       " 'First Name',\n",
       " 'Primary Title',\n",
       " 'Personal Url',\n",
       " 'Middle Name',\n",
       " 'Has Dual Appointment',\n",
       " 'Employee Type',\n",
       " 'Has Addl Appointment',\n",
       " 'Office Phone']"
      ]
     },
     "execution_count": 4,
     "metadata": {},
     "output_type": "execute_result"
    }
   ],
   "source": [
    "API.columns_of_table('Drupal_employee_directory.csv')"
   ]
  },
  {
   "cell_type": "code",
   "execution_count": 5,
   "metadata": {
    "collapsed": false
   },
   "outputs": [
    {
     "data": {
      "text/plain": [
       "['Preferred First Name Upper',\n",
       " 'Full Name',\n",
       " 'Email Address',\n",
       " 'Personal Url',\n",
       " 'Department Number',\n",
       " 'Full Name Uppercase',\n",
       " 'Office Location',\n",
       " 'Mit Id',\n",
       " 'Krb Name Uppercase',\n",
       " 'Last Name',\n",
       " 'Preferred Last Name Upper',\n",
       " 'Email Address Uppercase',\n",
       " 'Middle Name',\n",
       " 'First Name',\n",
       " 'Directory Full Name',\n",
       " 'Primary Title',\n",
       " 'Directory Title',\n",
       " 'Department Name',\n",
       " 'Office Phone',\n",
       " 'Name Known By',\n",
       " 'Krb Name']"
      ]
     },
     "execution_count": 5,
     "metadata": {},
     "output_type": "execute_result"
    }
   ],
   "source": [
    "API.columns_of_table('Employee_directory.csv')"
   ]
  },
  {
   "cell_type": "markdown",
   "metadata": {},
   "source": [
    "### I may have missed columns with a different name formatting. We can find columns that are \"similar\" then"
   ]
  },
  {
   "cell_type": "code",
   "execution_count": 6,
   "metadata": {
    "collapsed": false
   },
   "outputs": [
    {
     "data": {
      "text/markdown": [
       "**Drupal_employee_directory.csv**"
      ],
      "text/plain": [
       "<IPython.core.display.Markdown object>"
      ]
     },
     "metadata": {},
     "output_type": "display_data"
    },
    {
     "name": "stdout",
     "output_type": "stream",
     "text": [
      "   Full Name\n",
      "   Last Name\n",
      "   First Name\n",
      "   Middle Name\n"
     ]
    },
    {
     "data": {
      "text/markdown": [
       "**Mit_student_directory.csv**"
      ],
      "text/plain": [
       "<IPython.core.display.Markdown object>"
      ]
     },
     "metadata": {},
     "output_type": "display_data"
    },
    {
     "name": "stdout",
     "output_type": "stream",
     "text": [
      "   Middle Name\n",
      "   First Name\n"
     ]
    },
    {
     "data": {
      "text/markdown": [
       "**short_subjects_offered.csv**"
      ],
      "text/plain": [
       "<IPython.core.display.Markdown object>"
      ]
     },
     "metadata": {},
     "output_type": "display_data"
    },
    {
     "name": "stdout",
     "output_type": "stream",
     "text": [
      "   Responsible Faculty Name\n"
     ]
    },
    {
     "data": {
      "text/markdown": [
       "**Library_subject_offered.csv**"
      ],
      "text/plain": [
       "<IPython.core.display.Markdown object>"
      ]
     },
     "metadata": {},
     "output_type": "display_data"
    },
    {
     "name": "stdout",
     "output_type": "stream",
     "text": [
      "   Responsible Faculty Name\n"
     ]
    },
    {
     "data": {
      "text/markdown": [
       "**Employee_directory.csv**"
      ],
      "text/plain": [
       "<IPython.core.display.Markdown object>"
      ]
     },
     "metadata": {},
     "output_type": "display_data"
    },
    {
     "name": "stdout",
     "output_type": "stream",
     "text": [
      "   Preferred First Name Upper\n",
      "   Full Name\n",
      "   Full Name Uppercase\n",
      "   Last Name\n",
      "   Preferred Last Name Upper\n",
      "   Middle Name\n",
      "   First Name\n",
      "   Directory Full Name\n",
      "   Name Known By\n"
     ]
    },
    {
     "data": {
      "text/markdown": [
       "**short_subject_offered_summary.csv**"
      ],
      "text/plain": [
       "<IPython.core.display.Markdown object>"
      ]
     },
     "metadata": {},
     "output_type": "display_data"
    },
    {
     "name": "stdout",
     "output_type": "stream",
     "text": [
      "   Responsible Faculty Name\n"
     ]
    },
    {
     "data": {
      "text/markdown": [
       "**Warehouse_users.csv**"
      ],
      "text/plain": [
       "<IPython.core.display.Markdown object>"
      ]
     },
     "metadata": {},
     "output_type": "display_data"
    },
    {
     "name": "stdout",
     "output_type": "stream",
     "text": [
      "   First Name\n",
      "   Middle Name\n"
     ]
    },
    {
     "data": {
      "text/markdown": [
       "**Hr_faculty_roster.csv**"
      ],
      "text/plain": [
       "<IPython.core.display.Markdown object>"
      ]
     },
     "metadata": {},
     "output_type": "display_data"
    },
    {
     "name": "stdout",
     "output_type": "stream",
     "text": [
      "   First Name\n"
     ]
    },
    {
     "data": {
      "text/markdown": [
       "**Se_person.csv**"
      ],
      "text/plain": [
       "<IPython.core.display.Markdown object>"
      ]
     },
     "metadata": {},
     "output_type": "display_data"
    },
    {
     "name": "stdout",
     "output_type": "stream",
     "text": [
      "   First Name\n",
      "   Middle Name\n",
      "   Full Name\n"
     ]
    },
    {
     "data": {
      "text/markdown": [
       "**short_tip_subject_offered.csv**"
      ],
      "text/plain": [
       "<IPython.core.display.Markdown object>"
      ]
     },
     "metadata": {},
     "output_type": "display_data"
    },
    {
     "name": "stdout",
     "output_type": "stream",
     "text": [
      "   Responsible Faculty Name\n"
     ]
    }
   ],
   "source": [
    "col = ('Drupal_employee_directory.csv', 'Full Name')\n",
    "result = API.columns_like(col)\n",
    "API.print(result)"
   ]
  },
  {
   "cell_type": "code",
   "execution_count": 16,
   "metadata": {
    "collapsed": false
   },
   "outputs": [
    {
     "data": {
      "text/plain": [
       "[('Drupal_employee_directory.csv', 'Full Name'),\n",
       " ('Drupal_employee_directory.csv', 'Last Name'),\n",
       " ('Drupal_employee_directory.csv', 'First Name'),\n",
       " ('Drupal_employee_directory.csv', 'Middle Name'),\n",
       " ('Employee_directory.csv', 'Preferred First Name Upper'),\n",
       " ('Employee_directory.csv', 'Full Name'),\n",
       " ('Employee_directory.csv', 'Full Name Uppercase'),\n",
       " ('Employee_directory.csv', 'Last Name'),\n",
       " ('Employee_directory.csv', 'Preferred Last Name Upper'),\n",
       " ('Employee_directory.csv', 'Middle Name'),\n",
       " ('Employee_directory.csv', 'First Name'),\n",
       " ('Employee_directory.csv', 'Directory Full Name'),\n",
       " ('Employee_directory.csv', 'Name Known By'),\n",
       " ('Hr_faculty_roster.csv', 'First Name'),\n",
       " ('Library_subject_offered.csv', 'Responsible Faculty Name'),\n",
       " ('Mit_student_directory.csv', 'Middle Name'),\n",
       " ('Mit_student_directory.csv', 'First Name'),\n",
       " ('Se_person.csv', 'First Name'),\n",
       " ('Se_person.csv', 'Middle Name'),\n",
       " ('Se_person.csv', 'Full Name'),\n",
       " ('short_subject_offered_summary.csv', 'Responsible Faculty Name'),\n",
       " ('short_subjects_offered.csv', 'Responsible Faculty Name'),\n",
       " ('short_tip_subject_offered.csv', 'Responsible Faculty Name'),\n",
       " ('Warehouse_users.csv', 'First Name'),\n",
       " ('Warehouse_users.csv', 'Middle Name')]"
      ]
     },
     "execution_count": 16,
     "metadata": {},
     "output_type": "execute_result"
    }
   ],
   "source": [
    "col = ('Employee_directory.csv', 'Full Name')\n",
    "API.columns_like(col)"
   ]
  },
  {
   "cell_type": "markdown",
   "metadata": {},
   "source": [
    "## Question 2: I want to check whether two tables can be joined to perform some analysis on interesting data they have"
   ]
  },
  {
   "cell_type": "code",
   "execution_count": 2,
   "metadata": {
    "collapsed": false
   },
   "outputs": [
    {
     "data": {
      "text/plain": [
       "[[('Fac_building.csv', 'Building Name Long'),\n",
       "  ('Buildings.csv', 'Building Name')],\n",
       " [('Fac_building.csv', 'Building Number'), ('Buildings.csv', 'Building Key')],\n",
       " [('Fac_building.csv', 'Fac Building Key'), ('Buildings.csv', 'Building Key')],\n",
       " [('Fac_building.csv', 'Ext Gross Area'),\n",
       "  ('Buildings.csv', 'Bldg Gross Square Footage')],\n",
       " [('Fac_building.csv', 'Assignable Area'),\n",
       "  ('Buildings.csv', 'Bldg Assignable Square Footage')],\n",
       " [('Fac_building.csv', 'Building Sort'),\n",
       "  ('Fac_building.csv', 'Building Number'),\n",
       "  ('Buildings.csv', 'Building Key')]]"
      ]
     },
     "execution_count": 2,
     "metadata": {},
     "output_type": "execute_result"
    }
   ],
   "source": [
    "table1 = \"Buildings.csv\"\n",
    "table2 = \"Fac_building.csv\"\n",
    "API.join_path(table1, table2, 3)"
   ]
  },
  {
   "cell_type": "code",
   "execution_count": 4,
   "metadata": {
    "collapsed": false
   },
   "outputs": [
    {
     "data": {
      "text/plain": [
       "[[('Master_dept_hierarchy.csv', 'Master Dept Hier Level 3 Name'),\n",
       "  ('Master_dept_dcode_parent.csv', 'D Name')],\n",
       " [('Master_dept_hierarchy.csv', 'Dlc Name'),\n",
       "  ('Master_dept_dcode_parent.csv', 'D Name')],\n",
       " [('Master_dept_hierarchy.csv', 'Master Dept Hier Level 2 Name'),\n",
       "  ('Master_dept_dcode_parent.csv', 'Parent D Name')],\n",
       " [('Master_dept_hierarchy.csv', 'Dlc Key'),\n",
       "  ('Master_dept_dcode_parent.csv', 'D Code')],\n",
       " [('Master_dept_hierarchy.csv', 'Dlc Code'),\n",
       "  ('Master_dept_dcode_parent.csv', 'D Code')],\n",
       " [('Master_dept_hierarchy.csv', 'Master Dept Hier Level 3 Code'),\n",
       "  ('Master_dept_dcode_parent.csv', 'Parent D Code')],\n",
       " [('Master_dept_hierarchy.csv', 'Master Dept Hier Level 2 Code'),\n",
       "  ('Master_dept_dcode_parent.csv', 'Parent D Code')],\n",
       " [('Master_dept_hierarchy.csv', 'Master Dept Hier Level 4 Name'),\n",
       "  ('Hr_org_unit.csv', 'Hr Org Level5 Name'),\n",
       "  ('Master_dept_dcode_parent.csv', 'D Name')],\n",
       " [('Master_dept_hierarchy.csv', 'Master Dept Hier Level 1 Name'),\n",
       "  ('Hr_org_unit.csv', 'Org Hier Root Name'),\n",
       "  ('Fac_building.csv', 'Site'),\n",
       "  ('Master_dept_dcode_parent.csv', 'D Name')]]"
      ]
     },
     "execution_count": 4,
     "metadata": {},
     "output_type": "execute_result"
    }
   ],
   "source": [
    "table1 = \"Master_dept_dcode_parent.csv\"\n",
    "table2 = \"Master_dept_hierarchy.csv\"\n",
    "API.may_join_path(table1, table2, 3)"
   ]
  },
  {
   "cell_type": "code",
   "execution_count": 6,
   "metadata": {
    "collapsed": false
   },
   "outputs": [
    {
     "data": {
      "text/plain": [
       "[[('Fac_building.csv', 'Assignable Area'),\n",
       "  ('Master_dept_dcode_parent.csv', 'Dept Id')],\n",
       " [('Fac_building.csv', 'Ext Gross Area'),\n",
       "  ('Master_dept_dcode_parent.csv', 'Dept Id')],\n",
       " [('Fac_building.csv', 'Site'), ('Master_dept_dcode_parent.csv', 'D Name')],\n",
       " [('Fac_building.csv', 'Date Built'),\n",
       "  ('Master_dept_dcode_parent.csv', 'Parent Id')],\n",
       " [('Fac_building.csv', 'Date Occupied'),\n",
       "  ('Master_dept_dcode_parent.csv', 'Parent Id')],\n",
       " [('Fac_building.csv', 'Warehouse Load Date'),\n",
       "  ('Master_dept_dcode_parent.csv', 'Warehouse Load Date')],\n",
       " [('Fac_building.csv', 'Date Acquired'),\n",
       "  ('Master_dept_dcode_parent.csv', 'Warehouse Load Date')],\n",
       " [('Fac_building.csv', 'Latitude Wgs'),\n",
       "  ('Cip.csv', 'Warehouse Load Date'),\n",
       "  ('Master_dept_dcode_parent.csv', 'Dept Id')],\n",
       " [('Fac_building.csv', 'Num Of Rooms'),\n",
       "  ('Fac_building.csv', 'Assignable Area'),\n",
       "  ('Master_dept_dcode_parent.csv', 'Dept Id')],\n",
       " [('Fac_building.csv', 'Non Assignable Area'),\n",
       "  ('Fac_building.csv', 'Assignable Area'),\n",
       "  ('Master_dept_dcode_parent.csv', 'Dept Id')],\n",
       " [('Fac_building.csv', 'Building Height'),\n",
       "  ('Fac_floor.csv', 'Level Id'),\n",
       "  ('Master_dept_dcode_parent.csv', 'Dept Id')],\n",
       " [('Fac_building.csv', 'Building Type'),\n",
       "  ('Sis_department.csv', 'School Name'),\n",
       "  ('Master_dept_dcode_parent.csv', 'D Name')],\n",
       " [('Fac_building.csv', 'Building Number'),\n",
       "  ('Fac_floor.csv', 'Floor Key'),\n",
       "  ('Fac_building.csv', 'Assignable Area'),\n",
       "  ('Master_dept_dcode_parent.csv', 'Dept Id')],\n",
       " [('Fac_building.csv', 'Fac Building Key'),\n",
       "  ('Fac_floor.csv', 'Floor Key'),\n",
       "  ('Fac_building.csv', 'Assignable Area'),\n",
       "  ('Master_dept_dcode_parent.csv', 'Dept Id')],\n",
       " [('Fac_building.csv', 'Building Sort'),\n",
       "  ('Fac_floor.csv', 'Floor Key'),\n",
       "  ('Fac_building.csv', 'Assignable Area'),\n",
       "  ('Master_dept_dcode_parent.csv', 'Dept Id')]]"
      ]
     },
     "execution_count": 6,
     "metadata": {},
     "output_type": "execute_result"
    }
   ],
   "source": [
    "table1 = \"Master_dept_dcode_parent.csv\"\n",
    "table2 = \"Fac_building.csv\"\n",
    "API.may_join_path(table1, table2, 3)"
   ]
  },
  {
   "cell_type": "code",
   "execution_count": 8,
   "metadata": {
    "collapsed": false
   },
   "outputs": [
    {
     "data": {
      "text/plain": [
       "[[('Master_dept_hierarchy.csv', 'Dlc Name'),\n",
       "  ('Master_dept_dcode_parent.csv', 'D Name')],\n",
       " [('Master_dept_hierarchy.csv', 'Dlc Key'),\n",
       "  ('Master_dept_dcode_parent.csv', 'D Code')],\n",
       " [('Master_dept_hierarchy.csv', 'Dlc Code'),\n",
       "  ('Master_dept_dcode_parent.csv', 'D Code')]]"
      ]
     },
     "execution_count": 8,
     "metadata": {},
     "output_type": "execute_result"
    }
   ],
   "source": [
    "table1 = \"Master_dept_dcode_parent.csv\"\n",
    "table2 = \"Master_dept_hierarchy.csv\"\n",
    "API.join_path(table1, table2, 3)"
   ]
  },
  {
   "cell_type": "code",
   "execution_count": 10,
   "metadata": {
    "collapsed": false
   },
   "outputs": [
    {
     "data": {
      "text/plain": [
       "[('Master_dept_dcode_parent.csv', 'D Code'),\n",
       " ('Master_dept_hierarchy.csv', 'Dlc Key'),\n",
       " ('Master_dept_hierarchy.csv', 'Dlc Code')]"
      ]
     },
     "execution_count": 10,
     "metadata": {},
     "output_type": "execute_result"
    }
   ],
   "source": [
    "API.columns_joinable_with(('Master_dept_hierarchy.csv', 'Dlc Key'))"
   ]
  },
  {
   "cell_type": "code",
   "execution_count": null,
   "metadata": {
    "collapsed": true
   },
   "outputs": [],
   "source": []
  }
 ],
 "metadata": {
  "kernelspec": {
   "display_name": "Python 3",
   "language": "python",
   "name": "python3"
  },
  "language_info": {
   "codemirror_mode": {
    "name": "ipython",
    "version": 3
   },
   "file_extension": ".py",
   "mimetype": "text/x-python",
   "name": "python",
   "nbconvert_exporter": "python",
   "pygments_lexer": "ipython3",
   "version": "3.5.0"
  }
 },
 "nbformat": 4,
 "nbformat_minor": 0
}
