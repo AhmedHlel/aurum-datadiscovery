{
 "cells": [
  {
   "cell_type": "code",
   "execution_count": 1,
   "metadata": {
    "collapsed": false
   },
   "outputs": [
    {
     "data": {
      "text/markdown": [
       "Loading: */Users/ra-mit/development/discovery_proto/test/all_chemical.pickle*"
      ],
      "text/plain": [
       "<IPython.core.display.Markdown object>"
      ]
     },
     "metadata": {},
     "output_type": "display_data"
    },
    {
     "data": {
      "text/markdown": [
       "### Help Menu"
      ],
      "text/plain": [
       "<IPython.core.display.Markdown object>"
      ]
     },
     "metadata": {},
     "output_type": "display_data"
    },
    {
     "data": {
      "text/markdown": [
       "You can use the system through an **API** object. API objects are returnedby the *init_system* function, so you can get one by doing:"
      ],
      "text/plain": [
       "<IPython.core.display.Markdown object>"
      ]
     },
     "metadata": {},
     "output_type": "display_data"
    },
    {
     "data": {
      "text/markdown": [
       "***your_api_object = init_system('path_to_stored_model')***"
      ],
      "text/plain": [
       "<IPython.core.display.Markdown object>"
      ]
     },
     "metadata": {},
     "output_type": "display_data"
    },
    {
     "data": {
      "text/markdown": [
       "Once you have access to an API object there are a few concepts that are useful to use the API. **content** refers to actual values of a given field. For example, if you have a table with an attribute called __Name__ and values *Olu, Mike, Sam*, content refers to the actual values, e.g. Mike, Sam, Olu."
      ],
      "text/plain": [
       "<IPython.core.display.Markdown object>"
      ]
     },
     "metadata": {},
     "output_type": "display_data"
    },
    {
     "data": {
      "text/markdown": [
       "**schema** refers to the name of a given field. In the previous example, schema refers to the word__Name__ as that's how the field is called."
      ],
      "text/plain": [
       "<IPython.core.display.Markdown object>"
      ]
     },
     "metadata": {},
     "output_type": "display_data"
    },
    {
     "data": {
      "text/markdown": [
       "Finally, **entity** refers to the *semantic type* of the content. This is in experimental state. For the previous example it would return *'person'* as that's what those names refer to."
      ],
      "text/plain": [
       "<IPython.core.display.Markdown object>"
      ]
     },
     "metadata": {},
     "output_type": "display_data"
    },
    {
     "data": {
      "text/markdown": [
       "Certain functions require a *field* as input. In general a field is specified by the source name (e.g. table name) and the field name (e.g. attribute name). For example, if we are interested in finding content similar to the one of the attribute *year* in the table *Employee* we can provide the field in the following way:"
      ],
      "text/plain": [
       "<IPython.core.display.Markdown object>"
      ]
     },
     "metadata": {},
     "output_type": "display_data"
    },
    {
     "name": "stdout",
     "output_type": "stream",
     "text": [
      "field = ('Employee', 'year') # field = [<source_name>, <field_name>)\n"
     ]
    }
   ],
   "source": [
    "from main import init_system\n",
    "from api.apiutils import Relation\n",
    "api, reporting = init_system(\"/Users/ra-mit/development/discovery_proto/test/all_chemical.pickle\")"
   ]
  },
  {
   "cell_type": "markdown",
   "metadata": {},
   "source": [
    "### 1.  Find columns with schema names similar to X"
   ]
  },
  {
   "cell_type": "code",
   "execution_count": 3,
   "metadata": {
    "collapsed": false
   },
   "outputs": [
    {
     "name": "stdout",
     "output_type": "stream",
     "text": [
      "SOURCE: KiDatabase.csv\t\t\t FIELD  Ligand Name\n",
      "SOURCE: KiDatabase.csv\t\t\t FIELD Ligand ID\n"
     ]
    }
   ],
   "source": [
    "schema_name_of_interest = \"ligand\"\n",
    "res = api.schema_name_search(schema_name_of_interest)\n",
    "res.pretty_print_columns()"
   ]
  },
  {
   "cell_type": "markdown",
   "metadata": {},
   "source": [
    "### 2.  Find columns that contain value X"
   ]
  },
  {
   "cell_type": "code",
   "execution_count": 4,
   "metadata": {
    "collapsed": false
   },
   "outputs": [
    {
     "name": "stdout",
     "output_type": "stream",
     "text": [
      "Hit(nid='-1158539825', source_name='KiDatabase.csv', field_name=' Ligand Name', score=0.40522423)\n",
      "Hit(nid='1165321500', source_name='drug_interactions', field_name='description', score=0.2963111)\n",
      "Hit(nid='147483850', source_name='formulations', field_name='ingredient', score=0.27028728)\n",
      "Hit(nid='1984994667', source_name='drug_interactions', field_name='name', score=0.26401526)\n",
      "Hit(nid='1829363994', source_name='BindingDB_All_clean.csv', field_name='BindingDB Ligand Name', score=0.26348928)\n",
      "Hit(nid='-1899566326', source_name='reference', field_name='reference_name', score=0.25669906)\n"
     ]
    }
   ],
   "source": [
    "res = api.keyword_search(\"caffeine\")\n",
    "res.print_columns()"
   ]
  },
  {
   "cell_type": "markdown",
   "metadata": {},
   "source": [
    "### 3.  Find columns whose content is similar to column X"
   ]
  },
  {
   "cell_type": "code",
   "execution_count": null,
   "metadata": {
    "collapsed": false
   },
   "outputs": [],
   "source": [
    "column = ('drug_interactions', 'drug_id1')\n",
    "drs_column = api.drs_from_raw_field(column)\n",
    "similar_columns = api.similar_content_to(drs_column)\n",
    "similar_columns.print_columns()"
   ]
  },
  {
   "cell_type": "markdown",
   "metadata": {},
   "source": [
    "### 4.  Find tables that contain a column with the name X"
   ]
  },
  {
   "cell_type": "code",
   "execution_count": null,
   "metadata": {
    "collapsed": false
   },
   "outputs": [],
   "source": [
    "column_name = \"ingredient\"\n",
    "res = api.schema_name_search(column_name)\n",
    "res.print_tables()"
   ]
  },
  {
   "cell_type": "markdown",
   "metadata": {},
   "source": [
    "### 5.  Find a virtual schema"
   ]
  },
  {
   "cell_type": "code",
   "execution_count": 7,
   "metadata": {
    "collapsed": false
   },
   "outputs": [
    {
     "name": "stdout",
     "output_type": "stream",
     "text": [
      "KiDatabase.csv\n"
     ]
    }
   ],
   "source": [
    "# Virtual schema: SMILES, CAS, name\n",
    "res_smiles = api.schema_name_search(\"SMILES\", max_results=100)\n",
    "res_smiles = api.table(res_smiles)\n",
    "\n",
    "res_CAS = api.schema_name_search(\"CAS\", max_results = 100)\n",
    "res_CAS = api.table(res_CAS)\n",
    "\n",
    "res_name = api.schema_name_search(\"name\", max_results = 100)\n",
    "res_name = api.table(res_name)\n",
    "\n",
    "res1 = api.intersection(res_smiles, res_CAS)\n",
    "api.table(res1)\n",
    "res2 = api.intersection(res1, res_name)\n",
    "\n",
    "real_res = api.union(res1, res2)\n",
    "\n",
    "real_res.print_tables()\n"
   ]
  },
  {
   "cell_type": "markdown",
   "metadata": {},
   "source": [
    "### 7.  Find tables that are similar to table T"
   ]
  },
  {
   "cell_type": "code",
   "execution_count": 9,
   "metadata": {
    "collapsed": false
   },
   "outputs": [
    {
     "name": "stdout",
     "output_type": "stream",
     "text": [
      "compound_properties\n"
     ]
    }
   ],
   "source": [
    "table = \"drug_indication\"\n",
    "drs_table = api.drs_from_table(table)\n",
    "res = api.similar_content_to(drs_table)\n",
    "res.print_tables()"
   ]
  },
  {
   "cell_type": "markdown",
   "metadata": {},
   "source": [
    "### 8.  Find columns on which tables X and Y join"
   ]
  },
  {
   "cell_type": "markdown",
   "metadata": {},
   "source": [
    "#### Example 1"
   ]
  },
  {
   "cell_type": "code",
   "execution_count": 10,
   "metadata": {
    "collapsed": false
   },
   "outputs": [
    {
     "name": "stdout",
     "output_type": "stream",
     "text": [
      "Hit(nid=1699088556, source_name='ontology', field_name='id', score=1.0)\n"
     ]
    }
   ],
   "source": [
    "table1 = \"molecule_dictionary\"\n",
    "drs_t1 = api.drs_from_table(table1)\n",
    "table2 = \"ontology\"\n",
    "drs_t2 = api.drs_from_table(table2)\n",
    "res = api.paths_between(drs_t1, drs_t2, Relation.PKFK)\n",
    "res.print_columns()"
   ]
  },
  {
   "cell_type": "code",
   "execution_count": null,
   "metadata": {
    "collapsed": false
   },
   "outputs": [],
   "source": [
    "res.why_id(1699088556)"
   ]
  },
  {
   "cell_type": "code",
   "execution_count": 11,
   "metadata": {
    "collapsed": false
   },
   "outputs": [
    {
     "data": {
      "text/plain": [
       "['molecule_dictionary:inorganic_flag -> OP.PKFK , -> ontology:id\\n',\n",
       " 'molecule_dictionary:first_in_class -> OP.PKFK , -> ontology:id\\n',\n",
       " 'molecule_dictionary:availability_type -> OP.PKFK , -> ontology:id\\n',\n",
       " 'molecule_dictionary:natural_product -> OP.PKFK , -> ontology:id\\n',\n",
       " 'molecule_dictionary:chirality -> OP.PKFK , -> ontology:id\\n',\n",
       " 'molecule_dictionary:prodrug -> OP.PKFK , -> ontology:id\\n']"
      ]
     },
     "execution_count": 11,
     "metadata": {},
     "output_type": "execute_result"
    }
   ],
   "source": [
    "res.how_id(1699088556)"
   ]
  },
  {
   "cell_type": "markdown",
   "metadata": {},
   "source": [
    "#### Example 2"
   ]
  },
  {
   "cell_type": "code",
   "execution_count": null,
   "metadata": {
    "collapsed": false
   },
   "outputs": [],
   "source": [
    "table1 = \"research_companies\"\n",
    "drs_t1 = api.drs_from_table(table1)\n",
    "table2 = \"research_stem\"\n",
    "drs_t2 = api.drs_from_table(table2)\n",
    "res = api.paths_between(drs_t1, drs_t2, Relation.PKFK)\n",
    "res.print_columns()"
   ]
  },
  {
   "cell_type": "markdown",
   "metadata": {},
   "source": [
    "### 9.  Find join paths between X and Y"
   ]
  },
  {
   "cell_type": "code",
   "execution_count": 12,
   "metadata": {
    "collapsed": false
   },
   "outputs": [
    {
     "data": {
      "text/plain": [
       "[[Hit(nid=1008445607, source_name='research_stem', field_name='res_stem_id', score=-1),\n",
       "  Hit(nid=1901999977, source_name='research_companies', field_name='res_stem_id', score=1.0)],\n",
       " [Hit(nid=1008445607, source_name='research_stem', field_name='res_stem_id', score=-1),\n",
       "  Hit(nid=1279896639, source_name='usan_stems', field_name='usan_stem_id', score=1.0)]]"
      ]
     },
     "execution_count": 12,
     "metadata": {},
     "output_type": "execute_result"
    }
   ],
   "source": [
    "table1 = \"research_stem\"\n",
    "drs_t1 = api.drs_from_table(table1)\n",
    "table2 = \"usan_stems\"\n",
    "drs_t2 = api.drs_from_table(table2)\n",
    "res = api.paths_between(drs_t1, drs_t2, Relation.PKFK)\n",
    "res.paths()"
   ]
  },
  {
   "cell_type": "markdown",
   "metadata": {},
   "source": [
    "### 10. Find all tables that join on table T"
   ]
  },
  {
   "cell_type": "markdown",
   "metadata": {},
   "source": [
    "#### Example 1"
   ]
  },
  {
   "cell_type": "code",
   "execution_count": 13,
   "metadata": {
    "collapsed": false
   },
   "outputs": [
    {
     "name": "stdout",
     "output_type": "stream",
     "text": [
      "usan_stems\n",
      "research_companies\n"
     ]
    }
   ],
   "source": [
    "table1 = \"research_stem\"\n",
    "drs_t1 = api.drs_from_table(table1)\n",
    "res = api.pkfk_of(drs_t1)\n",
    "res.print_tables()"
   ]
  },
  {
   "cell_type": "markdown",
   "metadata": {},
   "source": [
    "#### Example 2"
   ]
  },
  {
   "cell_type": "code",
   "execution_count": 15,
   "metadata": {
    "collapsed": false
   },
   "outputs": [
    {
     "name": "stdout",
     "output_type": "stream",
     "text": [
      "Hit(nid=3221333167, source_name='drugs_vw', field_name='name', score=1.0)\n"
     ]
    }
   ],
   "source": [
    "table1 = \"drugs\"\n",
    "drs_t1 = api.drs_from_table(table1)\n",
    "res = api.pkfk_of(drs_t1)\n",
    "res.print_columns()"
   ]
  },
  {
   "cell_type": "markdown",
   "metadata": {},
   "source": [
    "#### Example 3"
   ]
  },
  {
   "cell_type": "code",
   "execution_count": null,
   "metadata": {
    "collapsed": false
   },
   "outputs": [],
   "source": [
    "table1 = \"drug_interactions\"\n",
    "drs_t1 = api.drs_from_table(table1)\n",
    "res = api.pkfk_of(drs_t1)\n",
    "res.print_tables()"
   ]
  },
  {
   "cell_type": "markdown",
   "metadata": {},
   "source": [
    "### 11. Find all columns that can be added to table T"
   ]
  },
  {
   "cell_type": "code",
   "execution_count": null,
   "metadata": {
    "collapsed": false
   },
   "outputs": [],
   "source": [
    "# TODO: \n",
    "table1 = \"drugs\"\n",
    "drs_t1 = api.drs_from_table(table1)\n",
    "res = api.pkfk_of(drs_t1)\n",
    "res.print_columns()"
   ]
  },
  {
   "cell_type": "code",
   "execution_count": 16,
   "metadata": {
    "collapsed": false
   },
   "outputs": [
    {
     "name": "stdout",
     "output_type": "stream",
     "text": [
      "Hit(nid=2728516608, source_name='molecule_dictionary', field_name='inorganic_flag', score=-1) - Hit(nid=1699088556, source_name='ontology', field_name='id', score=1.0)\n",
      "Hit(nid=1699088556, source_name='ontology', field_name='id', score=-1) - Hit(nid=2728516608, source_name='molecule_dictionary', field_name='inorganic_flag', score=1.0)\n",
      "Hit(nid=1699088556, source_name='ontology', field_name='id', score=-1) - Hit(nid=690794884, source_name='assays', field_name='src_id', score=1.0)\n",
      "Hit(nid=1699088556, source_name='ontology', field_name='id', score=-1) - Hit(nid=1469816517, source_name='activities', field_name='standard_flag', score=1.0)\n",
      "Hit(nid=1699088556, source_name='ontology', field_name='id', score=-1) - Hit(nid=2866335884, source_name='metabolism', field_name='pathway_id', score=1.0)\n",
      "Hit(nid=1699088556, source_name='ontology', field_name='id', score=-1) - Hit(nid=1811291602, source_name='vertice', field_name='ontology_id', score=1.0)\n",
      "Hit(nid=1699088556, source_name='ontology', field_name='id', score=-1) - Hit(nid=53008014, source_name='molecule_dictionary', field_name='availability_type', score=1.0)\n",
      "Hit(nid=1699088556, source_name='ontology', field_name='id', score=-1) - Hit(nid=2266873366, source_name='molecule_dictionary', field_name='natural_product', score=1.0)\n",
      "Hit(nid=1699088556, source_name='ontology', field_name='id', score=-1) - Hit(nid=1369694679, source_name='drug_mechanism', field_name='disease_efficacy', score=1.0)\n",
      "Hit(nid=1699088556, source_name='ontology', field_name='id', score=-1) - Hit(nid=1055049624, source_name='molecule_dictionary', field_name='chirality', score=1.0)\n",
      "Hit(nid=1699088556, source_name='ontology', field_name='id', score=-1) - Hit(nid=1796642281, source_name='drug_mechanism', field_name='direct_interaction', score=1.0)\n",
      "Hit(nid=1699088556, source_name='ontology', field_name='id', score=-1) - Hit(nid=760549000, source_name='molecule_dictionary', field_name='first_in_class', score=1.0)\n",
      "Hit(nid=1699088556, source_name='ontology', field_name='id', score=-1) - Hit(nid=3812389298, source_name='assays', field_name='confidence_score', score=1.0)\n",
      "Hit(nid=1699088556, source_name='ontology', field_name='id', score=-1) - Hit(nid=1927220725, source_name='drug_mechanism', field_name='molecular_mechanism', score=1.0)\n",
      "Hit(nid=1699088556, source_name='ontology', field_name='id', score=-1) - Hit(nid=1783483454, source_name='molecule_dictionary', field_name='prodrug', score=1.0)\n",
      "Hit(nid=23653859, source_name='atc_drugs', field_name='atc_code', score=-1) - Hit(nid=30889257, source_name='drugs_vw', field_name='atc_codes', score=0.9281125726521872)\n",
      "Hit(nid=1652972574, source_name='relation', field_name='status', score=-1) - Hit(nid=1035897536, source_name='patent_use_codes', field_name='patent_use_code', score=0.9994416527079844)\n",
      "Hit(nid=1783483454, source_name='molecule_dictionary', field_name='prodrug', score=-1) - Hit(nid=1699088556, source_name='ontology', field_name='id', score=1.0)\n",
      "Hit(nid=2105574822, source_name='target_type', field_name='target_type', score=-1) - Hit(nid=2097556775, source_name='confidence_score_lookup', field_name='target_mapping', score=1.0)\n",
      "Hit(nid=2105574822, source_name='target_type', field_name='target_type', score=-1) - Hit(nid=197170041, source_name='bio_component_sequences', field_name='component_type', score=1.0)\n",
      "Hit(nid=1901999977, source_name='research_companies', field_name='res_stem_id', score=-1) - Hit(nid=1008445607, source_name='research_stem', field_name='res_stem_id', score=1.0)\n",
      "Hit(nid=1901999977, source_name='research_companies', field_name='res_stem_id', score=-1) - Hit(nid=1279896639, source_name='usan_stems', field_name='usan_stem_id', score=1.0)\n",
      "Hit(nid=1320796556, source_name='assays', field_name='relationship_type', score=-1) - Hit(nid=1035897536, source_name='patent_use_codes', field_name='patent_use_code', score=0.9994416527079844)\n",
      "Hit(nid=2866335884, source_name='metabolism', field_name='pathway_id', score=-1) - Hit(nid=1699088556, source_name='ontology', field_name='id', score=1.0)\n",
      "Hit(nid=1469816517, source_name='activities', field_name='standard_flag', score=-1) - Hit(nid=1699088556, source_name='ontology', field_name='id', score=1.0)\n",
      "Hit(nid=1008445607, source_name='research_stem', field_name='res_stem_id', score=-1) - Hit(nid=1901999977, source_name='research_companies', field_name='res_stem_id', score=1.0)\n",
      "Hit(nid=1008445607, source_name='research_stem', field_name='res_stem_id', score=-1) - Hit(nid=1279896639, source_name='usan_stems', field_name='usan_stem_id', score=1.0)\n",
      "Hit(nid=3221333167, source_name='drugs_vw', field_name='name', score=-1) - Hit(nid=1665640832, source_name='drugs', field_name='name', score=1.0)\n",
      "Hit(nid=2948285653, source_name='irac_classification', field_name='level1', score=-1) - Hit(nid=1035897536, source_name='patent_use_codes', field_name='patent_use_code', score=0.9994416527079844)\n",
      "Hit(nid=602471671, source_name='compound_properties', field_name='rtb', score=-1) - Hit(nid=1462109142, source_name='structural_alert_sets', field_name='priority', score=1.0)\n",
      "Hit(nid=602471671, source_name='compound_properties', field_name='rtb', score=-1) - Hit(nid=4076221368, source_name='structural_alert_sets', field_name='alert_set_id', score=1.0)\n",
      "Hit(nid=874131486, source_name='assays', field_name='assay_type', score=-1) - Hit(nid=1035897536, source_name='patent_use_codes', field_name='patent_use_code', score=0.9994416527079844)\n",
      "Hit(nid=690794884, source_name='assays', field_name='src_id', score=-1) - Hit(nid=1699088556, source_name='ontology', field_name='id', score=1.0)\n",
      "Hit(nid=2097556775, source_name='confidence_score_lookup', field_name='target_mapping', score=-1) - Hit(nid=2105574822, source_name='target_type', field_name='target_type', score=1.0)\n",
      "Hit(nid=2097556775, source_name='confidence_score_lookup', field_name='target_mapping', score=-1) - Hit(nid=197170041, source_name='bio_component_sequences', field_name='component_type', score=1.0)\n",
      "Hit(nid=30889257, source_name='drugs_vw', field_name='atc_codes', score=-1) - Hit(nid=23653859, source_name='atc_drugs', field_name='atc_code', score=0.9281125726521872)\n",
      "Hit(nid=1270539146, source_name='names', field_name='adapted', score=-1) - Hit(nid=1035897536, source_name='patent_use_codes', field_name='patent_use_code', score=0.9994416527079844)\n",
      "Hit(nid=1279896639, source_name='usan_stems', field_name='usan_stem_id', score=-1) - Hit(nid=1008445607, source_name='research_stem', field_name='res_stem_id', score=1.0)\n",
      "Hit(nid=1279896639, source_name='usan_stems', field_name='usan_stem_id', score=-1) - Hit(nid=1901999977, source_name='research_companies', field_name='res_stem_id', score=1.0)\n",
      "Hit(nid=1665640832, source_name='drugs', field_name='name', score=-1) - Hit(nid=3221333167, source_name='drugs_vw', field_name='name', score=1.0)\n",
      "Hit(nid=462155175, source_name='drug_synonyms', field_name='synonym', score=-1) - Hit(nid=2389682909, source_name='drugs_vw', field_name='synonyms', score=0.9931516325401217)\n",
      "Hit(nid=1734469244, source_name='drugs_vw', field_name='brands', score=-1) - Hit(nid=2700108245, source_name='drug_brands', field_name='brand', score=0.9993575742001799)\n",
      "Hit(nid=1811291602, source_name='vertice', field_name='ontology_id', score=-1) - Hit(nid=1699088556, source_name='ontology', field_name='id', score=1.0)\n",
      "Hit(nid=2700108245, source_name='drug_brands', field_name='brand', score=-1) - Hit(nid=1734469244, source_name='drugs_vw', field_name='brands', score=0.9993575742001799)\n",
      "Hit(nid=1369694679, source_name='drug_mechanism', field_name='disease_efficacy', score=-1) - Hit(nid=1699088556, source_name='ontology', field_name='id', score=1.0)\n",
      "Hit(nid=1796642281, source_name='drug_mechanism', field_name='direct_interaction', score=-1) - Hit(nid=1699088556, source_name='ontology', field_name='id', score=1.0)\n",
      "Hit(nid=1927220725, source_name='drug_mechanism', field_name='molecular_mechanism', score=-1) - Hit(nid=1699088556, source_name='ontology', field_name='id', score=1.0)\n",
      "Hit(nid=3659419128, source_name='atc_classification', field_name='level1', score=-1) - Hit(nid=1035897536, source_name='patent_use_codes', field_name='patent_use_code', score=0.9994416527079844)\n",
      "Hit(nid=1055049624, source_name='molecule_dictionary', field_name='chirality', score=-1) - Hit(nid=1699088556, source_name='ontology', field_name='id', score=1.0)\n",
      "Hit(nid=2266873366, source_name='molecule_dictionary', field_name='natural_product', score=-1) - Hit(nid=1699088556, source_name='ontology', field_name='id', score=1.0)\n",
      "Hit(nid=1137380888, source_name='protein_family_classification', field_name='protein_class_desc', score=-1) - Hit(nid=1907157709, source_name='protein_classification', field_name='protein_class_desc', score=1.0)\n",
      "Hit(nid=927136298, source_name='compounds', field_name='status', score=-1) - Hit(nid=1035897536, source_name='patent_use_codes', field_name='patent_use_code', score=0.9994416527079844)\n",
      "Hit(nid=3812389298, source_name='assays', field_name='confidence_score', score=-1) - Hit(nid=1699088556, source_name='ontology', field_name='id', score=1.0)\n",
      "Hit(nid=833022543, source_name='drug_ints_vw', field_name='drug_ids2', score=-1) - Hit(nid=3240794748, source_name='drug_interactions', field_name='drug_id1', score=0.819538670284939)\n",
      "Hit(nid=1372457566, source_name='molecule_hierarchy', field_name='parent_molregno', score=-1) - Hit(nid=881842000, source_name='molecule_hierarchy', field_name='active_molregno', score=0.6558388618965137)\n",
      "Hit(nid=3240794748, source_name='drug_interactions', field_name='drug_id1', score=-1) - Hit(nid=833022543, source_name='drug_ints_vw', field_name='drug_ids2', score=0.819538670284939)\n",
      "Hit(nid=760549000, source_name='molecule_dictionary', field_name='first_in_class', score=-1) - Hit(nid=1699088556, source_name='ontology', field_name='id', score=1.0)\n",
      "Hit(nid=513959026, source_name='compound_properties', field_name='ro3_pass', score=-1) - Hit(nid=1035897536, source_name='patent_use_codes', field_name='patent_use_code', score=0.9994416527079844)\n",
      "Hit(nid=1035897536, source_name='patent_use_codes', field_name='patent_use_code', score=-1) - Hit(nid=2763920102, source_name='products', field_name='nda_type', score=0.9994416527079844)\n",
      "Hit(nid=1035897536, source_name='patent_use_codes', field_name='patent_use_code', score=-1) - Hit(nid=927136298, source_name='compounds', field_name='status', score=0.9994416527079844)\n",
      "Hit(nid=1035897536, source_name='patent_use_codes', field_name='patent_use_code', score=-1) - Hit(nid=1320796556, source_name='assays', field_name='relationship_type', score=0.9994416527079844)\n",
      "Hit(nid=1035897536, source_name='patent_use_codes', field_name='patent_use_code', score=-1) - Hit(nid=1270539146, source_name='names', field_name='adapted', score=0.9994416527079844)\n",
      "Hit(nid=1035897536, source_name='patent_use_codes', field_name='patent_use_code', score=-1) - Hit(nid=874131486, source_name='assays', field_name='assay_type', score=0.9994416527079844)\n",
      "Hit(nid=1035897536, source_name='patent_use_codes', field_name='patent_use_code', score=-1) - Hit(nid=513959026, source_name='compound_properties', field_name='ro3_pass', score=0.9994416527079844)\n",
      "Hit(nid=1035897536, source_name='patent_use_codes', field_name='patent_use_code', score=-1) - Hit(nid=2948285653, source_name='irac_classification', field_name='level1', score=0.9994416527079844)\n",
      "Hit(nid=1035897536, source_name='patent_use_codes', field_name='patent_use_code', score=-1) - Hit(nid=3659419128, source_name='atc_classification', field_name='level1', score=0.9994416527079844)\n",
      "Hit(nid=1035897536, source_name='patent_use_codes', field_name='patent_use_code', score=-1) - Hit(nid=1652972574, source_name='relation', field_name='status', score=0.9994416527079844)\n",
      "Hit(nid=1035897536, source_name='patent_use_codes', field_name='patent_use_code', score=-1) - Hit(nid=928927733, source_name='go_classification', field_name='aspect', score=0.9994416527079844)\n",
      "Hit(nid=1907157709, source_name='protein_classification', field_name='protein_class_desc', score=-1) - Hit(nid=1137380888, source_name='protein_family_classification', field_name='protein_class_desc', score=1.0)\n",
      "Hit(nid=2389682909, source_name='drugs_vw', field_name='synonyms', score=-1) - Hit(nid=462155175, source_name='drug_synonyms', field_name='synonym', score=0.9931516325401217)\n",
      "Hit(nid=1462109142, source_name='structural_alert_sets', field_name='priority', score=-1) - Hit(nid=4076221368, source_name='structural_alert_sets', field_name='alert_set_id', score=1.0)\n",
      "Hit(nid=1462109142, source_name='structural_alert_sets', field_name='priority', score=-1) - Hit(nid=602471671, source_name='compound_properties', field_name='rtb', score=1.0)\n",
      "Hit(nid=881842000, source_name='molecule_hierarchy', field_name='active_molregno', score=-1) - Hit(nid=1372457566, source_name='molecule_hierarchy', field_name='parent_molregno', score=0.6558388618965137)\n",
      "Hit(nid=53008014, source_name='molecule_dictionary', field_name='availability_type', score=-1) - Hit(nid=1699088556, source_name='ontology', field_name='id', score=1.0)\n",
      "Hit(nid=197170041, source_name='bio_component_sequences', field_name='component_type', score=-1) - Hit(nid=2105574822, source_name='target_type', field_name='target_type', score=1.0)\n",
      "Hit(nid=197170041, source_name='bio_component_sequences', field_name='component_type', score=-1) - Hit(nid=2097556775, source_name='confidence_score_lookup', field_name='target_mapping', score=1.0)\n",
      "Hit(nid=2763920102, source_name='products', field_name='nda_type', score=-1) - Hit(nid=1035897536, source_name='patent_use_codes', field_name='patent_use_code', score=0.9994416527079844)\n",
      "Hit(nid=4076221368, source_name='structural_alert_sets', field_name='alert_set_id', score=-1) - Hit(nid=1462109142, source_name='structural_alert_sets', field_name='priority', score=1.0)\n",
      "Hit(nid=4076221368, source_name='structural_alert_sets', field_name='alert_set_id', score=-1) - Hit(nid=602471671, source_name='compound_properties', field_name='rtb', score=1.0)\n",
      "Hit(nid=928927733, source_name='go_classification', field_name='aspect', score=-1) - Hit(nid=1035897536, source_name='patent_use_codes', field_name='patent_use_code', score=0.9994416527079844)\n",
      "Total Relation.PKFK relations: 0\n"
     ]
    }
   ],
   "source": [
    "reporting.print_pkfk_relations()"
   ]
  },
  {
   "cell_type": "code",
   "execution_count": 17,
   "metadata": {
    "collapsed": false
   },
   "outputs": [
    {
     "name": "stdout",
     "output_type": "stream",
     "text": [
      "Hit(nid=2728516608, source_name='molecule_dictionary', field_name='inorganic_flag', score=-1) - Hit(nid=690794884, source_name='assays', field_name='src_id', score=1)\n",
      "Hit(nid=2728516608, source_name='molecule_dictionary', field_name='inorganic_flag', score=-1) - Hit(nid=1469816517, source_name='activities', field_name='standard_flag', score=1)\n",
      "Hit(nid=2728516608, source_name='molecule_dictionary', field_name='inorganic_flag', score=-1) - Hit(nid=760549000, source_name='molecule_dictionary', field_name='first_in_class', score=1)\n",
      "Hit(nid=2728516608, source_name='molecule_dictionary', field_name='inorganic_flag', score=-1) - Hit(nid=1783483454, source_name='molecule_dictionary', field_name='prodrug', score=1)\n",
      "Hit(nid=2728516608, source_name='molecule_dictionary', field_name='inorganic_flag', score=-1) - Hit(nid=53008014, source_name='molecule_dictionary', field_name='availability_type', score=1)\n",
      "Hit(nid=2728516608, source_name='molecule_dictionary', field_name='inorganic_flag', score=-1) - Hit(nid=1811291602, source_name='vertice', field_name='ontology_id', score=1)\n",
      "Hit(nid=2728516608, source_name='molecule_dictionary', field_name='inorganic_flag', score=-1) - Hit(nid=2266873366, source_name='molecule_dictionary', field_name='natural_product', score=1)\n",
      "Hit(nid=2728516608, source_name='molecule_dictionary', field_name='inorganic_flag', score=-1) - Hit(nid=1369694679, source_name='drug_mechanism', field_name='disease_efficacy', score=1)\n",
      "Hit(nid=2728516608, source_name='molecule_dictionary', field_name='inorganic_flag', score=-1) - Hit(nid=1055049624, source_name='molecule_dictionary', field_name='chirality', score=1)\n",
      "Hit(nid=2728516608, source_name='molecule_dictionary', field_name='inorganic_flag', score=-1) - Hit(nid=1796642281, source_name='drug_mechanism', field_name='direct_interaction', score=1)\n",
      "Hit(nid=2728516608, source_name='molecule_dictionary', field_name='inorganic_flag', score=-1) - Hit(nid=1699088556, source_name='ontology', field_name='id', score=1)\n",
      "Hit(nid=2728516608, source_name='molecule_dictionary', field_name='inorganic_flag', score=-1) - Hit(nid=2866335884, source_name='metabolism', field_name='pathway_id', score=1)\n",
      "Hit(nid=2728516608, source_name='molecule_dictionary', field_name='inorganic_flag', score=-1) - Hit(nid=3812389298, source_name='assays', field_name='confidence_score', score=1)\n",
      "Hit(nid=2728516608, source_name='molecule_dictionary', field_name='inorganic_flag', score=-1) - Hit(nid=1927220725, source_name='drug_mechanism', field_name='molecular_mechanism', score=1)\n",
      "Hit(nid=1699088556, source_name='ontology', field_name='id', score=-1) - Hit(nid=2728516608, source_name='molecule_dictionary', field_name='inorganic_flag', score=1)\n",
      "Hit(nid=1699088556, source_name='ontology', field_name='id', score=-1) - Hit(nid=690794884, source_name='assays', field_name='src_id', score=1)\n",
      "Hit(nid=1699088556, source_name='ontology', field_name='id', score=-1) - Hit(nid=1469816517, source_name='activities', field_name='standard_flag', score=1)\n",
      "Hit(nid=1699088556, source_name='ontology', field_name='id', score=-1) - Hit(nid=2866335884, source_name='metabolism', field_name='pathway_id', score=1)\n",
      "Hit(nid=1699088556, source_name='ontology', field_name='id', score=-1) - Hit(nid=1811291602, source_name='vertice', field_name='ontology_id', score=1)\n",
      "Hit(nid=1699088556, source_name='ontology', field_name='id', score=-1) - Hit(nid=53008014, source_name='molecule_dictionary', field_name='availability_type', score=1)\n",
      "Hit(nid=1699088556, source_name='ontology', field_name='id', score=-1) - Hit(nid=2266873366, source_name='molecule_dictionary', field_name='natural_product', score=1)\n",
      "Hit(nid=1699088556, source_name='ontology', field_name='id', score=-1) - Hit(nid=1369694679, source_name='drug_mechanism', field_name='disease_efficacy', score=1)\n",
      "Hit(nid=1699088556, source_name='ontology', field_name='id', score=-1) - Hit(nid=1055049624, source_name='molecule_dictionary', field_name='chirality', score=1)\n",
      "Hit(nid=1699088556, source_name='ontology', field_name='id', score=-1) - Hit(nid=1796642281, source_name='drug_mechanism', field_name='direct_interaction', score=1)\n",
      "Hit(nid=1699088556, source_name='ontology', field_name='id', score=-1) - Hit(nid=760549000, source_name='molecule_dictionary', field_name='first_in_class', score=1)\n",
      "Hit(nid=1699088556, source_name='ontology', field_name='id', score=-1) - Hit(nid=3812389298, source_name='assays', field_name='confidence_score', score=1)\n",
      "Hit(nid=1699088556, source_name='ontology', field_name='id', score=-1) - Hit(nid=1927220725, source_name='drug_mechanism', field_name='molecular_mechanism', score=1)\n",
      "Hit(nid=1699088556, source_name='ontology', field_name='id', score=-1) - Hit(nid=1783483454, source_name='molecule_dictionary', field_name='prodrug', score=1)\n",
      "Hit(nid=23653859, source_name='atc_drugs', field_name='atc_code', score=-1) - Hit(nid=30889257, source_name='drugs_vw', field_name='atc_codes', score=0.0)\n",
      "Hit(nid=1652972574, source_name='relation', field_name='status', score=-1) - Hit(nid=1035897536, source_name='patent_use_codes', field_name='patent_use_code', score=1.0)\n",
      "Hit(nid=1652972574, source_name='relation', field_name='status', score=-1) - Hit(nid=2763920102, source_name='products', field_name='nda_type', score=1.0)\n",
      "Hit(nid=1652972574, source_name='relation', field_name='status', score=-1) - Hit(nid=927136298, source_name='compounds', field_name='status', score=1.0)\n",
      "Hit(nid=1652972574, source_name='relation', field_name='status', score=-1) - Hit(nid=1320796556, source_name='assays', field_name='relationship_type', score=1.0)\n",
      "Hit(nid=1652972574, source_name='relation', field_name='status', score=-1) - Hit(nid=874131486, source_name='assays', field_name='assay_type', score=1.0)\n",
      "Hit(nid=1652972574, source_name='relation', field_name='status', score=-1) - Hit(nid=513959026, source_name='compound_properties', field_name='ro3_pass', score=1.0)\n",
      "Hit(nid=1652972574, source_name='relation', field_name='status', score=-1) - Hit(nid=928927733, source_name='go_classification', field_name='aspect', score=1.0)\n",
      "Hit(nid=1652972574, source_name='relation', field_name='status', score=-1) - Hit(nid=3659419128, source_name='atc_classification', field_name='level1', score=1.0)\n",
      "Hit(nid=1652972574, source_name='relation', field_name='status', score=-1) - Hit(nid=1270539146, source_name='names', field_name='adapted', score=1.0)\n",
      "Hit(nid=1652972574, source_name='relation', field_name='status', score=-1) - Hit(nid=2948285653, source_name='irac_classification', field_name='level1', score=1.0)\n",
      "Hit(nid=1360736775, source_name='molecule_dictionary', field_name='black_box_warning', score=-1) - Hit(nid=193981166, source_name='molecule_dictionary', field_name='polymer_flag', score=1)\n",
      "Hit(nid=1360736775, source_name='molecule_dictionary', field_name='black_box_warning', score=-1) - Hit(nid=3875015943, source_name='molecule_dictionary', field_name='parenteral', score=1)\n",
      "Hit(nid=1360736775, source_name='molecule_dictionary', field_name='black_box_warning', score=-1) - Hit(nid=3598592652, source_name='molecule_dictionary', field_name='therapeutic_flag', score=1)\n",
      "Hit(nid=1360736775, source_name='molecule_dictionary', field_name='black_box_warning', score=-1) - Hit(nid=3462832330, source_name='products', field_name='topical', score=1)\n",
      "Hit(nid=1360736775, source_name='molecule_dictionary', field_name='black_box_warning', score=-1) - Hit(nid=590474764, source_name='activities', field_name='potential_duplicate', score=1)\n",
      "Hit(nid=1360736775, source_name='molecule_dictionary', field_name='black_box_warning', score=-1) - Hit(nid=2263031501, source_name='molecule_dictionary', field_name='dosed_ingredient', score=1)\n",
      "Hit(nid=1360736775, source_name='molecule_dictionary', field_name='black_box_warning', score=-1) - Hit(nid=87092696, source_name='products', field_name='innovator_company', score=1)\n",
      "Hit(nid=1360736775, source_name='molecule_dictionary', field_name='black_box_warning', score=-1) - Hit(nid=2896224210, source_name='compound_properties', field_name='num_lipinski_ro5_violations', score=1)\n",
      "Hit(nid=1360736775, source_name='molecule_dictionary', field_name='black_box_warning', score=-1) - Hit(nid=1326493156, source_name='molecule_dictionary', field_name='oral', score=1)\n",
      "Hit(nid=1360736775, source_name='molecule_dictionary', field_name='black_box_warning', score=-1) - Hit(nid=721562402, source_name='products', field_name='parenteral', score=1)\n",
      "Hit(nid=1360736775, source_name='molecule_dictionary', field_name='black_box_warning', score=-1) - Hit(nid=3038966756, source_name='ligand_eff', field_name='le', score=1)\n",
      "Hit(nid=1360736775, source_name='molecule_dictionary', field_name='black_box_warning', score=-1) - Hit(nid=340079846, source_name='molecule_dictionary', field_name='max_phase', score=1)\n",
      "Hit(nid=1360736775, source_name='molecule_dictionary', field_name='black_box_warning', score=-1) - Hit(nid=1039725926, source_name='product_patents', field_name='drug_substance_flag', score=1)\n",
      "Hit(nid=1360736775, source_name='molecule_dictionary', field_name='black_box_warning', score=-1) - Hit(nid=134841193, source_name='target_components', field_name='homologue', score=1)\n",
      "Hit(nid=1360736775, source_name='molecule_dictionary', field_name='black_box_warning', score=-1) - Hit(nid=422040366, source_name='product_patents', field_name='delist_flag', score=1)\n",
      "Hit(nid=1360736775, source_name='molecule_dictionary', field_name='black_box_warning', score=-1) - Hit(nid=3460856691, source_name='usan_stems', field_name='who_extra', score=1)\n",
      "Hit(nid=1360736775, source_name='molecule_dictionary', field_name='black_box_warning', score=-1) - Hit(nid=838023372, source_name='compound_properties', field_name='qed_weighted', score=1)\n",
      "Hit(nid=1360736775, source_name='molecule_dictionary', field_name='black_box_warning', score=-1) - Hit(nid=1216406969, source_name='target_dictionary', field_name='species_group_flag', score=1)\n",
      "Hit(nid=1360736775, source_name='molecule_dictionary', field_name='black_box_warning', score=-1) - Hit(nid=2500388476, source_name='molecule_dictionary', field_name='topical', score=1)\n",
      "Hit(nid=2613623856, source_name='products', field_name='black_box_warning', score=-1) - Hit(nid=3472617104, source_name='compound_properties', field_name='num_ro5_violations', score=1)\n",
      "Hit(nid=2613623856, source_name='products', field_name='black_box_warning', score=-1) - Hit(nid=2022665893, source_name='product_patents', field_name='drug_product_flag', score=1)\n",
      "Hit(nid=1783483454, source_name='molecule_dictionary', field_name='prodrug', score=-1) - Hit(nid=2728516608, source_name='molecule_dictionary', field_name='inorganic_flag', score=1)\n",
      "Hit(nid=1783483454, source_name='molecule_dictionary', field_name='prodrug', score=-1) - Hit(nid=690794884, source_name='assays', field_name='src_id', score=1)\n",
      "Hit(nid=1783483454, source_name='molecule_dictionary', field_name='prodrug', score=-1) - Hit(nid=1469816517, source_name='activities', field_name='standard_flag', score=1)\n",
      "Hit(nid=1783483454, source_name='molecule_dictionary', field_name='prodrug', score=-1) - Hit(nid=760549000, source_name='molecule_dictionary', field_name='first_in_class', score=1)\n",
      "Hit(nid=1783483454, source_name='molecule_dictionary', field_name='prodrug', score=-1) - Hit(nid=53008014, source_name='molecule_dictionary', field_name='availability_type', score=1)\n",
      "Hit(nid=1783483454, source_name='molecule_dictionary', field_name='prodrug', score=-1) - Hit(nid=1811291602, source_name='vertice', field_name='ontology_id', score=1)\n",
      "Hit(nid=1783483454, source_name='molecule_dictionary', field_name='prodrug', score=-1) - Hit(nid=2266873366, source_name='molecule_dictionary', field_name='natural_product', score=1)\n",
      "Hit(nid=1783483454, source_name='molecule_dictionary', field_name='prodrug', score=-1) - Hit(nid=1369694679, source_name='drug_mechanism', field_name='disease_efficacy', score=1)\n",
      "Hit(nid=1783483454, source_name='molecule_dictionary', field_name='prodrug', score=-1) - Hit(nid=1055049624, source_name='molecule_dictionary', field_name='chirality', score=1)\n",
      "Hit(nid=1783483454, source_name='molecule_dictionary', field_name='prodrug', score=-1) - Hit(nid=1796642281, source_name='drug_mechanism', field_name='direct_interaction', score=1)\n",
      "Hit(nid=1783483454, source_name='molecule_dictionary', field_name='prodrug', score=-1) - Hit(nid=1699088556, source_name='ontology', field_name='id', score=1)\n",
      "Hit(nid=1783483454, source_name='molecule_dictionary', field_name='prodrug', score=-1) - Hit(nid=2866335884, source_name='metabolism', field_name='pathway_id', score=1)\n",
      "Hit(nid=1783483454, source_name='molecule_dictionary', field_name='prodrug', score=-1) - Hit(nid=3812389298, source_name='assays', field_name='confidence_score', score=1)\n",
      "Hit(nid=1783483454, source_name='molecule_dictionary', field_name='prodrug', score=-1) - Hit(nid=1927220725, source_name='drug_mechanism', field_name='molecular_mechanism', score=1)\n",
      "Hit(nid=590474764, source_name='activities', field_name='potential_duplicate', score=-1) - Hit(nid=3875015943, source_name='molecule_dictionary', field_name='parenteral', score=1)\n",
      "Hit(nid=590474764, source_name='activities', field_name='potential_duplicate', score=-1) - Hit(nid=3462832330, source_name='products', field_name='topical', score=1)\n",
      "Hit(nid=590474764, source_name='activities', field_name='potential_duplicate', score=-1) - Hit(nid=3598592652, source_name='molecule_dictionary', field_name='therapeutic_flag', score=1)\n",
      "Hit(nid=590474764, source_name='activities', field_name='potential_duplicate', score=-1) - Hit(nid=2263031501, source_name='molecule_dictionary', field_name='dosed_ingredient', score=1)\n",
      "Hit(nid=590474764, source_name='activities', field_name='potential_duplicate', score=-1) - Hit(nid=2896224210, source_name='compound_properties', field_name='num_lipinski_ro5_violations', score=1)\n",
      "Hit(nid=590474764, source_name='activities', field_name='potential_duplicate', score=-1) - Hit(nid=422040366, source_name='product_patents', field_name='delist_flag', score=1)\n",
      "Hit(nid=590474764, source_name='activities', field_name='potential_duplicate', score=-1) - Hit(nid=87092696, source_name='products', field_name='innovator_company', score=1)\n",
      "Hit(nid=590474764, source_name='activities', field_name='potential_duplicate', score=-1) - Hit(nid=340079846, source_name='molecule_dictionary', field_name='max_phase', score=1)\n",
      "Hit(nid=590474764, source_name='activities', field_name='potential_duplicate', score=-1) - Hit(nid=721562402, source_name='products', field_name='parenteral', score=1)\n",
      "Hit(nid=590474764, source_name='activities', field_name='potential_duplicate', score=-1) - Hit(nid=3038966756, source_name='ligand_eff', field_name='le', score=1)\n",
      "Hit(nid=590474764, source_name='activities', field_name='potential_duplicate', score=-1) - Hit(nid=1039725926, source_name='product_patents', field_name='drug_substance_flag', score=1)\n",
      "Hit(nid=590474764, source_name='activities', field_name='potential_duplicate', score=-1) - Hit(nid=1360736775, source_name='molecule_dictionary', field_name='black_box_warning', score=1)\n",
      "Hit(nid=590474764, source_name='activities', field_name='potential_duplicate', score=-1) - Hit(nid=134841193, source_name='target_components', field_name='homologue', score=1)\n",
      "Hit(nid=590474764, source_name='activities', field_name='potential_duplicate', score=-1) - Hit(nid=1326493156, source_name='molecule_dictionary', field_name='oral', score=1)\n",
      "Hit(nid=590474764, source_name='activities', field_name='potential_duplicate', score=-1) - Hit(nid=193981166, source_name='molecule_dictionary', field_name='polymer_flag', score=1)\n",
      "Hit(nid=590474764, source_name='activities', field_name='potential_duplicate', score=-1) - Hit(nid=3460856691, source_name='usan_stems', field_name='who_extra', score=1)\n",
      "Hit(nid=590474764, source_name='activities', field_name='potential_duplicate', score=-1) - Hit(nid=838023372, source_name='compound_properties', field_name='qed_weighted', score=1)\n",
      "Hit(nid=590474764, source_name='activities', field_name='potential_duplicate', score=-1) - Hit(nid=1216406969, source_name='target_dictionary', field_name='species_group_flag', score=1)\n",
      "Hit(nid=590474764, source_name='activities', field_name='potential_duplicate', score=-1) - Hit(nid=2500388476, source_name='molecule_dictionary', field_name='topical', score=1)\n",
      "Hit(nid=3038966756, source_name='ligand_eff', field_name='le', score=-1) - Hit(nid=3875015943, source_name='molecule_dictionary', field_name='parenteral', score=1)\n",
      "Hit(nid=3038966756, source_name='ligand_eff', field_name='le', score=-1) - Hit(nid=3598592652, source_name='molecule_dictionary', field_name='therapeutic_flag', score=1)\n",
      "Hit(nid=3038966756, source_name='ligand_eff', field_name='le', score=-1) - Hit(nid=3462832330, source_name='products', field_name='topical', score=1)\n",
      "Hit(nid=3038966756, source_name='ligand_eff', field_name='le', score=-1) - Hit(nid=590474764, source_name='activities', field_name='potential_duplicate', score=1)\n",
      "Hit(nid=3038966756, source_name='ligand_eff', field_name='le', score=-1) - Hit(nid=2263031501, source_name='molecule_dictionary', field_name='dosed_ingredient', score=1)\n",
      "Hit(nid=3038966756, source_name='ligand_eff', field_name='le', score=-1) - Hit(nid=2896224210, source_name='compound_properties', field_name='num_lipinski_ro5_violations', score=1)\n",
      "Hit(nid=3038966756, source_name='ligand_eff', field_name='le', score=-1) - Hit(nid=422040366, source_name='product_patents', field_name='delist_flag', score=1)\n",
      "Hit(nid=3038966756, source_name='ligand_eff', field_name='le', score=-1) - Hit(nid=87092696, source_name='products', field_name='innovator_company', score=1)\n",
      "Hit(nid=3038966756, source_name='ligand_eff', field_name='le', score=-1) - Hit(nid=1326493156, source_name='molecule_dictionary', field_name='oral', score=1)\n",
      "Hit(nid=3038966756, source_name='ligand_eff', field_name='le', score=-1) - Hit(nid=721562402, source_name='products', field_name='parenteral', score=1)\n",
      "Hit(nid=3038966756, source_name='ligand_eff', field_name='le', score=-1) - Hit(nid=1039725926, source_name='product_patents', field_name='drug_substance_flag', score=1)\n",
      "Hit(nid=3038966756, source_name='ligand_eff', field_name='le', score=-1) - Hit(nid=340079846, source_name='molecule_dictionary', field_name='max_phase', score=1)\n",
      "Hit(nid=3038966756, source_name='ligand_eff', field_name='le', score=-1) - Hit(nid=1360736775, source_name='molecule_dictionary', field_name='black_box_warning', score=1)\n",
      "Hit(nid=3038966756, source_name='ligand_eff', field_name='le', score=-1) - Hit(nid=193981166, source_name='molecule_dictionary', field_name='polymer_flag', score=1)\n",
      "Hit(nid=3038966756, source_name='ligand_eff', field_name='le', score=-1) - Hit(nid=3460856691, source_name='usan_stems', field_name='who_extra', score=1)\n",
      "Hit(nid=3038966756, source_name='ligand_eff', field_name='le', score=-1) - Hit(nid=838023372, source_name='compound_properties', field_name='qed_weighted', score=1)\n",
      "Hit(nid=3038966756, source_name='ligand_eff', field_name='le', score=-1) - Hit(nid=134841193, source_name='target_components', field_name='homologue', score=1)\n",
      "Hit(nid=3038966756, source_name='ligand_eff', field_name='le', score=-1) - Hit(nid=1216406969, source_name='target_dictionary', field_name='species_group_flag', score=1)\n",
      "Hit(nid=3038966756, source_name='ligand_eff', field_name='le', score=-1) - Hit(nid=2500388476, source_name='molecule_dictionary', field_name='topical', score=1)\n",
      "Hit(nid=2105574822, source_name='target_type', field_name='target_type', score=-1) - Hit(nid=2097556775, source_name='confidence_score_lookup', field_name='target_mapping', score=2.2204460492503131e-16)\n",
      "Hit(nid=2105574822, source_name='target_type', field_name='target_type', score=-1) - Hit(nid=197170041, source_name='bio_component_sequences', field_name='component_type', score=2.2204460492503131e-16)\n",
      "Hit(nid=1901999977, source_name='research_companies', field_name='res_stem_id', score=-1) - Hit(nid=1008445607, source_name='research_stem', field_name='res_stem_id', score=1)\n",
      "Hit(nid=1901999977, source_name='research_companies', field_name='res_stem_id', score=-1) - Hit(nid=1279896639, source_name='usan_stems', field_name='usan_stem_id', score=1)\n",
      "Hit(nid=1320796556, source_name='assays', field_name='relationship_type', score=-1) - Hit(nid=1035897536, source_name='patent_use_codes', field_name='patent_use_code', score=1.0)\n",
      "Hit(nid=1320796556, source_name='assays', field_name='relationship_type', score=-1) - Hit(nid=1270539146, source_name='names', field_name='adapted', score=1.0)\n",
      "Hit(nid=1320796556, source_name='assays', field_name='relationship_type', score=-1) - Hit(nid=2948285653, source_name='irac_classification', field_name='level1', score=1.0)\n",
      "Hit(nid=1320796556, source_name='assays', field_name='relationship_type', score=-1) - Hit(nid=1652972574, source_name='relation', field_name='status', score=1.0)\n",
      "Hit(nid=1320796556, source_name='assays', field_name='relationship_type', score=-1) - Hit(nid=2763920102, source_name='products', field_name='nda_type', score=1.0)\n",
      "Hit(nid=1320796556, source_name='assays', field_name='relationship_type', score=-1) - Hit(nid=927136298, source_name='compounds', field_name='status', score=1.0)\n",
      "Hit(nid=1320796556, source_name='assays', field_name='relationship_type', score=-1) - Hit(nid=513959026, source_name='compound_properties', field_name='ro3_pass', score=1.0)\n",
      "Hit(nid=1320796556, source_name='assays', field_name='relationship_type', score=-1) - Hit(nid=874131486, source_name='assays', field_name='assay_type', score=1.0)\n",
      "Hit(nid=1320796556, source_name='assays', field_name='relationship_type', score=-1) - Hit(nid=3659419128, source_name='atc_classification', field_name='level1', score=1.0)\n",
      "Hit(nid=1320796556, source_name='assays', field_name='relationship_type', score=-1) - Hit(nid=928927733, source_name='go_classification', field_name='aspect', score=1.0)\n",
      "Hit(nid=1335406103, source_name='bio_component_sequences', field_name='tax_id', score=-1) - Hit(nid=879915456, source_name='cell_dictionary', field_name='cell_source_tax_id', score=1)\n",
      "Hit(nid=1335406103, source_name='bio_component_sequences', field_name='tax_id', score=-1) - Hit(nid=2049260835, source_name='metabolism', field_name='tax_id', score=1)\n",
      "Hit(nid=2866335884, source_name='metabolism', field_name='pathway_id', score=-1) - Hit(nid=2728516608, source_name='molecule_dictionary', field_name='inorganic_flag', score=1)\n",
      "Hit(nid=2866335884, source_name='metabolism', field_name='pathway_id', score=-1) - Hit(nid=690794884, source_name='assays', field_name='src_id', score=1)\n",
      "Hit(nid=2866335884, source_name='metabolism', field_name='pathway_id', score=-1) - Hit(nid=1469816517, source_name='activities', field_name='standard_flag', score=1)\n",
      "Hit(nid=2866335884, source_name='metabolism', field_name='pathway_id', score=-1) - Hit(nid=53008014, source_name='molecule_dictionary', field_name='availability_type', score=1)\n",
      "Hit(nid=2866335884, source_name='metabolism', field_name='pathway_id', score=-1) - Hit(nid=1811291602, source_name='vertice', field_name='ontology_id', score=1)\n",
      "Hit(nid=2866335884, source_name='metabolism', field_name='pathway_id', score=-1) - Hit(nid=2266873366, source_name='molecule_dictionary', field_name='natural_product', score=1)\n",
      "Hit(nid=2866335884, source_name='metabolism', field_name='pathway_id', score=-1) - Hit(nid=1369694679, source_name='drug_mechanism', field_name='disease_efficacy', score=1)\n",
      "Hit(nid=2866335884, source_name='metabolism', field_name='pathway_id', score=-1) - Hit(nid=1055049624, source_name='molecule_dictionary', field_name='chirality', score=1)\n",
      "Hit(nid=2866335884, source_name='metabolism', field_name='pathway_id', score=-1) - Hit(nid=1796642281, source_name='drug_mechanism', field_name='direct_interaction', score=1)\n",
      "Hit(nid=2866335884, source_name='metabolism', field_name='pathway_id', score=-1) - Hit(nid=1699088556, source_name='ontology', field_name='id', score=1)\n",
      "Hit(nid=2866335884, source_name='metabolism', field_name='pathway_id', score=-1) - Hit(nid=760549000, source_name='molecule_dictionary', field_name='first_in_class', score=1)\n",
      "Hit(nid=2866335884, source_name='metabolism', field_name='pathway_id', score=-1) - Hit(nid=3812389298, source_name='assays', field_name='confidence_score', score=1)\n",
      "Hit(nid=2866335884, source_name='metabolism', field_name='pathway_id', score=-1) - Hit(nid=1927220725, source_name='drug_mechanism', field_name='molecular_mechanism', score=1)\n",
      "Hit(nid=2866335884, source_name='metabolism', field_name='pathway_id', score=-1) - Hit(nid=1783483454, source_name='molecule_dictionary', field_name='prodrug', score=1)\n",
      "Hit(nid=1469816517, source_name='activities', field_name='standard_flag', score=-1) - Hit(nid=2728516608, source_name='molecule_dictionary', field_name='inorganic_flag', score=1)\n",
      "Hit(nid=1469816517, source_name='activities', field_name='standard_flag', score=-1) - Hit(nid=690794884, source_name='assays', field_name='src_id', score=1)\n",
      "Hit(nid=1469816517, source_name='activities', field_name='standard_flag', score=-1) - Hit(nid=760549000, source_name='molecule_dictionary', field_name='first_in_class', score=1)\n",
      "Hit(nid=1469816517, source_name='activities', field_name='standard_flag', score=-1) - Hit(nid=2866335884, source_name='metabolism', field_name='pathway_id', score=1)\n",
      "Hit(nid=1469816517, source_name='activities', field_name='standard_flag', score=-1) - Hit(nid=53008014, source_name='molecule_dictionary', field_name='availability_type', score=1)\n",
      "Hit(nid=1469816517, source_name='activities', field_name='standard_flag', score=-1) - Hit(nid=1811291602, source_name='vertice', field_name='ontology_id', score=1)\n",
      "Hit(nid=1469816517, source_name='activities', field_name='standard_flag', score=-1) - Hit(nid=2266873366, source_name='molecule_dictionary', field_name='natural_product', score=1)\n",
      "Hit(nid=1469816517, source_name='activities', field_name='standard_flag', score=-1) - Hit(nid=1055049624, source_name='molecule_dictionary', field_name='chirality', score=1)\n",
      "Hit(nid=1469816517, source_name='activities', field_name='standard_flag', score=-1) - Hit(nid=1796642281, source_name='drug_mechanism', field_name='direct_interaction', score=1)\n",
      "Hit(nid=1469816517, source_name='activities', field_name='standard_flag', score=-1) - Hit(nid=1699088556, source_name='ontology', field_name='id', score=1)\n",
      "Hit(nid=1469816517, source_name='activities', field_name='standard_flag', score=-1) - Hit(nid=3812389298, source_name='assays', field_name='confidence_score', score=1)\n",
      "Hit(nid=1469816517, source_name='activities', field_name='standard_flag', score=-1) - Hit(nid=1927220725, source_name='drug_mechanism', field_name='molecular_mechanism', score=1)\n",
      "Hit(nid=1469816517, source_name='activities', field_name='standard_flag', score=-1) - Hit(nid=1369694679, source_name='drug_mechanism', field_name='disease_efficacy', score=1)\n",
      "Hit(nid=1469816517, source_name='activities', field_name='standard_flag', score=-1) - Hit(nid=1783483454, source_name='molecule_dictionary', field_name='prodrug', score=1)\n",
      "Hit(nid=340079846, source_name='molecule_dictionary', field_name='max_phase', score=-1) - Hit(nid=193981166, source_name='molecule_dictionary', field_name='polymer_flag', score=1)\n",
      "Hit(nid=340079846, source_name='molecule_dictionary', field_name='max_phase', score=-1) - Hit(nid=3875015943, source_name='molecule_dictionary', field_name='parenteral', score=1)\n",
      "Hit(nid=340079846, source_name='molecule_dictionary', field_name='max_phase', score=-1) - Hit(nid=3598592652, source_name='molecule_dictionary', field_name='therapeutic_flag', score=1)\n",
      "Hit(nid=340079846, source_name='molecule_dictionary', field_name='max_phase', score=-1) - Hit(nid=3462832330, source_name='products', field_name='topical', score=1)\n",
      "Hit(nid=340079846, source_name='molecule_dictionary', field_name='max_phase', score=-1) - Hit(nid=590474764, source_name='activities', field_name='potential_duplicate', score=1)\n",
      "Hit(nid=340079846, source_name='molecule_dictionary', field_name='max_phase', score=-1) - Hit(nid=2263031501, source_name='molecule_dictionary', field_name='dosed_ingredient', score=1)\n",
      "Hit(nid=340079846, source_name='molecule_dictionary', field_name='max_phase', score=-1) - Hit(nid=87092696, source_name='products', field_name='innovator_company', score=1)\n",
      "Hit(nid=340079846, source_name='molecule_dictionary', field_name='max_phase', score=-1) - Hit(nid=2896224210, source_name='compound_properties', field_name='num_lipinski_ro5_violations', score=1)\n",
      "Hit(nid=340079846, source_name='molecule_dictionary', field_name='max_phase', score=-1) - Hit(nid=1326493156, source_name='molecule_dictionary', field_name='oral', score=1)\n",
      "Hit(nid=340079846, source_name='molecule_dictionary', field_name='max_phase', score=-1) - Hit(nid=721562402, source_name='products', field_name='parenteral', score=1)\n",
      "Hit(nid=340079846, source_name='molecule_dictionary', field_name='max_phase', score=-1) - Hit(nid=3038966756, source_name='ligand_eff', field_name='le', score=1)\n",
      "Hit(nid=340079846, source_name='molecule_dictionary', field_name='max_phase', score=-1) - Hit(nid=1039725926, source_name='product_patents', field_name='drug_substance_flag', score=1)\n",
      "Hit(nid=340079846, source_name='molecule_dictionary', field_name='max_phase', score=-1) - Hit(nid=1360736775, source_name='molecule_dictionary', field_name='black_box_warning', score=1)\n",
      "Hit(nid=340079846, source_name='molecule_dictionary', field_name='max_phase', score=-1) - Hit(nid=134841193, source_name='target_components', field_name='homologue', score=1)\n",
      "Hit(nid=340079846, source_name='molecule_dictionary', field_name='max_phase', score=-1) - Hit(nid=422040366, source_name='product_patents', field_name='delist_flag', score=1)\n",
      "Hit(nid=340079846, source_name='molecule_dictionary', field_name='max_phase', score=-1) - Hit(nid=3460856691, source_name='usan_stems', field_name='who_extra', score=1)\n",
      "Hit(nid=340079846, source_name='molecule_dictionary', field_name='max_phase', score=-1) - Hit(nid=838023372, source_name='compound_properties', field_name='qed_weighted', score=1)\n",
      "Hit(nid=340079846, source_name='molecule_dictionary', field_name='max_phase', score=-1) - Hit(nid=1216406969, source_name='target_dictionary', field_name='species_group_flag', score=1)\n",
      "Hit(nid=340079846, source_name='molecule_dictionary', field_name='max_phase', score=-1) - Hit(nid=2500388476, source_name='molecule_dictionary', field_name='topical', score=1)\n",
      "Hit(nid=1008445607, source_name='research_stem', field_name='res_stem_id', score=-1) - Hit(nid=1901999977, source_name='research_companies', field_name='res_stem_id', score=1)\n",
      "Hit(nid=1008445607, source_name='research_stem', field_name='res_stem_id', score=-1) - Hit(nid=1279896639, source_name='usan_stems', field_name='usan_stem_id', score=1)\n",
      "Hit(nid=3221333167, source_name='drugs_vw', field_name='name', score=-1) - Hit(nid=1665640832, source_name='drugs', field_name='name', score=0.0)\n",
      "Hit(nid=3462832330, source_name='products', field_name='topical', score=-1) - Hit(nid=3875015943, source_name='molecule_dictionary', field_name='parenteral', score=1)\n",
      "Hit(nid=3462832330, source_name='products', field_name='topical', score=-1) - Hit(nid=590474764, source_name='activities', field_name='potential_duplicate', score=1)\n",
      "Hit(nid=3462832330, source_name='products', field_name='topical', score=-1) - Hit(nid=3598592652, source_name='molecule_dictionary', field_name='therapeutic_flag', score=1)\n",
      "Hit(nid=3462832330, source_name='products', field_name='topical', score=-1) - Hit(nid=2263031501, source_name='molecule_dictionary', field_name='dosed_ingredient', score=1)\n",
      "Hit(nid=3462832330, source_name='products', field_name='topical', score=-1) - Hit(nid=422040366, source_name='product_patents', field_name='delist_flag', score=1)\n",
      "Hit(nid=3462832330, source_name='products', field_name='topical', score=-1) - Hit(nid=87092696, source_name='products', field_name='innovator_company', score=1)\n",
      "Hit(nid=3462832330, source_name='products', field_name='topical', score=-1) - Hit(nid=3038966756, source_name='ligand_eff', field_name='le', score=1)\n",
      "Hit(nid=3462832330, source_name='products', field_name='topical', score=-1) - Hit(nid=721562402, source_name='products', field_name='parenteral', score=1)\n",
      "Hit(nid=3462832330, source_name='products', field_name='topical', score=-1) - Hit(nid=1326493156, source_name='molecule_dictionary', field_name='oral', score=1)\n",
      "Hit(nid=3462832330, source_name='products', field_name='topical', score=-1) - Hit(nid=1039725926, source_name='product_patents', field_name='drug_substance_flag', score=1)\n",
      "Hit(nid=3462832330, source_name='products', field_name='topical', score=-1) - Hit(nid=134841193, source_name='target_components', field_name='homologue', score=1)\n",
      "Hit(nid=3462832330, source_name='products', field_name='topical', score=-1) - Hit(nid=1360736775, source_name='molecule_dictionary', field_name='black_box_warning', score=1)\n",
      "Hit(nid=3462832330, source_name='products', field_name='topical', score=-1) - Hit(nid=2896224210, source_name='compound_properties', field_name='num_lipinski_ro5_violations', score=1)\n",
      "Hit(nid=3462832330, source_name='products', field_name='topical', score=-1) - Hit(nid=193981166, source_name='molecule_dictionary', field_name='polymer_flag', score=1)\n",
      "Hit(nid=3462832330, source_name='products', field_name='topical', score=-1) - Hit(nid=3460856691, source_name='usan_stems', field_name='who_extra', score=1)\n",
      "Hit(nid=3462832330, source_name='products', field_name='topical', score=-1) - Hit(nid=838023372, source_name='compound_properties', field_name='qed_weighted', score=1)\n",
      "Hit(nid=3462832330, source_name='products', field_name='topical', score=-1) - Hit(nid=340079846, source_name='molecule_dictionary', field_name='max_phase', score=1)\n",
      "Hit(nid=3462832330, source_name='products', field_name='topical', score=-1) - Hit(nid=1216406969, source_name='target_dictionary', field_name='species_group_flag', score=1)\n",
      "Hit(nid=3462832330, source_name='products', field_name='topical', score=-1) - Hit(nid=2500388476, source_name='molecule_dictionary', field_name='topical', score=1)\n",
      "Hit(nid=2263031501, source_name='molecule_dictionary', field_name='dosed_ingredient', score=-1) - Hit(nid=193981166, source_name='molecule_dictionary', field_name='polymer_flag', score=1)\n",
      "Hit(nid=2263031501, source_name='molecule_dictionary', field_name='dosed_ingredient', score=-1) - Hit(nid=3875015943, source_name='molecule_dictionary', field_name='parenteral', score=1)\n",
      "Hit(nid=2263031501, source_name='molecule_dictionary', field_name='dosed_ingredient', score=-1) - Hit(nid=3598592652, source_name='molecule_dictionary', field_name='therapeutic_flag', score=1)\n",
      "Hit(nid=2263031501, source_name='molecule_dictionary', field_name='dosed_ingredient', score=-1) - Hit(nid=3462832330, source_name='products', field_name='topical', score=1)\n",
      "Hit(nid=2263031501, source_name='molecule_dictionary', field_name='dosed_ingredient', score=-1) - Hit(nid=590474764, source_name='activities', field_name='potential_duplicate', score=1)\n",
      "Hit(nid=2263031501, source_name='molecule_dictionary', field_name='dosed_ingredient', score=-1) - Hit(nid=87092696, source_name='products', field_name='innovator_company', score=1)\n",
      "Hit(nid=2263031501, source_name='molecule_dictionary', field_name='dosed_ingredient', score=-1) - Hit(nid=2896224210, source_name='compound_properties', field_name='num_lipinski_ro5_violations', score=1)\n",
      "Hit(nid=2263031501, source_name='molecule_dictionary', field_name='dosed_ingredient', score=-1) - Hit(nid=1326493156, source_name='molecule_dictionary', field_name='oral', score=1)\n",
      "Hit(nid=2263031501, source_name='molecule_dictionary', field_name='dosed_ingredient', score=-1) - Hit(nid=721562402, source_name='products', field_name='parenteral', score=1)\n",
      "Hit(nid=2263031501, source_name='molecule_dictionary', field_name='dosed_ingredient', score=-1) - Hit(nid=3038966756, source_name='ligand_eff', field_name='le', score=1)\n",
      "Hit(nid=2263031501, source_name='molecule_dictionary', field_name='dosed_ingredient', score=-1) - Hit(nid=340079846, source_name='molecule_dictionary', field_name='max_phase', score=1)\n",
      "Hit(nid=2263031501, source_name='molecule_dictionary', field_name='dosed_ingredient', score=-1) - Hit(nid=1039725926, source_name='product_patents', field_name='drug_substance_flag', score=1)\n",
      "Hit(nid=2263031501, source_name='molecule_dictionary', field_name='dosed_ingredient', score=-1) - Hit(nid=1360736775, source_name='molecule_dictionary', field_name='black_box_warning', score=1)\n",
      "Hit(nid=2263031501, source_name='molecule_dictionary', field_name='dosed_ingredient', score=-1) - Hit(nid=134841193, source_name='target_components', field_name='homologue', score=1)\n",
      "Hit(nid=2263031501, source_name='molecule_dictionary', field_name='dosed_ingredient', score=-1) - Hit(nid=422040366, source_name='product_patents', field_name='delist_flag', score=1)\n",
      "Hit(nid=2263031501, source_name='molecule_dictionary', field_name='dosed_ingredient', score=-1) - Hit(nid=3460856691, source_name='usan_stems', field_name='who_extra', score=1)\n",
      "Hit(nid=2263031501, source_name='molecule_dictionary', field_name='dosed_ingredient', score=-1) - Hit(nid=838023372, source_name='compound_properties', field_name='qed_weighted', score=1)\n",
      "Hit(nid=2263031501, source_name='molecule_dictionary', field_name='dosed_ingredient', score=-1) - Hit(nid=1216406969, source_name='target_dictionary', field_name='species_group_flag', score=1)\n",
      "Hit(nid=2263031501, source_name='molecule_dictionary', field_name='dosed_ingredient', score=-1) - Hit(nid=2500388476, source_name='molecule_dictionary', field_name='topical', score=1)\n",
      "Hit(nid=2948285653, source_name='irac_classification', field_name='level1', score=-1) - Hit(nid=1035897536, source_name='patent_use_codes', field_name='patent_use_code', score=1.0)\n",
      "Hit(nid=2948285653, source_name='irac_classification', field_name='level1', score=-1) - Hit(nid=1270539146, source_name='names', field_name='adapted', score=1.0)\n",
      "Hit(nid=2948285653, source_name='irac_classification', field_name='level1', score=-1) - Hit(nid=1320796556, source_name='assays', field_name='relationship_type', score=1.0)\n",
      "Hit(nid=2948285653, source_name='irac_classification', field_name='level1', score=-1) - Hit(nid=1652972574, source_name='relation', field_name='status', score=1.0)\n",
      "Hit(nid=2948285653, source_name='irac_classification', field_name='level1', score=-1) - Hit(nid=2763920102, source_name='products', field_name='nda_type', score=1.0)\n",
      "Hit(nid=2948285653, source_name='irac_classification', field_name='level1', score=-1) - Hit(nid=927136298, source_name='compounds', field_name='status', score=1.0)\n",
      "Hit(nid=2948285653, source_name='irac_classification', field_name='level1', score=-1) - Hit(nid=513959026, source_name='compound_properties', field_name='ro3_pass', score=1.0)\n",
      "Hit(nid=2948285653, source_name='irac_classification', field_name='level1', score=-1) - Hit(nid=928927733, source_name='go_classification', field_name='aspect', score=1.0)\n",
      "Hit(nid=2948285653, source_name='irac_classification', field_name='level1', score=-1) - Hit(nid=3659419128, source_name='atc_classification', field_name='level1', score=1.0)\n",
      "Hit(nid=2948285653, source_name='irac_classification', field_name='level1', score=-1) - Hit(nid=874131486, source_name='assays', field_name='assay_type', score=1.0)\n",
      "Hit(nid=2860489946, source_name='go_classification', field_name='class_level', score=-1) - Hit(nid=2274465598, source_name='compound_properties', field_name='acd_logd', score=1)\n",
      "Hit(nid=170972379, source_name='hrac_classification', field_name='level1', score=-1) - Hit(nid=451258635, source_name='hrac_classification', field_name='hrac_code', score=0.0)\n",
      "Hit(nid=602471671, source_name='compound_properties', field_name='rtb', score=-1) - Hit(nid=1462109142, source_name='structural_alert_sets', field_name='priority', score=1)\n",
      "Hit(nid=602471671, source_name='compound_properties', field_name='rtb', score=-1) - Hit(nid=4076221368, source_name='structural_alert_sets', field_name='alert_set_id', score=1)\n",
      "Hit(nid=3875015943, source_name='molecule_dictionary', field_name='parenteral', score=-1) - Hit(nid=193981166, source_name='molecule_dictionary', field_name='polymer_flag', score=1)\n",
      "Hit(nid=3875015943, source_name='molecule_dictionary', field_name='parenteral', score=-1) - Hit(nid=3598592652, source_name='molecule_dictionary', field_name='therapeutic_flag', score=1)\n",
      "Hit(nid=3875015943, source_name='molecule_dictionary', field_name='parenteral', score=-1) - Hit(nid=3462832330, source_name='products', field_name='topical', score=1)\n",
      "Hit(nid=3875015943, source_name='molecule_dictionary', field_name='parenteral', score=-1) - Hit(nid=590474764, source_name='activities', field_name='potential_duplicate', score=1)\n",
      "Hit(nid=3875015943, source_name='molecule_dictionary', field_name='parenteral', score=-1) - Hit(nid=2263031501, source_name='molecule_dictionary', field_name='dosed_ingredient', score=1)\n",
      "Hit(nid=3875015943, source_name='molecule_dictionary', field_name='parenteral', score=-1) - Hit(nid=87092696, source_name='products', field_name='innovator_company', score=1)\n",
      "Hit(nid=3875015943, source_name='molecule_dictionary', field_name='parenteral', score=-1) - Hit(nid=2896224210, source_name='compound_properties', field_name='num_lipinski_ro5_violations', score=1)\n",
      "Hit(nid=3875015943, source_name='molecule_dictionary', field_name='parenteral', score=-1) - Hit(nid=1326493156, source_name='molecule_dictionary', field_name='oral', score=1)\n",
      "Hit(nid=3875015943, source_name='molecule_dictionary', field_name='parenteral', score=-1) - Hit(nid=721562402, source_name='products', field_name='parenteral', score=1)\n",
      "Hit(nid=3875015943, source_name='molecule_dictionary', field_name='parenteral', score=-1) - Hit(nid=3038966756, source_name='ligand_eff', field_name='le', score=1)\n",
      "Hit(nid=3875015943, source_name='molecule_dictionary', field_name='parenteral', score=-1) - Hit(nid=340079846, source_name='molecule_dictionary', field_name='max_phase', score=1)\n",
      "Hit(nid=3875015943, source_name='molecule_dictionary', field_name='parenteral', score=-1) - Hit(nid=1039725926, source_name='product_patents', field_name='drug_substance_flag', score=1)\n",
      "Hit(nid=3875015943, source_name='molecule_dictionary', field_name='parenteral', score=-1) - Hit(nid=1360736775, source_name='molecule_dictionary', field_name='black_box_warning', score=1)\n",
      "Hit(nid=3875015943, source_name='molecule_dictionary', field_name='parenteral', score=-1) - Hit(nid=134841193, source_name='target_components', field_name='homologue', score=1)\n",
      "Hit(nid=3875015943, source_name='molecule_dictionary', field_name='parenteral', score=-1) - Hit(nid=422040366, source_name='product_patents', field_name='delist_flag', score=1)\n",
      "Hit(nid=3875015943, source_name='molecule_dictionary', field_name='parenteral', score=-1) - Hit(nid=3460856691, source_name='usan_stems', field_name='who_extra', score=1)\n",
      "Hit(nid=3875015943, source_name='molecule_dictionary', field_name='parenteral', score=-1) - Hit(nid=838023372, source_name='compound_properties', field_name='qed_weighted', score=1)\n",
      "Hit(nid=3875015943, source_name='molecule_dictionary', field_name='parenteral', score=-1) - Hit(nid=1216406969, source_name='target_dictionary', field_name='species_group_flag', score=1)\n",
      "Hit(nid=3875015943, source_name='molecule_dictionary', field_name='parenteral', score=-1) - Hit(nid=2500388476, source_name='molecule_dictionary', field_name='topical', score=1)\n",
      "Hit(nid=874131486, source_name='assays', field_name='assay_type', score=-1) - Hit(nid=1035897536, source_name='patent_use_codes', field_name='patent_use_code', score=1.0)\n",
      "Hit(nid=874131486, source_name='assays', field_name='assay_type', score=-1) - Hit(nid=1270539146, source_name='names', field_name='adapted', score=1.0)\n",
      "Hit(nid=874131486, source_name='assays', field_name='assay_type', score=-1) - Hit(nid=1320796556, source_name='assays', field_name='relationship_type', score=1.0)\n",
      "Hit(nid=874131486, source_name='assays', field_name='assay_type', score=-1) - Hit(nid=2948285653, source_name='irac_classification', field_name='level1', score=1.0)\n",
      "Hit(nid=874131486, source_name='assays', field_name='assay_type', score=-1) - Hit(nid=1652972574, source_name='relation', field_name='status', score=1.0)\n",
      "Hit(nid=874131486, source_name='assays', field_name='assay_type', score=-1) - Hit(nid=2763920102, source_name='products', field_name='nda_type', score=1.0)\n",
      "Hit(nid=874131486, source_name='assays', field_name='assay_type', score=-1) - Hit(nid=927136298, source_name='compounds', field_name='status', score=1.0)\n",
      "Hit(nid=874131486, source_name='assays', field_name='assay_type', score=-1) - Hit(nid=513959026, source_name='compound_properties', field_name='ro3_pass', score=1.0)\n",
      "Hit(nid=874131486, source_name='assays', field_name='assay_type', score=-1) - Hit(nid=3659419128, source_name='atc_classification', field_name='level1', score=1.0)\n",
      "Hit(nid=874131486, source_name='assays', field_name='assay_type', score=-1) - Hit(nid=928927733, source_name='go_classification', field_name='aspect', score=1.0)\n",
      "Hit(nid=451258635, source_name='hrac_classification', field_name='hrac_code', score=-1) - Hit(nid=170972379, source_name='hrac_classification', field_name='level1', score=0.0)\n",
      "Hit(nid=226576660, source_name='target_dictionary', field_name='tax_id', score=-1) - Hit(nid=1912079117, source_name='component_sequences', field_name='tax_id', score=1)\n",
      "Hit(nid=2045017365, source_name='drug_indication', field_name='max_phase_for_ind', score=-1) - Hit(nid=1856206199, source_name='compound_properties', field_name='alogp', score=1)\n",
      "Hit(nid=690794884, source_name='assays', field_name='src_id', score=-1) - Hit(nid=2728516608, source_name='molecule_dictionary', field_name='inorganic_flag', score=1)\n",
      "Hit(nid=690794884, source_name='assays', field_name='src_id', score=-1) - Hit(nid=1469816517, source_name='activities', field_name='standard_flag', score=1)\n",
      "Hit(nid=690794884, source_name='assays', field_name='src_id', score=-1) - Hit(nid=2866335884, source_name='metabolism', field_name='pathway_id', score=1)\n",
      "Hit(nid=690794884, source_name='assays', field_name='src_id', score=-1) - Hit(nid=53008014, source_name='molecule_dictionary', field_name='availability_type', score=1)\n",
      "Hit(nid=690794884, source_name='assays', field_name='src_id', score=-1) - Hit(nid=1055049624, source_name='molecule_dictionary', field_name='chirality', score=1)\n",
      "Hit(nid=690794884, source_name='assays', field_name='src_id', score=-1) - Hit(nid=1811291602, source_name='vertice', field_name='ontology_id', score=1)\n",
      "Hit(nid=690794884, source_name='assays', field_name='src_id', score=-1) - Hit(nid=2266873366, source_name='molecule_dictionary', field_name='natural_product', score=1)\n",
      "Hit(nid=690794884, source_name='assays', field_name='src_id', score=-1) - Hit(nid=1369694679, source_name='drug_mechanism', field_name='disease_efficacy', score=1)\n",
      "Hit(nid=690794884, source_name='assays', field_name='src_id', score=-1) - Hit(nid=1699088556, source_name='ontology', field_name='id', score=1)\n",
      "Hit(nid=690794884, source_name='assays', field_name='src_id', score=-1) - Hit(nid=760549000, source_name='molecule_dictionary', field_name='first_in_class', score=1)\n",
      "Hit(nid=690794884, source_name='assays', field_name='src_id', score=-1) - Hit(nid=3812389298, source_name='assays', field_name='confidence_score', score=1)\n",
      "Hit(nid=690794884, source_name='assays', field_name='src_id', score=-1) - Hit(nid=1927220725, source_name='drug_mechanism', field_name='molecular_mechanism', score=1)\n",
      "Hit(nid=690794884, source_name='assays', field_name='src_id', score=-1) - Hit(nid=1796642281, source_name='drug_mechanism', field_name='direct_interaction', score=1)\n",
      "Hit(nid=690794884, source_name='assays', field_name='src_id', score=-1) - Hit(nid=1783483454, source_name='molecule_dictionary', field_name='prodrug', score=1)\n",
      "Hit(nid=2049260835, source_name='metabolism', field_name='tax_id', score=-1) - Hit(nid=879915456, source_name='cell_dictionary', field_name='cell_source_tax_id', score=1)\n",
      "Hit(nid=2049260835, source_name='metabolism', field_name='tax_id', score=-1) - Hit(nid=1335406103, source_name='bio_component_sequences', field_name='tax_id', score=1)\n",
      "Hit(nid=2097556775, source_name='confidence_score_lookup', field_name='target_mapping', score=-1) - Hit(nid=2105574822, source_name='target_type', field_name='target_type', score=2.2204460492503131e-16)\n",
      "Hit(nid=2097556775, source_name='confidence_score_lookup', field_name='target_mapping', score=-1) - Hit(nid=197170041, source_name='bio_component_sequences', field_name='component_type', score=2.2204460492503131e-16)\n",
      "Hit(nid=30889257, source_name='drugs_vw', field_name='atc_codes', score=-1) - Hit(nid=23653859, source_name='atc_drugs', field_name='atc_code', score=0.0)\n",
      "Hit(nid=1564802100, source_name='target_relations', field_name='related_tid', score=-1) - Hit(nid=3484424600, source_name='target_relations', field_name='tid', score=1)\n",
      "Hit(nid=1270539146, source_name='names', field_name='adapted', score=-1) - Hit(nid=1035897536, source_name='patent_use_codes', field_name='patent_use_code', score=1.0)\n",
      "Hit(nid=1270539146, source_name='names', field_name='adapted', score=-1) - Hit(nid=2948285653, source_name='irac_classification', field_name='level1', score=1.0)\n",
      "Hit(nid=1270539146, source_name='names', field_name='adapted', score=-1) - Hit(nid=2763920102, source_name='products', field_name='nda_type', score=1.0)\n",
      "Hit(nid=1270539146, source_name='names', field_name='adapted', score=-1) - Hit(nid=1320796556, source_name='assays', field_name='relationship_type', score=1.0)\n",
      "Hit(nid=1270539146, source_name='names', field_name='adapted', score=-1) - Hit(nid=927136298, source_name='compounds', field_name='status', score=1.0)\n",
      "Hit(nid=1270539146, source_name='names', field_name='adapted', score=-1) - Hit(nid=513959026, source_name='compound_properties', field_name='ro3_pass', score=1.0)\n",
      "Hit(nid=1270539146, source_name='names', field_name='adapted', score=-1) - Hit(nid=928927733, source_name='go_classification', field_name='aspect', score=1.0)\n",
      "Hit(nid=1270539146, source_name='names', field_name='adapted', score=-1) - Hit(nid=3659419128, source_name='atc_classification', field_name='level1', score=1.0)\n",
      "Hit(nid=1270539146, source_name='names', field_name='adapted', score=-1) - Hit(nid=1652972574, source_name='relation', field_name='status', score=1.0)\n",
      "Hit(nid=1270539146, source_name='names', field_name='adapted', score=-1) - Hit(nid=874131486, source_name='assays', field_name='assay_type', score=1.0)\n",
      "Hit(nid=3349334707, source_name='compound_properties', field_name='hbd', score=-1) - Hit(nid=2756645702, source_name='products', field_name='oral', score=1)\n",
      "Hit(nid=3349334707, source_name='compound_properties', field_name='hbd', score=-1) - Hit(nid=888621171, source_name='compound_properties', field_name='hbd_lipinski', score=1)\n",
      "Hit(nid=1039725926, source_name='product_patents', field_name='drug_substance_flag', score=-1) - Hit(nid=3875015943, source_name='molecule_dictionary', field_name='parenteral', score=1)\n",
      "Hit(nid=1039725926, source_name='product_patents', field_name='drug_substance_flag', score=-1) - Hit(nid=590474764, source_name='activities', field_name='potential_duplicate', score=1)\n",
      "Hit(nid=1039725926, source_name='product_patents', field_name='drug_substance_flag', score=-1) - Hit(nid=3462832330, source_name='products', field_name='topical', score=1)\n",
      "Hit(nid=1039725926, source_name='product_patents', field_name='drug_substance_flag', score=-1) - Hit(nid=3598592652, source_name='molecule_dictionary', field_name='therapeutic_flag', score=1)\n",
      "Hit(nid=1039725926, source_name='product_patents', field_name='drug_substance_flag', score=-1) - Hit(nid=2263031501, source_name='molecule_dictionary', field_name='dosed_ingredient', score=1)\n",
      "Hit(nid=1039725926, source_name='product_patents', field_name='drug_substance_flag', score=-1) - Hit(nid=2896224210, source_name='compound_properties', field_name='num_lipinski_ro5_violations', score=1)\n",
      "Hit(nid=1039725926, source_name='product_patents', field_name='drug_substance_flag', score=-1) - Hit(nid=422040366, source_name='product_patents', field_name='delist_flag', score=1)\n",
      "Hit(nid=1039725926, source_name='product_patents', field_name='drug_substance_flag', score=-1) - Hit(nid=87092696, source_name='products', field_name='innovator_company', score=1)\n",
      "Hit(nid=1039725926, source_name='product_patents', field_name='drug_substance_flag', score=-1) - Hit(nid=3038966756, source_name='ligand_eff', field_name='le', score=1)\n",
      "Hit(nid=1039725926, source_name='product_patents', field_name='drug_substance_flag', score=-1) - Hit(nid=721562402, source_name='products', field_name='parenteral', score=1)\n",
      "Hit(nid=1039725926, source_name='product_patents', field_name='drug_substance_flag', score=-1) - Hit(nid=1326493156, source_name='molecule_dictionary', field_name='oral', score=1)\n",
      "Hit(nid=1039725926, source_name='product_patents', field_name='drug_substance_flag', score=-1) - Hit(nid=340079846, source_name='molecule_dictionary', field_name='max_phase', score=1)\n",
      "Hit(nid=1039725926, source_name='product_patents', field_name='drug_substance_flag', score=-1) - Hit(nid=134841193, source_name='target_components', field_name='homologue', score=1)\n",
      "Hit(nid=1039725926, source_name='product_patents', field_name='drug_substance_flag', score=-1) - Hit(nid=1360736775, source_name='molecule_dictionary', field_name='black_box_warning', score=1)\n",
      "Hit(nid=1039725926, source_name='product_patents', field_name='drug_substance_flag', score=-1) - Hit(nid=193981166, source_name='molecule_dictionary', field_name='polymer_flag', score=1)\n",
      "Hit(nid=1039725926, source_name='product_patents', field_name='drug_substance_flag', score=-1) - Hit(nid=3460856691, source_name='usan_stems', field_name='who_extra', score=1)\n",
      "Hit(nid=1039725926, source_name='product_patents', field_name='drug_substance_flag', score=-1) - Hit(nid=838023372, source_name='compound_properties', field_name='qed_weighted', score=1)\n",
      "Hit(nid=1039725926, source_name='product_patents', field_name='drug_substance_flag', score=-1) - Hit(nid=1216406969, source_name='target_dictionary', field_name='species_group_flag', score=1)\n",
      "Hit(nid=1039725926, source_name='product_patents', field_name='drug_substance_flag', score=-1) - Hit(nid=2500388476, source_name='molecule_dictionary', field_name='topical', score=1)\n",
      "Hit(nid=1279896639, source_name='usan_stems', field_name='usan_stem_id', score=-1) - Hit(nid=1008445607, source_name='research_stem', field_name='res_stem_id', score=1)\n",
      "Hit(nid=1279896639, source_name='usan_stems', field_name='usan_stem_id', score=-1) - Hit(nid=1901999977, source_name='research_companies', field_name='res_stem_id', score=1)\n",
      "Hit(nid=1665640832, source_name='drugs', field_name='name', score=-1) - Hit(nid=3221333167, source_name='drugs_vw', field_name='name', score=0.0)\n",
      "Hit(nid=3484424600, source_name='target_relations', field_name='tid', score=-1) - Hit(nid=1564802100, source_name='target_relations', field_name='related_tid', score=1)\n",
      "Hit(nid=462155175, source_name='drug_synonyms', field_name='synonym', score=-1) - Hit(nid=2389682909, source_name='drugs_vw', field_name='synonyms', score=0.0)\n",
      "Hit(nid=838023372, source_name='compound_properties', field_name='qed_weighted', score=-1) - Hit(nid=2500388476, source_name='molecule_dictionary', field_name='topical', score=1)\n",
      "Hit(nid=838023372, source_name='compound_properties', field_name='qed_weighted', score=-1) - Hit(nid=3598592652, source_name='molecule_dictionary', field_name='therapeutic_flag', score=1)\n",
      "Hit(nid=838023372, source_name='compound_properties', field_name='qed_weighted', score=-1) - Hit(nid=3875015943, source_name='molecule_dictionary', field_name='parenteral', score=1)\n",
      "Hit(nid=838023372, source_name='compound_properties', field_name='qed_weighted', score=-1) - Hit(nid=3462832330, source_name='products', field_name='topical', score=1)\n",
      "Hit(nid=838023372, source_name='compound_properties', field_name='qed_weighted', score=-1) - Hit(nid=2263031501, source_name='molecule_dictionary', field_name='dosed_ingredient', score=1)\n",
      "Hit(nid=838023372, source_name='compound_properties', field_name='qed_weighted', score=-1) - Hit(nid=2896224210, source_name='compound_properties', field_name='num_lipinski_ro5_violations', score=1)\n",
      "Hit(nid=838023372, source_name='compound_properties', field_name='qed_weighted', score=-1) - Hit(nid=193981166, source_name='molecule_dictionary', field_name='polymer_flag', score=1)\n",
      "Hit(nid=838023372, source_name='compound_properties', field_name='qed_weighted', score=-1) - Hit(nid=87092696, source_name='products', field_name='innovator_company', score=1)\n",
      "Hit(nid=838023372, source_name='compound_properties', field_name='qed_weighted', score=-1) - Hit(nid=340079846, source_name='molecule_dictionary', field_name='max_phase', score=1)\n",
      "Hit(nid=838023372, source_name='compound_properties', field_name='qed_weighted', score=-1) - Hit(nid=721562402, source_name='products', field_name='parenteral', score=1)\n",
      "Hit(nid=838023372, source_name='compound_properties', field_name='qed_weighted', score=-1) - Hit(nid=3038966756, source_name='ligand_eff', field_name='le', score=1)\n",
      "Hit(nid=838023372, source_name='compound_properties', field_name='qed_weighted', score=-1) - Hit(nid=1039725926, source_name='product_patents', field_name='drug_substance_flag', score=1)\n",
      "Hit(nid=838023372, source_name='compound_properties', field_name='qed_weighted', score=-1) - Hit(nid=134841193, source_name='target_components', field_name='homologue', score=1)\n",
      "Hit(nid=838023372, source_name='compound_properties', field_name='qed_weighted', score=-1) - Hit(nid=1360736775, source_name='molecule_dictionary', field_name='black_box_warning', score=1)\n",
      "Hit(nid=838023372, source_name='compound_properties', field_name='qed_weighted', score=-1) - Hit(nid=1326493156, source_name='molecule_dictionary', field_name='oral', score=1)\n",
      "Hit(nid=838023372, source_name='compound_properties', field_name='qed_weighted', score=-1) - Hit(nid=422040366, source_name='product_patents', field_name='delist_flag', score=1)\n",
      "Hit(nid=838023372, source_name='compound_properties', field_name='qed_weighted', score=-1) - Hit(nid=3460856691, source_name='usan_stems', field_name='who_extra', score=1)\n",
      "Hit(nid=838023372, source_name='compound_properties', field_name='qed_weighted', score=-1) - Hit(nid=1216406969, source_name='target_dictionary', field_name='species_group_flag', score=1)\n",
      "Hit(nid=838023372, source_name='compound_properties', field_name='qed_weighted', score=-1) - Hit(nid=590474764, source_name='activities', field_name='potential_duplicate', score=1)\n",
      "Hit(nid=1216406969, source_name='target_dictionary', field_name='species_group_flag', score=-1) - Hit(nid=193981166, source_name='molecule_dictionary', field_name='polymer_flag', score=1)\n",
      "Hit(nid=1216406969, source_name='target_dictionary', field_name='species_group_flag', score=-1) - Hit(nid=1360736775, source_name='molecule_dictionary', field_name='black_box_warning', score=1)\n",
      "Hit(nid=1216406969, source_name='target_dictionary', field_name='species_group_flag', score=-1) - Hit(nid=3598592652, source_name='molecule_dictionary', field_name='therapeutic_flag', score=1)\n",
      "Hit(nid=1216406969, source_name='target_dictionary', field_name='species_group_flag', score=-1) - Hit(nid=3462832330, source_name='products', field_name='topical', score=1)\n",
      "Hit(nid=1216406969, source_name='target_dictionary', field_name='species_group_flag', score=-1) - Hit(nid=2263031501, source_name='molecule_dictionary', field_name='dosed_ingredient', score=1)\n",
      "Hit(nid=1216406969, source_name='target_dictionary', field_name='species_group_flag', score=-1) - Hit(nid=2896224210, source_name='compound_properties', field_name='num_lipinski_ro5_violations', score=1)\n",
      "Hit(nid=1216406969, source_name='target_dictionary', field_name='species_group_flag', score=-1) - Hit(nid=422040366, source_name='product_patents', field_name='delist_flag', score=1)\n",
      "Hit(nid=1216406969, source_name='target_dictionary', field_name='species_group_flag', score=-1) - Hit(nid=87092696, source_name='products', field_name='innovator_company', score=1)\n",
      "Hit(nid=1216406969, source_name='target_dictionary', field_name='species_group_flag', score=-1) - Hit(nid=3038966756, source_name='ligand_eff', field_name='le', score=1)\n",
      "Hit(nid=1216406969, source_name='target_dictionary', field_name='species_group_flag', score=-1) - Hit(nid=721562402, source_name='products', field_name='parenteral', score=1)\n",
      "Hit(nid=1216406969, source_name='target_dictionary', field_name='species_group_flag', score=-1) - Hit(nid=590474764, source_name='activities', field_name='potential_duplicate', score=1)\n",
      "Hit(nid=1216406969, source_name='target_dictionary', field_name='species_group_flag', score=-1) - Hit(nid=1326493156, source_name='molecule_dictionary', field_name='oral', score=1)\n",
      "Hit(nid=1216406969, source_name='target_dictionary', field_name='species_group_flag', score=-1) - Hit(nid=1039725926, source_name='product_patents', field_name='drug_substance_flag', score=1)\n",
      "Hit(nid=1216406969, source_name='target_dictionary', field_name='species_group_flag', score=-1) - Hit(nid=340079846, source_name='molecule_dictionary', field_name='max_phase', score=1)\n",
      "Hit(nid=1216406969, source_name='target_dictionary', field_name='species_group_flag', score=-1) - Hit(nid=134841193, source_name='target_components', field_name='homologue', score=1)\n",
      "Hit(nid=1216406969, source_name='target_dictionary', field_name='species_group_flag', score=-1) - Hit(nid=3875015943, source_name='molecule_dictionary', field_name='parenteral', score=1)\n",
      "Hit(nid=1216406969, source_name='target_dictionary', field_name='species_group_flag', score=-1) - Hit(nid=3460856691, source_name='usan_stems', field_name='who_extra', score=1)\n",
      "Hit(nid=1216406969, source_name='target_dictionary', field_name='species_group_flag', score=-1) - Hit(nid=838023372, source_name='compound_properties', field_name='qed_weighted', score=1)\n",
      "Hit(nid=1216406969, source_name='target_dictionary', field_name='species_group_flag', score=-1) - Hit(nid=2500388476, source_name='molecule_dictionary', field_name='topical', score=1)\n",
      "Hit(nid=1734469244, source_name='drugs_vw', field_name='brands', score=-1) - Hit(nid=2700108245, source_name='drug_brands', field_name='brand', score=-2.2204460492503131e-16)\n",
      "Hit(nid=1811291602, source_name='vertice', field_name='ontology_id', score=-1) - Hit(nid=2728516608, source_name='molecule_dictionary', field_name='inorganic_flag', score=1)\n",
      "Hit(nid=1811291602, source_name='vertice', field_name='ontology_id', score=-1) - Hit(nid=690794884, source_name='assays', field_name='src_id', score=1)\n",
      "Hit(nid=1811291602, source_name='vertice', field_name='ontology_id', score=-1) - Hit(nid=1469816517, source_name='activities', field_name='standard_flag', score=1)\n",
      "Hit(nid=1811291602, source_name='vertice', field_name='ontology_id', score=-1) - Hit(nid=760549000, source_name='molecule_dictionary', field_name='first_in_class', score=1)\n",
      "Hit(nid=1811291602, source_name='vertice', field_name='ontology_id', score=-1) - Hit(nid=1796642281, source_name='drug_mechanism', field_name='direct_interaction', score=1)\n",
      "Hit(nid=1811291602, source_name='vertice', field_name='ontology_id', score=-1) - Hit(nid=1783483454, source_name='molecule_dictionary', field_name='prodrug', score=1)\n",
      "Hit(nid=1811291602, source_name='vertice', field_name='ontology_id', score=-1) - Hit(nid=1699088556, source_name='ontology', field_name='id', score=1)\n",
      "Hit(nid=1811291602, source_name='vertice', field_name='ontology_id', score=-1) - Hit(nid=2866335884, source_name='metabolism', field_name='pathway_id', score=1)\n",
      "Hit(nid=1811291602, source_name='vertice', field_name='ontology_id', score=-1) - Hit(nid=3812389298, source_name='assays', field_name='confidence_score', score=1)\n",
      "Hit(nid=1811291602, source_name='vertice', field_name='ontology_id', score=-1) - Hit(nid=2266873366, source_name='molecule_dictionary', field_name='natural_product', score=1)\n",
      "Hit(nid=1811291602, source_name='vertice', field_name='ontology_id', score=-1) - Hit(nid=1369694679, source_name='drug_mechanism', field_name='disease_efficacy', score=1)\n",
      "Hit(nid=1811291602, source_name='vertice', field_name='ontology_id', score=-1) - Hit(nid=1055049624, source_name='molecule_dictionary', field_name='chirality', score=1)\n",
      "Hit(nid=1811291602, source_name='vertice', field_name='ontology_id', score=-1) - Hit(nid=53008014, source_name='molecule_dictionary', field_name='availability_type', score=1)\n",
      "Hit(nid=1811291602, source_name='vertice', field_name='ontology_id', score=-1) - Hit(nid=1927220725, source_name='drug_mechanism', field_name='molecular_mechanism', score=1)\n",
      "Hit(nid=2700108245, source_name='drug_brands', field_name='brand', score=-1) - Hit(nid=1734469244, source_name='drugs_vw', field_name='brands', score=-2.2204460492503131e-16)\n",
      "Hit(nid=1369694679, source_name='drug_mechanism', field_name='disease_efficacy', score=-1) - Hit(nid=2728516608, source_name='molecule_dictionary', field_name='inorganic_flag', score=1)\n",
      "Hit(nid=1369694679, source_name='drug_mechanism', field_name='disease_efficacy', score=-1) - Hit(nid=690794884, source_name='assays', field_name='src_id', score=1)\n",
      "Hit(nid=1369694679, source_name='drug_mechanism', field_name='disease_efficacy', score=-1) - Hit(nid=1469816517, source_name='activities', field_name='standard_flag', score=1)\n",
      "Hit(nid=1369694679, source_name='drug_mechanism', field_name='disease_efficacy', score=-1) - Hit(nid=760549000, source_name='molecule_dictionary', field_name='first_in_class', score=1)\n",
      "Hit(nid=1369694679, source_name='drug_mechanism', field_name='disease_efficacy', score=-1) - Hit(nid=1699088556, source_name='ontology', field_name='id', score=1)\n",
      "Hit(nid=1369694679, source_name='drug_mechanism', field_name='disease_efficacy', score=-1) - Hit(nid=2866335884, source_name='metabolism', field_name='pathway_id', score=1)\n",
      "Hit(nid=1369694679, source_name='drug_mechanism', field_name='disease_efficacy', score=-1) - Hit(nid=53008014, source_name='molecule_dictionary', field_name='availability_type', score=1)\n",
      "Hit(nid=1369694679, source_name='drug_mechanism', field_name='disease_efficacy', score=-1) - Hit(nid=1811291602, source_name='vertice', field_name='ontology_id', score=1)\n",
      "Hit(nid=1369694679, source_name='drug_mechanism', field_name='disease_efficacy', score=-1) - Hit(nid=2266873366, source_name='molecule_dictionary', field_name='natural_product', score=1)\n",
      "Hit(nid=1369694679, source_name='drug_mechanism', field_name='disease_efficacy', score=-1) - Hit(nid=1055049624, source_name='molecule_dictionary', field_name='chirality', score=1)\n",
      "Hit(nid=1369694679, source_name='drug_mechanism', field_name='disease_efficacy', score=-1) - Hit(nid=1796642281, source_name='drug_mechanism', field_name='direct_interaction', score=1)\n",
      "Hit(nid=1369694679, source_name='drug_mechanism', field_name='disease_efficacy', score=-1) - Hit(nid=3812389298, source_name='assays', field_name='confidence_score', score=1)\n",
      "Hit(nid=1369694679, source_name='drug_mechanism', field_name='disease_efficacy', score=-1) - Hit(nid=1927220725, source_name='drug_mechanism', field_name='molecular_mechanism', score=1)\n",
      "Hit(nid=1369694679, source_name='drug_mechanism', field_name='disease_efficacy', score=-1) - Hit(nid=1783483454, source_name='molecule_dictionary', field_name='prodrug', score=1)\n",
      "Hit(nid=87092696, source_name='products', field_name='innovator_company', score=-1) - Hit(nid=3875015943, source_name='molecule_dictionary', field_name='parenteral', score=1)\n",
      "Hit(nid=87092696, source_name='products', field_name='innovator_company', score=-1) - Hit(nid=590474764, source_name='activities', field_name='potential_duplicate', score=1)\n",
      "Hit(nid=87092696, source_name='products', field_name='innovator_company', score=-1) - Hit(nid=3462832330, source_name='products', field_name='topical', score=1)\n",
      "Hit(nid=87092696, source_name='products', field_name='innovator_company', score=-1) - Hit(nid=3598592652, source_name='molecule_dictionary', field_name='therapeutic_flag', score=1)\n",
      "Hit(nid=87092696, source_name='products', field_name='innovator_company', score=-1) - Hit(nid=2263031501, source_name='molecule_dictionary', field_name='dosed_ingredient', score=1)\n",
      "Hit(nid=87092696, source_name='products', field_name='innovator_company', score=-1) - Hit(nid=422040366, source_name='product_patents', field_name='delist_flag', score=1)\n",
      "Hit(nid=87092696, source_name='products', field_name='innovator_company', score=-1) - Hit(nid=3038966756, source_name='ligand_eff', field_name='le', score=1)\n",
      "Hit(nid=87092696, source_name='products', field_name='innovator_company', score=-1) - Hit(nid=721562402, source_name='products', field_name='parenteral', score=1)\n",
      "Hit(nid=87092696, source_name='products', field_name='innovator_company', score=-1) - Hit(nid=1326493156, source_name='molecule_dictionary', field_name='oral', score=1)\n",
      "Hit(nid=87092696, source_name='products', field_name='innovator_company', score=-1) - Hit(nid=1039725926, source_name='product_patents', field_name='drug_substance_flag', score=1)\n",
      "Hit(nid=87092696, source_name='products', field_name='innovator_company', score=-1) - Hit(nid=134841193, source_name='target_components', field_name='homologue', score=1)\n",
      "Hit(nid=87092696, source_name='products', field_name='innovator_company', score=-1) - Hit(nid=1360736775, source_name='molecule_dictionary', field_name='black_box_warning', score=1)\n",
      "Hit(nid=87092696, source_name='products', field_name='innovator_company', score=-1) - Hit(nid=2896224210, source_name='compound_properties', field_name='num_lipinski_ro5_violations', score=1)\n",
      "Hit(nid=87092696, source_name='products', field_name='innovator_company', score=-1) - Hit(nid=193981166, source_name='molecule_dictionary', field_name='polymer_flag', score=1)\n",
      "Hit(nid=87092696, source_name='products', field_name='innovator_company', score=-1) - Hit(nid=3460856691, source_name='usan_stems', field_name='who_extra', score=1)\n",
      "Hit(nid=87092696, source_name='products', field_name='innovator_company', score=-1) - Hit(nid=838023372, source_name='compound_properties', field_name='qed_weighted', score=1)\n",
      "Hit(nid=87092696, source_name='products', field_name='innovator_company', score=-1) - Hit(nid=340079846, source_name='molecule_dictionary', field_name='max_phase', score=1)\n",
      "Hit(nid=87092696, source_name='products', field_name='innovator_company', score=-1) - Hit(nid=1216406969, source_name='target_dictionary', field_name='species_group_flag', score=1)\n",
      "Hit(nid=87092696, source_name='products', field_name='innovator_company', score=-1) - Hit(nid=2500388476, source_name='molecule_dictionary', field_name='topical', score=1)\n",
      "Hit(nid=1326493156, source_name='molecule_dictionary', field_name='oral', score=-1) - Hit(nid=193981166, source_name='molecule_dictionary', field_name='polymer_flag', score=1)\n",
      "Hit(nid=1326493156, source_name='molecule_dictionary', field_name='oral', score=-1) - Hit(nid=3875015943, source_name='molecule_dictionary', field_name='parenteral', score=1)\n",
      "Hit(nid=1326493156, source_name='molecule_dictionary', field_name='oral', score=-1) - Hit(nid=3598592652, source_name='molecule_dictionary', field_name='therapeutic_flag', score=1)\n",
      "Hit(nid=1326493156, source_name='molecule_dictionary', field_name='oral', score=-1) - Hit(nid=3462832330, source_name='products', field_name='topical', score=1)\n",
      "Hit(nid=1326493156, source_name='molecule_dictionary', field_name='oral', score=-1) - Hit(nid=590474764, source_name='activities', field_name='potential_duplicate', score=1)\n",
      "Hit(nid=1326493156, source_name='molecule_dictionary', field_name='oral', score=-1) - Hit(nid=2263031501, source_name='molecule_dictionary', field_name='dosed_ingredient', score=1)\n",
      "Hit(nid=1326493156, source_name='molecule_dictionary', field_name='oral', score=-1) - Hit(nid=87092696, source_name='products', field_name='innovator_company', score=1)\n",
      "Hit(nid=1326493156, source_name='molecule_dictionary', field_name='oral', score=-1) - Hit(nid=2896224210, source_name='compound_properties', field_name='num_lipinski_ro5_violations', score=1)\n",
      "Hit(nid=1326493156, source_name='molecule_dictionary', field_name='oral', score=-1) - Hit(nid=721562402, source_name='products', field_name='parenteral', score=1)\n",
      "Hit(nid=1326493156, source_name='molecule_dictionary', field_name='oral', score=-1) - Hit(nid=3038966756, source_name='ligand_eff', field_name='le', score=1)\n",
      "Hit(nid=1326493156, source_name='molecule_dictionary', field_name='oral', score=-1) - Hit(nid=340079846, source_name='molecule_dictionary', field_name='max_phase', score=1)\n",
      "Hit(nid=1326493156, source_name='molecule_dictionary', field_name='oral', score=-1) - Hit(nid=1039725926, source_name='product_patents', field_name='drug_substance_flag', score=1)\n",
      "Hit(nid=1326493156, source_name='molecule_dictionary', field_name='oral', score=-1) - Hit(nid=1360736775, source_name='molecule_dictionary', field_name='black_box_warning', score=1)\n",
      "Hit(nid=1326493156, source_name='molecule_dictionary', field_name='oral', score=-1) - Hit(nid=134841193, source_name='target_components', field_name='homologue', score=1)\n",
      "Hit(nid=1326493156, source_name='molecule_dictionary', field_name='oral', score=-1) - Hit(nid=422040366, source_name='product_patents', field_name='delist_flag', score=1)\n",
      "Hit(nid=1326493156, source_name='molecule_dictionary', field_name='oral', score=-1) - Hit(nid=3460856691, source_name='usan_stems', field_name='who_extra', score=1)\n",
      "Hit(nid=1326493156, source_name='molecule_dictionary', field_name='oral', score=-1) - Hit(nid=838023372, source_name='compound_properties', field_name='qed_weighted', score=1)\n",
      "Hit(nid=1326493156, source_name='molecule_dictionary', field_name='oral', score=-1) - Hit(nid=1216406969, source_name='target_dictionary', field_name='species_group_flag', score=1)\n",
      "Hit(nid=1326493156, source_name='molecule_dictionary', field_name='oral', score=-1) - Hit(nid=2500388476, source_name='molecule_dictionary', field_name='topical', score=1)\n",
      "Hit(nid=1796642281, source_name='drug_mechanism', field_name='direct_interaction', score=-1) - Hit(nid=2728516608, source_name='molecule_dictionary', field_name='inorganic_flag', score=1)\n",
      "Hit(nid=1796642281, source_name='drug_mechanism', field_name='direct_interaction', score=-1) - Hit(nid=690794884, source_name='assays', field_name='src_id', score=1)\n",
      "Hit(nid=1796642281, source_name='drug_mechanism', field_name='direct_interaction', score=-1) - Hit(nid=1469816517, source_name='activities', field_name='standard_flag', score=1)\n",
      "Hit(nid=1796642281, source_name='drug_mechanism', field_name='direct_interaction', score=-1) - Hit(nid=760549000, source_name='molecule_dictionary', field_name='first_in_class', score=1)\n",
      "Hit(nid=1796642281, source_name='drug_mechanism', field_name='direct_interaction', score=-1) - Hit(nid=1699088556, source_name='ontology', field_name='id', score=1)\n",
      "Hit(nid=1796642281, source_name='drug_mechanism', field_name='direct_interaction', score=-1) - Hit(nid=2866335884, source_name='metabolism', field_name='pathway_id', score=1)\n",
      "Hit(nid=1796642281, source_name='drug_mechanism', field_name='direct_interaction', score=-1) - Hit(nid=53008014, source_name='molecule_dictionary', field_name='availability_type', score=1)\n",
      "Hit(nid=1796642281, source_name='drug_mechanism', field_name='direct_interaction', score=-1) - Hit(nid=1811291602, source_name='vertice', field_name='ontology_id', score=1)\n",
      "Hit(nid=1796642281, source_name='drug_mechanism', field_name='direct_interaction', score=-1) - Hit(nid=2266873366, source_name='molecule_dictionary', field_name='natural_product', score=1)\n",
      "Hit(nid=1796642281, source_name='drug_mechanism', field_name='direct_interaction', score=-1) - Hit(nid=1369694679, source_name='drug_mechanism', field_name='disease_efficacy', score=1)\n",
      "Hit(nid=1796642281, source_name='drug_mechanism', field_name='direct_interaction', score=-1) - Hit(nid=1055049624, source_name='molecule_dictionary', field_name='chirality', score=1)\n",
      "Hit(nid=1796642281, source_name='drug_mechanism', field_name='direct_interaction', score=-1) - Hit(nid=3812389298, source_name='assays', field_name='confidence_score', score=1)\n",
      "Hit(nid=1796642281, source_name='drug_mechanism', field_name='direct_interaction', score=-1) - Hit(nid=1927220725, source_name='drug_mechanism', field_name='molecular_mechanism', score=1)\n",
      "Hit(nid=1796642281, source_name='drug_mechanism', field_name='direct_interaction', score=-1) - Hit(nid=1783483454, source_name='molecule_dictionary', field_name='prodrug', score=1)\n",
      "Hit(nid=1927220725, source_name='drug_mechanism', field_name='molecular_mechanism', score=-1) - Hit(nid=2728516608, source_name='molecule_dictionary', field_name='inorganic_flag', score=1)\n",
      "Hit(nid=1927220725, source_name='drug_mechanism', field_name='molecular_mechanism', score=-1) - Hit(nid=690794884, source_name='assays', field_name='src_id', score=1)\n",
      "Hit(nid=1927220725, source_name='drug_mechanism', field_name='molecular_mechanism', score=-1) - Hit(nid=1469816517, source_name='activities', field_name='standard_flag', score=1)\n",
      "Hit(nid=1927220725, source_name='drug_mechanism', field_name='molecular_mechanism', score=-1) - Hit(nid=760549000, source_name='molecule_dictionary', field_name='first_in_class', score=1)\n",
      "Hit(nid=1927220725, source_name='drug_mechanism', field_name='molecular_mechanism', score=-1) - Hit(nid=1699088556, source_name='ontology', field_name='id', score=1)\n",
      "Hit(nid=1927220725, source_name='drug_mechanism', field_name='molecular_mechanism', score=-1) - Hit(nid=2866335884, source_name='metabolism', field_name='pathway_id', score=1)\n",
      "Hit(nid=1927220725, source_name='drug_mechanism', field_name='molecular_mechanism', score=-1) - Hit(nid=53008014, source_name='molecule_dictionary', field_name='availability_type', score=1)\n",
      "Hit(nid=1927220725, source_name='drug_mechanism', field_name='molecular_mechanism', score=-1) - Hit(nid=1811291602, source_name='vertice', field_name='ontology_id', score=1)\n",
      "Hit(nid=1927220725, source_name='drug_mechanism', field_name='molecular_mechanism', score=-1) - Hit(nid=2266873366, source_name='molecule_dictionary', field_name='natural_product', score=1)\n",
      "Hit(nid=1927220725, source_name='drug_mechanism', field_name='molecular_mechanism', score=-1) - Hit(nid=1369694679, source_name='drug_mechanism', field_name='disease_efficacy', score=1)\n",
      "Hit(nid=1927220725, source_name='drug_mechanism', field_name='molecular_mechanism', score=-1) - Hit(nid=1055049624, source_name='molecule_dictionary', field_name='chirality', score=1)\n",
      "Hit(nid=1927220725, source_name='drug_mechanism', field_name='molecular_mechanism', score=-1) - Hit(nid=1796642281, source_name='drug_mechanism', field_name='direct_interaction', score=1)\n",
      "Hit(nid=1927220725, source_name='drug_mechanism', field_name='molecular_mechanism', score=-1) - Hit(nid=3812389298, source_name='assays', field_name='confidence_score', score=1)\n",
      "Hit(nid=1927220725, source_name='drug_mechanism', field_name='molecular_mechanism', score=-1) - Hit(nid=1783483454, source_name='molecule_dictionary', field_name='prodrug', score=1)\n",
      "Hit(nid=3659419128, source_name='atc_classification', field_name='level1', score=-1) - Hit(nid=1035897536, source_name='patent_use_codes', field_name='patent_use_code', score=1.0)\n",
      "Hit(nid=3659419128, source_name='atc_classification', field_name='level1', score=-1) - Hit(nid=1320796556, source_name='assays', field_name='relationship_type', score=1.0)\n",
      "Hit(nid=3659419128, source_name='atc_classification', field_name='level1', score=-1) - Hit(nid=2948285653, source_name='irac_classification', field_name='level1', score=1.0)\n",
      "Hit(nid=3659419128, source_name='atc_classification', field_name='level1', score=-1) - Hit(nid=874131486, source_name='assays', field_name='assay_type', score=1.0)\n",
      "Hit(nid=3659419128, source_name='atc_classification', field_name='level1', score=-1) - Hit(nid=1652972574, source_name='relation', field_name='status', score=1.0)\n",
      "Hit(nid=3659419128, source_name='atc_classification', field_name='level1', score=-1) - Hit(nid=2763920102, source_name='products', field_name='nda_type', score=1.0)\n",
      "Hit(nid=3659419128, source_name='atc_classification', field_name='level1', score=-1) - Hit(nid=927136298, source_name='compounds', field_name='status', score=1.0)\n",
      "Hit(nid=3659419128, source_name='atc_classification', field_name='level1', score=-1) - Hit(nid=513959026, source_name='compound_properties', field_name='ro3_pass', score=1.0)\n",
      "Hit(nid=3659419128, source_name='atc_classification', field_name='level1', score=-1) - Hit(nid=928927733, source_name='go_classification', field_name='aspect', score=1.0)\n",
      "Hit(nid=3659419128, source_name='atc_classification', field_name='level1', score=-1) - Hit(nid=1270539146, source_name='names', field_name='adapted', score=1.0)\n",
      "Hit(nid=3890889352, source_name='drugs', field_name='description', score=-1) - Hit(nid=3941335841, source_name='drugs_vw', field_name='description', score=0.0)\n",
      "Hit(nid=1055049624, source_name='molecule_dictionary', field_name='chirality', score=-1) - Hit(nid=2728516608, source_name='molecule_dictionary', field_name='inorganic_flag', score=1)\n",
      "Hit(nid=1055049624, source_name='molecule_dictionary', field_name='chirality', score=-1) - Hit(nid=690794884, source_name='assays', field_name='src_id', score=1)\n",
      "Hit(nid=1055049624, source_name='molecule_dictionary', field_name='chirality', score=-1) - Hit(nid=1469816517, source_name='activities', field_name='standard_flag', score=1)\n",
      "Hit(nid=1055049624, source_name='molecule_dictionary', field_name='chirality', score=-1) - Hit(nid=760549000, source_name='molecule_dictionary', field_name='first_in_class', score=1)\n",
      "Hit(nid=1055049624, source_name='molecule_dictionary', field_name='chirality', score=-1) - Hit(nid=1783483454, source_name='molecule_dictionary', field_name='prodrug', score=1)\n",
      "Hit(nid=1055049624, source_name='molecule_dictionary', field_name='chirality', score=-1) - Hit(nid=53008014, source_name='molecule_dictionary', field_name='availability_type', score=1)\n",
      "Hit(nid=1055049624, source_name='molecule_dictionary', field_name='chirality', score=-1) - Hit(nid=1811291602, source_name='vertice', field_name='ontology_id', score=1)\n",
      "Hit(nid=1055049624, source_name='molecule_dictionary', field_name='chirality', score=-1) - Hit(nid=2266873366, source_name='molecule_dictionary', field_name='natural_product', score=1)\n",
      "Hit(nid=1055049624, source_name='molecule_dictionary', field_name='chirality', score=-1) - Hit(nid=1369694679, source_name='drug_mechanism', field_name='disease_efficacy', score=1)\n",
      "Hit(nid=1055049624, source_name='molecule_dictionary', field_name='chirality', score=-1) - Hit(nid=1796642281, source_name='drug_mechanism', field_name='direct_interaction', score=1)\n",
      "Hit(nid=1055049624, source_name='molecule_dictionary', field_name='chirality', score=-1) - Hit(nid=1699088556, source_name='ontology', field_name='id', score=1)\n",
      "Hit(nid=1055049624, source_name='molecule_dictionary', field_name='chirality', score=-1) - Hit(nid=2866335884, source_name='metabolism', field_name='pathway_id', score=1)\n",
      "Hit(nid=1055049624, source_name='molecule_dictionary', field_name='chirality', score=-1) - Hit(nid=3812389298, source_name='assays', field_name='confidence_score', score=1)\n",
      "Hit(nid=1055049624, source_name='molecule_dictionary', field_name='chirality', score=-1) - Hit(nid=1927220725, source_name='drug_mechanism', field_name='molecular_mechanism', score=1)\n",
      "Hit(nid=2266873366, source_name='molecule_dictionary', field_name='natural_product', score=-1) - Hit(nid=2728516608, source_name='molecule_dictionary', field_name='inorganic_flag', score=1)\n",
      "Hit(nid=2266873366, source_name='molecule_dictionary', field_name='natural_product', score=-1) - Hit(nid=690794884, source_name='assays', field_name='src_id', score=1)\n",
      "Hit(nid=2266873366, source_name='molecule_dictionary', field_name='natural_product', score=-1) - Hit(nid=1469816517, source_name='activities', field_name='standard_flag', score=1)\n",
      "Hit(nid=2266873366, source_name='molecule_dictionary', field_name='natural_product', score=-1) - Hit(nid=760549000, source_name='molecule_dictionary', field_name='first_in_class', score=1)\n",
      "Hit(nid=2266873366, source_name='molecule_dictionary', field_name='natural_product', score=-1) - Hit(nid=1783483454, source_name='molecule_dictionary', field_name='prodrug', score=1)\n",
      "Hit(nid=2266873366, source_name='molecule_dictionary', field_name='natural_product', score=-1) - Hit(nid=53008014, source_name='molecule_dictionary', field_name='availability_type', score=1)\n",
      "Hit(nid=2266873366, source_name='molecule_dictionary', field_name='natural_product', score=-1) - Hit(nid=1811291602, source_name='vertice', field_name='ontology_id', score=1)\n",
      "Hit(nid=2266873366, source_name='molecule_dictionary', field_name='natural_product', score=-1) - Hit(nid=1369694679, source_name='drug_mechanism', field_name='disease_efficacy', score=1)\n",
      "Hit(nid=2266873366, source_name='molecule_dictionary', field_name='natural_product', score=-1) - Hit(nid=1055049624, source_name='molecule_dictionary', field_name='chirality', score=1)\n",
      "Hit(nid=2266873366, source_name='molecule_dictionary', field_name='natural_product', score=-1) - Hit(nid=1796642281, source_name='drug_mechanism', field_name='direct_interaction', score=1)\n",
      "Hit(nid=2266873366, source_name='molecule_dictionary', field_name='natural_product', score=-1) - Hit(nid=1699088556, source_name='ontology', field_name='id', score=1)\n",
      "Hit(nid=2266873366, source_name='molecule_dictionary', field_name='natural_product', score=-1) - Hit(nid=2866335884, source_name='metabolism', field_name='pathway_id', score=1)\n",
      "Hit(nid=2266873366, source_name='molecule_dictionary', field_name='natural_product', score=-1) - Hit(nid=3812389298, source_name='assays', field_name='confidence_score', score=1)\n",
      "Hit(nid=2266873366, source_name='molecule_dictionary', field_name='natural_product', score=-1) - Hit(nid=1927220725, source_name='drug_mechanism', field_name='molecular_mechanism', score=1)\n",
      "Hit(nid=1137380888, source_name='protein_family_classification', field_name='protein_class_desc', score=-1) - Hit(nid=1907157709, source_name='protein_classification', field_name='protein_class_desc', score=-2.2204460492503131e-16)\n",
      "Hit(nid=927136298, source_name='compounds', field_name='status', score=-1) - Hit(nid=1035897536, source_name='patent_use_codes', field_name='patent_use_code', score=1.0)\n",
      "Hit(nid=927136298, source_name='compounds', field_name='status', score=-1) - Hit(nid=1270539146, source_name='names', field_name='adapted', score=1.0)\n",
      "Hit(nid=927136298, source_name='compounds', field_name='status', score=-1) - Hit(nid=1320796556, source_name='assays', field_name='relationship_type', score=1.0)\n",
      "Hit(nid=927136298, source_name='compounds', field_name='status', score=-1) - Hit(nid=2948285653, source_name='irac_classification', field_name='level1', score=1.0)\n",
      "Hit(nid=927136298, source_name='compounds', field_name='status', score=-1) - Hit(nid=1652972574, source_name='relation', field_name='status', score=1.0)\n",
      "Hit(nid=927136298, source_name='compounds', field_name='status', score=-1) - Hit(nid=2763920102, source_name='products', field_name='nda_type', score=1.0)\n",
      "Hit(nid=927136298, source_name='compounds', field_name='status', score=-1) - Hit(nid=513959026, source_name='compound_properties', field_name='ro3_pass', score=1.0)\n",
      "Hit(nid=927136298, source_name='compounds', field_name='status', score=-1) - Hit(nid=928927733, source_name='go_classification', field_name='aspect', score=1.0)\n",
      "Hit(nid=927136298, source_name='compounds', field_name='status', score=-1) - Hit(nid=3659419128, source_name='atc_classification', field_name='level1', score=1.0)\n",
      "Hit(nid=927136298, source_name='compounds', field_name='status', score=-1) - Hit(nid=874131486, source_name='assays', field_name='assay_type', score=1.0)\n",
      "Hit(nid=3812389298, source_name='assays', field_name='confidence_score', score=-1) - Hit(nid=2728516608, source_name='molecule_dictionary', field_name='inorganic_flag', score=1)\n",
      "Hit(nid=3812389298, source_name='assays', field_name='confidence_score', score=-1) - Hit(nid=690794884, source_name='assays', field_name='src_id', score=1)\n",
      "Hit(nid=3812389298, source_name='assays', field_name='confidence_score', score=-1) - Hit(nid=1469816517, source_name='activities', field_name='standard_flag', score=1)\n",
      "Hit(nid=3812389298, source_name='assays', field_name='confidence_score', score=-1) - Hit(nid=2866335884, source_name='metabolism', field_name='pathway_id', score=1)\n",
      "Hit(nid=3812389298, source_name='assays', field_name='confidence_score', score=-1) - Hit(nid=53008014, source_name='molecule_dictionary', field_name='availability_type', score=1)\n",
      "Hit(nid=3812389298, source_name='assays', field_name='confidence_score', score=-1) - Hit(nid=1055049624, source_name='molecule_dictionary', field_name='chirality', score=1)\n",
      "Hit(nid=3812389298, source_name='assays', field_name='confidence_score', score=-1) - Hit(nid=1811291602, source_name='vertice', field_name='ontology_id', score=1)\n",
      "Hit(nid=3812389298, source_name='assays', field_name='confidence_score', score=-1) - Hit(nid=2266873366, source_name='molecule_dictionary', field_name='natural_product', score=1)\n",
      "Hit(nid=3812389298, source_name='assays', field_name='confidence_score', score=-1) - Hit(nid=1369694679, source_name='drug_mechanism', field_name='disease_efficacy', score=1)\n",
      "Hit(nid=3812389298, source_name='assays', field_name='confidence_score', score=-1) - Hit(nid=1699088556, source_name='ontology', field_name='id', score=1)\n",
      "Hit(nid=3812389298, source_name='assays', field_name='confidence_score', score=-1) - Hit(nid=760549000, source_name='molecule_dictionary', field_name='first_in_class', score=1)\n",
      "Hit(nid=3812389298, source_name='assays', field_name='confidence_score', score=-1) - Hit(nid=1927220725, source_name='drug_mechanism', field_name='molecular_mechanism', score=1)\n",
      "Hit(nid=3812389298, source_name='assays', field_name='confidence_score', score=-1) - Hit(nid=1796642281, source_name='drug_mechanism', field_name='direct_interaction', score=1)\n",
      "Hit(nid=3812389298, source_name='assays', field_name='confidence_score', score=-1) - Hit(nid=1783483454, source_name='molecule_dictionary', field_name='prodrug', score=1)\n",
      "Hit(nid=833022543, source_name='drug_ints_vw', field_name='drug_ids2', score=-1) - Hit(nid=3240794748, source_name='drug_interactions', field_name='drug_id1', score=-4.4408920985006262e-16)\n",
      "Hit(nid=3166988887, source_name='activities', field_name='published_relation', score=-1) - Hit(nid=1164157819, source_name='activities', field_name='standard_relation', score=-2.2204460492503131e-16)\n",
      "Hit(nid=1372457566, source_name='molecule_hierarchy', field_name='parent_molregno', score=-1) - Hit(nid=881842000, source_name='molecule_hierarchy', field_name='active_molregno', score=1)\n",
      "Hit(nid=3240794748, source_name='drug_interactions', field_name='drug_id1', score=-1) - Hit(nid=833022543, source_name='drug_ints_vw', field_name='drug_ids2', score=-4.4408920985006262e-16)\n",
      "Hit(nid=879915456, source_name='cell_dictionary', field_name='cell_source_tax_id', score=-1) - Hit(nid=2049260835, source_name='metabolism', field_name='tax_id', score=1)\n",
      "Hit(nid=879915456, source_name='cell_dictionary', field_name='cell_source_tax_id', score=-1) - Hit(nid=1335406103, source_name='bio_component_sequences', field_name='tax_id', score=1)\n",
      "Hit(nid=760549000, source_name='molecule_dictionary', field_name='first_in_class', score=-1) - Hit(nid=2728516608, source_name='molecule_dictionary', field_name='inorganic_flag', score=1)\n",
      "Hit(nid=760549000, source_name='molecule_dictionary', field_name='first_in_class', score=-1) - Hit(nid=690794884, source_name='assays', field_name='src_id', score=1)\n",
      "Hit(nid=760549000, source_name='molecule_dictionary', field_name='first_in_class', score=-1) - Hit(nid=1469816517, source_name='activities', field_name='standard_flag', score=1)\n",
      "Hit(nid=760549000, source_name='molecule_dictionary', field_name='first_in_class', score=-1) - Hit(nid=1783483454, source_name='molecule_dictionary', field_name='prodrug', score=1)\n",
      "Hit(nid=760549000, source_name='molecule_dictionary', field_name='first_in_class', score=-1) - Hit(nid=53008014, source_name='molecule_dictionary', field_name='availability_type', score=1)\n",
      "Hit(nid=760549000, source_name='molecule_dictionary', field_name='first_in_class', score=-1) - Hit(nid=1811291602, source_name='vertice', field_name='ontology_id', score=1)\n",
      "Hit(nid=760549000, source_name='molecule_dictionary', field_name='first_in_class', score=-1) - Hit(nid=2266873366, source_name='molecule_dictionary', field_name='natural_product', score=1)\n",
      "Hit(nid=760549000, source_name='molecule_dictionary', field_name='first_in_class', score=-1) - Hit(nid=1369694679, source_name='drug_mechanism', field_name='disease_efficacy', score=1)\n",
      "Hit(nid=760549000, source_name='molecule_dictionary', field_name='first_in_class', score=-1) - Hit(nid=1055049624, source_name='molecule_dictionary', field_name='chirality', score=1)\n",
      "Hit(nid=760549000, source_name='molecule_dictionary', field_name='first_in_class', score=-1) - Hit(nid=1796642281, source_name='drug_mechanism', field_name='direct_interaction', score=1)\n",
      "Hit(nid=760549000, source_name='molecule_dictionary', field_name='first_in_class', score=-1) - Hit(nid=1699088556, source_name='ontology', field_name='id', score=1)\n",
      "Hit(nid=760549000, source_name='molecule_dictionary', field_name='first_in_class', score=-1) - Hit(nid=2866335884, source_name='metabolism', field_name='pathway_id', score=1)\n",
      "Hit(nid=760549000, source_name='molecule_dictionary', field_name='first_in_class', score=-1) - Hit(nid=3812389298, source_name='assays', field_name='confidence_score', score=1)\n",
      "Hit(nid=760549000, source_name='molecule_dictionary', field_name='first_in_class', score=-1) - Hit(nid=1927220725, source_name='drug_mechanism', field_name='molecular_mechanism', score=1)\n",
      "Hit(nid=3472617104, source_name='compound_properties', field_name='num_ro5_violations', score=-1) - Hit(nid=2022665893, source_name='product_patents', field_name='drug_product_flag', score=1)\n",
      "Hit(nid=3472617104, source_name='compound_properties', field_name='num_ro5_violations', score=-1) - Hit(nid=2613623856, source_name='products', field_name='black_box_warning', score=1)\n",
      "Hit(nid=2500388476, source_name='molecule_dictionary', field_name='topical', score=-1) - Hit(nid=193981166, source_name='molecule_dictionary', field_name='polymer_flag', score=1)\n",
      "Hit(nid=2500388476, source_name='molecule_dictionary', field_name='topical', score=-1) - Hit(nid=3875015943, source_name='molecule_dictionary', field_name='parenteral', score=1)\n",
      "Hit(nid=2500388476, source_name='molecule_dictionary', field_name='topical', score=-1) - Hit(nid=3598592652, source_name='molecule_dictionary', field_name='therapeutic_flag', score=1)\n",
      "Hit(nid=2500388476, source_name='molecule_dictionary', field_name='topical', score=-1) - Hit(nid=3462832330, source_name='products', field_name='topical', score=1)\n",
      "Hit(nid=2500388476, source_name='molecule_dictionary', field_name='topical', score=-1) - Hit(nid=590474764, source_name='activities', field_name='potential_duplicate', score=1)\n",
      "Hit(nid=2500388476, source_name='molecule_dictionary', field_name='topical', score=-1) - Hit(nid=2263031501, source_name='molecule_dictionary', field_name='dosed_ingredient', score=1)\n",
      "Hit(nid=2500388476, source_name='molecule_dictionary', field_name='topical', score=-1) - Hit(nid=87092696, source_name='products', field_name='innovator_company', score=1)\n",
      "Hit(nid=2500388476, source_name='molecule_dictionary', field_name='topical', score=-1) - Hit(nid=2896224210, source_name='compound_properties', field_name='num_lipinski_ro5_violations', score=1)\n",
      "Hit(nid=2500388476, source_name='molecule_dictionary', field_name='topical', score=-1) - Hit(nid=1326493156, source_name='molecule_dictionary', field_name='oral', score=1)\n",
      "Hit(nid=2500388476, source_name='molecule_dictionary', field_name='topical', score=-1) - Hit(nid=721562402, source_name='products', field_name='parenteral', score=1)\n",
      "Hit(nid=2500388476, source_name='molecule_dictionary', field_name='topical', score=-1) - Hit(nid=3038966756, source_name='ligand_eff', field_name='le', score=1)\n",
      "Hit(nid=2500388476, source_name='molecule_dictionary', field_name='topical', score=-1) - Hit(nid=340079846, source_name='molecule_dictionary', field_name='max_phase', score=1)\n",
      "Hit(nid=2500388476, source_name='molecule_dictionary', field_name='topical', score=-1) - Hit(nid=1039725926, source_name='product_patents', field_name='drug_substance_flag', score=1)\n",
      "Hit(nid=2500388476, source_name='molecule_dictionary', field_name='topical', score=-1) - Hit(nid=1360736775, source_name='molecule_dictionary', field_name='black_box_warning', score=1)\n",
      "Hit(nid=2500388476, source_name='molecule_dictionary', field_name='topical', score=-1) - Hit(nid=134841193, source_name='target_components', field_name='homologue', score=1)\n",
      "Hit(nid=2500388476, source_name='molecule_dictionary', field_name='topical', score=-1) - Hit(nid=422040366, source_name='product_patents', field_name='delist_flag', score=1)\n",
      "Hit(nid=2500388476, source_name='molecule_dictionary', field_name='topical', score=-1) - Hit(nid=3460856691, source_name='usan_stems', field_name='who_extra', score=1)\n",
      "Hit(nid=2500388476, source_name='molecule_dictionary', field_name='topical', score=-1) - Hit(nid=838023372, source_name='compound_properties', field_name='qed_weighted', score=1)\n",
      "Hit(nid=2500388476, source_name='molecule_dictionary', field_name='topical', score=-1) - Hit(nid=1216406969, source_name='target_dictionary', field_name='species_group_flag', score=1)\n",
      "Hit(nid=513959026, source_name='compound_properties', field_name='ro3_pass', score=-1) - Hit(nid=1035897536, source_name='patent_use_codes', field_name='patent_use_code', score=1.0)\n",
      "Hit(nid=513959026, source_name='compound_properties', field_name='ro3_pass', score=-1) - Hit(nid=1270539146, source_name='names', field_name='adapted', score=1.0)\n",
      "Hit(nid=513959026, source_name='compound_properties', field_name='ro3_pass', score=-1) - Hit(nid=1320796556, source_name='assays', field_name='relationship_type', score=1.0)\n",
      "Hit(nid=513959026, source_name='compound_properties', field_name='ro3_pass', score=-1) - Hit(nid=2948285653, source_name='irac_classification', field_name='level1', score=1.0)\n",
      "Hit(nid=513959026, source_name='compound_properties', field_name='ro3_pass', score=-1) - Hit(nid=1652972574, source_name='relation', field_name='status', score=1.0)\n",
      "Hit(nid=513959026, source_name='compound_properties', field_name='ro3_pass', score=-1) - Hit(nid=2763920102, source_name='products', field_name='nda_type', score=1.0)\n",
      "Hit(nid=513959026, source_name='compound_properties', field_name='ro3_pass', score=-1) - Hit(nid=927136298, source_name='compounds', field_name='status', score=1.0)\n",
      "Hit(nid=513959026, source_name='compound_properties', field_name='ro3_pass', score=-1) - Hit(nid=874131486, source_name='assays', field_name='assay_type', score=1.0)\n",
      "Hit(nid=513959026, source_name='compound_properties', field_name='ro3_pass', score=-1) - Hit(nid=3659419128, source_name='atc_classification', field_name='level1', score=1.0)\n",
      "Hit(nid=513959026, source_name='compound_properties', field_name='ro3_pass', score=-1) - Hit(nid=928927733, source_name='go_classification', field_name='aspect', score=1.0)\n",
      "Hit(nid=1035897536, source_name='patent_use_codes', field_name='patent_use_code', score=-1) - Hit(nid=2763920102, source_name='products', field_name='nda_type', score=1.0)\n",
      "Hit(nid=1035897536, source_name='patent_use_codes', field_name='patent_use_code', score=-1) - Hit(nid=927136298, source_name='compounds', field_name='status', score=1.0)\n",
      "Hit(nid=1035897536, source_name='patent_use_codes', field_name='patent_use_code', score=-1) - Hit(nid=1320796556, source_name='assays', field_name='relationship_type', score=1.0)\n",
      "Hit(nid=1035897536, source_name='patent_use_codes', field_name='patent_use_code', score=-1) - Hit(nid=1270539146, source_name='names', field_name='adapted', score=1.0)\n",
      "Hit(nid=1035897536, source_name='patent_use_codes', field_name='patent_use_code', score=-1) - Hit(nid=874131486, source_name='assays', field_name='assay_type', score=1.0)\n",
      "Hit(nid=1035897536, source_name='patent_use_codes', field_name='patent_use_code', score=-1) - Hit(nid=513959026, source_name='compound_properties', field_name='ro3_pass', score=1.0)\n",
      "Hit(nid=1035897536, source_name='patent_use_codes', field_name='patent_use_code', score=-1) - Hit(nid=2948285653, source_name='irac_classification', field_name='level1', score=1.0)\n",
      "Hit(nid=1035897536, source_name='patent_use_codes', field_name='patent_use_code', score=-1) - Hit(nid=3659419128, source_name='atc_classification', field_name='level1', score=1.0)\n",
      "Hit(nid=1035897536, source_name='patent_use_codes', field_name='patent_use_code', score=-1) - Hit(nid=1652972574, source_name='relation', field_name='status', score=1.0)\n",
      "Hit(nid=1035897536, source_name='patent_use_codes', field_name='patent_use_code', score=-1) - Hit(nid=928927733, source_name='go_classification', field_name='aspect', score=1.0)\n",
      "Hit(nid=1907157709, source_name='protein_classification', field_name='protein_class_desc', score=-1) - Hit(nid=1137380888, source_name='protein_family_classification', field_name='protein_class_desc', score=-2.2204460492503131e-16)\n",
      "Hit(nid=2022665893, source_name='product_patents', field_name='drug_product_flag', score=-1) - Hit(nid=3472617104, source_name='compound_properties', field_name='num_ro5_violations', score=1)\n",
      "Hit(nid=2022665893, source_name='product_patents', field_name='drug_product_flag', score=-1) - Hit(nid=2613623856, source_name='products', field_name='black_box_warning', score=1)\n",
      "Hit(nid=2389682909, source_name='drugs_vw', field_name='synonyms', score=-1) - Hit(nid=462155175, source_name='drug_synonyms', field_name='synonym', score=0.0)\n",
      "Hit(nid=193981166, source_name='molecule_dictionary', field_name='polymer_flag', score=-1) - Hit(nid=3875015943, source_name='molecule_dictionary', field_name='parenteral', score=1)\n",
      "Hit(nid=193981166, source_name='molecule_dictionary', field_name='polymer_flag', score=-1) - Hit(nid=3598592652, source_name='molecule_dictionary', field_name='therapeutic_flag', score=1)\n",
      "Hit(nid=193981166, source_name='molecule_dictionary', field_name='polymer_flag', score=-1) - Hit(nid=3462832330, source_name='products', field_name='topical', score=1)\n",
      "Hit(nid=193981166, source_name='molecule_dictionary', field_name='polymer_flag', score=-1) - Hit(nid=590474764, source_name='activities', field_name='potential_duplicate', score=1)\n",
      "Hit(nid=193981166, source_name='molecule_dictionary', field_name='polymer_flag', score=-1) - Hit(nid=2263031501, source_name='molecule_dictionary', field_name='dosed_ingredient', score=1)\n",
      "Hit(nid=193981166, source_name='molecule_dictionary', field_name='polymer_flag', score=-1) - Hit(nid=87092696, source_name='products', field_name='innovator_company', score=1)\n",
      "Hit(nid=193981166, source_name='molecule_dictionary', field_name='polymer_flag', score=-1) - Hit(nid=2896224210, source_name='compound_properties', field_name='num_lipinski_ro5_violations', score=1)\n",
      "Hit(nid=193981166, source_name='molecule_dictionary', field_name='polymer_flag', score=-1) - Hit(nid=1326493156, source_name='molecule_dictionary', field_name='oral', score=1)\n",
      "Hit(nid=193981166, source_name='molecule_dictionary', field_name='polymer_flag', score=-1) - Hit(nid=721562402, source_name='products', field_name='parenteral', score=1)\n",
      "Hit(nid=193981166, source_name='molecule_dictionary', field_name='polymer_flag', score=-1) - Hit(nid=3038966756, source_name='ligand_eff', field_name='le', score=1)\n",
      "Hit(nid=193981166, source_name='molecule_dictionary', field_name='polymer_flag', score=-1) - Hit(nid=340079846, source_name='molecule_dictionary', field_name='max_phase', score=1)\n",
      "Hit(nid=193981166, source_name='molecule_dictionary', field_name='polymer_flag', score=-1) - Hit(nid=1039725926, source_name='product_patents', field_name='drug_substance_flag', score=1)\n",
      "Hit(nid=193981166, source_name='molecule_dictionary', field_name='polymer_flag', score=-1) - Hit(nid=1360736775, source_name='molecule_dictionary', field_name='black_box_warning', score=1)\n",
      "Hit(nid=193981166, source_name='molecule_dictionary', field_name='polymer_flag', score=-1) - Hit(nid=134841193, source_name='target_components', field_name='homologue', score=1)\n",
      "Hit(nid=193981166, source_name='molecule_dictionary', field_name='polymer_flag', score=-1) - Hit(nid=422040366, source_name='product_patents', field_name='delist_flag', score=1)\n",
      "Hit(nid=193981166, source_name='molecule_dictionary', field_name='polymer_flag', score=-1) - Hit(nid=3460856691, source_name='usan_stems', field_name='who_extra', score=1)\n",
      "Hit(nid=193981166, source_name='molecule_dictionary', field_name='polymer_flag', score=-1) - Hit(nid=838023372, source_name='compound_properties', field_name='qed_weighted', score=1)\n",
      "Hit(nid=193981166, source_name='molecule_dictionary', field_name='polymer_flag', score=-1) - Hit(nid=1216406969, source_name='target_dictionary', field_name='species_group_flag', score=1)\n",
      "Hit(nid=193981166, source_name='molecule_dictionary', field_name='polymer_flag', score=-1) - Hit(nid=2500388476, source_name='molecule_dictionary', field_name='topical', score=1)\n",
      "Hit(nid=1462109142, source_name='structural_alert_sets', field_name='priority', score=-1) - Hit(nid=4076221368, source_name='structural_alert_sets', field_name='alert_set_id', score=1)\n",
      "Hit(nid=1462109142, source_name='structural_alert_sets', field_name='priority', score=-1) - Hit(nid=602471671, source_name='compound_properties', field_name='rtb', score=1)\n",
      "Hit(nid=1912079117, source_name='component_sequences', field_name='tax_id', score=-1) - Hit(nid=226576660, source_name='target_dictionary', field_name='tax_id', score=1)\n",
      "Hit(nid=3941335841, source_name='drugs_vw', field_name='description', score=-1) - Hit(nid=3890889352, source_name='drugs', field_name='description', score=0.0)\n",
      "Hit(nid=422040366, source_name='product_patents', field_name='delist_flag', score=-1) - Hit(nid=3875015943, source_name='molecule_dictionary', field_name='parenteral', score=1)\n",
      "Hit(nid=422040366, source_name='product_patents', field_name='delist_flag', score=-1) - Hit(nid=590474764, source_name='activities', field_name='potential_duplicate', score=1)\n",
      "Hit(nid=422040366, source_name='product_patents', field_name='delist_flag', score=-1) - Hit(nid=3462832330, source_name='products', field_name='topical', score=1)\n",
      "Hit(nid=422040366, source_name='product_patents', field_name='delist_flag', score=-1) - Hit(nid=3598592652, source_name='molecule_dictionary', field_name='therapeutic_flag', score=1)\n",
      "Hit(nid=422040366, source_name='product_patents', field_name='delist_flag', score=-1) - Hit(nid=2263031501, source_name='molecule_dictionary', field_name='dosed_ingredient', score=1)\n",
      "Hit(nid=422040366, source_name='product_patents', field_name='delist_flag', score=-1) - Hit(nid=2896224210, source_name='compound_properties', field_name='num_lipinski_ro5_violations', score=1)\n",
      "Hit(nid=422040366, source_name='product_patents', field_name='delist_flag', score=-1) - Hit(nid=87092696, source_name='products', field_name='innovator_company', score=1)\n",
      "Hit(nid=422040366, source_name='product_patents', field_name='delist_flag', score=-1) - Hit(nid=3038966756, source_name='ligand_eff', field_name='le', score=1)\n",
      "Hit(nid=422040366, source_name='product_patents', field_name='delist_flag', score=-1) - Hit(nid=721562402, source_name='products', field_name='parenteral', score=1)\n",
      "Hit(nid=422040366, source_name='product_patents', field_name='delist_flag', score=-1) - Hit(nid=1326493156, source_name='molecule_dictionary', field_name='oral', score=1)\n",
      "Hit(nid=422040366, source_name='product_patents', field_name='delist_flag', score=-1) - Hit(nid=340079846, source_name='molecule_dictionary', field_name='max_phase', score=1)\n",
      "Hit(nid=422040366, source_name='product_patents', field_name='delist_flag', score=-1) - Hit(nid=134841193, source_name='target_components', field_name='homologue', score=1)\n",
      "Hit(nid=422040366, source_name='product_patents', field_name='delist_flag', score=-1) - Hit(nid=1360736775, source_name='molecule_dictionary', field_name='black_box_warning', score=1)\n",
      "Hit(nid=422040366, source_name='product_patents', field_name='delist_flag', score=-1) - Hit(nid=193981166, source_name='molecule_dictionary', field_name='polymer_flag', score=1)\n",
      "Hit(nid=422040366, source_name='product_patents', field_name='delist_flag', score=-1) - Hit(nid=3460856691, source_name='usan_stems', field_name='who_extra', score=1)\n",
      "Hit(nid=422040366, source_name='product_patents', field_name='delist_flag', score=-1) - Hit(nid=838023372, source_name='compound_properties', field_name='qed_weighted', score=1)\n",
      "Hit(nid=422040366, source_name='product_patents', field_name='delist_flag', score=-1) - Hit(nid=1039725926, source_name='product_patents', field_name='drug_substance_flag', score=1)\n",
      "Hit(nid=422040366, source_name='product_patents', field_name='delist_flag', score=-1) - Hit(nid=1216406969, source_name='target_dictionary', field_name='species_group_flag', score=1)\n",
      "Hit(nid=422040366, source_name='product_patents', field_name='delist_flag', score=-1) - Hit(nid=2500388476, source_name='molecule_dictionary', field_name='topical', score=1)\n",
      "Hit(nid=2274465598, source_name='compound_properties', field_name='acd_logd', score=-1) - Hit(nid=2860489946, source_name='go_classification', field_name='class_level', score=1)\n",
      "Hit(nid=2756645702, source_name='products', field_name='oral', score=-1) - Hit(nid=888621171, source_name='compound_properties', field_name='hbd_lipinski', score=1)\n",
      "Hit(nid=2756645702, source_name='products', field_name='oral', score=-1) - Hit(nid=3349334707, source_name='compound_properties', field_name='hbd', score=1)\n",
      "Hit(nid=3598592652, source_name='molecule_dictionary', field_name='therapeutic_flag', score=-1) - Hit(nid=193981166, source_name='molecule_dictionary', field_name='polymer_flag', score=1)\n",
      "Hit(nid=3598592652, source_name='molecule_dictionary', field_name='therapeutic_flag', score=-1) - Hit(nid=3875015943, source_name='molecule_dictionary', field_name='parenteral', score=1)\n",
      "Hit(nid=3598592652, source_name='molecule_dictionary', field_name='therapeutic_flag', score=-1) - Hit(nid=3462832330, source_name='products', field_name='topical', score=1)\n",
      "Hit(nid=3598592652, source_name='molecule_dictionary', field_name='therapeutic_flag', score=-1) - Hit(nid=590474764, source_name='activities', field_name='potential_duplicate', score=1)\n",
      "Hit(nid=3598592652, source_name='molecule_dictionary', field_name='therapeutic_flag', score=-1) - Hit(nid=2263031501, source_name='molecule_dictionary', field_name='dosed_ingredient', score=1)\n",
      "Hit(nid=3598592652, source_name='molecule_dictionary', field_name='therapeutic_flag', score=-1) - Hit(nid=87092696, source_name='products', field_name='innovator_company', score=1)\n",
      "Hit(nid=3598592652, source_name='molecule_dictionary', field_name='therapeutic_flag', score=-1) - Hit(nid=2896224210, source_name='compound_properties', field_name='num_lipinski_ro5_violations', score=1)\n",
      "Hit(nid=3598592652, source_name='molecule_dictionary', field_name='therapeutic_flag', score=-1) - Hit(nid=1326493156, source_name='molecule_dictionary', field_name='oral', score=1)\n",
      "Hit(nid=3598592652, source_name='molecule_dictionary', field_name='therapeutic_flag', score=-1) - Hit(nid=721562402, source_name='products', field_name='parenteral', score=1)\n",
      "Hit(nid=3598592652, source_name='molecule_dictionary', field_name='therapeutic_flag', score=-1) - Hit(nid=3038966756, source_name='ligand_eff', field_name='le', score=1)\n",
      "Hit(nid=3598592652, source_name='molecule_dictionary', field_name='therapeutic_flag', score=-1) - Hit(nid=340079846, source_name='molecule_dictionary', field_name='max_phase', score=1)\n",
      "Hit(nid=3598592652, source_name='molecule_dictionary', field_name='therapeutic_flag', score=-1) - Hit(nid=1039725926, source_name='product_patents', field_name='drug_substance_flag', score=1)\n",
      "Hit(nid=3598592652, source_name='molecule_dictionary', field_name='therapeutic_flag', score=-1) - Hit(nid=1360736775, source_name='molecule_dictionary', field_name='black_box_warning', score=1)\n",
      "Hit(nid=3598592652, source_name='molecule_dictionary', field_name='therapeutic_flag', score=-1) - Hit(nid=134841193, source_name='target_components', field_name='homologue', score=1)\n",
      "Hit(nid=3598592652, source_name='molecule_dictionary', field_name='therapeutic_flag', score=-1) - Hit(nid=422040366, source_name='product_patents', field_name='delist_flag', score=1)\n",
      "Hit(nid=3598592652, source_name='molecule_dictionary', field_name='therapeutic_flag', score=-1) - Hit(nid=3460856691, source_name='usan_stems', field_name='who_extra', score=1)\n",
      "Hit(nid=3598592652, source_name='molecule_dictionary', field_name='therapeutic_flag', score=-1) - Hit(nid=838023372, source_name='compound_properties', field_name='qed_weighted', score=1)\n",
      "Hit(nid=3598592652, source_name='molecule_dictionary', field_name='therapeutic_flag', score=-1) - Hit(nid=1216406969, source_name='target_dictionary', field_name='species_group_flag', score=1)\n",
      "Hit(nid=3598592652, source_name='molecule_dictionary', field_name='therapeutic_flag', score=-1) - Hit(nid=2500388476, source_name='molecule_dictionary', field_name='topical', score=1)\n",
      "Hit(nid=881842000, source_name='molecule_hierarchy', field_name='active_molregno', score=-1) - Hit(nid=1372457566, source_name='molecule_hierarchy', field_name='parent_molregno', score=1)\n",
      "Hit(nid=53008014, source_name='molecule_dictionary', field_name='availability_type', score=-1) - Hit(nid=2728516608, source_name='molecule_dictionary', field_name='inorganic_flag', score=1)\n",
      "Hit(nid=53008014, source_name='molecule_dictionary', field_name='availability_type', score=-1) - Hit(nid=690794884, source_name='assays', field_name='src_id', score=1)\n",
      "Hit(nid=53008014, source_name='molecule_dictionary', field_name='availability_type', score=-1) - Hit(nid=1469816517, source_name='activities', field_name='standard_flag', score=1)\n",
      "Hit(nid=53008014, source_name='molecule_dictionary', field_name='availability_type', score=-1) - Hit(nid=760549000, source_name='molecule_dictionary', field_name='first_in_class', score=1)\n",
      "Hit(nid=53008014, source_name='molecule_dictionary', field_name='availability_type', score=-1) - Hit(nid=1783483454, source_name='molecule_dictionary', field_name='prodrug', score=1)\n",
      "Hit(nid=53008014, source_name='molecule_dictionary', field_name='availability_type', score=-1) - Hit(nid=1811291602, source_name='vertice', field_name='ontology_id', score=1)\n",
      "Hit(nid=53008014, source_name='molecule_dictionary', field_name='availability_type', score=-1) - Hit(nid=2266873366, source_name='molecule_dictionary', field_name='natural_product', score=1)\n",
      "Hit(nid=53008014, source_name='molecule_dictionary', field_name='availability_type', score=-1) - Hit(nid=1369694679, source_name='drug_mechanism', field_name='disease_efficacy', score=1)\n",
      "Hit(nid=53008014, source_name='molecule_dictionary', field_name='availability_type', score=-1) - Hit(nid=1055049624, source_name='molecule_dictionary', field_name='chirality', score=1)\n",
      "Hit(nid=53008014, source_name='molecule_dictionary', field_name='availability_type', score=-1) - Hit(nid=1796642281, source_name='drug_mechanism', field_name='direct_interaction', score=1)\n",
      "Hit(nid=53008014, source_name='molecule_dictionary', field_name='availability_type', score=-1) - Hit(nid=1699088556, source_name='ontology', field_name='id', score=1)\n",
      "Hit(nid=53008014, source_name='molecule_dictionary', field_name='availability_type', score=-1) - Hit(nid=2866335884, source_name='metabolism', field_name='pathway_id', score=1)\n",
      "Hit(nid=53008014, source_name='molecule_dictionary', field_name='availability_type', score=-1) - Hit(nid=3812389298, source_name='assays', field_name='confidence_score', score=1)\n",
      "Hit(nid=53008014, source_name='molecule_dictionary', field_name='availability_type', score=-1) - Hit(nid=1927220725, source_name='drug_mechanism', field_name='molecular_mechanism', score=1)\n",
      "Hit(nid=721562402, source_name='products', field_name='parenteral', score=-1) - Hit(nid=3875015943, source_name='molecule_dictionary', field_name='parenteral', score=1)\n",
      "Hit(nid=721562402, source_name='products', field_name='parenteral', score=-1) - Hit(nid=590474764, source_name='activities', field_name='potential_duplicate', score=1)\n",
      "Hit(nid=721562402, source_name='products', field_name='parenteral', score=-1) - Hit(nid=3462832330, source_name='products', field_name='topical', score=1)\n",
      "Hit(nid=721562402, source_name='products', field_name='parenteral', score=-1) - Hit(nid=3598592652, source_name='molecule_dictionary', field_name='therapeutic_flag', score=1)\n",
      "Hit(nid=721562402, source_name='products', field_name='parenteral', score=-1) - Hit(nid=2263031501, source_name='molecule_dictionary', field_name='dosed_ingredient', score=1)\n",
      "Hit(nid=721562402, source_name='products', field_name='parenteral', score=-1) - Hit(nid=422040366, source_name='product_patents', field_name='delist_flag', score=1)\n",
      "Hit(nid=721562402, source_name='products', field_name='parenteral', score=-1) - Hit(nid=87092696, source_name='products', field_name='innovator_company', score=1)\n",
      "Hit(nid=721562402, source_name='products', field_name='parenteral', score=-1) - Hit(nid=3038966756, source_name='ligand_eff', field_name='le', score=1)\n",
      "Hit(nid=721562402, source_name='products', field_name='parenteral', score=-1) - Hit(nid=1326493156, source_name='molecule_dictionary', field_name='oral', score=1)\n",
      "Hit(nid=721562402, source_name='products', field_name='parenteral', score=-1) - Hit(nid=1039725926, source_name='product_patents', field_name='drug_substance_flag', score=1)\n",
      "Hit(nid=721562402, source_name='products', field_name='parenteral', score=-1) - Hit(nid=134841193, source_name='target_components', field_name='homologue', score=1)\n",
      "Hit(nid=721562402, source_name='products', field_name='parenteral', score=-1) - Hit(nid=1360736775, source_name='molecule_dictionary', field_name='black_box_warning', score=1)\n",
      "Hit(nid=721562402, source_name='products', field_name='parenteral', score=-1) - Hit(nid=2896224210, source_name='compound_properties', field_name='num_lipinski_ro5_violations', score=1)\n",
      "Hit(nid=721562402, source_name='products', field_name='parenteral', score=-1) - Hit(nid=193981166, source_name='molecule_dictionary', field_name='polymer_flag', score=1)\n",
      "Hit(nid=721562402, source_name='products', field_name='parenteral', score=-1) - Hit(nid=3460856691, source_name='usan_stems', field_name='who_extra', score=1)\n",
      "Hit(nid=721562402, source_name='products', field_name='parenteral', score=-1) - Hit(nid=838023372, source_name='compound_properties', field_name='qed_weighted', score=1)\n",
      "Hit(nid=721562402, source_name='products', field_name='parenteral', score=-1) - Hit(nid=340079846, source_name='molecule_dictionary', field_name='max_phase', score=1)\n",
      "Hit(nid=721562402, source_name='products', field_name='parenteral', score=-1) - Hit(nid=1216406969, source_name='target_dictionary', field_name='species_group_flag', score=1)\n",
      "Hit(nid=721562402, source_name='products', field_name='parenteral', score=-1) - Hit(nid=2500388476, source_name='molecule_dictionary', field_name='topical', score=1)\n",
      "Hit(nid=134841193, source_name='target_components', field_name='homologue', score=-1) - Hit(nid=3875015943, source_name='molecule_dictionary', field_name='parenteral', score=1)\n",
      "Hit(nid=134841193, source_name='target_components', field_name='homologue', score=-1) - Hit(nid=590474764, source_name='activities', field_name='potential_duplicate', score=1)\n",
      "Hit(nid=134841193, source_name='target_components', field_name='homologue', score=-1) - Hit(nid=3462832330, source_name='products', field_name='topical', score=1)\n",
      "Hit(nid=134841193, source_name='target_components', field_name='homologue', score=-1) - Hit(nid=3598592652, source_name='molecule_dictionary', field_name='therapeutic_flag', score=1)\n",
      "Hit(nid=134841193, source_name='target_components', field_name='homologue', score=-1) - Hit(nid=2263031501, source_name='molecule_dictionary', field_name='dosed_ingredient', score=1)\n",
      "Hit(nid=134841193, source_name='target_components', field_name='homologue', score=-1) - Hit(nid=2896224210, source_name='compound_properties', field_name='num_lipinski_ro5_violations', score=1)\n",
      "Hit(nid=134841193, source_name='target_components', field_name='homologue', score=-1) - Hit(nid=422040366, source_name='product_patents', field_name='delist_flag', score=1)\n",
      "Hit(nid=134841193, source_name='target_components', field_name='homologue', score=-1) - Hit(nid=87092696, source_name='products', field_name='innovator_company', score=1)\n",
      "Hit(nid=134841193, source_name='target_components', field_name='homologue', score=-1) - Hit(nid=3038966756, source_name='ligand_eff', field_name='le', score=1)\n",
      "Hit(nid=134841193, source_name='target_components', field_name='homologue', score=-1) - Hit(nid=721562402, source_name='products', field_name='parenteral', score=1)\n",
      "Hit(nid=134841193, source_name='target_components', field_name='homologue', score=-1) - Hit(nid=1326493156, source_name='molecule_dictionary', field_name='oral', score=1)\n",
      "Hit(nid=134841193, source_name='target_components', field_name='homologue', score=-1) - Hit(nid=1039725926, source_name='product_patents', field_name='drug_substance_flag', score=1)\n",
      "Hit(nid=134841193, source_name='target_components', field_name='homologue', score=-1) - Hit(nid=340079846, source_name='molecule_dictionary', field_name='max_phase', score=1)\n",
      "Hit(nid=134841193, source_name='target_components', field_name='homologue', score=-1) - Hit(nid=1360736775, source_name='molecule_dictionary', field_name='black_box_warning', score=1)\n",
      "Hit(nid=134841193, source_name='target_components', field_name='homologue', score=-1) - Hit(nid=193981166, source_name='molecule_dictionary', field_name='polymer_flag', score=1)\n",
      "Hit(nid=134841193, source_name='target_components', field_name='homologue', score=-1) - Hit(nid=3460856691, source_name='usan_stems', field_name='who_extra', score=1)\n",
      "Hit(nid=134841193, source_name='target_components', field_name='homologue', score=-1) - Hit(nid=838023372, source_name='compound_properties', field_name='qed_weighted', score=1)\n",
      "Hit(nid=134841193, source_name='target_components', field_name='homologue', score=-1) - Hit(nid=1216406969, source_name='target_dictionary', field_name='species_group_flag', score=1)\n",
      "Hit(nid=134841193, source_name='target_components', field_name='homologue', score=-1) - Hit(nid=2500388476, source_name='molecule_dictionary', field_name='topical', score=1)\n",
      "Hit(nid=3460856691, source_name='usan_stems', field_name='who_extra', score=-1) - Hit(nid=3875015943, source_name='molecule_dictionary', field_name='parenteral', score=1)\n",
      "Hit(nid=3460856691, source_name='usan_stems', field_name='who_extra', score=-1) - Hit(nid=3598592652, source_name='molecule_dictionary', field_name='therapeutic_flag', score=1)\n",
      "Hit(nid=3460856691, source_name='usan_stems', field_name='who_extra', score=-1) - Hit(nid=3462832330, source_name='products', field_name='topical', score=1)\n",
      "Hit(nid=3460856691, source_name='usan_stems', field_name='who_extra', score=-1) - Hit(nid=590474764, source_name='activities', field_name='potential_duplicate', score=1)\n",
      "Hit(nid=3460856691, source_name='usan_stems', field_name='who_extra', score=-1) - Hit(nid=2263031501, source_name='molecule_dictionary', field_name='dosed_ingredient', score=1)\n",
      "Hit(nid=3460856691, source_name='usan_stems', field_name='who_extra', score=-1) - Hit(nid=2896224210, source_name='compound_properties', field_name='num_lipinski_ro5_violations', score=1)\n",
      "Hit(nid=3460856691, source_name='usan_stems', field_name='who_extra', score=-1) - Hit(nid=422040366, source_name='product_patents', field_name='delist_flag', score=1)\n",
      "Hit(nid=3460856691, source_name='usan_stems', field_name='who_extra', score=-1) - Hit(nid=87092696, source_name='products', field_name='innovator_company', score=1)\n",
      "Hit(nid=3460856691, source_name='usan_stems', field_name='who_extra', score=-1) - Hit(nid=1326493156, source_name='molecule_dictionary', field_name='oral', score=1)\n",
      "Hit(nid=3460856691, source_name='usan_stems', field_name='who_extra', score=-1) - Hit(nid=721562402, source_name='products', field_name='parenteral', score=1)\n",
      "Hit(nid=3460856691, source_name='usan_stems', field_name='who_extra', score=-1) - Hit(nid=3038966756, source_name='ligand_eff', field_name='le', score=1)\n",
      "Hit(nid=3460856691, source_name='usan_stems', field_name='who_extra', score=-1) - Hit(nid=1039725926, source_name='product_patents', field_name='drug_substance_flag', score=1)\n",
      "Hit(nid=3460856691, source_name='usan_stems', field_name='who_extra', score=-1) - Hit(nid=340079846, source_name='molecule_dictionary', field_name='max_phase', score=1)\n",
      "Hit(nid=3460856691, source_name='usan_stems', field_name='who_extra', score=-1) - Hit(nid=134841193, source_name='target_components', field_name='homologue', score=1)\n",
      "Hit(nid=3460856691, source_name='usan_stems', field_name='who_extra', score=-1) - Hit(nid=1360736775, source_name='molecule_dictionary', field_name='black_box_warning', score=1)\n",
      "Hit(nid=3460856691, source_name='usan_stems', field_name='who_extra', score=-1) - Hit(nid=193981166, source_name='molecule_dictionary', field_name='polymer_flag', score=1)\n",
      "Hit(nid=3460856691, source_name='usan_stems', field_name='who_extra', score=-1) - Hit(nid=838023372, source_name='compound_properties', field_name='qed_weighted', score=1)\n",
      "Hit(nid=3460856691, source_name='usan_stems', field_name='who_extra', score=-1) - Hit(nid=1216406969, source_name='target_dictionary', field_name='species_group_flag', score=1)\n",
      "Hit(nid=3460856691, source_name='usan_stems', field_name='who_extra', score=-1) - Hit(nid=2500388476, source_name='molecule_dictionary', field_name='topical', score=1)\n",
      "Hit(nid=197170041, source_name='bio_component_sequences', field_name='component_type', score=-1) - Hit(nid=2105574822, source_name='target_type', field_name='target_type', score=2.2204460492503131e-16)\n",
      "Hit(nid=197170041, source_name='bio_component_sequences', field_name='component_type', score=-1) - Hit(nid=2097556775, source_name='confidence_score_lookup', field_name='target_mapping', score=2.2204460492503131e-16)\n",
      "Hit(nid=1164157819, source_name='activities', field_name='standard_relation', score=-1) - Hit(nid=3166988887, source_name='activities', field_name='published_relation', score=-2.2204460492503131e-16)\n",
      "Hit(nid=2763920102, source_name='products', field_name='nda_type', score=-1) - Hit(nid=1035897536, source_name='patent_use_codes', field_name='patent_use_code', score=1.0)\n",
      "Hit(nid=2763920102, source_name='products', field_name='nda_type', score=-1) - Hit(nid=1320796556, source_name='assays', field_name='relationship_type', score=1.0)\n",
      "Hit(nid=2763920102, source_name='products', field_name='nda_type', score=-1) - Hit(nid=2948285653, source_name='irac_classification', field_name='level1', score=1.0)\n",
      "Hit(nid=2763920102, source_name='products', field_name='nda_type', score=-1) - Hit(nid=1652972574, source_name='relation', field_name='status', score=1.0)\n",
      "Hit(nid=2763920102, source_name='products', field_name='nda_type', score=-1) - Hit(nid=927136298, source_name='compounds', field_name='status', score=1.0)\n",
      "Hit(nid=2763920102, source_name='products', field_name='nda_type', score=-1) - Hit(nid=513959026, source_name='compound_properties', field_name='ro3_pass', score=1.0)\n",
      "Hit(nid=2763920102, source_name='products', field_name='nda_type', score=-1) - Hit(nid=928927733, source_name='go_classification', field_name='aspect', score=1.0)\n",
      "Hit(nid=2763920102, source_name='products', field_name='nda_type', score=-1) - Hit(nid=3659419128, source_name='atc_classification', field_name='level1', score=1.0)\n",
      "Hit(nid=2763920102, source_name='products', field_name='nda_type', score=-1) - Hit(nid=1270539146, source_name='names', field_name='adapted', score=1.0)\n",
      "Hit(nid=2763920102, source_name='products', field_name='nda_type', score=-1) - Hit(nid=874131486, source_name='assays', field_name='assay_type', score=1.0)\n",
      "Hit(nid=1856206199, source_name='compound_properties', field_name='alogp', score=-1) - Hit(nid=2045017365, source_name='drug_indication', field_name='max_phase_for_ind', score=1)\n",
      "Hit(nid=4076221368, source_name='structural_alert_sets', field_name='alert_set_id', score=-1) - Hit(nid=1462109142, source_name='structural_alert_sets', field_name='priority', score=1)\n",
      "Hit(nid=4076221368, source_name='structural_alert_sets', field_name='alert_set_id', score=-1) - Hit(nid=602471671, source_name='compound_properties', field_name='rtb', score=1)\n",
      "Hit(nid=888621171, source_name='compound_properties', field_name='hbd_lipinski', score=-1) - Hit(nid=2756645702, source_name='products', field_name='oral', score=1)\n",
      "Hit(nid=888621171, source_name='compound_properties', field_name='hbd_lipinski', score=-1) - Hit(nid=3349334707, source_name='compound_properties', field_name='hbd', score=1)\n",
      "Hit(nid=2896224210, source_name='compound_properties', field_name='num_lipinski_ro5_violations', score=-1) - Hit(nid=2500388476, source_name='molecule_dictionary', field_name='topical', score=1)\n",
      "Hit(nid=2896224210, source_name='compound_properties', field_name='num_lipinski_ro5_violations', score=-1) - Hit(nid=3598592652, source_name='molecule_dictionary', field_name='therapeutic_flag', score=1)\n",
      "Hit(nid=2896224210, source_name='compound_properties', field_name='num_lipinski_ro5_violations', score=-1) - Hit(nid=3875015943, source_name='molecule_dictionary', field_name='parenteral', score=1)\n",
      "Hit(nid=2896224210, source_name='compound_properties', field_name='num_lipinski_ro5_violations', score=-1) - Hit(nid=3462832330, source_name='products', field_name='topical', score=1)\n",
      "Hit(nid=2896224210, source_name='compound_properties', field_name='num_lipinski_ro5_violations', score=-1) - Hit(nid=838023372, source_name='compound_properties', field_name='qed_weighted', score=1)\n",
      "Hit(nid=2896224210, source_name='compound_properties', field_name='num_lipinski_ro5_violations', score=-1) - Hit(nid=2263031501, source_name='molecule_dictionary', field_name='dosed_ingredient', score=1)\n",
      "Hit(nid=2896224210, source_name='compound_properties', field_name='num_lipinski_ro5_violations', score=-1) - Hit(nid=193981166, source_name='molecule_dictionary', field_name='polymer_flag', score=1)\n",
      "Hit(nid=2896224210, source_name='compound_properties', field_name='num_lipinski_ro5_violations', score=-1) - Hit(nid=87092696, source_name='products', field_name='innovator_company', score=1)\n",
      "Hit(nid=2896224210, source_name='compound_properties', field_name='num_lipinski_ro5_violations', score=-1) - Hit(nid=340079846, source_name='molecule_dictionary', field_name='max_phase', score=1)\n",
      "Hit(nid=2896224210, source_name='compound_properties', field_name='num_lipinski_ro5_violations', score=-1) - Hit(nid=721562402, source_name='products', field_name='parenteral', score=1)\n",
      "Hit(nid=2896224210, source_name='compound_properties', field_name='num_lipinski_ro5_violations', score=-1) - Hit(nid=3038966756, source_name='ligand_eff', field_name='le', score=1)\n",
      "Hit(nid=2896224210, source_name='compound_properties', field_name='num_lipinski_ro5_violations', score=-1) - Hit(nid=1039725926, source_name='product_patents', field_name='drug_substance_flag', score=1)\n",
      "Hit(nid=2896224210, source_name='compound_properties', field_name='num_lipinski_ro5_violations', score=-1) - Hit(nid=134841193, source_name='target_components', field_name='homologue', score=1)\n",
      "Hit(nid=2896224210, source_name='compound_properties', field_name='num_lipinski_ro5_violations', score=-1) - Hit(nid=1360736775, source_name='molecule_dictionary', field_name='black_box_warning', score=1)\n",
      "Hit(nid=2896224210, source_name='compound_properties', field_name='num_lipinski_ro5_violations', score=-1) - Hit(nid=1326493156, source_name='molecule_dictionary', field_name='oral', score=1)\n",
      "Hit(nid=2896224210, source_name='compound_properties', field_name='num_lipinski_ro5_violations', score=-1) - Hit(nid=422040366, source_name='product_patents', field_name='delist_flag', score=1)\n",
      "Hit(nid=2896224210, source_name='compound_properties', field_name='num_lipinski_ro5_violations', score=-1) - Hit(nid=3460856691, source_name='usan_stems', field_name='who_extra', score=1)\n",
      "Hit(nid=2896224210, source_name='compound_properties', field_name='num_lipinski_ro5_violations', score=-1) - Hit(nid=1216406969, source_name='target_dictionary', field_name='species_group_flag', score=1)\n",
      "Hit(nid=2896224210, source_name='compound_properties', field_name='num_lipinski_ro5_violations', score=-1) - Hit(nid=590474764, source_name='activities', field_name='potential_duplicate', score=1)\n",
      "Hit(nid=928927733, source_name='go_classification', field_name='aspect', score=-1) - Hit(nid=1035897536, source_name='patent_use_codes', field_name='patent_use_code', score=1.0)\n",
      "Hit(nid=928927733, source_name='go_classification', field_name='aspect', score=-1) - Hit(nid=2948285653, source_name='irac_classification', field_name='level1', score=1.0)\n",
      "Hit(nid=928927733, source_name='go_classification', field_name='aspect', score=-1) - Hit(nid=2763920102, source_name='products', field_name='nda_type', score=1.0)\n",
      "Hit(nid=928927733, source_name='go_classification', field_name='aspect', score=-1) - Hit(nid=1320796556, source_name='assays', field_name='relationship_type', score=1.0)\n",
      "Hit(nid=928927733, source_name='go_classification', field_name='aspect', score=-1) - Hit(nid=927136298, source_name='compounds', field_name='status', score=1.0)\n",
      "Hit(nid=928927733, source_name='go_classification', field_name='aspect', score=-1) - Hit(nid=513959026, source_name='compound_properties', field_name='ro3_pass', score=1.0)\n",
      "Hit(nid=928927733, source_name='go_classification', field_name='aspect', score=-1) - Hit(nid=3659419128, source_name='atc_classification', field_name='level1', score=1.0)\n",
      "Hit(nid=928927733, source_name='go_classification', field_name='aspect', score=-1) - Hit(nid=1270539146, source_name='names', field_name='adapted', score=1.0)\n",
      "Hit(nid=928927733, source_name='go_classification', field_name='aspect', score=-1) - Hit(nid=1652972574, source_name='relation', field_name='status', score=1.0)\n",
      "Hit(nid=928927733, source_name='go_classification', field_name='aspect', score=-1) - Hit(nid=874131486, source_name='assays', field_name='assay_type', score=1.0)\n",
      "Total Relation.CONTENT_SIM relations: 764\n"
     ]
    }
   ],
   "source": [
    "reporting.print_content_sim_relations()"
   ]
  },
  {
   "cell_type": "code",
   "execution_count": null,
   "metadata": {
    "collapsed": true
   },
   "outputs": [],
   "source": []
  }
 ],
 "metadata": {
  "kernelspec": {
   "display_name": "Python 3",
   "language": "python",
   "name": "python3"
  },
  "language_info": {
   "codemirror_mode": {
    "name": "ipython",
    "version": 3
   },
   "file_extension": ".py",
   "mimetype": "text/x-python",
   "name": "python",
   "nbconvert_exporter": "python",
   "pygments_lexer": "ipython3",
   "version": "3.5.0"
  }
 },
 "nbformat": 4,
 "nbformat_minor": 0
}
