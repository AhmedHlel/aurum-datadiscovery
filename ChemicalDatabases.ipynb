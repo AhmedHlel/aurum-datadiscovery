{
 "cells": [
  {
   "cell_type": "code",
   "execution_count": null,
   "metadata": {
    "collapsed": false
   },
   "outputs": [],
   "source": [
    "from main import init_system\n",
    "from api.apiutils import Relation\n",
    "api, reporting = init_system(\"/Users/ra-mit/development/discovery_proto/test/all_chemical.pickle\")"
   ]
  },
  {
   "cell_type": "markdown",
   "metadata": {},
   "source": [
    "### 1.  Find columns with schema names similar to X"
   ]
  },
  {
   "cell_type": "code",
   "execution_count": null,
   "metadata": {
    "collapsed": false
   },
   "outputs": [],
   "source": [
    "schema_name_of_interest = \"ligand\"\n",
    "res = api.schema_name_search(schema_name_of_interest)\n",
    "res.pretty_print_columns()"
   ]
  },
  {
   "cell_type": "markdown",
   "metadata": {},
   "source": [
    "### 2.  Find columns that contain value X"
   ]
  },
  {
   "cell_type": "code",
   "execution_count": null,
   "metadata": {
    "collapsed": false
   },
   "outputs": [],
   "source": [
    "res = api.keyword_search(\"caffeine\")\n",
    "res.print_columns()"
   ]
  },
  {
   "cell_type": "markdown",
   "metadata": {},
   "source": [
    "### 3.  Find columns whose content is similar to column X"
   ]
  },
  {
   "cell_type": "code",
   "execution_count": null,
   "metadata": {
    "collapsed": false
   },
   "outputs": [],
   "source": [
    "column = ('drug_interactions', 'drug_id1')\n",
    "drs_column = api.drs_from_raw_field(column)\n",
    "similar_columns = api.similar_content_to(drs_column)\n",
    "similar_columns.print_columns()"
   ]
  },
  {
   "cell_type": "markdown",
   "metadata": {},
   "source": [
    "### 4.  Find tables that contain a column with the name X"
   ]
  },
  {
   "cell_type": "code",
   "execution_count": null,
   "metadata": {
    "collapsed": false
   },
   "outputs": [],
   "source": [
    "column_name = \"ingredient\"\n",
    "res = api.schema_name_search(column_name)\n",
    "res.print_tables()"
   ]
  },
  {
   "cell_type": "markdown",
   "metadata": {},
   "source": [
    "### 5.  Find a virtual schema"
   ]
  },
  {
   "cell_type": "code",
   "execution_count": null,
   "metadata": {
    "collapsed": false
   },
   "outputs": [],
   "source": [
    "# Virtual schema: SMILES, CAS, name\n",
    "res_smiles = api.schema_name_search(\"SMILES\", max_results=100)\n",
    "res_smiles = api.table(res_smiles)\n",
    "\n",
    "res_CAS = api.schema_name_search(\"CAS\", max_results = 100)\n",
    "res_CAS = api.table(res_CAS)\n",
    "\n",
    "res_name = api.schema_name_search(\"name\", max_results = 100)\n",
    "res_name = api.table(res_name)\n",
    "\n",
    "res1 = api.intersection(res_smiles, res_CAS)\n",
    "api.table(res1)\n",
    "res2 = api.intersection(res1, res_name)\n",
    "\n",
    "real_res = api.union(res1, res2)\n",
    "\n",
    "real_res.print_tables()\n"
   ]
  },
  {
   "cell_type": "markdown",
   "metadata": {},
   "source": [
    "### 7.  Find tables that are similar to table T"
   ]
  },
  {
   "cell_type": "code",
   "execution_count": null,
   "metadata": {
    "collapsed": false
   },
   "outputs": [],
   "source": [
    "table = \"drug_indication\"\n",
    "drs_table = api.drs_from_table(table)\n",
    "res = api.similar_content_to(drs_table)\n",
    "res.print_tables()"
   ]
  },
  {
   "cell_type": "markdown",
   "metadata": {},
   "source": [
    "### 8.  Find columns on which tables X and Y join"
   ]
  },
  {
   "cell_type": "markdown",
   "metadata": {},
   "source": [
    "#### Example 1"
   ]
  },
  {
   "cell_type": "code",
   "execution_count": null,
   "metadata": {
    "collapsed": false
   },
   "outputs": [],
   "source": [
    "table1 = \"molecule_dictionary\"\n",
    "drs_t1 = api.drs_from_table(table1)\n",
    "table2 = \"ontology\"\n",
    "drs_t2 = api.drs_from_table(table2)\n",
    "res = api.paths_between(drs_t1, drs_t2, Relation.PKFK)\n",
    "res.print_columns()"
   ]
  },
  {
   "cell_type": "code",
   "execution_count": null,
   "metadata": {
    "collapsed": false
   },
   "outputs": [],
   "source": [
    "res.why_id(1699088556)"
   ]
  },
  {
   "cell_type": "code",
   "execution_count": null,
   "metadata": {
    "collapsed": false
   },
   "outputs": [],
   "source": [
    "res.how_id(1699088556)"
   ]
  },
  {
   "cell_type": "markdown",
   "metadata": {},
   "source": [
    "#### Example 2"
   ]
  },
  {
   "cell_type": "code",
   "execution_count": null,
   "metadata": {
    "collapsed": false
   },
   "outputs": [],
   "source": [
    "table1 = \"research_companies\"\n",
    "drs_t1 = api.drs_from_table(table1)\n",
    "table2 = \"research_stem\"\n",
    "drs_t2 = api.drs_from_table(table2)\n",
    "res = api.paths_between(drs_t1, drs_t2, Relation.PKFK)\n",
    "res.print_columns()"
   ]
  },
  {
   "cell_type": "markdown",
   "metadata": {},
   "source": [
    "### 9.  Find join paths between X and Y"
   ]
  },
  {
   "cell_type": "code",
   "execution_count": null,
   "metadata": {
    "collapsed": false
   },
   "outputs": [],
   "source": [
    "table1 = \"research_stem\"\n",
    "drs_t1 = api.drs_from_table(table1)\n",
    "table2 = \"usan_stems\"\n",
    "drs_t2 = api.drs_from_table(table2)\n",
    "res = api.paths_between(drs_t1, drs_t2, Relation.PKFK)\n",
    "res.paths()"
   ]
  },
  {
   "cell_type": "markdown",
   "metadata": {},
   "source": [
    "### 10. Find all tables that join on table T"
   ]
  },
  {
   "cell_type": "markdown",
   "metadata": {},
   "source": [
    "#### Example 1"
   ]
  },
  {
   "cell_type": "code",
   "execution_count": null,
   "metadata": {
    "collapsed": false
   },
   "outputs": [],
   "source": [
    "table1 = \"research_stem\"\n",
    "drs_t1 = api.drs_from_table(table1)\n",
    "res = api.pkfk_of(drs_t1)\n",
    "res.print_tables()"
   ]
  },
  {
   "cell_type": "markdown",
   "metadata": {},
   "source": [
    "#### Example 2"
   ]
  },
  {
   "cell_type": "code",
   "execution_count": null,
   "metadata": {
    "collapsed": false
   },
   "outputs": [],
   "source": [
    "table1 = \"drugs\"\n",
    "drs_t1 = api.drs_from_table(table1)\n",
    "res = api.pkfk_of(drs_t1)\n",
    "res.print_columns()"
   ]
  },
  {
   "cell_type": "markdown",
   "metadata": {},
   "source": [
    "#### Example 3"
   ]
  },
  {
   "cell_type": "code",
   "execution_count": null,
   "metadata": {
    "collapsed": false
   },
   "outputs": [],
   "source": [
    "table1 = \"drug_interactions\"\n",
    "drs_t1 = api.drs_from_table(table1)\n",
    "res = api.pkfk_of(drs_t1)\n",
    "res.print_tables()"
   ]
  },
  {
   "cell_type": "markdown",
   "metadata": {},
   "source": [
    "### 11. Find all columns that can be added to table T"
   ]
  },
  {
   "cell_type": "code",
   "execution_count": null,
   "metadata": {
    "collapsed": false
   },
   "outputs": [],
   "source": [
    "# TODO: \n",
    "table1 = \"drugs\"\n",
    "drs_t1 = api.drs_from_table(table1)\n",
    "res = api.pkfk_of(drs_t1)\n",
    "res.print_columns()"
   ]
  },
  {
   "cell_type": "code",
   "execution_count": null,
   "metadata": {
    "collapsed": false
   },
   "outputs": [],
   "source": [
    "reporting.print_pkfk_relations()"
   ]
  },
  {
   "cell_type": "code",
   "execution_count": null,
   "metadata": {
    "collapsed": false
   },
   "outputs": [],
   "source": [
    "reporting.print_content_sim_relations()"
   ]
  },
  {
   "cell_type": "code",
   "execution_count": null,
   "metadata": {
    "collapsed": true
   },
   "outputs": [],
   "source": []
  }
 ],
 "metadata": {
  "kernelspec": {
   "display_name": "Python 3",
   "language": "python",
   "name": "python3"
  },
  "language_info": {
   "codemirror_mode": {
    "name": "ipython",
    "version": 3
   },
   "file_extension": ".py",
   "mimetype": "text/x-python",
   "name": "python",
   "nbconvert_exporter": "python",
   "pygments_lexer": "ipython3",
   "version": "3.5.0"
  }
 },
 "nbformat": 4,
 "nbformat_minor": 0
}
