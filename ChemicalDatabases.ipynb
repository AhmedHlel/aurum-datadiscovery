{
 "cells": [
  {
   "cell_type": "code",
   "execution_count": 1,
   "metadata": {
    "collapsed": false
   },
   "outputs": [
    {
     "data": {
      "text/markdown": [
       "Loading: */Users/ra-mit/development/discovery_proto/models/chemical/*"
      ],
      "text/plain": [
       "<IPython.core.display.Markdown object>"
      ]
     },
     "metadata": {},
     "output_type": "display_data"
    },
    {
     "data": {
      "text/markdown": [
       "### Help Menu"
      ],
      "text/plain": [
       "<IPython.core.display.Markdown object>"
      ]
     },
     "metadata": {},
     "output_type": "display_data"
    },
    {
     "data": {
      "text/markdown": [
       "You can use the system through an **API** object. API objects are returnedby the *init_system* function, so you can get one by doing:"
      ],
      "text/plain": [
       "<IPython.core.display.Markdown object>"
      ]
     },
     "metadata": {},
     "output_type": "display_data"
    },
    {
     "data": {
      "text/markdown": [
       "***your_api_object = init_system('path_to_stored_model')***"
      ],
      "text/plain": [
       "<IPython.core.display.Markdown object>"
      ]
     },
     "metadata": {},
     "output_type": "display_data"
    },
    {
     "data": {
      "text/markdown": [
       "Once you have access to an API object there are a few concepts that are useful to use the API. **content** refers to actual values of a given field. For example, if you have a table with an attribute called __Name__ and values *Olu, Mike, Sam*, content refers to the actual values, e.g. Mike, Sam, Olu."
      ],
      "text/plain": [
       "<IPython.core.display.Markdown object>"
      ]
     },
     "metadata": {},
     "output_type": "display_data"
    },
    {
     "data": {
      "text/markdown": [
       "**schema** refers to the name of a given field. In the previous example, schema refers to the word__Name__ as that's how the field is called."
      ],
      "text/plain": [
       "<IPython.core.display.Markdown object>"
      ]
     },
     "metadata": {},
     "output_type": "display_data"
    },
    {
     "data": {
      "text/markdown": [
       "Finally, **entity** refers to the *semantic type* of the content. This is in experimental state. For the previous example it would return *'person'* as that's what those names refer to."
      ],
      "text/plain": [
       "<IPython.core.display.Markdown object>"
      ]
     },
     "metadata": {},
     "output_type": "display_data"
    },
    {
     "data": {
      "text/markdown": [
       "Certain functions require a *field* as input. In general a field is specified by the source name (e.g. table name) and the field name (e.g. attribute name). For example, if we are interested in finding content similar to the one of the attribute *year* in the table *Employee* we can provide the field in the following way:"
      ],
      "text/plain": [
       "<IPython.core.display.Markdown object>"
      ]
     },
     "metadata": {},
     "output_type": "display_data"
    },
    {
     "name": "stdout",
     "output_type": "stream",
     "text": [
      "field = ('Employee', 'year') # field = [<source_name>, <field_name>)\n",
      "Took 0.12091517448425293 to load all data\n"
     ]
    }
   ],
   "source": [
    "from main import init_system\n",
    "from api.apiutils import Relation\n",
    "api, reporting = init_system(\"/Users/ra-mit/development/discovery_proto/models/chemical/\")"
   ]
  },
  {
   "cell_type": "code",
   "execution_count": 2,
   "metadata": {
    "collapsed": false
   },
   "outputs": [
    {
     "data": {
      "text/plain": [
       "91"
      ]
     },
     "execution_count": 2,
     "metadata": {},
     "output_type": "execute_result"
    }
   ],
   "source": [
    "reporting.num_tables"
   ]
  },
  {
   "cell_type": "code",
   "execution_count": 3,
   "metadata": {
    "collapsed": false
   },
   "outputs": [
    {
     "data": {
      "text/plain": [
       "592"
      ]
     },
     "execution_count": 3,
     "metadata": {},
     "output_type": "execute_result"
    }
   ],
   "source": [
    "reporting.num_columns"
   ]
  },
  {
   "cell_type": "code",
   "execution_count": 4,
   "metadata": {
    "collapsed": false
   },
   "outputs": [
    {
     "data": {
      "text/plain": [
       "340.0"
      ]
     },
     "execution_count": 4,
     "metadata": {},
     "output_type": "execute_result"
    }
   ],
   "source": [
    "reporting.num_content_sim_relations"
   ]
  },
  {
   "cell_type": "code",
   "execution_count": 7,
   "metadata": {
    "collapsed": false
   },
   "outputs": [
    {
     "name": "stdout",
     "output_type": "stream",
     "text": [
      "('1466093309', 'drugbank', 'drugs_vw', 'description')\n"
     ]
    }
   ],
   "source": [
    "res = api.reverse_lookup('1466093309')\n",
    "for x in res: print(x)"
   ]
  },
  {
   "cell_type": "code",
   "execution_count": 8,
   "metadata": {
    "collapsed": false
   },
   "outputs": [
    {
     "name": "stdout",
     "output_type": "stream",
     "text": [
      "('958135980', 'drugbank', 'drugs', 'description')\n"
     ]
    }
   ],
   "source": [
    "res = api.reverse_lookup('958135980')\n",
    "for x in res: print(x)"
   ]
  },
  {
   "cell_type": "code",
   "execution_count": 9,
   "metadata": {
    "collapsed": false
   },
   "outputs": [
    {
     "name": "stdout",
     "output_type": "stream",
     "text": [
      "('3131975632', 'chembl_21', 'bio_component_sequences', 'component_type')\n"
     ]
    }
   ],
   "source": [
    "res = api.reverse_lookup('3131975632')\n",
    "for x in res: print(x)"
   ]
  },
  {
   "cell_type": "code",
   "execution_count": 10,
   "metadata": {
    "collapsed": false
   },
   "outputs": [
    {
     "name": "stdout",
     "output_type": "stream",
     "text": [
      "('2510671983', 'chembl_21', 'target_type', 'target_type')\n"
     ]
    }
   ],
   "source": [
    "res = api.reverse_lookup('2510671983')\n",
    "for x in res: print(x)"
   ]
  },
  {
   "cell_type": "code",
   "execution_count": 11,
   "metadata": {
    "collapsed": false
   },
   "outputs": [
    {
     "name": "stdout",
     "output_type": "stream",
     "text": [
      "('3429407118', 'chembl_21', 'confidence_score_lookup', 'target_mapping')\n"
     ]
    }
   ],
   "source": [
    "res = api.reverse_lookup('3429407118')\n",
    "for x in res: print(x)"
   ]
  },
  {
   "cell_type": "code",
   "execution_count": 12,
   "metadata": {
    "collapsed": false
   },
   "outputs": [
    {
     "name": "stdout",
     "output_type": "stream",
     "text": [
      "('1278153375', 'drugbank', 'drugs_vw', 'name')\n"
     ]
    }
   ],
   "source": [
    "res = api.reverse_lookup('1278153375')\n",
    "for x in res: print(x)"
   ]
  },
  {
   "cell_type": "code",
   "execution_count": 13,
   "metadata": {
    "collapsed": false
   },
   "outputs": [
    {
     "name": "stdout",
     "output_type": "stream",
     "text": [
      "('1052567085', 'drugbank', 'drugs', 'name')\n"
     ]
    }
   ],
   "source": [
    "res = api.reverse_lookup('1052567085')\n",
    "for x in res: print(x)"
   ]
  },
  {
   "cell_type": "code",
   "execution_count": 15,
   "metadata": {
    "collapsed": false
   },
   "outputs": [
    {
     "name": "stdout",
     "output_type": "stream",
     "text": [
      "('2586135064', 'drugbank', 'drugs_vw', 'brands')\n"
     ]
    }
   ],
   "source": [
    "res = api.reverse_lookup('2586135064')\n",
    "for x in res: print(x)"
   ]
  },
  {
   "cell_type": "code",
   "execution_count": 16,
   "metadata": {
    "collapsed": false
   },
   "outputs": [
    {
     "name": "stdout",
     "output_type": "stream",
     "text": [
      "('2586135064', 'drugbank', 'drugs_vw', 'brands')\n"
     ]
    }
   ],
   "source": [
    "res = api.reverse_lookup('2586135064')\n",
    "for x in res: print(x)"
   ]
  },
  {
   "cell_type": "code",
   "execution_count": 17,
   "metadata": {
    "collapsed": false
   },
   "outputs": [
    {
     "name": "stdout",
     "output_type": "stream",
     "text": [
      "('2114051569', 'drugbank', 'drug_brands', 'brand')\n"
     ]
    }
   ],
   "source": [
    "res = api.reverse_lookup('2114051569')\n",
    "for x in res: print(x)"
   ]
  },
  {
   "cell_type": "code",
   "execution_count": 18,
   "metadata": {
    "collapsed": false
   },
   "outputs": [
    {
     "name": "stdout",
     "output_type": "stream",
     "text": [
      "('1352537849', 'drugbank', 'drugs_vw', 'synonyms')\n"
     ]
    }
   ],
   "source": [
    "res = api.reverse_lookup('1352537849')\n",
    "for x in res: print(x)"
   ]
  },
  {
   "cell_type": "code",
   "execution_count": 19,
   "metadata": {
    "collapsed": false
   },
   "outputs": [
    {
     "name": "stdout",
     "output_type": "stream",
     "text": [
      "('2488532373', 'drugbank', 'drug_synonyms', 'synonym')\n"
     ]
    }
   ],
   "source": [
    "res = api.reverse_lookup('2488532373')\n",
    "for x in res: print(x)"
   ]
  },
  {
   "cell_type": "code",
   "execution_count": 20,
   "metadata": {
    "collapsed": false
   },
   "outputs": [
    {
     "name": "stdout",
     "output_type": "stream",
     "text": [
      "('3429407118', 'chembl_21', 'confidence_score_lookup', 'target_mapping')\n"
     ]
    }
   ],
   "source": [
    "res = api.reverse_lookup('3429407118')\n",
    "for x in res: print(x)"
   ]
  },
  {
   "cell_type": "code",
   "execution_count": 21,
   "metadata": {
    "collapsed": false
   },
   "outputs": [
    {
     "name": "stdout",
     "output_type": "stream",
     "text": [
      "('2510671983', 'chembl_21', 'target_type', 'target_type')\n"
     ]
    }
   ],
   "source": [
    "res = api.reverse_lookup('2510671983')\n",
    "for x in res: print(x)"
   ]
  },
  {
   "cell_type": "code",
   "execution_count": 22,
   "metadata": {
    "collapsed": false
   },
   "outputs": [
    {
     "name": "stdout",
     "output_type": "stream",
     "text": [
      "('3429407118', 'chembl_21', 'confidence_score_lookup', 'target_mapping')\n"
     ]
    }
   ],
   "source": [
    "res = api.reverse_lookup('3429407118')\n",
    "for x in res: print(x)"
   ]
  },
  {
   "cell_type": "code",
   "execution_count": 23,
   "metadata": {
    "collapsed": false
   },
   "outputs": [
    {
     "name": "stdout",
     "output_type": "stream",
     "text": [
      "('3131975632', 'chembl_21', 'bio_component_sequences', 'component_type')\n"
     ]
    }
   ],
   "source": [
    "res = api.reverse_lookup('3131975632')\n",
    "for x in res: print(x)"
   ]
  },
  {
   "cell_type": "code",
   "execution_count": 24,
   "metadata": {
    "collapsed": false
   },
   "outputs": [
    {
     "name": "stdout",
     "output_type": "stream",
     "text": [
      "('2261437309', 'chebi', 'compounds', 'chebi_accession')\n"
     ]
    }
   ],
   "source": [
    "res = api.reverse_lookup('2261437309')\n",
    "for x in res: print(x)"
   ]
  },
  {
   "cell_type": "code",
   "execution_count": 25,
   "metadata": {
    "collapsed": false
   },
   "outputs": [
    {
     "name": "stdout",
     "output_type": "stream",
     "text": [
      "('2647114165', 'chebi', 'vertice', 'vertice_ref')\n"
     ]
    }
   ],
   "source": [
    "res = api.reverse_lookup('2647114165')\n",
    "for x in res: print(x)"
   ]
  },
  {
   "cell_type": "code",
   "execution_count": 27,
   "metadata": {
    "collapsed": false
   },
   "outputs": [
    {
     "name": "stdout",
     "output_type": "stream",
     "text": [
      "('2261437309', 'chebi', 'compounds', 'chebi_accession')\n"
     ]
    }
   ],
   "source": [
    "res = api.reverse_lookup('2261437309')\n",
    "for x in res: print(x)"
   ]
  },
  {
   "cell_type": "code",
   "execution_count": 30,
   "metadata": {
    "collapsed": false
   },
   "outputs": [
    {
     "name": "stdout",
     "output_type": "stream",
     "text": [
      "('2376510320', 'chembl_21', 'protein_classification', 'protein_class_desc')\n"
     ]
    }
   ],
   "source": [
    "res = api.reverse_lookup('2376510320')\n",
    "for x in res: print(x)"
   ]
  },
  {
   "cell_type": "code",
   "execution_count": 31,
   "metadata": {
    "collapsed": false
   },
   "outputs": [
    {
     "name": "stdout",
     "output_type": "stream",
     "text": [
      "('1080903695', 'chembl_21', 'protein_family_classification', 'protein_class_desc')\n"
     ]
    }
   ],
   "source": [
    "res = api.reverse_lookup('1080903695')\n",
    "for x in res: print(x)"
   ]
  },
  {
   "cell_type": "code",
   "execution_count": 32,
   "metadata": {
    "collapsed": false
   },
   "outputs": [
    {
     "name": "stdout",
     "output_type": "stream",
     "text": [
      "('2510671983', 'chembl_21', 'target_type', 'target_type')\n"
     ]
    }
   ],
   "source": [
    "res = api.reverse_lookup('2510671983')\n",
    "for x in res: print(x)"
   ]
  },
  {
   "cell_type": "code",
   "execution_count": 33,
   "metadata": {
    "collapsed": false
   },
   "outputs": [
    {
     "name": "stdout",
     "output_type": "stream",
     "text": [
      "('3131975632', 'chembl_21', 'bio_component_sequences', 'component_type')\n"
     ]
    }
   ],
   "source": [
    "res = api.reverse_lookup('3131975632')\n",
    "for x in res: print(x)"
   ]
  },
  {
   "cell_type": "code",
   "execution_count": 34,
   "metadata": {
    "collapsed": false
   },
   "outputs": [
    {
     "name": "stdout",
     "output_type": "stream",
     "text": [
      "('2510671983', 'chembl_21', 'target_type', 'target_type')\n"
     ]
    }
   ],
   "source": [
    "res = api.reverse_lookup('2510671983')\n",
    "for x in res: print(x)"
   ]
  },
  {
   "cell_type": "code",
   "execution_count": 35,
   "metadata": {
    "collapsed": false
   },
   "outputs": [
    {
     "name": "stdout",
     "output_type": "stream",
     "text": [
      "('3429407118', 'chembl_21', 'confidence_score_lookup', 'target_mapping')\n"
     ]
    }
   ],
   "source": [
    "res = api.reverse_lookup('3429407118')\n",
    "for x in res: print(x)"
   ]
  },
  {
   "cell_type": "code",
   "execution_count": 36,
   "metadata": {
    "collapsed": false
   },
   "outputs": [
    {
     "name": "stdout",
     "output_type": "stream",
     "text": [
      "('2488532373', 'drugbank', 'drug_synonyms', 'synonym')\n"
     ]
    }
   ],
   "source": [
    "res = api.reverse_lookup('2488532373')\n",
    "for x in res: print(x)"
   ]
  },
  {
   "cell_type": "code",
   "execution_count": 37,
   "metadata": {
    "collapsed": false
   },
   "outputs": [
    {
     "name": "stdout",
     "output_type": "stream",
     "text": [
      "('1352537849', 'drugbank', 'drugs_vw', 'synonyms')\n"
     ]
    }
   ],
   "source": [
    "res = api.reverse_lookup('1352537849')\n",
    "for x in res: print(x)"
   ]
  },
  {
   "cell_type": "code",
   "execution_count": 38,
   "metadata": {
    "collapsed": false
   },
   "outputs": [
    {
     "name": "stdout",
     "output_type": "stream",
     "text": [
      "('1080903695', 'chembl_21', 'protein_family_classification', 'protein_class_desc')\n"
     ]
    }
   ],
   "source": [
    "res = api.reverse_lookup('1080903695')\n",
    "for x in res: print(x)"
   ]
  },
  {
   "cell_type": "code",
   "execution_count": 39,
   "metadata": {
    "collapsed": false
   },
   "outputs": [
    {
     "name": "stdout",
     "output_type": "stream",
     "text": [
      "('2376510320', 'chembl_21', 'protein_classification', 'protein_class_desc')\n"
     ]
    }
   ],
   "source": [
    "res = api.reverse_lookup('2376510320')\n",
    "for x in res: print(x)"
   ]
  },
  {
   "cell_type": "markdown",
   "metadata": {},
   "source": [
    "### 1.  Find columns with schema names similar to X"
   ]
  },
  {
   "cell_type": "code",
   "execution_count": 3,
   "metadata": {
    "collapsed": false
   },
   "outputs": [
    {
     "name": "stdout",
     "output_type": "stream",
     "text": [
      "DB: bindingdb            TABLE: BindingDB_All_clean.csv        FIELD: Ligand InChI                  \n",
      "DB: kidatabase           TABLE: KiDatabase.csv                 FIELD: Ligand ID                     \n",
      "DB: kidatabase           TABLE: KiDatabase.csv                 FIELD:  Ligand Name                  \n",
      "DB: bindingdb            TABLE: BindingDB_All_clean.csv        FIELD: Ligand SMILES                 \n",
      "DB: bindingdb            TABLE: BindingDB_All_clean.csv        FIELD: Ligand InChI Key              \n",
      "DB: bindingdb            TABLE: BindingDB_All_clean.csv        FIELD: Ligand HET ID in PDB          \n",
      "DB: bindingdb            TABLE: BindingDB_All_clean.csv        FIELD: ChEMBL ID of Ligand           \n",
      "DB: bindingdb            TABLE: BindingDB_All_clean.csv        FIELD: KEGG ID of Ligand             \n",
      "DB: bindingdb            TABLE: BindingDB_All_clean.csv        FIELD: BindingDB Ligand Name         \n",
      "DB: bindingdb            TABLE: BindingDB_All_clean.csv        FIELD: Link to Ligand-Target Pair in BindingDB\n",
      "DB: bindingdb            TABLE: BindingDB_All_clean.csv        FIELD: Link to Ligand in BindingDB   \n",
      "DB: bindingdb            TABLE: BindingDB_All_clean.csv        FIELD: ChEBI ID of Ligand            \n",
      "DB: bindingdb            TABLE: BindingDB_All_clean.csv        FIELD: DrugBank ID of Ligand         \n",
      "DB: bindingdb            TABLE: BindingDB_All_clean.csv        FIELD: IUPHAR_GRAC ID of Ligand      \n",
      "DB: bindingdb            TABLE: BindingDB_All_clean.csv        FIELD: ZINC ID of Ligand             \n",
      "DB: bindingdb            TABLE: BindingDB_All_clean.csv        FIELD: PDB ID(s) for Ligand-Target Complex\n"
     ]
    }
   ],
   "source": [
    "schema_name_of_interest = \"ligand\"\n",
    "res = api.schema_name_search(schema_name_of_interest, max_results=30)\n",
    "res.pretty_print_columns()"
   ]
  },
  {
   "cell_type": "markdown",
   "metadata": {},
   "source": [
    "### 2.  Find columns that contain value X"
   ]
  },
  {
   "cell_type": "code",
   "execution_count": 5,
   "metadata": {
    "collapsed": false
   },
   "outputs": [
    {
     "name": "stdout",
     "output_type": "stream",
     "text": [
      "DB: drugbank             TABLE: drug_interactions              FIELD: description                   \n",
      "DB: drugbank             TABLE: drug_interactions              FIELD: name                          \n",
      "DB: chembl_21            TABLE: formulations                   FIELD: ingredient                    \n",
      "DB: kidatabase           TABLE: KiDatabase.csv                 FIELD:  Ligand Name                  \n",
      "DB: chembl_21            TABLE: products                       FIELD: trade_name                    \n"
     ]
    }
   ],
   "source": [
    "res = api.keyword_search(\"caffeine\")\n",
    "res.pretty_print_columns()"
   ]
  },
  {
   "cell_type": "markdown",
   "metadata": {},
   "source": [
    "### 3.  Find columns whose content is similar to column X"
   ]
  },
  {
   "cell_type": "code",
   "execution_count": 10,
   "metadata": {
    "collapsed": false
   },
   "outputs": [],
   "source": [
    "column = ('bindingdb', 'BindingDB_All_clean.csv', 'DrugBank ID of Ligand')\n",
    "drs_column = api.drs_from_raw_field(column)\n",
    "similar_columns = api.similar_content_to(drs_column)\n",
    "similar_columns.print_columns()"
   ]
  },
  {
   "cell_type": "markdown",
   "metadata": {},
   "source": [
    "### 4.  Find tables that contain a column with the name X"
   ]
  },
  {
   "cell_type": "code",
   "execution_count": null,
   "metadata": {
    "collapsed": false
   },
   "outputs": [],
   "source": [
    "column_name = \"ingredient\"\n",
    "res = api.schema_name_search(column_name)\n",
    "res.print_tables()"
   ]
  },
  {
   "cell_type": "markdown",
   "metadata": {},
   "source": [
    "### 5.  Find a virtual schema"
   ]
  },
  {
   "cell_type": "code",
   "execution_count": null,
   "metadata": {
    "collapsed": false
   },
   "outputs": [],
   "source": [
    "# Virtual schema: SMILES, CAS, name\n",
    "res_smiles = api.schema_name_search(\"SMILES\", max_results=100)\n",
    "res_smiles = api.table(res_smiles)\n",
    "\n",
    "res_CAS = api.schema_name_search(\"CAS\", max_results = 100)\n",
    "res_CAS = api.table(res_CAS)\n",
    "\n",
    "res_name = api.schema_name_search(\"name\", max_results = 100)\n",
    "res_name = api.table(res_name)\n",
    "\n",
    "res1 = api.intersection(res_smiles, res_CAS)\n",
    "api.table(res1)\n",
    "res2 = api.intersection(res1, res_name)\n",
    "\n",
    "real_res = api.union(res1, res2)\n",
    "\n",
    "real_res.print_tables()\n"
   ]
  },
  {
   "cell_type": "markdown",
   "metadata": {},
   "source": [
    "### 7.  Find tables that are similar to table T"
   ]
  },
  {
   "cell_type": "code",
   "execution_count": null,
   "metadata": {
    "collapsed": false
   },
   "outputs": [],
   "source": [
    "table = \"drug_indication\"\n",
    "drs_table = api.drs_from_table(table)\n",
    "res = api.similar_content_to(drs_table)\n",
    "res.print_tables()"
   ]
  },
  {
   "cell_type": "markdown",
   "metadata": {},
   "source": [
    "### 8.  Find columns on which tables X and Y join"
   ]
  },
  {
   "cell_type": "markdown",
   "metadata": {},
   "source": [
    "#### Example 1"
   ]
  },
  {
   "cell_type": "code",
   "execution_count": null,
   "metadata": {
    "collapsed": false
   },
   "outputs": [],
   "source": [
    "table1 = \"molecule_dictionary\"\n",
    "drs_t1 = api.drs_from_table(table1)\n",
    "table2 = \"ontology\"\n",
    "drs_t2 = api.drs_from_table(table2)\n",
    "res = api.paths_between(drs_t1, drs_t2, Relation.PKFK)\n",
    "res.print_columns()"
   ]
  },
  {
   "cell_type": "code",
   "execution_count": null,
   "metadata": {
    "collapsed": false
   },
   "outputs": [],
   "source": [
    "res.why_id(1699088556)"
   ]
  },
  {
   "cell_type": "code",
   "execution_count": null,
   "metadata": {
    "collapsed": false
   },
   "outputs": [],
   "source": [
    "res.how_id(1699088556)"
   ]
  },
  {
   "cell_type": "markdown",
   "metadata": {},
   "source": [
    "#### Example 2"
   ]
  },
  {
   "cell_type": "code",
   "execution_count": null,
   "metadata": {
    "collapsed": false
   },
   "outputs": [],
   "source": [
    "table1 = \"research_companies\"\n",
    "drs_t1 = api.drs_from_table(table1)\n",
    "table2 = \"research_stem\"\n",
    "drs_t2 = api.drs_from_table(table2)\n",
    "res = api.paths_between(drs_t1, drs_t2, Relation.PKFK)\n",
    "res.print_columns()"
   ]
  },
  {
   "cell_type": "markdown",
   "metadata": {},
   "source": [
    "### 9.  Find join paths between X and Y"
   ]
  },
  {
   "cell_type": "code",
   "execution_count": null,
   "metadata": {
    "collapsed": false
   },
   "outputs": [],
   "source": [
    "table1 = \"research_stem\"\n",
    "drs_t1 = api.drs_from_table(table1)\n",
    "table2 = \"usan_stems\"\n",
    "drs_t2 = api.drs_from_table(table2)\n",
    "res = api.paths_between(drs_t1, drs_t2, Relation.PKFK)\n",
    "res.paths()"
   ]
  },
  {
   "cell_type": "markdown",
   "metadata": {},
   "source": [
    "### 10. Find all tables that join on table T"
   ]
  },
  {
   "cell_type": "markdown",
   "metadata": {},
   "source": [
    "#### Example 1"
   ]
  },
  {
   "cell_type": "code",
   "execution_count": null,
   "metadata": {
    "collapsed": false
   },
   "outputs": [],
   "source": [
    "table1 = \"research_stem\"\n",
    "drs_t1 = api.drs_from_table(table1)\n",
    "res = api.pkfk_of(drs_t1)\n",
    "res.print_tables()"
   ]
  },
  {
   "cell_type": "markdown",
   "metadata": {},
   "source": [
    "#### Example 2"
   ]
  },
  {
   "cell_type": "code",
   "execution_count": null,
   "metadata": {
    "collapsed": false
   },
   "outputs": [],
   "source": [
    "table1 = \"drugs\"\n",
    "drs_t1 = api.drs_from_table(table1)\n",
    "res = api.pkfk_of(drs_t1)\n",
    "res.print_columns()"
   ]
  },
  {
   "cell_type": "markdown",
   "metadata": {},
   "source": [
    "#### Example 3"
   ]
  },
  {
   "cell_type": "code",
   "execution_count": null,
   "metadata": {
    "collapsed": false
   },
   "outputs": [],
   "source": [
    "table1 = \"drug_interactions\"\n",
    "drs_t1 = api.drs_from_table(table1)\n",
    "res = api.pkfk_of(drs_t1)\n",
    "res.print_tables()"
   ]
  },
  {
   "cell_type": "markdown",
   "metadata": {},
   "source": [
    "### 11. Find all columns that can be added to table T"
   ]
  },
  {
   "cell_type": "code",
   "execution_count": null,
   "metadata": {
    "collapsed": false
   },
   "outputs": [],
   "source": [
    "# TODO: \n",
    "table1 = \"drugs\"\n",
    "drs_t1 = api.drs_from_table(table1)\n",
    "res = api.pkfk_of(drs_t1)\n",
    "res.print_columns()"
   ]
  },
  {
   "cell_type": "markdown",
   "metadata": {},
   "source": [
    "### Reporting"
   ]
  },
  {
   "cell_type": "code",
   "execution_count": 2,
   "metadata": {
    "collapsed": false
   },
   "outputs": [
    {
     "data": {
      "text/plain": [
       "91"
      ]
     },
     "execution_count": 2,
     "metadata": {},
     "output_type": "execute_result"
    }
   ],
   "source": [
    "reporting.num_tables"
   ]
  },
  {
   "cell_type": "code",
   "execution_count": 3,
   "metadata": {
    "collapsed": false
   },
   "outputs": [
    {
     "data": {
      "text/plain": [
       "592"
      ]
     },
     "execution_count": 3,
     "metadata": {},
     "output_type": "execute_result"
    }
   ],
   "source": [
    "reporting.num_columns"
   ]
  },
  {
   "cell_type": "code",
   "execution_count": 4,
   "metadata": {
    "collapsed": false
   },
   "outputs": [
    {
     "data": {
      "text/plain": [
       "568.0"
      ]
     },
     "execution_count": 4,
     "metadata": {},
     "output_type": "execute_result"
    }
   ],
   "source": [
    "reporting.num_schema_sim_relations"
   ]
  },
  {
   "cell_type": "code",
   "execution_count": 5,
   "metadata": {
    "collapsed": false
   },
   "outputs": [
    {
     "data": {
      "text/plain": [
       "340.0"
      ]
     },
     "execution_count": 5,
     "metadata": {},
     "output_type": "execute_result"
    }
   ],
   "source": [
    "reporting.num_content_sim_relations"
   ]
  },
  {
   "cell_type": "code",
   "execution_count": 6,
   "metadata": {
    "collapsed": false
   },
   "outputs": [
    {
     "data": {
      "text/plain": [
       "29.0"
      ]
     },
     "execution_count": 6,
     "metadata": {},
     "output_type": "execute_result"
    }
   ],
   "source": [
    "reporting.num_pkfk_relations"
   ]
  }
 ],
 "metadata": {
  "kernelspec": {
   "display_name": "Python 3",
   "language": "python",
   "name": "python3"
  },
  "language_info": {
   "codemirror_mode": {
    "name": "ipython",
    "version": 3
   },
   "file_extension": ".py",
   "mimetype": "text/x-python",
   "name": "python",
   "nbconvert_exporter": "python",
   "pygments_lexer": "ipython3",
   "version": "3.5.0"
  }
 },
 "nbformat": 4,
 "nbformat_minor": 0
}
