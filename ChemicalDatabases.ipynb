{
 "cells": [
  {
   "cell_type": "code",
   "execution_count": 1,
   "metadata": {
    "collapsed": false
   },
   "outputs": [
    {
     "data": {
      "text/markdown": [
       "Loading: */Users/ra-mit/development/discovery_proto/test/all_chemical.pickle*"
      ],
      "text/plain": [
       "<IPython.core.display.Markdown object>"
      ]
     },
     "metadata": {},
     "output_type": "display_data"
    },
    {
     "data": {
      "text/markdown": [
       "### Help Menu"
      ],
      "text/plain": [
       "<IPython.core.display.Markdown object>"
      ]
     },
     "metadata": {},
     "output_type": "display_data"
    },
    {
     "data": {
      "text/markdown": [
       "You can use the system through an **API** object. API objects are returnedby the *init_system* function, so you can get one by doing:"
      ],
      "text/plain": [
       "<IPython.core.display.Markdown object>"
      ]
     },
     "metadata": {},
     "output_type": "display_data"
    },
    {
     "data": {
      "text/markdown": [
       "***your_api_object = init_system('path_to_stored_model')***"
      ],
      "text/plain": [
       "<IPython.core.display.Markdown object>"
      ]
     },
     "metadata": {},
     "output_type": "display_data"
    },
    {
     "data": {
      "text/markdown": [
       "Once you have access to an API object there are a few concepts that are useful to use the API. **content** refers to actual values of a given field. For example, if you have a table with an attribute called __Name__ and values *Olu, Mike, Sam*, content refers to the actual values, e.g. Mike, Sam, Olu."
      ],
      "text/plain": [
       "<IPython.core.display.Markdown object>"
      ]
     },
     "metadata": {},
     "output_type": "display_data"
    },
    {
     "data": {
      "text/markdown": [
       "**schema** refers to the name of a given field. In the previous example, schema refers to the word__Name__ as that's how the field is called."
      ],
      "text/plain": [
       "<IPython.core.display.Markdown object>"
      ]
     },
     "metadata": {},
     "output_type": "display_data"
    },
    {
     "data": {
      "text/markdown": [
       "Finally, **entity** refers to the *semantic type* of the content. This is in experimental state. For the previous example it would return *'person'* as that's what those names refer to."
      ],
      "text/plain": [
       "<IPython.core.display.Markdown object>"
      ]
     },
     "metadata": {},
     "output_type": "display_data"
    },
    {
     "data": {
      "text/markdown": [
       "Certain functions require a *field* as input. In general a field is specified by the source name (e.g. table name) and the field name (e.g. attribute name). For example, if we are interested in finding content similar to the one of the attribute *year* in the table *Employee* we can provide the field in the following way:"
      ],
      "text/plain": [
       "<IPython.core.display.Markdown object>"
      ]
     },
     "metadata": {},
     "output_type": "display_data"
    },
    {
     "name": "stdout",
     "output_type": "stream",
     "text": [
      "field = ('Employee', 'year') # field = [<source_name>, <field_name>)\n"
     ]
    }
   ],
   "source": [
    "from main import init_system\n",
    "from api.apiutils import Relation\n",
    "api, reporting = init_system(\"/Users/ra-mit/development/discovery_proto/test/all_chemical.pickle\")"
   ]
  },
  {
   "cell_type": "markdown",
   "metadata": {},
   "source": [
    "### 1.  Find columns with schema names similar to X"
   ]
  },
  {
   "cell_type": "code",
   "execution_count": 7,
   "metadata": {
    "collapsed": false
   },
   "outputs": [
    {
     "name": "stdout",
     "output_type": "stream",
     "text": [
      "Hit(nid=-1158539825, source_name='KiDatabase.csv', field_name=' Ligand Name', score=3.1408448)\n",
      "Hit(nid=1813124701, source_name='KiDatabase.csv', field_name='Ligand ID', score=2.9459825)\n"
     ]
    }
   ],
   "source": [
    "schema_name_of_interest = \"ligand\"\n",
    "res = api.schema_name_search(schema_name_of_interest)\n",
    "res.print_columns()"
   ]
  },
  {
   "cell_type": "markdown",
   "metadata": {},
   "source": [
    "### 2.  Find columns that contain value X"
   ]
  },
  {
   "cell_type": "code",
   "execution_count": 8,
   "metadata": {
    "collapsed": false
   },
   "outputs": [
    {
     "name": "stdout",
     "output_type": "stream",
     "text": [
      "Hit(nid='-1158539825', source_name='KiDatabase.csv', field_name=' Ligand Name', score=0.40522423)\n",
      "Hit(nid='1165321500', source_name='drug_interactions', field_name='description', score=0.2963111)\n",
      "Hit(nid='147483850', source_name='formulations', field_name='ingredient', score=0.27028728)\n",
      "Hit(nid='1984994667', source_name='drug_interactions', field_name='name', score=0.26401526)\n",
      "Hit(nid='1829363994', source_name='BindingDB_All_clean.csv', field_name='BindingDB Ligand Name', score=0.26348928)\n",
      "Hit(nid='-1899566326', source_name='reference', field_name='reference_name', score=0.25669906)\n"
     ]
    }
   ],
   "source": [
    "res = api.keyword_search(\"caffeine\")\n",
    "res.print_columns()"
   ]
  },
  {
   "cell_type": "markdown",
   "metadata": {},
   "source": [
    "### 3.  Find columns whose content is similar to column X"
   ]
  },
  {
   "cell_type": "code",
   "execution_count": 24,
   "metadata": {
    "collapsed": false
   },
   "outputs": [
    {
     "name": "stdout",
     "output_type": "stream",
     "text": [
      "Hit(nid=833022543, source_name='drug_ints_vw', field_name='drug_ids2', score=-4.4408920985006262e-16)\n"
     ]
    }
   ],
   "source": [
    "column = ('drug_interactions', 'drug_id1')\n",
    "drs_column = api.drs_from_raw_field(column)\n",
    "similar_columns = api.similar_content_to(drs_column)\n",
    "similar_columns.print_columns()"
   ]
  },
  {
   "cell_type": "markdown",
   "metadata": {},
   "source": [
    "### 4.  Find tables that contain a column with the name X"
   ]
  },
  {
   "cell_type": "code",
   "execution_count": 25,
   "metadata": {
    "collapsed": false
   },
   "outputs": [
    {
     "name": "stdout",
     "output_type": "stream",
     "text": [
      "formulations\n"
     ]
    }
   ],
   "source": [
    "column_name = \"ingredient\"\n",
    "res = api.schema_name_search(column_name)\n",
    "res.print_tables()"
   ]
  },
  {
   "cell_type": "markdown",
   "metadata": {},
   "source": [
    "### 5.  Find a virtual schema"
   ]
  },
  {
   "cell_type": "code",
   "execution_count": 79,
   "metadata": {
    "collapsed": false
   },
   "outputs": [],
   "source": [
    "# Virtual schema: SMILES, CAS, name\n",
    "res_smiles = api.schema_name_search(\"definition\", max_results=100)\n",
    "res_smiles = api.table(res_smiles)\n",
    "\n",
    "\n",
    "res_CAS = api.schema_name_search(\"id\", max_results = 100)\n",
    "res_CAS = api.table(res_CAS)\n",
    "\n",
    "#res1 = api.intersection(res_smiles, res_CAS)\n",
    "res1 = res_smiles.intersection(res_CAS)\n",
    "\n"
   ]
  },
  {
   "cell_type": "markdown",
   "metadata": {},
   "source": [
    "### 7.  Find tables that are similar to table T"
   ]
  },
  {
   "cell_type": "code",
   "execution_count": 89,
   "metadata": {
    "collapsed": false
   },
   "outputs": [
    {
     "name": "stdout",
     "output_type": "stream",
     "text": [
      "Hit(nid=1856206199, source_name='compound_properties', field_name='alogp', score=1)\n"
     ]
    }
   ],
   "source": [
    "table = \"drug_indication\"\n",
    "drs_table = api.drs_from_table(table)\n",
    "res = api.similar_content_to(drs_table)\n",
    "res.print_columns()"
   ]
  },
  {
   "cell_type": "code",
   "execution_count": null,
   "metadata": {
    "collapsed": true
   },
   "outputs": [],
   "source": []
  },
  {
   "cell_type": "code",
   "execution_count": 85,
   "metadata": {
    "collapsed": false
   },
   "outputs": [
    {
     "name": "stdout",
     "output_type": "stream",
     "text": [
      "Hit(nid='-986719093', source_name='drug_indication', field_name='mesh_heading', score=0.13198571)\n",
      "Hit(nid='610057848', source_name='drug_indication', field_name='efo_term', score=0.12845604)\n",
      "Hit(nid='1576408612', source_name='database_accession', field_name='accession_number', score=0.06734351)\n",
      "Hit(nid='-681264508', source_name='drug_synonyms', field_name='synonym', score=0.06402815)\n",
      "Hit(nid='132354739', source_name='compounds', field_name='name', score=0.056199517)\n",
      "Hit(nid='-890991569', source_name='drugs_vw', field_name='description', score=0.05456271)\n",
      "Hit(nid='1606913353', source_name='drugs', field_name='description', score=0.05241249)\n",
      "Hit(nid='1252158931', source_name='names', field_name='name', score=0.048171014)\n",
      "Hit(nid='-1899566326', source_name='reference', field_name='reference_name', score=0.048036844)\n"
     ]
    }
   ],
   "source": [
    "res = api.keyword_search(\"heroin\")\n",
    "res.print_columns()"
   ]
  },
  {
   "cell_type": "code",
   "execution_count": null,
   "metadata": {
    "collapsed": true
   },
   "outputs": [],
   "source": []
  }
 ],
 "metadata": {
  "kernelspec": {
   "display_name": "Python 3",
   "language": "python",
   "name": "python3"
  },
  "language_info": {
   "codemirror_mode": {
    "name": "ipython",
    "version": 3
   },
   "file_extension": ".py",
   "mimetype": "text/x-python",
   "name": "python",
   "nbconvert_exporter": "python",
   "pygments_lexer": "ipython3",
   "version": "3.5.0"
  }
 },
 "nbformat": 4,
 "nbformat_minor": 0
}
