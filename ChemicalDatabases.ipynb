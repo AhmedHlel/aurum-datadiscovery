{
 "cells": [
  {
   "cell_type": "code",
   "execution_count": 1,
   "metadata": {
    "collapsed": false
   },
   "outputs": [
    {
     "data": {
      "text/markdown": [
       "Loading: */Users/ra-mit/development/discovery_proto/test/chembl21_drugbank_chebi_bindingdb.pickle*"
      ],
      "text/plain": [
       "<IPython.core.display.Markdown object>"
      ]
     },
     "metadata": {},
     "output_type": "display_data"
    },
    {
     "data": {
      "text/markdown": [
       "### Help Menu"
      ],
      "text/plain": [
       "<IPython.core.display.Markdown object>"
      ]
     },
     "metadata": {},
     "output_type": "display_data"
    },
    {
     "data": {
      "text/markdown": [
       "You can use the system through an **API** object. API objects are returnedby the *init_system* function, so you can get one by doing:"
      ],
      "text/plain": [
       "<IPython.core.display.Markdown object>"
      ]
     },
     "metadata": {},
     "output_type": "display_data"
    },
    {
     "data": {
      "text/markdown": [
       "***your_api_object = init_system('path_to_stored_model')***"
      ],
      "text/plain": [
       "<IPython.core.display.Markdown object>"
      ]
     },
     "metadata": {},
     "output_type": "display_data"
    },
    {
     "data": {
      "text/markdown": [
       "Once you have access to an API object there are a few concepts that are useful to use the API. **content** refers to actual values of a given field. For example, if you have a table with an attribute called __Name__ and values *Olu, Mike, Sam*, content refers to the actual values, e.g. Mike, Sam, Olu."
      ],
      "text/plain": [
       "<IPython.core.display.Markdown object>"
      ]
     },
     "metadata": {},
     "output_type": "display_data"
    },
    {
     "data": {
      "text/markdown": [
       "**schema** refers to the name of a given field. In the previous example, schema refers to the word__Name__ as that's how the field is called."
      ],
      "text/plain": [
       "<IPython.core.display.Markdown object>"
      ]
     },
     "metadata": {},
     "output_type": "display_data"
    },
    {
     "data": {
      "text/markdown": [
       "Finally, **entity** refers to the *semantic type* of the content. This is in experimental state. For the previous example it would return *'person'* as that's what those names refer to."
      ],
      "text/plain": [
       "<IPython.core.display.Markdown object>"
      ]
     },
     "metadata": {},
     "output_type": "display_data"
    },
    {
     "data": {
      "text/markdown": [
       "Certain functions require a *field* as input. In general a field is specified by the source name (e.g. table name) and the field name (e.g. attribute name). For example, if we are interested in finding content similar to the one of the attribute *year* in the table *Employee* we can provide the field in the following way:"
      ],
      "text/plain": [
       "<IPython.core.display.Markdown object>"
      ]
     },
     "metadata": {},
     "output_type": "display_data"
    },
    {
     "name": "stdout",
     "output_type": "stream",
     "text": [
      "field = ('Employee', 'year') # field = [<source_name>, <field_name>)\n"
     ]
    }
   ],
   "source": [
    "from main import init_system\n",
    "from api.apiutils import Relation\n",
    "api = init_system(\"/Users/ra-mit/development/discovery_proto/test/chembl21_drugbank_chebi_bindingdb.pickle\")"
   ]
  },
  {
   "cell_type": "code",
   "execution_count": 3,
   "metadata": {
    "collapsed": false
   },
   "outputs": [
    {
     "name": "stdout",
     "output_type": "stream",
     "text": [
      "Hit(nid='1165321500', source_name='drug_interactions', field_name='description', score=0.7691053)\n",
      "Hit(nid='147483850', source_name='formulations', field_name='ingredient', score=0.71199304)\n",
      "Hit(nid='147483850', source_name='formulations', field_name='ingredient', score=0.5938432)\n",
      "Hit(nid='147483850', source_name='formulations', field_name='ingredient', score=0.56489724)\n",
      "Hit(nid='-397740983', source_name='molecule_synonyms', field_name='synonyms', score=0.56039596)\n",
      "Hit(nid='-397740983', source_name='molecule_synonyms', field_name='synonyms', score=0.528413)\n",
      "Hit(nid='427418858', source_name='products', field_name='trade_name', score=0.50023043)\n",
      "Hit(nid='427418858', source_name='products', field_name='trade_name', score=0.4040715)\n",
      "Hit(nid='147483850', source_name='formulations', field_name='ingredient', score=0.4040715)\n",
      "Hit(nid='1661243416', source_name='molecule_dictionary', field_name='pref_name', score=0.40260035)\n"
     ]
    }
   ],
   "source": [
    "res = api.keyword_search(\"caffeine\")\n",
    "res.print_columns()"
   ]
  },
  {
   "cell_type": "code",
   "execution_count": 11,
   "metadata": {
    "collapsed": false
   },
   "outputs": [
    {
     "name": "stdout",
     "output_type": "stream",
     "text": [
      "ontology\n",
      "target_components\n",
      "target_dictionary\n",
      "vertice\n",
      "ligand_eff\n",
      "metabolism\n",
      "products\n",
      "usan_stems\n",
      "molecule_dictionary\n",
      "drug_mechanism\n",
      "compound_properties\n",
      "assays\n",
      "product_patents\n"
     ]
    }
   ],
   "source": [
    "table = \"molecule_dictionary\"\n",
    "drs_table = api.drs_from_table(table)\n",
    "similar_tables = api.similar_content_to(drs_table)\n",
    "similar_tables.print_tables()"
   ]
  },
  {
   "cell_type": "code",
   "execution_count": 12,
   "metadata": {
    "collapsed": false
   },
   "outputs": [
    {
     "name": "stdout",
     "output_type": "stream",
     "text": [
      "biotherapeutics\n",
      "formulations\n",
      "compound_records\n",
      "drug_mechanism\n",
      "protein_classification\n",
      "molecule_frac_classification\n",
      "target_dictionary\n",
      "biotherapeutic_components\n",
      "compound_properties\n",
      "assays\n",
      "molecule_hrac_classification\n",
      "chembl_id_lookup\n",
      "molecule_atc_classification\n",
      "compound_structural_alerts\n",
      "molecule_synonyms\n",
      "go_classification\n",
      "cell_dictionary\n",
      "products\n",
      "molecule_irac_classification\n",
      "drug_indication\n",
      "docs\n",
      "molecule_hierarchy\n"
     ]
    }
   ],
   "source": [
    "table = \"molecule_dictionary\"\n",
    "drs_table = api.drs_from_table(table)\n",
    "similar_tables = api.similar_schema_name_to(drs_table)\n",
    "similar_tables.print_tables()"
   ]
  },
  {
   "cell_type": "code",
   "execution_count": 16,
   "metadata": {
    "collapsed": false,
    "scrolled": true
   },
   "outputs": [
    {
     "name": "stdout",
     "output_type": "stream",
     "text": [
      "Hit(nid=1424199745, source_name='data_validity_lookup', field_name='description', score=0.0)\n",
      "Hit(nid=3941335841, source_name='drugs_vw', field_name='description', score=0.0)\n",
      "Hit(nid=1106713799, source_name='biotherapeutics', field_name='description', score=0.0)\n",
      "Hit(nid=3890889352, source_name='drugs', field_name='description', score=0.0)\n",
      "Hit(nid=845373320, source_name='parameter_type', field_name='description', score=0.0)\n",
      "Hit(nid=1891512332, source_name='action_type', field_name='description', score=0.0)\n",
      "Hit(nid=408355149, source_name='confidence_score_lookup', field_name='description', score=0.0)\n",
      "Hit(nid=20714259, source_name='bio_component_sequences', field_name='description', score=0.0)\n",
      "Hit(nid=1490727572, source_name='curation_lookup', field_name='description', score=0.0)\n",
      "Hit(nid=2770821171, source_name='assays', field_name='description', score=0.0)\n",
      "Hit(nid=2642382261, source_name='component_sequences', field_name='description', score=0.0)\n"
     ]
    }
   ],
   "source": [
    "field = (\"drug_interactions\", \"description\")\n",
    "drs_field = api.drs_from_raw_field(field)\n",
    "similar = api.similar_schema_name_to(drs_field)\n",
    "similar.print_columns()"
   ]
  },
  {
   "cell_type": "code",
   "execution_count": null,
   "metadata": {
    "collapsed": true
   },
   "outputs": [],
   "source": []
  }
 ],
 "metadata": {
  "kernelspec": {
   "display_name": "Python 3",
   "language": "python",
   "name": "python3"
  },
  "language_info": {
   "codemirror_mode": {
    "name": "ipython",
    "version": 3
   },
   "file_extension": ".py",
   "mimetype": "text/x-python",
   "name": "python",
   "nbconvert_exporter": "python",
   "pygments_lexer": "ipython3",
   "version": "3.5.0"
  }
 },
 "nbformat": 4,
 "nbformat_minor": 0
}
