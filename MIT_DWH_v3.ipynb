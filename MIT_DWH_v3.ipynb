{
 "cells": [
  {
   "cell_type": "code",
   "execution_count": null,
   "metadata": {
    "collapsed": false
   },
   "outputs": [],
   "source": [
    "from main import init_system\n",
    "from api.apiutils import Relation\n",
    "api, reporting = init_system(\"/Users/ra-mit/development/discovery_proto/test/mitdwh.pickle\")"
   ]
  },
  {
   "cell_type": "code",
   "execution_count": null,
   "metadata": {
    "collapsed": true
   },
   "outputs": [],
   "source": [
    "%matplotlib inline"
   ]
  },
  {
   "cell_type": "markdown",
   "metadata": {},
   "source": [
    "## Discovery Functions"
   ]
  },
  {
   "cell_type": "markdown",
   "metadata": {},
   "source": [
    "### Similar Tables"
   ]
  },
  {
   "cell_type": "code",
   "execution_count": null,
   "metadata": {
    "collapsed": false
   },
   "outputs": [],
   "source": [
    "table = \"Fac_building.csv\"  # The table of interest\n",
    "table_drs = api.drs_from_table(table)  # We get the representation of that table in DRS\n",
    "similar_tables = api.similar_content_to(table_drs)  # similar tables are those with similar content"
   ]
  },
  {
   "cell_type": "code",
   "execution_count": null,
   "metadata": {
    "collapsed": false
   },
   "outputs": [],
   "source": [
    "similar_tables.set_table_mode()  # We are interested in seeing tables, so we set the appropriate mode in DRS\n",
    "for x in similar_tables:\n",
    "    print(x)"
   ]
  },
  {
   "cell_type": "markdown",
   "metadata": {},
   "source": [
    "Although for convenience, DRS objects has methods \"print_tables()\" and \"print_columns()\" that we use from now on"
   ]
  },
  {
   "cell_type": "code",
   "execution_count": null,
   "metadata": {
    "collapsed": false
   },
   "outputs": [],
   "source": [
    "similar_tables.print_tables()"
   ]
  },
  {
   "cell_type": "code",
   "execution_count": null,
   "metadata": {
    "collapsed": false
   },
   "outputs": [],
   "source": [
    "similar_tables.pretty_print_columns()"
   ]
  },
  {
   "cell_type": "markdown",
   "metadata": {},
   "source": [
    "**We want to tune our definition of \"similar table\", we want both content and schema names to be similar**"
   ]
  },
  {
   "cell_type": "code",
   "execution_count": null,
   "metadata": {
    "collapsed": false
   },
   "outputs": [],
   "source": [
    "table = \"Fac_building.csv\"  # The table of interest\n",
    "table_drs = api.drs_from_table(table)  # We get the representation of that table in DRS\n",
    "content_similar = api.similar_content_to(table_drs)  # similar tables are those with similar content\n",
    "schema_similar = api.similar_schema_name_to(table_drs)\n",
    "similar_tables = api.intersection(content_similar, schema_similar)"
   ]
  },
  {
   "cell_type": "code",
   "execution_count": null,
   "metadata": {
    "collapsed": false
   },
   "outputs": [],
   "source": [
    "similar_tables.print_tables()"
   ]
  },
  {
   "cell_type": "markdown",
   "metadata": {},
   "source": [
    "**A table is similar to one of reference when content, schema are similar and there's also some PKFK relationship involved**"
   ]
  },
  {
   "cell_type": "code",
   "execution_count": null,
   "metadata": {
    "collapsed": false
   },
   "outputs": [],
   "source": [
    "table = \"Fac_building.csv\"  # The table of interest\n",
    "table_drs = api.drs_from_table(table)  # We get the representation of that table in DRS\n",
    "content_similar = api.similar_content_to(table_drs)  # similar tables are those with similar content\n",
    "schema_similar = api.similar_schema_name_to(table_drs)  # similar attribute names\n",
    "pkfk_similar = api.pkfk_of(table_drs) # some pkfk relationship involved too\n",
    "inters1 = api.intersection(content_similar, schema_similar) # similar tables are similar in content and schema\n",
    "similar_tables = api.intersection(inters1, pkfk_similar)"
   ]
  },
  {
   "cell_type": "code",
   "execution_count": null,
   "metadata": {
    "collapsed": false
   },
   "outputs": [],
   "source": [
    "similar_tables.print_tables()"
   ]
  },
  {
   "cell_type": "code",
   "execution_count": null,
   "metadata": {
    "collapsed": false
   },
   "outputs": [],
   "source": [
    "similar_tables.visualize_provenance()"
   ]
  },
  {
   "cell_type": "markdown",
   "metadata": {},
   "source": [
    "**Trying it out with different tables: \"Fctlt_building_hist_1.csv\"**"
   ]
  },
  {
   "cell_type": "code",
   "execution_count": null,
   "metadata": {
    "collapsed": false
   },
   "outputs": [],
   "source": [
    "table = \"Fclt_building_hist_1.csv\"  # The table of interest\n",
    "table_drs = api.drs_from_table(table)  # We get the representation of that table in DRS\n",
    "content_similar = api.similar_content_to(table_drs)  # similar tables are those with similar content\n",
    "schema_similar = api.similar_schema_name_to(table_drs)  # similar attribute names\n",
    "pkfk_similar = api.pkfk_of(table_drs) # some pkfk relationship involved too\n",
    "inters1 = api.intersection(content_similar, schema_similar) # similar tables are similar in content and schema\n",
    "similar_tables = api.intersection(inters1, pkfk_similar)"
   ]
  },
  {
   "cell_type": "code",
   "execution_count": null,
   "metadata": {
    "collapsed": false
   },
   "outputs": [],
   "source": [
    "similar_tables.print_tables()"
   ]
  },
  {
   "cell_type": "markdown",
   "metadata": {},
   "source": [
    "**Trying it out with different tables: \"Iap_subject_detail.csv\"**"
   ]
  },
  {
   "cell_type": "code",
   "execution_count": null,
   "metadata": {
    "collapsed": true
   },
   "outputs": [],
   "source": [
    "table = \"Iap_subject_detail.csv\"  # The table of interest\n",
    "table_drs = api.drs_from_table(table)  # We get the representation of that table in DRS\n",
    "similar_tables = api.similar_content_to(table_drs)  # similar tables are those with similar content"
   ]
  },
  {
   "cell_type": "code",
   "execution_count": null,
   "metadata": {
    "collapsed": false
   },
   "outputs": [],
   "source": [
    "similar_tables.print_tables()"
   ]
  },
  {
   "cell_type": "code",
   "execution_count": null,
   "metadata": {
    "collapsed": false
   },
   "outputs": [],
   "source": [
    "table = \"Iap_subject_detail.csv\"  # The table of interest\n",
    "table_drs = api.drs_from_table(table)  # We get the representation of that table in DRS\n",
    "content_similar = api.similar_content_to(table_drs)  # similar tables are those with similar content\n",
    "schema_similar = api.similar_schema_name_to(table_drs)  # similar attribute names\n",
    "similar_tables = api.intersection(content_similar, schema_similar)"
   ]
  },
  {
   "cell_type": "code",
   "execution_count": null,
   "metadata": {
    "collapsed": false
   },
   "outputs": [],
   "source": [
    "similar_tables.print_tables()"
   ]
  },
  {
   "cell_type": "markdown",
   "metadata": {},
   "source": [
    "### Schema Complement"
   ]
  },
  {
   "cell_type": "markdown",
   "metadata": {},
   "source": [
    "Given some table of reference, I want to know with which attributes I can extend it"
   ]
  },
  {
   "cell_type": "code",
   "execution_count": null,
   "metadata": {
    "collapsed": false
   },
   "outputs": [],
   "source": [
    "table = \"short_cis_course_catalog.csv\"  # The table of interest\n",
    "table_drs = api.drs_from_table(table)  # We get the representation of that table in DRS\n",
    "joinable_tables = api.pkfk_of(table_drs)\n",
    "all_attributes = api.drs_expand_to_table(joinable_tables)\n",
    "attrs_to_extend = api.difference(all_attributes, table_drs)"
   ]
  },
  {
   "cell_type": "code",
   "execution_count": null,
   "metadata": {
    "collapsed": false
   },
   "outputs": [],
   "source": [
    "attrs_to_extend.print_columns()"
   ]
  },
  {
   "cell_type": "markdown",
   "metadata": {},
   "source": [
    "### Join Path"
   ]
  },
  {
   "cell_type": "markdown",
   "metadata": {},
   "source": [
    "Given two tables of reference I want to know if I can join them directly or through some other tables"
   ]
  },
  {
   "cell_type": "code",
   "execution_count": null,
   "metadata": {
    "collapsed": false
   },
   "outputs": [],
   "source": [
    "table1_name = \"Drupal_employee_directory.csv\"\n",
    "table2_name = \"Employee_directory.csv\"\n",
    "table1 = api.drs_from_table(table1_name)\n",
    "table2 = api.drs_from_table(table2_name)\n",
    "paths = api.paths_between(table1, table2, Relation.PKFK)"
   ]
  },
  {
   "cell_type": "code",
   "execution_count": null,
   "metadata": {
    "collapsed": false
   },
   "outputs": [],
   "source": [
    "res = paths.paths()\n",
    "for r in res:\n",
    "    print(str(r))"
   ]
  },
  {
   "cell_type": "code",
   "execution_count": null,
   "metadata": {
    "collapsed": false
   },
   "outputs": [],
   "source": [
    "paths.visualize_provenance()"
   ]
  },
  {
   "cell_type": "code",
   "execution_count": null,
   "metadata": {
    "collapsed": true
   },
   "outputs": [],
   "source": [
    "table1_name = \"Drupal_employee_directory.csv\"\n",
    "table2_name = \"Employee_directory.csv\"\n",
    "table1 = api.drs_from_table(table1_name)\n",
    "table2 = api.drs_from_table(table2_name)\n",
    "paths = api.paths_between(table1, table2, Relation.CONTENT_SIM)"
   ]
  },
  {
   "cell_type": "code",
   "execution_count": null,
   "metadata": {
    "collapsed": false
   },
   "outputs": [],
   "source": [
    "paths.print_tables()"
   ]
  },
  {
   "cell_type": "code",
   "execution_count": null,
   "metadata": {
    "collapsed": false
   },
   "outputs": [],
   "source": [
    "paths.visualize_provenance()"
   ]
  },
  {
   "cell_type": "markdown",
   "metadata": {
    "collapsed": true
   },
   "source": [
    "## Reporting"
   ]
  },
  {
   "cell_type": "markdown",
   "metadata": {
    "collapsed": true
   },
   "source": [
    "### Visualizations"
   ]
  },
  {
   "cell_type": "code",
   "execution_count": null,
   "metadata": {
    "collapsed": false
   },
   "outputs": [],
   "source": [
    "res = api.keyword_search(\"Madden\")"
   ]
  },
  {
   "cell_type": "code",
   "execution_count": null,
   "metadata": {
    "collapsed": false
   },
   "outputs": [],
   "source": [
    "res.print_columns()"
   ]
  },
  {
   "cell_type": "code",
   "execution_count": null,
   "metadata": {
    "collapsed": false
   },
   "outputs": [],
   "source": [
    "res.visualize_provenance(labels=True)"
   ]
  },
  {
   "cell_type": "markdown",
   "metadata": {
    "collapsed": true
   },
   "source": [
    "### Data about the network"
   ]
  },
  {
   "cell_type": "code",
   "execution_count": null,
   "metadata": {
    "collapsed": false
   },
   "outputs": [],
   "source": [
    "reporting.num_columns"
   ]
  },
  {
   "cell_type": "code",
   "execution_count": null,
   "metadata": {
    "collapsed": false
   },
   "outputs": [],
   "source": [
    "reporting.num_tables"
   ]
  },
  {
   "cell_type": "code",
   "execution_count": null,
   "metadata": {
    "collapsed": false
   },
   "outputs": [],
   "source": [
    "reporting.num_content_sim_relations"
   ]
  },
  {
   "cell_type": "code",
   "execution_count": null,
   "metadata": {
    "collapsed": false
   },
   "outputs": [],
   "source": [
    "reporting.num_schema_sim_relations"
   ]
  },
  {
   "cell_type": "code",
   "execution_count": null,
   "metadata": {
    "collapsed": false
   },
   "outputs": [],
   "source": [
    "reporting.num_pkfk_relations"
   ]
  },
  {
   "cell_type": "code",
   "execution_count": null,
   "metadata": {
    "collapsed": true
   },
   "outputs": [],
   "source": []
  }
 ],
 "metadata": {
  "kernelspec": {
   "display_name": "Python 3",
   "language": "python",
   "name": "python3"
  },
  "language_info": {
   "codemirror_mode": {
    "name": "ipython",
    "version": 3
   },
   "file_extension": ".py",
   "mimetype": "text/x-python",
   "name": "python",
   "nbconvert_exporter": "python",
   "pygments_lexer": "ipython3",
   "version": "3.5.0"
  }
 },
 "nbformat": 4,
 "nbformat_minor": 0
}
