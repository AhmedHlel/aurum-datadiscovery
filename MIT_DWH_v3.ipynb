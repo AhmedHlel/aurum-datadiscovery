{
 "cells": [
  {
   "cell_type": "code",
   "execution_count": 1,
   "metadata": {
    "collapsed": false
   },
   "outputs": [
    {
     "data": {
      "text/markdown": [
       "Loading: */Users/ra-mit/development/discovery_proto/test/mitdwh.pickle*"
      ],
      "text/plain": [
       "<IPython.core.display.Markdown object>"
      ]
     },
     "metadata": {},
     "output_type": "display_data"
    },
    {
     "data": {
      "text/markdown": [
       "### Help Menu"
      ],
      "text/plain": [
       "<IPython.core.display.Markdown object>"
      ]
     },
     "metadata": {},
     "output_type": "display_data"
    },
    {
     "data": {
      "text/markdown": [
       "You can use the system through an **API** object. API objects are returnedby the *init_system* function, so you can get one by doing:"
      ],
      "text/plain": [
       "<IPython.core.display.Markdown object>"
      ]
     },
     "metadata": {},
     "output_type": "display_data"
    },
    {
     "data": {
      "text/markdown": [
       "***your_api_object = init_system('path_to_stored_model')***"
      ],
      "text/plain": [
       "<IPython.core.display.Markdown object>"
      ]
     },
     "metadata": {},
     "output_type": "display_data"
    },
    {
     "data": {
      "text/markdown": [
       "Once you have access to an API object there are a few concepts that are useful to use the API. **content** refers to actual values of a given field. For example, if you have a table with an attribute called __Name__ and values *Olu, Mike, Sam*, content refers to the actual values, e.g. Mike, Sam, Olu."
      ],
      "text/plain": [
       "<IPython.core.display.Markdown object>"
      ]
     },
     "metadata": {},
     "output_type": "display_data"
    },
    {
     "data": {
      "text/markdown": [
       "**schema** refers to the name of a given field. In the previous example, schema refers to the word__Name__ as that's how the field is called."
      ],
      "text/plain": [
       "<IPython.core.display.Markdown object>"
      ]
     },
     "metadata": {},
     "output_type": "display_data"
    },
    {
     "data": {
      "text/markdown": [
       "Finally, **entity** refers to the *semantic type* of the content. This is in experimental state. For the previous example it would return *'person'* as that's what those names refer to."
      ],
      "text/plain": [
       "<IPython.core.display.Markdown object>"
      ]
     },
     "metadata": {},
     "output_type": "display_data"
    },
    {
     "data": {
      "text/markdown": [
       "Certain functions require a *field* as input. In general a field is specified by the source name (e.g. table name) and the field name (e.g. attribute name). For example, if we are interested in finding content similar to the one of the attribute *year* in the table *Employee* we can provide the field in the following way:"
      ],
      "text/plain": [
       "<IPython.core.display.Markdown object>"
      ]
     },
     "metadata": {},
     "output_type": "display_data"
    },
    {
     "name": "stdout",
     "output_type": "stream",
     "text": [
      "field = ('Employee', 'year') # field = [<source_name>, <field_name>)\n"
     ]
    }
   ],
   "source": [
    "from main import init_system\n",
    "from api.apiutils import Relation\n",
    "api, reporting = init_system(\"/Users/ra-mit/development/discovery_proto/test/mitdwh.pickle\")"
   ]
  },
  {
   "cell_type": "code",
   "execution_count": 2,
   "metadata": {
    "collapsed": true
   },
   "outputs": [],
   "source": [
    "%matplotlib inline"
   ]
  },
  {
   "cell_type": "markdown",
   "metadata": {},
   "source": [
    "## Discovery Functions"
   ]
  },
  {
   "cell_type": "markdown",
   "metadata": {},
   "source": [
    "### Similar Tables"
   ]
  },
  {
   "cell_type": "code",
   "execution_count": 3,
   "metadata": {
    "collapsed": false
   },
   "outputs": [],
   "source": [
    "table = \"Fac_building.csv\"  # The table of interest\n",
    "table_drs = api.drs_from_table(table)  # We get the representation of that table in DRS\n",
    "similar_tables = api.similar_content_to(table_drs)  # similar tables are those with similar content"
   ]
  },
  {
   "cell_type": "code",
   "execution_count": 4,
   "metadata": {
    "collapsed": false
   },
   "outputs": [
    {
     "name": "stdout",
     "output_type": "stream",
     "text": [
      "Fclt_organization.csv\n",
      "Fclt_building_address.csv\n",
      "Fclt_building_list.csv\n",
      "Space_unit.csv\n",
      "Fac_floor.csv\n",
      "Fclt_major_use.csv\n",
      "Sdo_coord_system.csv\n",
      "short_fclt_rooms_hist.csv\n",
      "Fclt_rooms.csv\n",
      "Fclt_rooms_hist.csv\n",
      "Fclt_building_hist_1.csv\n",
      "Fclt_floor.csv\n",
      "Fac_rooms.csv\n",
      "Fclt_floor_hist.csv\n",
      "Fac_organization.csv\n",
      "Zpm_rooms_load.csv\n",
      "Fac_building_address.csv\n",
      "Fac_major_use.csv\n",
      "Fac_building.csv\n",
      "Fclt_building.csv\n"
     ]
    }
   ],
   "source": [
    "similar_tables.set_table_mode()  # We are interested in seeing tables, so we set the appropriate mode in DRS\n",
    "for x in similar_tables:\n",
    "    print(x)"
   ]
  },
  {
   "cell_type": "markdown",
   "metadata": {},
   "source": [
    "Although for convenience, DRS objects has methods \"print_tables()\" and \"print_columns()\" that we use from now on"
   ]
  },
  {
   "cell_type": "code",
   "execution_count": 5,
   "metadata": {
    "collapsed": false
   },
   "outputs": [
    {
     "name": "stdout",
     "output_type": "stream",
     "text": [
      "Fclt_organization.csv\n",
      "Fclt_building_address.csv\n",
      "Fclt_building_list.csv\n",
      "Space_unit.csv\n",
      "Fac_floor.csv\n",
      "Fclt_major_use.csv\n",
      "Sdo_coord_system.csv\n",
      "short_fclt_rooms_hist.csv\n",
      "Fclt_rooms.csv\n",
      "Fclt_rooms_hist.csv\n",
      "Fclt_building_hist_1.csv\n",
      "Fclt_floor.csv\n",
      "Fac_rooms.csv\n",
      "Fclt_floor_hist.csv\n",
      "Fac_organization.csv\n",
      "Zpm_rooms_load.csv\n",
      "Fac_building_address.csv\n",
      "Fac_major_use.csv\n",
      "Fac_building.csv\n",
      "Fclt_building.csv\n"
     ]
    }
   ],
   "source": [
    "similar_tables.print_tables()"
   ]
  },
  {
   "cell_type": "code",
   "execution_count": 6,
   "metadata": {
    "collapsed": false
   },
   "outputs": [
    {
     "name": "stdout",
     "output_type": "stream",
     "text": [
      "SOURCE: Fclt_building.csv\t\t\t FIELD Easting X Spcs\n",
      "SOURCE: Fclt_building_list.csv\t\t\t FIELD Latitude Wgs\n",
      "SOURCE: Fclt_building_list.csv\t\t\t FIELD Longitude Wgs\n",
      "SOURCE: Fclt_building.csv\t\t\t FIELD Num Of Rooms\n",
      "SOURCE: Fclt_floor.csv\t\t\t FIELD Warehouse Load Date\n",
      "SOURCE: Fclt_building.csv\t\t\t FIELD Northing Y Spcs\n",
      "SOURCE: Fclt_building.csv\t\t\t FIELD Cost Collector Key\n",
      "SOURCE: Fclt_building_hist_1.csv\t\t\t FIELD Building Type\n",
      "SOURCE: Fclt_organization.csv\t\t\t FIELD Warehouse Load Date\n",
      "SOURCE: Fclt_building.csv\t\t\t FIELD Site\n",
      "SOURCE: Fclt_building_hist_1.csv\t\t\t FIELD Building Use\n",
      "SOURCE: Fclt_rooms.csv\t\t\t FIELD Warehouse Load Date\n",
      "SOURCE: Fclt_building.csv\t\t\t FIELD Ownership Type\n",
      "SOURCE: Fclt_building.csv\t\t\t FIELD Non Assignable Area\n",
      "SOURCE: Fac_rooms.csv\t\t\t FIELD Access Level\n",
      "SOURCE: Fac_building.csv\t\t\t FIELD Cost Center Code\n",
      "SOURCE: Fclt_building.csv\t\t\t FIELD Assignable Area\n",
      "SOURCE: Fclt_building_hist_1.csv\t\t\t FIELD Longitude Wgs\n",
      "SOURCE: Fclt_building.csv\t\t\t FIELD Date Acquired\n",
      "SOURCE: Fac_building.csv\t\t\t FIELD Cost Collector Key\n",
      "SOURCE: Fac_rooms.csv\t\t\t FIELD Warehouse Load Date\n",
      "SOURCE: Fclt_building_list.csv\t\t\t FIELD Access Level Name\n",
      "SOURCE: Sdo_coord_system.csv\t\t\t FIELD Dimension\n",
      "SOURCE: Zpm_rooms_load.csv\t\t\t FIELD Access Level\n",
      "SOURCE: Fclt_building_address.csv\t\t\t FIELD Warehouse Load Date\n",
      "SOURCE: Fclt_building.csv\t\t\t FIELD Cost Center Code\n",
      "SOURCE: Fclt_floor_hist.csv\t\t\t FIELD Access Level\n",
      "SOURCE: short_fclt_rooms_hist.csv\t\t\t FIELD Access Level\n",
      "SOURCE: Space_unit.csv\t\t\t FIELD Warehouse Load Date\n",
      "SOURCE: Fclt_building.csv\t\t\t FIELD Access Level Name\n",
      "SOURCE: Fclt_building_hist_1.csv\t\t\t FIELD Latitude Wgs\n",
      "SOURCE: Fac_building_address.csv\t\t\t FIELD Warehouse Load Date\n",
      "SOURCE: Fclt_building.csv\t\t\t FIELD Access Level Code\n",
      "SOURCE: Fac_major_use.csv\t\t\t FIELD Warehouse Load Date\n",
      "SOURCE: Fclt_building_list.csv\t\t\t FIELD Building Type\n",
      "SOURCE: Fclt_building_hist_1.csv\t\t\t FIELD Ownership Type\n",
      "SOURCE: Fac_floor.csv\t\t\t FIELD Warehouse Load Date\n",
      "SOURCE: Fclt_building_list.csv\t\t\t FIELD Access Level Code\n",
      "SOURCE: Fclt_rooms.csv\t\t\t FIELD Access Level\n",
      "SOURCE: Fac_floor.csv\t\t\t FIELD Access Level\n",
      "SOURCE: Fclt_building.csv\t\t\t FIELD Longitude Wgs\n",
      "SOURCE: Fclt_building.csv\t\t\t FIELD Ext Gross Area\n",
      "SOURCE: Fac_building.csv\t\t\t FIELD Access Level Code\n",
      "SOURCE: Fclt_major_use.csv\t\t\t FIELD Warehouse Load Date\n",
      "SOURCE: Fclt_building.csv\t\t\t FIELD Parent Building Name\n",
      "SOURCE: Fclt_building_hist_1.csv\t\t\t FIELD Access Level Code\n",
      "SOURCE: Fclt_building_hist_1.csv\t\t\t FIELD Access Level Name\n",
      "SOURCE: Fac_organization.csv\t\t\t FIELD Warehouse Load Date\n",
      "SOURCE: Fac_building.csv\t\t\t FIELD Access Level Name\n",
      "SOURCE: Fclt_building.csv\t\t\t FIELD Building Name\n",
      "SOURCE: Fclt_floor.csv\t\t\t FIELD Access Level\n",
      "SOURCE: Fclt_building_list.csv\t\t\t FIELD Ownership Type\n",
      "SOURCE: Fclt_building.csv\t\t\t FIELD Building Type\n",
      "SOURCE: Fclt_rooms_hist.csv\t\t\t FIELD Access Level\n",
      "SOURCE: Fclt_building.csv\t\t\t FIELD Warehouse Load Date\n",
      "SOURCE: Fclt_building.csv\t\t\t FIELD Latitude Wgs\n",
      "SOURCE: Fclt_building.csv\t\t\t FIELD Building Height\n"
     ]
    }
   ],
   "source": [
    "similar_tables.pretty_print_columns()"
   ]
  },
  {
   "cell_type": "markdown",
   "metadata": {},
   "source": [
    "**We want to tune our definition of \"similar table\", we want both content and schema names to be similar**"
   ]
  },
  {
   "cell_type": "code",
   "execution_count": 7,
   "metadata": {
    "collapsed": true
   },
   "outputs": [],
   "source": [
    "table = \"Fac_building.csv\"  # The table of interest\n",
    "table_drs = api.drs_from_table(table)  # We get the representation of that table in DRS\n",
    "content_similar = api.similar_content_to(table_drs)  # similar tables are those with similar content\n",
    "schema_similar = api.similar_schema_name_to(table_drs)\n",
    "similar_tables = api.intersection(content_similar, schema_similar)"
   ]
  },
  {
   "cell_type": "code",
   "execution_count": 8,
   "metadata": {
    "collapsed": false
   },
   "outputs": [
    {
     "name": "stdout",
     "output_type": "stream",
     "text": [
      "Fclt_organization.csv\n",
      "Fclt_building_address.csv\n",
      "Fclt_building_list.csv\n",
      "Space_unit.csv\n",
      "Fac_floor.csv\n",
      "Fclt_major_use.csv\n",
      "Fclt_rooms.csv\n",
      "Fclt_building_hist_1.csv\n",
      "Fclt_floor.csv\n",
      "Fac_rooms.csv\n",
      "Fac_organization.csv\n",
      "Fac_building_address.csv\n",
      "Fac_major_use.csv\n",
      "Fclt_building.csv\n"
     ]
    }
   ],
   "source": [
    "similar_tables.print_tables()"
   ]
  },
  {
   "cell_type": "markdown",
   "metadata": {},
   "source": [
    "**A table is similar to one of reference when content, schema are similar and there's also some PKFK relationship involved**"
   ]
  },
  {
   "cell_type": "code",
   "execution_count": 9,
   "metadata": {
    "collapsed": true
   },
   "outputs": [],
   "source": [
    "table = \"Fac_building.csv\"  # The table of interest\n",
    "table_drs = api.drs_from_table(table)  # We get the representation of that table in DRS\n",
    "content_similar = api.similar_content_to(table_drs)  # similar tables are those with similar content\n",
    "schema_similar = api.similar_schema_name_to(table_drs)  # similar attribute names\n",
    "pkfk_similar = api.pkfk_of(table_drs) # some pkfk relationship involved too\n",
    "inters1 = api.intersection(content_similar, schema_similar) # similar tables are similar in content and schema\n",
    "similar_tables = api.intersection(inters1, pkfk_similar)"
   ]
  },
  {
   "cell_type": "code",
   "execution_count": 10,
   "metadata": {
    "collapsed": false
   },
   "outputs": [
    {
     "name": "stdout",
     "output_type": "stream",
     "text": [
      "Fclt_building_hist_1.csv\n",
      "Fclt_building_list.csv\n",
      "Fclt_building.csv\n"
     ]
    }
   ],
   "source": [
    "similar_tables.print_tables()"
   ]
  },
  {
   "cell_type": "code",
   "execution_count": 11,
   "metadata": {
    "collapsed": false
   },
   "outputs": [
    {
     "data": {
      "image/png": "[encoded data removed]",
      "text/plain": [
       "<matplotlib.figure.Figure at 0x10cbe7fd0>"
      ]
     },
     "metadata": {},
     "output_type": "display_data"
    }
   ],
   "source": [
    "similar_tables.visualize_provenance()"
   ]
  },
  {
   "cell_type": "markdown",
   "metadata": {},
   "source": [
    "**Trying it out with different tables: \"Fctlt_building_hist_1.csv\"**"
   ]
  },
  {
   "cell_type": "code",
   "execution_count": 12,
   "metadata": {
    "collapsed": true
   },
   "outputs": [],
   "source": [
    "table = \"Fclt_building_hist_1.csv\"  # The table of interest\n",
    "table_drs = api.drs_from_table(table)  # We get the representation of that table in DRS\n",
    "content_similar = api.similar_content_to(table_drs)  # similar tables are those with similar content\n",
    "schema_similar = api.similar_schema_name_to(table_drs)  # similar attribute names\n",
    "pkfk_similar = api.pkfk_of(table_drs) # some pkfk relationship involved too\n",
    "inters1 = api.intersection(content_similar, schema_similar) # similar tables are similar in content and schema\n",
    "similar_tables = api.intersection(inters1, pkfk_similar)"
   ]
  },
  {
   "cell_type": "code",
   "execution_count": 13,
   "metadata": {
    "collapsed": false
   },
   "outputs": [
    {
     "name": "stdout",
     "output_type": "stream",
     "text": [
      "Fac_building.csv\n",
      "Fclt_building.csv\n"
     ]
    }
   ],
   "source": [
    "similar_tables.print_tables()"
   ]
  },
  {
   "cell_type": "markdown",
   "metadata": {},
   "source": [
    "**Trying it out with different tables: \"Iap_subject_detail.csv\"**"
   ]
  },
  {
   "cell_type": "code",
   "execution_count": 14,
   "metadata": {
    "collapsed": true
   },
   "outputs": [],
   "source": [
    "table = \"Iap_subject_detail.csv\"  # The table of interest\n",
    "table_drs = api.drs_from_table(table)  # We get the representation of that table in DRS\n",
    "similar_tables = api.similar_content_to(table_drs)  # similar tables are those with similar content"
   ]
  },
  {
   "cell_type": "code",
   "execution_count": 15,
   "metadata": {
    "collapsed": false
   },
   "outputs": [
    {
     "name": "stdout",
     "output_type": "stream",
     "text": [
      "Subject_attribute.csv\n",
      "short_course_catalog_subject_offered.csv\n",
      "Cis_hass_attribute.csv\n",
      "Subject_iap_schedule.csv\n",
      "short_drupal_course_catalog.csv\n",
      "Subjects_offered.csv\n",
      "Employee_directory.csv\n",
      "Cis_course_catalog.csv\n",
      "Iap_subject_session.csv\n",
      "Iap_subject_person.csv\n",
      "Drupal_course_catalog.csv\n",
      "Course_catalog_subject_offered.csv\n"
     ]
    }
   ],
   "source": [
    "similar_tables.print_tables()"
   ]
  },
  {
   "cell_type": "code",
   "execution_count": 16,
   "metadata": {
    "collapsed": true
   },
   "outputs": [],
   "source": [
    "table = \"Iap_subject_detail.csv\"  # The table of interest\n",
    "table_drs = api.drs_from_table(table)  # We get the representation of that table in DRS\n",
    "content_similar = api.similar_content_to(table_drs)  # similar tables are those with similar content\n",
    "schema_similar = api.similar_schema_name_to(table_drs)  # similar attribute names\n",
    "similar_tables = api.intersection(content_similar, schema_similar)"
   ]
  },
  {
   "cell_type": "code",
   "execution_count": 17,
   "metadata": {
    "collapsed": false
   },
   "outputs": [
    {
     "name": "stdout",
     "output_type": "stream",
     "text": [
      "Subject_iap_schedule.csv\n"
     ]
    }
   ],
   "source": [
    "similar_tables.print_tables()"
   ]
  },
  {
   "cell_type": "markdown",
   "metadata": {},
   "source": [
    "### Schema Complement"
   ]
  },
  {
   "cell_type": "markdown",
   "metadata": {},
   "source": [
    "Given some table of reference, I want to know with which attributes I can extend it"
   ]
  },
  {
   "cell_type": "code",
   "execution_count": 18,
   "metadata": {
    "collapsed": false
   },
   "outputs": [],
   "source": [
    "table = \"short_cis_course_catalog.csv\"  # The table of interest\n",
    "table_drs = api.drs_from_table(table)  # We get the representation of that table in DRS\n",
    "joinable_tables = api.pkfk_of(table_drs)\n",
    "all_attributes = api.drs_expand_to_table(joinable_tables)\n",
    "attrs_to_extend = api.difference(all_attributes, table_drs)"
   ]
  },
  {
   "cell_type": "code",
   "execution_count": 19,
   "metadata": {
    "collapsed": false
   },
   "outputs": [
    {
     "name": "stdout",
     "output_type": "stream",
     "text": [
      "Hit(nid='-84906493', source_name='short_cis_course_catalog.csv', field_name='Subject Code', score=-1)\n",
      "Hit(nid='-168013819', source_name='short_cis_course_catalog.csv', field_name='Grade Type', score=-1)\n",
      "Hit(nid='-953283063', source_name='Cis_course_catalog.csv', field_name='Effective Term Code', score=-1)\n",
      "Hit(nid='1865373207', source_name='short_cis_course_catalog.csv', field_name='Last Activity Date', score=-1)\n",
      "Hit(nid='1751586839', source_name='Cis_course_catalog.csv', field_name='Write Req Attribute Desc', score=-1)\n",
      "Hit(nid='-64658918', source_name='short_cis_course_catalog.csv', field_name='Write Req Attribute Desc', score=-1)\n",
      "Hit(nid='1583066651', source_name='short_cis_course_catalog.csv', field_name='Equivalent Subjects', score=-1)\n",
      "Hit(nid='1796967452', source_name='Cis_course_catalog.csv', field_name='Subject Number', score=-1)\n",
      "Hit(nid='972910115', source_name='Cis_course_catalog.csv', field_name='Is Offered Spring Term', score=-1)\n",
      "Hit(nid='-220967386', source_name='short_cis_course_catalog.csv', field_name='Effective Term Code', score=-1)\n",
      "Hit(nid='-505638873', source_name='short_cis_course_catalog.csv', field_name='Gir Attribute Desc', score=-1)\n",
      "Hit(nid='234780720', source_name='Cis_course_catalog.csv', field_name='On Line Page Number', score=-1)\n",
      "Hit(nid='-1879058378', source_name='short_cis_course_catalog.csv', field_name='Tuition Attribute', score=-1)\n",
      "Hit(nid='-1885749703', source_name='All_rlmgr_rulec_class_opcodes.csv', field_name='Next Operation', score=-1)\n",
      "Hit(nid='913644095', source_name='short_cis_course_catalog.csv', field_name='Is Variable Units', score=-1)\n",
      "Hit(nid='1310384196', source_name='short_cis_course_catalog.csv', field_name='Preparation Units', score=-1)\n",
      "Hit(nid='-193105323', source_name='Cis_course_catalog.csv', field_name='Source Subject Id', score=-1)\n",
      "Hit(nid='1185097815', source_name='Cis_course_catalog.csv', field_name='Is Printed In Bulletin', score=-1)\n",
      "Hit(nid='-1942995877', source_name='short_cis_course_catalog.csv', field_name='Tuition Attribute Desc', score=-1)\n",
      "Hit(nid='-1409869731', source_name='Cis_course_catalog.csv', field_name='Lab Units', score=-1)\n",
      "Hit(nid='1474254453', source_name='Cis_course_catalog.csv', field_name='Is Offered Fall Term', score=-1)\n",
      "Hit(nid='-168788356', source_name='short_cis_course_catalog.csv', field_name='Status Change', score=-1)\n",
      "Hit(nid='2013746308', source_name='short_cis_course_catalog.csv', field_name='Is Offered Summer Term', score=-1)\n",
      "Hit(nid='-1572430716', source_name='Cis_course_catalog.csv', field_name='Grade Rule', score=-1)\n",
      "Hit(nid='19457158', source_name='short_cis_course_catalog.csv', field_name='Is Offered This Year', score=-1)\n",
      "Hit(nid='1696427655', source_name='short_cis_course_catalog.csv', field_name='School Wide Electives', score=-1)\n",
      "Hit(nid='-1167541111', source_name='short_cis_course_catalog.csv', field_name='Comm Req Attribute Desc', score=-1)\n",
      "Hit(nid='-32467308', source_name='short_cis_course_catalog.csv', field_name='Academic Year', score=-1)\n",
      "Hit(nid='-1791944556', source_name='Cis_course_catalog.csv', field_name='Total Units', score=-1)\n",
      "Hit(nid='621850781', source_name='All_version_hview_wdepth.csv', field_name='Version', score=-1)\n",
      "Hit(nid='17081503', source_name='Cis_course_catalog.csv', field_name='Status Change', score=-1)\n",
      "Hit(nid='498948257', source_name='Cis_course_catalog.csv', field_name='Subject Short Title', score=-1)\n",
      "Hit(nid='208327844', source_name='short_cis_course_catalog.csv', field_name='Print Subject Id', score=-1)\n",
      "Hit(nid='-817964367', source_name='short_cis_course_catalog.csv', field_name='Subject Id', score=-1)\n",
      "Hit(nid='194745011', source_name='short_cis_course_catalog.csv', field_name='Fall Instructors', score=-1)\n",
      "Hit(nid='153402551', source_name='Cis_course_catalog.csv', field_name='Academic Year', score=-1)\n",
      "Hit(nid='-1226020678', source_name='short_cis_course_catalog.csv', field_name='Lab Units', score=-1)\n",
      "Hit(nid='-1381966148', source_name='Cis_course_catalog.csv', field_name='Department Code', score=-1)\n",
      "Hit(nid='1283714749', source_name='Cis_course_catalog.csv', field_name='Hgn Code', score=-1)\n",
      "Hit(nid='1231263934', source_name='short_cis_course_catalog.csv', field_name='Subject Short Title', score=-1)\n",
      "Hit(nid='-443759425', source_name='short_cis_course_catalog.csv', field_name='Joint Subjects', score=-1)\n",
      "Hit(nid='1705287360', source_name='short_cis_course_catalog.csv', field_name='Hgn Code', score=-1)\n",
      "Hit(nid='-1572367166', source_name='Cis_course_catalog.csv', field_name='Grade Type', score=-1)\n",
      "Hit(nid='-258082611', source_name='Cis_course_catalog.csv', field_name='Grade Rule Desc', score=-1)\n",
      "Hit(nid='176043225', source_name='Cis_course_catalog.csv', field_name='Tuition Attribute', score=-1)\n",
      "Hit(nid='-1326221598', source_name='Cis_course_catalog.csv', field_name='Is Variable Units', score=-1)\n",
      "Hit(nid='-1044620058', source_name='short_cis_course_catalog.csv', field_name='Is Offered Spring Term', score=-1)\n",
      "Hit(nid='-929481497', source_name='Cis_course_catalog.csv', field_name='Preparation Units', score=-1)\n",
      "Hit(nid='604591338', source_name='short_cis_course_catalog.csv', field_name='Gir Attribute', score=-1)\n",
      "Hit(nid='-1003926293', source_name='short_cis_course_catalog.csv', field_name='Lecture Units', score=-1)\n",
      "Hit(nid='1246352108', source_name='Cis_course_catalog.csv', field_name='Comm Req Attribute Desc', score=-1)\n",
      "Hit(nid='1088948974', source_name='Cis_course_catalog.csv', field_name='Meets With Subjects', score=-1)\n",
      "Hit(nid='1410053358', source_name='Cis_course_catalog.csv', field_name='Supervisor Attribute Desc', score=-1)\n",
      "Hit(nid='-903506182', source_name='Cis_course_catalog.csv', field_name='Write Req Attribute', score=-1)\n",
      "Hit(nid='1023238908', source_name='Cis_course_catalog.csv', field_name='Joint Subjects', score=-1)\n",
      "Hit(nid='1678402818', source_name='short_cis_course_catalog.csv', field_name='Subject Title', score=-1)\n",
      "Hit(nid='-1207492349', source_name='Cis_course_catalog.csv', field_name='Is Offered This Year', score=-1)\n",
      "Hit(nid='1096067845', source_name='Cis_course_catalog.csv', field_name='Comm Req Attribute', score=-1)\n",
      "Hit(nid='-693149943', source_name='Cis_course_catalog.csv', field_name='Subject Description', score=-1)\n",
      "Hit(nid='1821264651', source_name='short_cis_course_catalog.csv', field_name='Meets With Subjects', score=-1)\n",
      "Hit(nid='790461197', source_name='Cis_course_catalog.csv', field_name='Gir Attribute', score=-1)\n",
      "Hit(nid='-818056434', source_name='Cis_course_catalog.csv', field_name='Lecture Units', score=-1)\n",
      "Hit(nid='-171190505', source_name='short_cis_course_catalog.csv', field_name='Write Req Attribute', score=-1)\n",
      "Hit(nid='-832432358', source_name='short_cis_course_catalog.csv', field_name='Is Printed In Bulletin', score=-1)\n",
      "Hit(nid='-1180851430', source_name='All_version_hview_wdepth.csv', field_name='Workspace', score=-1)\n",
      "Hit(nid='1864272677', source_name='Cis_course_catalog.csv', field_name='Subject Title', score=-1)\n",
      "Hit(nid='39165734', source_name='short_cis_course_catalog.csv', field_name='Subject Description', score=-1)\n",
      "Hit(nid='-1830810324', source_name='short_cis_course_catalog.csv', field_name='Hgn Except', score=-1)\n",
      "Hit(nid='1138970427', source_name='short_cis_course_catalog.csv', field_name='Prerequisites', score=-1)\n",
      "Hit(nid='1118556998', source_name='short_cis_course_catalog.csv', field_name='Supervisor Attribute', score=-1)\n",
      "Hit(nid='1812427592', source_name='short_cis_course_catalog.csv', field_name='Comm Req Attribute', score=-1)\n",
      "Hit(nid='941009739', source_name='short_cis_course_catalog.csv', field_name='Supervisor Attribute Desc', score=-1)\n",
      "Hit(nid='-1941670065', source_name='Cis_course_catalog.csv', field_name='Grade Type Desc', score=-1)\n",
      "Hit(nid='385725785', source_name='short_cis_course_catalog.csv', field_name='Department Code', score=-1)\n",
      "Hit(nid='-1381651622', source_name='Cis_course_catalog.csv', field_name='Department Name', score=-1)\n",
      "Hit(nid='1324840286', source_name='Cis_course_catalog.csv', field_name='Prerequisites', score=-1)\n",
      "Hit(nid='1283735393', source_name='Cis_course_catalog.csv', field_name='Hgn Desc', score=-1)\n",
      "Hit(nid='1705308004', source_name='short_cis_course_catalog.csv', field_name='Hgn Desc', score=-1)\n",
      "Hit(nid='1509609322', source_name='short_cis_course_catalog.csv', field_name='Grade Rule Desc', score=-1)\n",
      "Hit(nid='766760300', source_name='Cis_course_catalog.csv', field_name='Design Units', score=-1)\n",
      "Hit(nid='2072649582', source_name='Cis_course_catalog.csv', field_name='Subject Id', score=-1)\n",
      "Hit(nid='-493387916', source_name='Cis_course_catalog.csv', field_name='Hass Attribute', score=-1)\n",
      "Hit(nid='1725965183', source_name='short_cis_course_catalog.csv', field_name='Is Offered Iap', score=-1)\n",
      "Hit(nid='-1048742016', source_name='Cis_course_catalog.csv', field_name='Subject Code', score=-1)\n",
      "Hit(nid='-436104830', source_name='Cis_course_catalog.csv', field_name='Spring Instructors', score=-1)\n",
      "Hit(nid='-190857835', source_name='All_rlmgr_rulec_class_opcodes.csv', field_name='Completed Op', score=-1)\n",
      "Hit(nid='74534296', source_name='Cis_course_catalog.csv', field_name='Tuition Attribute Desc', score=-1)\n",
      "Hit(nid='1244452769', source_name='Cis_course_catalog.csv', field_name='Print Subject Id', score=-1)\n",
      "Hit(nid='-104187999', source_name='Cis_course_catalog.csv', field_name='Global Regions', score=-1)\n",
      "Hit(nid='-1979268694', source_name='Cis_course_catalog.csv', field_name='School Wide Electives', score=-1)\n",
      "Hit(nid='2001496492', source_name='Cis_course_catalog.csv', field_name='Warehouse Load Date', score=-1)\n",
      "Hit(nid='194530734', source_name='Cis_course_catalog.csv', field_name='Master Subject Id', score=-1)\n",
      "Hit(nid='1230869936', source_name='Cis_course_catalog.csv', field_name='Fall Instructors', score=-1)\n",
      "Hit(nid='-1206663759', source_name='short_cis_course_catalog.csv', field_name='Total Units', score=-1)\n",
      "Hit(nid='2046760370', source_name='short_cis_course_catalog.csv', field_name='Source Subject Id', score=-1)\n",
      "Hit(nid='-1102003780', source_name='Cis_course_catalog.csv', field_name='Is Offered Iap', score=-1)\n",
      "Hit(nid='-263690815', source_name='Cis_course_catalog.csv', field_name='Is Offered Summer Term', score=-1)\n",
      "Hit(nid='-108392509', source_name='Cis_course_catalog.csv', field_name='Supervisor Attribute', score=-1)\n",
      "Hit(nid='280254917', source_name='short_cis_course_catalog.csv', field_name='Spring Instructors', score=-1)\n",
      "Hit(nid='-168077369', source_name='short_cis_course_catalog.csv', field_name='Grade Rule', score=-1)\n",
      "Hit(nid='-1195865144', source_name='All_version_hview_wdepth.csv', field_name='Depth', score=-1)\n",
      "Hit(nid='-1561155127', source_name='short_cis_course_catalog.csv', field_name='Warehouse Load Date', score=-1)\n",
      "Hit(nid='1149765577', source_name='Cis_course_catalog.csv', field_name='Term Duration', score=-1)\n",
      "Hit(nid='1149013460', source_name='Cis_course_catalog.csv', field_name='Last Activity Date', score=-1)\n",
      "Hit(nid='-62146090', source_name='Cis_course_catalog.csv', field_name='Global Countries', score=-1)\n",
      "Hit(nid='-545741859', source_name='All_version_hview_wdepth.csv', field_name='Parent Version', score=-1)\n",
      "Hit(nid='-1558877219', source_name='Cis_course_catalog.csv', field_name='Hass Attribute Desc', score=-1)\n",
      "Hit(nid='329969119', source_name='short_cis_course_catalog.csv', field_name='Subject Number', score=-1)\n",
      "Hit(nid='-1221998620', source_name='Cis_course_catalog.csv', field_name='Gir Attribute Desc', score=-1)\n",
      "Hit(nid='1059803625', source_name='Cis_course_catalog.csv', field_name='Hgn Except', score=-1)\n",
      "Hit(nid='-173978132', source_name='short_cis_course_catalog.csv', field_name='Grade Type Desc', score=-1)\n",
      "Hit(nid='-1297881107', source_name='All_rlmgr_rulec_class_opcodes.csv', field_name='Op Code', score=-1)\n",
      "Hit(nid='1730595823', source_name='short_cis_course_catalog.csv', field_name='Design Units', score=-1)\n",
      "Hit(nid='386040311', source_name='short_cis_course_catalog.csv', field_name='Department Name', score=-1)\n",
      "Hit(nid='-1593763336', source_name='short_cis_course_catalog.csv', field_name='Is Offered Fall Term', score=-1)\n",
      "Hit(nid='850750974', source_name='Cis_course_catalog.csv', field_name='Equivalent Subjects', score=-1)\n"
     ]
    }
   ],
   "source": [
    "attrs_to_extend.print_columns()"
   ]
  },
  {
   "cell_type": "markdown",
   "metadata": {},
   "source": [
    "### Join Path"
   ]
  },
  {
   "cell_type": "markdown",
   "metadata": {},
   "source": [
    "Given two tables of reference I want to know if I can join them directly or through some other tables"
   ]
  },
  {
   "cell_type": "code",
   "execution_count": 20,
   "metadata": {
    "collapsed": false
   },
   "outputs": [],
   "source": [
    "table1_name = \"Drupal_employee_directory.csv\"\n",
    "table2_name = \"Employee_directory.csv\"\n",
    "table1 = api.drs_from_table(table1_name)\n",
    "table2 = api.drs_from_table(table2_name)\n",
    "paths = api.paths_between(table1, table2, Relation.PKFK)"
   ]
  },
  {
   "cell_type": "code",
   "execution_count": 21,
   "metadata": {
    "collapsed": false
   },
   "outputs": [
    {
     "name": "stdout",
     "output_type": "stream",
     "text": [
      "[Hit(nid=450628551, source_name='Drupal_employee_directory.csv', field_name='Office Phone', score=-1), Hit(nid=1647971973, source_name='Employee_directory.csv', field_name='Office Phone', score=0.8169815153361771)]\n"
     ]
    }
   ],
   "source": [
    "res = paths.paths()\n",
    "for r in res:\n",
    "    print(str(r))"
   ]
  },
  {
   "cell_type": "code",
   "execution_count": 22,
   "metadata": {
    "collapsed": false
   },
   "outputs": [
    {
     "data": {
      "image/png": "[encoded data removed]",
      "text/plain": [
       "<matplotlib.figure.Figure at 0x10ccbe358>"
      ]
     },
     "metadata": {},
     "output_type": "display_data"
    }
   ],
   "source": [
    "paths.visualize_provenance()"
   ]
  },
  {
   "cell_type": "code",
   "execution_count": 23,
   "metadata": {
    "collapsed": true
   },
   "outputs": [],
   "source": [
    "table1_name = \"Drupal_employee_directory.csv\"\n",
    "table2_name = \"Employee_directory.csv\"\n",
    "table1 = api.drs_from_table(table1_name)\n",
    "table2 = api.drs_from_table(table2_name)\n",
    "paths = api.paths_between(table1, table2, Relation.CONTENT_SIM)"
   ]
  },
  {
   "cell_type": "code",
   "execution_count": 24,
   "metadata": {
    "collapsed": false
   },
   "outputs": [
    {
     "name": "stdout",
     "output_type": "stream",
     "text": [
      "Subject_attribute.csv\n",
      "short_course_catalog_subject_offered.csv\n",
      "Cis_hass_attribute.csv\n",
      "short_drupal_course_catalog.csv\n",
      "Subjects_offered.csv\n",
      "Employee_directory.csv\n",
      "Cis_course_catalog.csv\n",
      "Drupal_course_catalog.csv\n",
      "Course_catalog_subject_offered.csv\n"
     ]
    }
   ],
   "source": [
    "paths.print_tables()"
   ]
  },
  {
   "cell_type": "code",
   "execution_count": 25,
   "metadata": {
    "collapsed": false
   },
   "outputs": [
    {
     "data": {
      "image/png": "[encoded data removed]",
      "text/plain": [
       "<matplotlib.figure.Figure at 0x10cf29048>"
      ]
     },
     "metadata": {},
     "output_type": "display_data"
    }
   ],
   "source": [
    "paths.visualize_provenance()"
   ]
  },
  {
   "cell_type": "markdown",
   "metadata": {
    "collapsed": true
   },
   "source": [
    "## Reporting"
   ]
  },
  {
   "cell_type": "markdown",
   "metadata": {
    "collapsed": true
   },
   "source": [
    "### Visualizations"
   ]
  },
  {
   "cell_type": "code",
   "execution_count": 26,
   "metadata": {
    "collapsed": true
   },
   "outputs": [],
   "source": [
    "res = api.keyword_search(\"Madden\")"
   ]
  },
  {
   "cell_type": "code",
   "execution_count": 27,
   "metadata": {
    "collapsed": false
   },
   "outputs": [
    {
     "name": "stdout",
     "output_type": "stream",
     "text": [
      "Hit(nid='-1423596915', source_name='Moira_list_detail.csv', field_name='Moira List Member Full Name', score=2.3233857)\n",
      "Hit(nid='-1423596915', source_name='Moira_list_detail.csv', field_name='Moira List Member Full Name', score=2.020313)\n",
      "Hit(nid='1204404489', source_name='Drupal_course_catalog.csv', field_name='Responsible Faculty Name', score=1.8367977)\n",
      "Hit(nid='-1163812645', source_name='Drupal_course_catalog.csv', field_name='Spring Instructors', score=1.6162554)\n",
      "Hit(nid='-1657034935', source_name='Drupal_course_catalog.csv', field_name='Fall Instructors', score=1.607198)\n",
      "Hit(nid='1595017432', source_name='Subject_offered_summary.csv', field_name='Responsible Faculty Name', score=1.5706193)\n",
      "Hit(nid='1204404489', source_name='Drupal_course_catalog.csv', field_name='Responsible Faculty Name', score=1.3601964)\n",
      "Hit(nid='-1423596915', source_name='Moira_list_detail.csv', field_name='Moira List Member Full Name', score=1.1780281)\n",
      "Hit(nid='682189287', source_name='Course_catalog_subject_offered.csv', field_name='Responsible Faculty Name', score=1.1616929)\n",
      "Hit(nid='682189287', source_name='Course_catalog_subject_offered.csv', field_name='Responsible Faculty Name', score=1.1616929)\n"
     ]
    }
   ],
   "source": [
    "res.print_columns()"
   ]
  },
  {
   "cell_type": "code",
   "execution_count": 28,
   "metadata": {
    "collapsed": false
   },
   "outputs": [
    {
     "data": {
      "image/png": "[encoded data removed]",
      "text/plain": [
       "<matplotlib.figure.Figure at 0x10d17a358>"
      ]
     },
     "metadata": {},
     "output_type": "display_data"
    }
   ],
   "source": [
    "res.visualize_provenance(labels=True)"
   ]
  },
  {
   "cell_type": "markdown",
   "metadata": {
    "collapsed": true
   },
   "source": [
    "### Data about the network"
   ]
  },
  {
   "cell_type": "code",
   "execution_count": 29,
   "metadata": {
    "collapsed": false
   },
   "outputs": [
    {
     "data": {
      "text/plain": [
       "2022"
      ]
     },
     "execution_count": 29,
     "metadata": {},
     "output_type": "execute_result"
    }
   ],
   "source": [
    "reporting.num_columns"
   ]
  },
  {
   "cell_type": "code",
   "execution_count": 30,
   "metadata": {
    "collapsed": false
   },
   "outputs": [
    {
     "data": {
      "text/plain": [
       "167"
      ]
     },
     "execution_count": 30,
     "metadata": {},
     "output_type": "execute_result"
    }
   ],
   "source": [
    "reporting.num_tables"
   ]
  },
  {
   "cell_type": "code",
   "execution_count": 31,
   "metadata": {
    "collapsed": false
   },
   "outputs": [
    {
     "data": {
      "text/plain": [
       "3738.0"
      ]
     },
     "execution_count": 31,
     "metadata": {},
     "output_type": "execute_result"
    }
   ],
   "source": [
    "reporting.num_content_sim_relations"
   ]
  },
  {
   "cell_type": "code",
   "execution_count": 32,
   "metadata": {
    "collapsed": false
   },
   "outputs": [
    {
     "data": {
      "text/plain": [
       "4379.0"
      ]
     },
     "execution_count": 32,
     "metadata": {},
     "output_type": "execute_result"
    }
   ],
   "source": [
    "reporting.num_schema_sim_relations"
   ]
  },
  {
   "cell_type": "code",
   "execution_count": 33,
   "metadata": {
    "collapsed": false
   },
   "outputs": [
    {
     "data": {
      "text/plain": [
       "233.0"
      ]
     },
     "execution_count": 33,
     "metadata": {},
     "output_type": "execute_result"
    }
   ],
   "source": [
    "reporting.num_pkfk_relations"
   ]
  },
  {
   "cell_type": "code",
   "execution_count": null,
   "metadata": {
    "collapsed": true
   },
   "outputs": [],
   "source": []
  }
 ],
 "metadata": {
  "kernelspec": {
   "display_name": "Python 3",
   "language": "python",
   "name": "python3"
  },
  "language_info": {
   "codemirror_mode": {
    "name": "ipython",
    "version": 3
   },
   "file_extension": ".py",
   "mimetype": "text/x-python",
   "name": "python",
   "nbconvert_exporter": "python",
   "pygments_lexer": "ipython3",
   "version": "3.5.0"
  }
 },
 "nbformat": 4,
 "nbformat_minor": 0
}
