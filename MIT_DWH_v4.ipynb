{
 "cells": [
  {
   "cell_type": "code",
   "execution_count": 1,
   "metadata": {
    "collapsed": false
   },
   "outputs": [
    {
     "data": {
      "text/markdown": [
       "Loading: */Users/ra-mit/development/discovery_proto/test/dwh/*"
      ],
      "text/plain": [
       "<IPython.core.display.Markdown object>"
      ]
     },
     "metadata": {},
     "output_type": "display_data"
    },
    {
     "data": {
      "text/markdown": [
       "### Help Menu"
      ],
      "text/plain": [
       "<IPython.core.display.Markdown object>"
      ]
     },
     "metadata": {},
     "output_type": "display_data"
    },
    {
     "data": {
      "text/markdown": [
       "You can use the system through an **API** object. API objects are returnedby the *init_system* function, so you can get one by doing:"
      ],
      "text/plain": [
       "<IPython.core.display.Markdown object>"
      ]
     },
     "metadata": {},
     "output_type": "display_data"
    },
    {
     "data": {
      "text/markdown": [
       "***your_api_object = init_system('path_to_stored_model')***"
      ],
      "text/plain": [
       "<IPython.core.display.Markdown object>"
      ]
     },
     "metadata": {},
     "output_type": "display_data"
    },
    {
     "data": {
      "text/markdown": [
       "Once you have access to an API object there are a few concepts that are useful to use the API. **content** refers to actual values of a given field. For example, if you have a table with an attribute called __Name__ and values *Olu, Mike, Sam*, content refers to the actual values, e.g. Mike, Sam, Olu."
      ],
      "text/plain": [
       "<IPython.core.display.Markdown object>"
      ]
     },
     "metadata": {},
     "output_type": "display_data"
    },
    {
     "data": {
      "text/markdown": [
       "**schema** refers to the name of a given field. In the previous example, schema refers to the word__Name__ as that's how the field is called."
      ],
      "text/plain": [
       "<IPython.core.display.Markdown object>"
      ]
     },
     "metadata": {},
     "output_type": "display_data"
    },
    {
     "data": {
      "text/markdown": [
       "Finally, **entity** refers to the *semantic type* of the content. This is in experimental state. For the previous example it would return *'person'* as that's what those names refer to."
      ],
      "text/plain": [
       "<IPython.core.display.Markdown object>"
      ]
     },
     "metadata": {},
     "output_type": "display_data"
    },
    {
     "data": {
      "text/markdown": [
       "Certain functions require a *field* as input. In general a field is specified by the source name (e.g. table name) and the field name (e.g. attribute name). For example, if we are interested in finding content similar to the one of the attribute *year* in the table *Employee* we can provide the field in the following way:"
      ],
      "text/plain": [
       "<IPython.core.display.Markdown object>"
      ]
     },
     "metadata": {},
     "output_type": "display_data"
    },
    {
     "name": "stdout",
     "output_type": "stream",
     "text": [
      "field = ('Employee', 'year') # field = [<source_name>, <field_name>)\n",
      "Took 0.5452530384063721 to load all data\n"
     ]
    }
   ],
   "source": [
    "from main import init_system\n",
    "from api.apiutils import Relation\n",
    "api, reporting = init_system(\"/Users/ra-mit/development/discovery_proto/test/dwh/\")"
   ]
  },
  {
   "cell_type": "code",
   "execution_count": 2,
   "metadata": {
    "collapsed": true
   },
   "outputs": [],
   "source": [
    "%matplotlib inline"
   ]
  },
  {
   "cell_type": "markdown",
   "metadata": {},
   "source": [
    "## Discovery Functions"
   ]
  },
  {
   "cell_type": "markdown",
   "metadata": {},
   "source": [
    "### Similar Tables"
   ]
  },
  {
   "cell_type": "code",
   "execution_count": 3,
   "metadata": {
    "collapsed": false
   },
   "outputs": [],
   "source": [
    "table = \"Fac_building.csv\"  # The table of interest\n",
    "table_drs = api.drs_from_table(table)  # We get the representation of that table in DRS\n",
    "similar_tables = api.similar_content_to(table_drs)  # similar tables are those with similar content"
   ]
  },
  {
   "cell_type": "code",
   "execution_count": 4,
   "metadata": {
    "collapsed": false
   },
   "outputs": [
    {
     "name": "stdout",
     "output_type": "stream",
     "text": [
      "Fclt_building_hist_1.csv\n",
      "Fclt_building_list.csv\n",
      "Fclt_rooms.csv\n",
      "Zpm_rooms_load.csv\n",
      "Sdo_coord_system.csv\n",
      "Fclt_floor_hist.csv\n",
      "Fac_building.csv\n",
      "short_fclt_rooms_hist.csv\n",
      "Fclt_floor.csv\n",
      "Fclt_rooms_hist.csv\n",
      "Fac_rooms.csv\n",
      "Fac_floor.csv\n",
      "Fclt_building.csv\n"
     ]
    }
   ],
   "source": [
    "similar_tables.set_table_mode()  # We are interested in seeing tables, so we set the appropriate mode in DRS\n",
    "for x in similar_tables:\n",
    "    print(x)"
   ]
  },
  {
   "cell_type": "markdown",
   "metadata": {},
   "source": [
    "Although for convenience, DRS objects has methods \"print_tables()\" and \"print_columns()\" that we use from now on"
   ]
  },
  {
   "cell_type": "code",
   "execution_count": 5,
   "metadata": {
    "collapsed": false
   },
   "outputs": [
    {
     "name": "stdout",
     "output_type": "stream",
     "text": [
      "Fclt_building_hist_1.csv\n",
      "Fclt_building_list.csv\n",
      "Fclt_rooms.csv\n",
      "Zpm_rooms_load.csv\n",
      "Sdo_coord_system.csv\n",
      "Fclt_floor_hist.csv\n",
      "Fac_building.csv\n",
      "short_fclt_rooms_hist.csv\n",
      "Fclt_floor.csv\n",
      "Fclt_rooms_hist.csv\n",
      "Fac_rooms.csv\n",
      "Fac_floor.csv\n",
      "Fclt_building.csv\n"
     ]
    }
   ],
   "source": [
    "similar_tables.print_tables()"
   ]
  },
  {
   "cell_type": "code",
   "execution_count": 6,
   "metadata": {
    "collapsed": false
   },
   "outputs": [
    {
     "name": "stdout",
     "output_type": "stream",
     "text": [
      "SOURCE: Fac_building.csv\t\t\t FIELD: Cost Center Code\n",
      "SOURCE: Fclt_building.csv\t\t\t FIELD: Access Level Name\n",
      "SOURCE: Fclt_rooms.csv\t\t\t FIELD: Access Level\n",
      "SOURCE: Fclt_building_hist_1.csv\t\t\t FIELD: Ownership Type\n",
      "SOURCE: Fclt_building_hist_1.csv\t\t\t FIELD: Access Level Name\n",
      "SOURCE: Fclt_building_list.csv\t\t\t FIELD: Building Type\n",
      "SOURCE: Fclt_building_hist_1.csv\t\t\t FIELD: Building Type\n",
      "SOURCE: Fclt_floor_hist.csv\t\t\t FIELD: Access Level\n",
      "SOURCE: Zpm_rooms_load.csv\t\t\t FIELD: Access Level\n",
      "SOURCE: Fclt_building.csv\t\t\t FIELD: Date Built\n",
      "SOURCE: Fac_building.csv\t\t\t FIELD: Cost Collector Key\n",
      "SOURCE: Fclt_building.csv\t\t\t FIELD: Northing Y Spcs\n",
      "SOURCE: Fclt_building.csv\t\t\t FIELD: Parent Building Number\n",
      "SOURCE: Fclt_building_hist_1.csv\t\t\t FIELD: Access Level Code\n",
      "SOURCE: Fclt_building.csv\t\t\t FIELD: Access Level Code\n",
      "SOURCE: Fclt_building.csv\t\t\t FIELD: Num Of Rooms\n",
      "SOURCE: Fclt_building_hist_1.csv\t\t\t FIELD: Latitude Wgs\n",
      "SOURCE: Fac_floor.csv\t\t\t FIELD: Access Level\n",
      "SOURCE: Fclt_building.csv\t\t\t FIELD: Cost Collector Key\n",
      "SOURCE: Fclt_building.csv\t\t\t FIELD: Site\n",
      "SOURCE: Fclt_building_list.csv\t\t\t FIELD: Access Level Name\n",
      "SOURCE: Fclt_building.csv\t\t\t FIELD: Date Occupied\n",
      "SOURCE: Fclt_building.csv\t\t\t FIELD: Building Named For\n",
      "SOURCE: Fclt_building_list.csv\t\t\t FIELD: Latitude Wgs\n",
      "SOURCE: Fac_building.csv\t\t\t FIELD: Access Level Name\n",
      "SOURCE: Fclt_building.csv\t\t\t FIELD: Easting X Spcs\n",
      "SOURCE: Fac_building.csv\t\t\t FIELD: Access Level Code\n",
      "SOURCE: Sdo_coord_system.csv\t\t\t FIELD: Dimension\n",
      "SOURCE: Fclt_building_list.csv\t\t\t FIELD: Longitude Wgs\n",
      "SOURCE: Fclt_building_list.csv\t\t\t FIELD: Access Level Code\n",
      "SOURCE: Fclt_building_hist_1.csv\t\t\t FIELD: Longitude Wgs\n",
      "SOURCE: Fclt_building.csv\t\t\t FIELD: Ownership Type\n",
      "SOURCE: short_fclt_rooms_hist.csv\t\t\t FIELD: Access Level\n",
      "SOURCE: Fclt_building.csv\t\t\t FIELD: Assignable Area\n",
      "SOURCE: Fclt_building_list.csv\t\t\t FIELD: Ownership Type\n",
      "SOURCE: Fclt_building.csv\t\t\t FIELD: Non Assignable Area\n",
      "SOURCE: Fclt_building.csv\t\t\t FIELD: Building Use\n",
      "SOURCE: Fclt_rooms_hist.csv\t\t\t FIELD: Access Level\n",
      "SOURCE: Fclt_building.csv\t\t\t FIELD: Campus Sector\n",
      "SOURCE: Fclt_building.csv\t\t\t FIELD: Building Type\n",
      "SOURCE: Fclt_building.csv\t\t\t FIELD: Parent Building Name\n",
      "SOURCE: Fclt_building.csv\t\t\t FIELD: Building Name Long\n",
      "SOURCE: Fclt_building.csv\t\t\t FIELD: Cost Center Code\n",
      "SOURCE: Fclt_floor.csv\t\t\t FIELD: Access Level\n",
      "SOURCE: Fclt_building.csv\t\t\t FIELD: Building Height\n",
      "SOURCE: Fclt_building.csv\t\t\t FIELD: Latitude Wgs\n",
      "SOURCE: Fclt_building.csv\t\t\t FIELD: Parent Building Name Long\n",
      "SOURCE: Fclt_building.csv\t\t\t FIELD: Longitude Wgs\n",
      "SOURCE: Fclt_building.csv\t\t\t FIELD: Ext Gross Area\n",
      "SOURCE: Fclt_building.csv\t\t\t FIELD: Building Name\n",
      "SOURCE: Fclt_building.csv\t\t\t FIELD: Occupancy Class\n",
      "SOURCE: Fac_rooms.csv\t\t\t FIELD: Access Level\n"
     ]
    }
   ],
   "source": [
    "similar_tables.pretty_print_columns()"
   ]
  },
  {
   "cell_type": "markdown",
   "metadata": {},
   "source": [
    "**We want to tune our definition of \"similar table\", we want both content and schema names to be similar**"
   ]
  },
  {
   "cell_type": "code",
   "execution_count": 7,
   "metadata": {
    "collapsed": false
   },
   "outputs": [],
   "source": [
    "table = \"Fac_building.csv\"  # The table of interest\n",
    "table_drs = api.drs_from_table(table)  # We get the representation of that table in DRS\n",
    "content_similar = api.similar_content_to(table_drs)  # similar tables are those with similar content\n",
    "schema_similar = api.similar_schema_name_to(table_drs)\n",
    "similar_tables = api.intersection(content_similar, schema_similar)"
   ]
  },
  {
   "cell_type": "code",
   "execution_count": 8,
   "metadata": {
    "collapsed": false
   },
   "outputs": [
    {
     "name": "stdout",
     "output_type": "stream",
     "text": [
      "Fclt_building_hist_1.csv\n",
      "Fclt_building_list.csv\n",
      "Fclt_building.csv\n"
     ]
    }
   ],
   "source": [
    "similar_tables.print_tables()"
   ]
  },
  {
   "cell_type": "markdown",
   "metadata": {},
   "source": [
    "**A table is similar to one of reference when content, schema are similar and there's also some PKFK relationship involved**"
   ]
  },
  {
   "cell_type": "code",
   "execution_count": 9,
   "metadata": {
    "collapsed": false
   },
   "outputs": [],
   "source": [
    "table = \"Fac_building.csv\"  # The table of interest\n",
    "table_drs = api.drs_from_table(table)  # We get the representation of that table in DRS\n",
    "content_similar = api.similar_content_to(table_drs)  # similar tables are those with similar content\n",
    "schema_similar = api.similar_schema_name_to(table_drs)  # similar attribute names\n",
    "pkfk_similar = api.pkfk_of(table_drs) # some pkfk relationship involved too\n",
    "inters1 = api.intersection(content_similar, schema_similar) # similar tables are similar in content and schema\n",
    "similar_tables = api.intersection(inters1, pkfk_similar)"
   ]
  },
  {
   "cell_type": "code",
   "execution_count": 10,
   "metadata": {
    "collapsed": false
   },
   "outputs": [
    {
     "name": "stdout",
     "output_type": "stream",
     "text": [
      "Fclt_building_hist_1.csv\n",
      "Fclt_building_list.csv\n",
      "Fclt_building.csv\n"
     ]
    }
   ],
   "source": [
    "similar_tables.print_tables()"
   ]
  },
  {
   "cell_type": "code",
   "execution_count": 11,
   "metadata": {
    "collapsed": false
   },
   "outputs": [
    {
     "data": {
      "image/png": "[encoded data removed]",
      "text/plain": [
       "<matplotlib.figure.Figure at 0x1034ed898>"
      ]
     },
     "metadata": {},
     "output_type": "display_data"
    }
   ],
   "source": [
    "similar_tables.visualize_provenance()"
   ]
  },
  {
   "cell_type": "markdown",
   "metadata": {},
   "source": [
    "**Trying it out with different tables: \"Fctlt_building_hist_1.csv\"**"
   ]
  },
  {
   "cell_type": "code",
   "execution_count": 12,
   "metadata": {
    "collapsed": false
   },
   "outputs": [],
   "source": [
    "table = \"Fclt_building_hist_1.csv\"  # The table of interest\n",
    "table_drs = api.drs_from_table(table)  # We get the representation of that table in DRS\n",
    "content_similar = api.similar_content_to(table_drs)  # similar tables are those with similar content\n",
    "schema_similar = api.similar_schema_name_to(table_drs)  # similar attribute names\n",
    "pkfk_similar = api.pkfk_of(table_drs) # some pkfk relationship involved too\n",
    "inters1 = api.intersection(content_similar, schema_similar) # similar tables are similar in content and schema\n",
    "similar_tables = api.intersection(inters1, pkfk_similar)"
   ]
  },
  {
   "cell_type": "code",
   "execution_count": 13,
   "metadata": {
    "collapsed": false
   },
   "outputs": [
    {
     "name": "stdout",
     "output_type": "stream",
     "text": [
      "Fclt_building_list.csv\n",
      "Fclt_building.csv\n",
      "Fac_building.csv\n"
     ]
    }
   ],
   "source": [
    "similar_tables.print_tables()"
   ]
  },
  {
   "cell_type": "markdown",
   "metadata": {},
   "source": [
    "**Trying it out with different tables: \"Iap_subject_detail.csv\"**"
   ]
  },
  {
   "cell_type": "code",
   "execution_count": 14,
   "metadata": {
    "collapsed": true
   },
   "outputs": [],
   "source": [
    "table = \"Iap_subject_detail.csv\"  # The table of interest\n",
    "table_drs = api.drs_from_table(table)  # We get the representation of that table in DRS\n",
    "similar_tables = api.similar_content_to(table_drs)  # similar tables are those with similar content"
   ]
  },
  {
   "cell_type": "code",
   "execution_count": 15,
   "metadata": {
    "collapsed": false
   },
   "outputs": [
    {
     "name": "stdout",
     "output_type": "stream",
     "text": [
      "Iap_subject_detail.csv\n",
      "Subject_iap_schedule.csv\n"
     ]
    }
   ],
   "source": [
    "similar_tables.print_tables()"
   ]
  },
  {
   "cell_type": "code",
   "execution_count": 16,
   "metadata": {
    "collapsed": false
   },
   "outputs": [],
   "source": [
    "table = \"Iap_subject_detail.csv\"  # The table of interest\n",
    "table_drs = api.drs_from_table(table)  # We get the representation of that table in DRS\n",
    "content_similar = api.similar_content_to(table_drs)  # similar tables are those with similar content\n",
    "schema_similar = api.similar_schema_name_to(table_drs)  # similar attribute names\n",
    "similar_tables = api.intersection(content_similar, schema_similar)"
   ]
  },
  {
   "cell_type": "code",
   "execution_count": 17,
   "metadata": {
    "collapsed": false
   },
   "outputs": [
    {
     "name": "stdout",
     "output_type": "stream",
     "text": [
      "Subject_iap_schedule.csv\n"
     ]
    }
   ],
   "source": [
    "similar_tables.print_tables()"
   ]
  },
  {
   "cell_type": "markdown",
   "metadata": {},
   "source": [
    "### Schema Complement"
   ]
  },
  {
   "cell_type": "markdown",
   "metadata": {},
   "source": [
    "Given some table of reference, I want to know with which attributes I can extend it"
   ]
  },
  {
   "cell_type": "code",
   "execution_count": 18,
   "metadata": {
    "collapsed": false
   },
   "outputs": [],
   "source": [
    "table = \"short_cis_course_catalog.csv\"  # The table of interest\n",
    "table_drs = api.drs_from_table(table)  # We get the representation of that table in DRS\n",
    "joinable_tables = api.pkfk_of(table_drs)\n",
    "all_attributes = api.drs_expand_to_table(joinable_tables)\n",
    "attrs_to_extend = api.difference(all_attributes, table_drs)"
   ]
  },
  {
   "cell_type": "code",
   "execution_count": 19,
   "metadata": {
    "collapsed": false
   },
   "outputs": [
    {
     "name": "stdout",
     "output_type": "stream",
     "text": [
      "Hit(nid='98156762', db_name='dwhsmall', source_name='All_version_hview_wdepth.csv', field_name='Version', score=0)\n",
      "Hit(nid='3090330384', db_name='dwhsmall', source_name='All_rlmgr_rulec_class_opcodes.csv', field_name='Op Code', score=0)\n",
      "Hit(nid='3783670544', db_name='dwhsmall', source_name='All_rlmgr_rulec_class_opcodes.csv', field_name='Next Operation', score=0)\n",
      "Hit(nid='4232558648', db_name='dwhsmall', source_name='All_rlmgr_rulec_class_opcodes.csv', field_name='Completed Op', score=0)\n",
      "Hit(nid='93495604', db_name='dwhsmall', source_name='All_version_hview_wdepth.csv', field_name='Depth', score=0)\n",
      "Hit(nid='1403485528', db_name='dwhsmall', source_name='All_version_hview_wdepth.csv', field_name='Parent Version', score=0)\n",
      "Hit(nid='2452247066', db_name='dwhsmall', source_name='All_version_hview_wdepth.csv', field_name='Workspace', score=0)\n"
     ]
    }
   ],
   "source": [
    "attrs_to_extend.print_columns()"
   ]
  },
  {
   "cell_type": "markdown",
   "metadata": {},
   "source": [
    "### Join Path"
   ]
  },
  {
   "cell_type": "markdown",
   "metadata": {},
   "source": [
    "Given two tables of reference I want to know if I can join them directly or through some other tables"
   ]
  },
  {
   "cell_type": "code",
   "execution_count": 20,
   "metadata": {
    "collapsed": false
   },
   "outputs": [],
   "source": [
    "table1_name = \"Drupal_employee_directory.csv\"\n",
    "table2_name = \"Employee_directory.csv\"\n",
    "table1 = api.drs_from_table(table1_name)\n",
    "table2 = api.drs_from_table(table2_name)\n",
    "paths = api.paths_between(table1, table2, Relation.PKFK)"
   ]
  },
  {
   "cell_type": "code",
   "execution_count": 21,
   "metadata": {
    "collapsed": false
   },
   "outputs": [
    {
     "name": "stdout",
     "output_type": "stream",
     "text": [
      "[Hit(nid='529677687', db_name='dwhsmall', source_name='Drupal_employee_directory.csv', field_name='Email Address', score=0), Hit(nid='3756011013', db_name='dwhsmall', source_name='Warehouse_users.csv', field_name='Email Address', score=0.999922036408997)]\n",
      "[Hit(nid='529677687', db_name='dwhsmall', source_name='Drupal_employee_directory.csv', field_name='Email Address', score=0), Hit(nid='1724837508', db_name='dwhsmall', source_name='Employee_directory.csv', field_name='Email Address Uppercase', score=0.9483255988962749)]\n",
      "[Hit(nid='2097968144', db_name='dwhsmall', source_name='Drupal_employee_directory.csv', field_name='Office Phone', score=0), Hit(nid='2899666346', db_name='dwhsmall', source_name='Employee_directory.csv', field_name='Office Phone', score=0.8169815153361771)]\n",
      "[Hit(nid='529677687', db_name='dwhsmall', source_name='Drupal_employee_directory.csv', field_name='Email Address', score=0), Hit(nid='888651508', db_name='dwhsmall', source_name='Employee_directory.csv', field_name='Email Address', score=0.9484510221999247)]\n"
     ]
    }
   ],
   "source": [
    "res = paths.paths()\n",
    "for r in res:\n",
    "    print(str(r))"
   ]
  },
  {
   "cell_type": "code",
   "execution_count": 22,
   "metadata": {
    "collapsed": false
   },
   "outputs": [
    {
     "data": {
      "image/png": "[encoded data removed]",
      "text/plain": [
       "<matplotlib.figure.Figure at 0x10760ebe0>"
      ]
     },
     "metadata": {},
     "output_type": "display_data"
    }
   ],
   "source": [
    "paths.visualize_provenance()"
   ]
  },
  {
   "cell_type": "code",
   "execution_count": 23,
   "metadata": {
    "collapsed": true
   },
   "outputs": [],
   "source": [
    "table1_name = \"Drupal_employee_directory.csv\"\n",
    "table2_name = \"Employee_directory.csv\"\n",
    "table1 = api.drs_from_table(table1_name)\n",
    "table2 = api.drs_from_table(table2_name)\n",
    "paths = api.paths_between(table1, table2, Relation.CONTENT_SIM)"
   ]
  },
  {
   "cell_type": "code",
   "execution_count": 24,
   "metadata": {
    "collapsed": false
   },
   "outputs": [
    {
     "name": "stdout",
     "output_type": "stream",
     "text": [
      "Warehouse_users.csv\n",
      "Employee_directory.csv\n"
     ]
    }
   ],
   "source": [
    "paths.print_tables()"
   ]
  },
  {
   "cell_type": "code",
   "execution_count": 25,
   "metadata": {
    "collapsed": false
   },
   "outputs": [
    {
     "data": {
      "image/png": "[encoded data removed]",
      "text/plain": [
       "<matplotlib.figure.Figure at 0x1077821d0>"
      ]
     },
     "metadata": {},
     "output_type": "display_data"
    }
   ],
   "source": [
    "paths.visualize_provenance()"
   ]
  },
  {
   "cell_type": "markdown",
   "metadata": {
    "collapsed": true
   },
   "source": [
    "## Reporting"
   ]
  },
  {
   "cell_type": "markdown",
   "metadata": {
    "collapsed": true
   },
   "source": [
    "### Visualizations"
   ]
  },
  {
   "cell_type": "code",
   "execution_count": 26,
   "metadata": {
    "collapsed": false
   },
   "outputs": [],
   "source": [
    "res = api.keyword_search(\"Madden\")"
   ]
  },
  {
   "cell_type": "code",
   "execution_count": 27,
   "metadata": {
    "collapsed": false
   },
   "outputs": [
    {
     "name": "stdout",
     "output_type": "stream",
     "text": [
      "Hit(nid=2797311101, db_name='dwhsmall', source_name='Subjects_offered.csv', field_name='Responsible Faculty Name', score=0.54720056)\n",
      "Hit(nid=825926262, db_name='dwhsmall', source_name='Drupal_course_catalog.csv', field_name='Responsible Faculty Name', score=0.5419816)\n",
      "Hit(nid=3069235401, db_name='dwhsmall', source_name='Subject_offered_summary.csv', field_name='Responsible Faculty Name', score=0.45305467)\n",
      "Hit(nid=1135099707, db_name='dwhsmall', source_name='Moira_list_detail.csv', field_name='Moira List Member Full Name', score=0.42904654)\n",
      "Hit(nid=1868930985, db_name='dwhsmall', source_name='Course_catalog_subject_offered.csv', field_name='Responsible Faculty Name', score=0.40962073)\n",
      "Hit(nid=4253295437, db_name='dwhsmall', source_name='Drupal_course_catalog.csv', field_name='Spring Instructors', score=0.373751)\n",
      "Hit(nid=361817322, db_name='dwhsmall', source_name='Drupal_course_catalog.csv', field_name='Fall Instructors', score=0.373751)\n"
     ]
    }
   ],
   "source": [
    "res.print_columns()"
   ]
  },
  {
   "cell_type": "code",
   "execution_count": 28,
   "metadata": {
    "collapsed": false
   },
   "outputs": [
    {
     "data": {
      "image/png": "[encoded data removed]",
      "text/plain": [
       "<matplotlib.figure.Figure at 0x107955a20>"
      ]
     },
     "metadata": {},
     "output_type": "display_data"
    }
   ],
   "source": [
    "res.visualize_provenance(labels=True)"
   ]
  },
  {
   "cell_type": "markdown",
   "metadata": {
    "collapsed": true
   },
   "source": [
    "### Data about the network"
   ]
  },
  {
   "cell_type": "code",
   "execution_count": 29,
   "metadata": {
    "collapsed": false
   },
   "outputs": [
    {
     "data": {
      "text/plain": [
       "1985"
      ]
     },
     "execution_count": 29,
     "metadata": {},
     "output_type": "execute_result"
    }
   ],
   "source": [
    "reporting.num_columns"
   ]
  },
  {
   "cell_type": "code",
   "execution_count": 30,
   "metadata": {
    "collapsed": false
   },
   "outputs": [
    {
     "data": {
      "text/plain": [
       "166"
      ]
     },
     "execution_count": 30,
     "metadata": {},
     "output_type": "execute_result"
    }
   ],
   "source": [
    "reporting.num_tables"
   ]
  },
  {
   "cell_type": "code",
   "execution_count": 31,
   "metadata": {
    "collapsed": false
   },
   "outputs": [
    {
     "data": {
      "text/plain": [
       "2106.0"
      ]
     },
     "execution_count": 31,
     "metadata": {},
     "output_type": "execute_result"
    }
   ],
   "source": [
    "reporting.num_content_sim_relations"
   ]
  },
  {
   "cell_type": "code",
   "execution_count": 32,
   "metadata": {
    "collapsed": false
   },
   "outputs": [
    {
     "data": {
      "text/plain": [
       "4522.0"
      ]
     },
     "execution_count": 32,
     "metadata": {},
     "output_type": "execute_result"
    }
   ],
   "source": [
    "reporting.num_schema_sim_relations"
   ]
  },
  {
   "cell_type": "code",
   "execution_count": 33,
   "metadata": {
    "collapsed": false
   },
   "outputs": [
    {
     "data": {
      "text/plain": [
       "232.0"
      ]
     },
     "execution_count": 33,
     "metadata": {},
     "output_type": "execute_result"
    }
   ],
   "source": [
    "reporting.num_pkfk_relations"
   ]
  },
  {
   "cell_type": "code",
   "execution_count": null,
   "metadata": {
    "collapsed": true
   },
   "outputs": [],
   "source": []
  }
 ],
 "metadata": {
  "kernelspec": {
   "display_name": "Python 3",
   "language": "python",
   "name": "python3"
  },
  "language_info": {
   "codemirror_mode": {
    "name": "ipython",
    "version": 3
   },
   "file_extension": ".py",
   "mimetype": "text/x-python",
   "name": "python",
   "nbconvert_exporter": "python",
   "pygments_lexer": "ipython3",
   "version": "3.5.0"
  }
 },
 "nbformat": 4,
 "nbformat_minor": 0
}
