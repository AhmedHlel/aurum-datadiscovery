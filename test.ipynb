{
 "cells": [
  {
   "cell_type": "code",
   "execution_count": 74,
   "metadata": {
    "collapsed": false
   },
   "outputs": [],
   "source": [
    "from sklearn.neighbors.kde import KernelDensity\n",
    "import numpy as np\n",
    "from scipy.stats import ks_2samp\n",
    "\n",
    "import numpy as np\n",
    "\n",
    "from nearpy import Engine\n",
    "from nearpy.hashes import RandomBinaryProjections"
   ]
  },
  {
   "cell_type": "markdown",
   "metadata": {},
   "source": [
    "# Data"
   ]
  },
  {
   "cell_type": "code",
   "execution_count": 41,
   "metadata": {
    "collapsed": false
   },
   "outputs": [],
   "source": [
    "f_key = [102, 102, 102, 102, 102, 102, 107, 107, 107, 106, 106, 106, 106, 106, 106, 106, 106, 107, 107, 107, 107, 106, 106, 107, 107, 107, 106]\n",
    "f2_key = [x+5 for x in f_key]\n",
    "f_org = [149,149,149,149,149,149,149,149,149,199,199,199,199,199,199,199,199,149,149,149,149,199,199,149,149]\n",
    "area = [677.21,1700.45,1060.68,180.67,97.4,89.63,636.2,338.33,173.35,957.59,172.157,3.38,1236.30,1010.41,245.94,319.9,851.13,9.72,17.11]\n",
    "key_m = KernelDensity(kernel=\"gaussian\", bandwidth=0.2)\n",
    "key_np = np.asarray(f_key).reshape(-1,1)\n",
    "key2_m = KernelDensity(kernel=\"gaussian\", bandwidth=0.2)\n",
    "key2_np = np.asarray(f2_key).reshape(-1,1)\n",
    "org_m = KernelDensity(kernel=\"gaussian\", bandwidth=0.2)\n",
    "org_np = np.asarray(f_org).reshape(-1,1)\n",
    "area_m = KernelDensity(kernel=\"gaussian\", bandwidth=0.2)\n",
    "area_np= np.asarray(area).reshape(-1,1)"
   ]
  },
  {
   "cell_type": "code",
   "execution_count": 42,
   "metadata": {
    "collapsed": false
   },
   "outputs": [],
   "source": [
    "kde_key = key_m.fit(key_np)\n",
    "kde_key2 = key2_m.fit(key2_np)\n",
    "kde_org = org_m.fit(org_np)\n",
    "kde_area = area_m.fit(area_np)"
   ]
  },
  {
   "cell_type": "markdown",
   "metadata": {},
   "source": [
    "## compare f_key and f_org"
   ]
  },
  {
   "cell_type": "code",
   "execution_count": 43,
   "metadata": {
    "collapsed": false
   },
   "outputs": [],
   "source": [
    "key_samples = [kde_key.sample()[0][0] for x in range(10)]\n",
    "key2_samples= [kde_key2.sample()[0][0] for x in range(10)]\n",
    "org_samples = [kde_org.sample()[0][0] for x in range(10)]\n",
    "area_samples= [kde_area.sample()[0][0] for x in range(10)]"
   ]
  },
  {
   "cell_type": "code",
   "execution_count": 44,
   "metadata": {
    "collapsed": false
   },
   "outputs": [],
   "source": [
    "ks_key_key = ks_2samp(key_samples, key_samples)\n",
    "ks_key_key2 = ks_2samp(key_samples, key2_samples)\n",
    "ks_key_org = ks_2samp(key_samples, org_samples)\n",
    "ks_key_area= ks_2samp(key_samples, area_samples)\n",
    "dvalue = 0.5\n",
    "pvalue = 0.001"
   ]
  },
  {
   "cell_type": "code",
   "execution_count": 45,
   "metadata": {
    "collapsed": false
   },
   "outputs": [
    {
     "name": "stdout",
     "output_type": "stream",
     "text": [
      "key equals key\n"
     ]
    }
   ],
   "source": [
    "dvalue_key_key = ks_key_key[0]\n",
    "pvalue_key_key =ks_key_key[1]\n",
    "if dvalue_key_key < dvalue and pvalue_key_key > pvalue:\n",
    "    print(\"key equals key\")\n",
    "else:\n",
    "    print(\"key diff than key\")"
   ]
  },
  {
   "cell_type": "code",
   "execution_count": 46,
   "metadata": {
    "collapsed": false
   },
   "outputs": [
    {
     "name": "stdout",
     "output_type": "stream",
     "text": [
      "key diff than key2\n"
     ]
    }
   ],
   "source": [
    "dvalue_key_key2 = ks_key_key2[0]\n",
    "pvalue_key_key2 =ks_key_key2[1]\n",
    "if dvalue_key_key2 < dvalue and pvalue_key_key2 > pvalue:\n",
    "    print(\"key equals key2\")\n",
    "else:\n",
    "    print(\"key diff than key2\")"
   ]
  },
  {
   "cell_type": "code",
   "execution_count": 47,
   "metadata": {
    "collapsed": false
   },
   "outputs": [
    {
     "name": "stdout",
     "output_type": "stream",
     "text": [
      "key diff than org\n"
     ]
    }
   ],
   "source": [
    "dvalue_key_org = ks_key_org[0]\n",
    "pvalue_key_org =ks_key_org[1]\n",
    "if dvalue_key_org < dvalue and pvalue_key_org > pvalue:\n",
    "    print(\"key equals org\")\n",
    "else:\n",
    "    print(\"key diff than org\")"
   ]
  },
  {
   "cell_type": "code",
   "execution_count": 48,
   "metadata": {
    "collapsed": false
   },
   "outputs": [
    {
     "name": "stdout",
     "output_type": "stream",
     "text": [
      "key diff than area\n"
     ]
    }
   ],
   "source": [
    "dvalue_key_area = ks_key_area[0]\n",
    "pvalue_key_area =ks_key_area[1]\n",
    "if dvalue_key_area < dvalue and pvalue_key_area > pvalue:\n",
    "    print(\"key equals area\")\n",
    "else:\n",
    "    print(\"key diff than area\")"
   ]
  },
  {
   "cell_type": "markdown",
   "metadata": {},
   "source": [
    "# Non-statistical distance"
   ]
  },
  {
   "cell_type": "markdown",
   "metadata": {},
   "source": [
    "### Euclidean"
   ]
  },
  {
   "cell_type": "code",
   "execution_count": 49,
   "metadata": {
    "collapsed": false
   },
   "outputs": [
    {
     "data": {
      "text/plain": [
       "0.0"
      ]
     },
     "execution_count": 49,
     "metadata": {},
     "output_type": "execute_result"
    }
   ],
   "source": [
    "d_key_key = np.linalg.norm(np.array(key_samples)-np.array(key_samples))\n",
    "d_key_key"
   ]
  },
  {
   "cell_type": "code",
   "execution_count": 50,
   "metadata": {
    "collapsed": false
   },
   "outputs": [
    {
     "data": {
      "text/plain": [
       "19.167475270128165"
      ]
     },
     "execution_count": 50,
     "metadata": {},
     "output_type": "execute_result"
    }
   ],
   "source": [
    "d_key_key2 = np.linalg.norm(np.array(key_samples)-np.array(key2_samples))\n",
    "d_key_key2"
   ]
  },
  {
   "cell_type": "code",
   "execution_count": 51,
   "metadata": {
    "collapsed": false
   },
   "outputs": [
    {
     "data": {
      "text/plain": [
       "199.85559977670724"
      ]
     },
     "execution_count": 51,
     "metadata": {},
     "output_type": "execute_result"
    }
   ],
   "source": [
    "d_key_org = np.linalg.norm(np.array(key_samples)-np.array(org_samples))\n",
    "d_key_org"
   ]
  },
  {
   "cell_type": "code",
   "execution_count": 52,
   "metadata": {
    "collapsed": false
   },
   "outputs": [
    {
     "data": {
      "text/plain": [
       "1817.3793185243383"
      ]
     },
     "execution_count": 52,
     "metadata": {},
     "output_type": "execute_result"
    }
   ],
   "source": [
    "d_key_area = np.linalg.norm(np.array(key_samples)-np.array(area_samples))\n",
    "d_key_area"
   ]
  },
  {
   "cell_type": "code",
   "execution_count": 53,
   "metadata": {
    "collapsed": false
   },
   "outputs": [
    {
     "data": {
      "text/plain": [
       "1715.6691436679548"
      ]
     },
     "execution_count": 53,
     "metadata": {},
     "output_type": "execute_result"
    }
   ],
   "source": [
    "d_org_area = np.linalg.norm(np.array(org_samples)-np.array(area_samples))\n",
    "d_org_area"
   ]
  },
  {
   "cell_type": "markdown",
   "metadata": {},
   "source": [
    "### Manhattan"
   ]
  },
  {
   "cell_type": "code",
   "execution_count": 54,
   "metadata": {
    "collapsed": true
   },
   "outputs": [],
   "source": [
    "def manhattan_distance(x, y):\n",
    "    return sum(abs(a-b) for a,b in zip(x,y))"
   ]
  },
  {
   "cell_type": "code",
   "execution_count": 55,
   "metadata": {
    "collapsed": false
   },
   "outputs": [
    {
     "data": {
      "text/plain": [
       "0.0"
      ]
     },
     "execution_count": 55,
     "metadata": {},
     "output_type": "execute_result"
    }
   ],
   "source": [
    "d_key_key = manhattan_distance(key_samples, key_samples)\n",
    "d_key_key"
   ]
  },
  {
   "cell_type": "code",
   "execution_count": 56,
   "metadata": {
    "collapsed": false
   },
   "outputs": [
    {
     "data": {
      "text/plain": [
       "55.53150147402944"
      ]
     },
     "execution_count": 56,
     "metadata": {},
     "output_type": "execute_result"
    }
   ],
   "source": [
    "d_key_key2 = manhattan_distance(key_samples, key2_samples)\n",
    "d_key_key2"
   ]
  },
  {
   "cell_type": "code",
   "execution_count": 57,
   "metadata": {
    "collapsed": false
   },
   "outputs": [
    {
     "data": {
      "text/plain": [
       "587.97534562809187"
      ]
     },
     "execution_count": 57,
     "metadata": {},
     "output_type": "execute_result"
    }
   ],
   "source": [
    "d_key_org = manhattan_distance(key_samples, org_samples)\n",
    "d_key_org"
   ]
  },
  {
   "cell_type": "code",
   "execution_count": 58,
   "metadata": {
    "collapsed": false
   },
   "outputs": [
    {
     "data": {
      "text/plain": [
       "3969.0113723640361"
      ]
     },
     "execution_count": 58,
     "metadata": {},
     "output_type": "execute_result"
    }
   ],
   "source": [
    "d_key_area = manhattan_distance(key_samples, area_samples)\n",
    "d_key_area"
   ]
  },
  {
   "cell_type": "markdown",
   "metadata": {},
   "source": [
    "# LSH aproximate NN"
   ]
  },
  {
   "cell_type": "code",
   "execution_count": 71,
   "metadata": {
    "collapsed": true
   },
   "outputs": [],
   "source": [
    "from nearpy import Engine\n",
    "from nearpy.hashes import RandomBinaryProjections\n",
    "from nearpy.distances import EuclideanDistance"
   ]
  },
  {
   "cell_type": "code",
   "execution_count": 72,
   "metadata": {
    "collapsed": false
   },
   "outputs": [],
   "source": [
    "dimension = 10\n",
    "rbp = RandomBinaryProjections('rbp', 10)\n",
    "engine = Engine(dimension, lshashes=[rbp], distance=EuclideanDistance())"
   ]
  },
  {
   "cell_type": "code",
   "execution_count": 73,
   "metadata": {
    "collapsed": false
   },
   "outputs": [
    {
     "data": {
      "text/plain": [
       "<nearpy.distances.euclidean.EuclideanDistance at 0x10cc1c9b0>"
      ]
     },
     "execution_count": 73,
     "metadata": {},
     "output_type": "execute_result"
    }
   ],
   "source": [
    "engine.distance"
   ]
  },
  {
   "cell_type": "code",
   "execution_count": 96,
   "metadata": {
    "collapsed": false
   },
   "outputs": [],
   "source": [
    "engine.clean_all_buckets()\n",
    "engine.store_vector(np.array(key_samples), \"key-key\")\n",
    "engine.store_vector(np.array(key2_samples), \"key-key2\")\n",
    "engine.store_vector(np.array(org_samples), \"key-org\")\n",
    "engine.store_vector(np.array(area_samples), \"key-area\")"
   ]
  },
  {
   "cell_type": "code",
   "execution_count": 103,
   "metadata": {
    "collapsed": false
   },
   "outputs": [],
   "source": [
    "query = [102, 102, 104, 106, 106, 102, 104, 105, 106, 107]\n",
    "N = engine.neighbours(np.array(query))"
   ]
  },
  {
   "cell_type": "code",
   "execution_count": 106,
   "metadata": {
    "collapsed": false
   },
   "outputs": [
    {
     "name": "stdout",
     "output_type": "stream",
     "text": [
      "['key-key2', 'key-key']\n"
     ]
    }
   ],
   "source": [
    "labels = []\n",
    "for el in N:\n",
    "    (data, label, value) = el\n",
    "    labels.append(label)\n",
    "print(str(labels))"
   ]
  },
  {
   "cell_type": "code",
   "execution_count": null,
   "metadata": {
    "collapsed": true
   },
   "outputs": [],
   "source": []
  }
 ],
 "metadata": {
  "kernelspec": {
   "display_name": "Python 3",
   "language": "python",
   "name": "python3"
  },
  "language_info": {
   "codemirror_mode": {
    "name": "ipython",
    "version": 3
   },
   "file_extension": ".py",
   "mimetype": "text/x-python",
   "name": "python",
   "nbconvert_exporter": "python",
   "pygments_lexer": "ipython3",
   "version": "3.5.0"
  }
 },
 "nbformat": 4,
 "nbformat_minor": 0
}
