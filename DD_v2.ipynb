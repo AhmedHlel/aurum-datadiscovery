{
 "cells": [
  {
   "cell_type": "code",
   "execution_count": 2,
   "metadata": {
    "collapsed": false
   },
   "outputs": [
    {
     "data": {
      "text/markdown": [
       "Loading: */Users/ra-mit/development/discovery_proto/test/network.pickle*"
      ],
      "text/plain": [
       "<IPython.core.display.Markdown object>"
      ]
     },
     "metadata": {},
     "output_type": "display_data"
    },
    {
     "data": {
      "text/markdown": [
       "### Help Menu"
      ],
      "text/plain": [
       "<IPython.core.display.Markdown object>"
      ]
     },
     "metadata": {},
     "output_type": "display_data"
    },
    {
     "data": {
      "text/markdown": [
       "You can use the system through an **API** object. API objects are returnedby the *init_system* function, so you can get one by doing:"
      ],
      "text/plain": [
       "<IPython.core.display.Markdown object>"
      ]
     },
     "metadata": {},
     "output_type": "display_data"
    },
    {
     "data": {
      "text/markdown": [
       "***your_api_object = init_system('path_to_stored_model')***"
      ],
      "text/plain": [
       "<IPython.core.display.Markdown object>"
      ]
     },
     "metadata": {},
     "output_type": "display_data"
    },
    {
     "data": {
      "text/markdown": [
       "Once you have access to an API object there are a few concepts that are useful to use the API. **content** refers to actual values of a given field. For example, if you have a table with an attribute called __Name__ and values *Olu, Mike, Sam*, content refers to the actual values, e.g. Mike, Sam, Olu."
      ],
      "text/plain": [
       "<IPython.core.display.Markdown object>"
      ]
     },
     "metadata": {},
     "output_type": "display_data"
    },
    {
     "data": {
      "text/markdown": [
       "**schema** refers to the name of a given field. In the previous example, schema refers to the word__Name__ as that's how the field is called."
      ],
      "text/plain": [
       "<IPython.core.display.Markdown object>"
      ]
     },
     "metadata": {},
     "output_type": "display_data"
    },
    {
     "data": {
      "text/markdown": [
       "Finally, **entity** refers to the *semantic type* of the content. This is in experimental state. For the previous example it would return *'person'* as that's what those names refer to."
      ],
      "text/plain": [
       "<IPython.core.display.Markdown object>"
      ]
     },
     "metadata": {},
     "output_type": "display_data"
    },
    {
     "data": {
      "text/markdown": [
       "Certain functions require a *field* as input. In general a field is specified by the source name (e.g. table name) and the field name (e.g. attribute name). For example, if we are interested in finding content similar to the one of the attribute *year* in the table *Employee* we can provide the field in the following way:"
      ],
      "text/plain": [
       "<IPython.core.display.Markdown object>"
      ]
     },
     "metadata": {},
     "output_type": "display_data"
    },
    {
     "name": "stdout",
     "output_type": "stream",
     "text": [
      "field = ('Employee', 'year') # field = [<source_name>, <field_name>)\n"
     ]
    }
   ],
   "source": [
    "from main import init_system\n",
    "api = init_system(\"/Users/ra-mit/development/discovery_proto/test/network.pickle\")"
   ]
  },
  {
   "cell_type": "markdown",
   "metadata": {},
   "source": [
    "# Discovery Primitives"
   ]
  },
  {
   "cell_type": "markdown",
   "metadata": {},
   "source": [
    "### Keyword, schema and entity search"
   ]
  },
  {
   "cell_type": "code",
   "execution_count": 3,
   "metadata": {
    "collapsed": false,
    "scrolled": true
   },
   "outputs": [
    {
     "name": "stdout",
     "output_type": "stream",
     "text": [
      "source: Se_person.csv\t\t\t\t\t field: Last Name\n",
      "source: Drupal_employee_directory.csv\t\t\t\t\t field: Personal Url\n",
      "source: Employee_directory.csv\t\t\t\t\t field: Personal Url\n",
      "source: Library_subject_offered.csv\t\t\t\t\t field: Responsible Faculty Name\n",
      "source: Employee_directory.csv\t\t\t\t\t field: Last Name\n",
      "source: Se_person.csv\t\t\t\t\t field: Last Name\n",
      "source: Warehouse_users.csv\t\t\t\t\t field: Last Name\n",
      "source: Library_course_instructor.csv\t\t\t\t\t field: Instructor Name\n",
      "source: Drupal_employee_directory.csv\t\t\t\t\t field: Last Name\n",
      "source: Employee_directory.csv\t\t\t\t\t field: Preferred Last Name Upper\n"
     ]
    }
   ],
   "source": [
    "res = api.keyword_search(\"Madden\")\n",
    "api.output(res)"
   ]
  },
  {
   "cell_type": "code",
   "execution_count": 4,
   "metadata": {
    "collapsed": false
   },
   "outputs": [
    {
     "name": "stdout",
     "output_type": "stream",
     "text": [
      "source: Mit_student_directory.csv\t\t\t\t\t field: Department\n",
      "source: Student_degree_program.csv\t\t\t\t\t field: Department\n",
      "source: Library_course_instructor.csv\t\t\t\t\t field: Department\n",
      "source: Sis_course_description.csv\t\t\t\t\t field: Department\n",
      "source: short_cis_course_catalog.csv\t\t\t\t\t field: Department Code\n",
      "source: short_cis_course_catalog.csv\t\t\t\t\t field: Department Name\n",
      "source: subject_grouping_slice.csv\t\t\t\t\t field: Department Code\n",
      "source: Sis_department.csv\t\t\t\t\t field: Department Name\n",
      "source: Sis_course_description.csv\t\t\t\t\t field: Department Name\n",
      "source: short_subject_summary.csv\t\t\t\t\t field: Department Code\n"
     ]
    }
   ],
   "source": [
    "res = api.schema_search(\"department\")\n",
    "api.output(res)"
   ]
  },
  {
   "cell_type": "code",
   "execution_count": 5,
   "metadata": {
    "collapsed": false
   },
   "outputs": [
    {
     "name": "stdout",
     "output_type": "stream",
     "text": [
      "source: Ctx_object_attribute_lov.csv\t\t\t\t\t field: Oal Label\n",
      "source: Ctx_object_attribute_lov.csv\t\t\t\t\t field: Oal Object\n",
      "source: Fclt_organization.csv\t\t\t\t\t field: Organization\n",
      "source: Fclt_organization.csv\t\t\t\t\t field: Dlc Key\n",
      "source: Fclt_organization.csv\t\t\t\t\t field: Hr Department Name\n",
      "source: Master_dept_hierarchy.csv\t\t\t\t\t field: Dlc Name\n",
      "source: Master_dept_hierarchy.csv\t\t\t\t\t field: Master Dept Hier Level 2 Name\n",
      "source: Master_dept_hierarchy.csv\t\t\t\t\t field: Master Dept Hier Level 4 Name\n",
      "source: Sdo_coord_op_methods.csv\t\t\t\t\t field: Legacy Name\n",
      "source: Sdo_coord_op_params.csv\t\t\t\t\t field: Parameter Name\n"
     ]
    }
   ],
   "source": [
    "res = api.entity_search(\"organization\")\n",
    "api.output(res)"
   ]
  },
  {
   "cell_type": "markdown",
   "metadata": {},
   "source": [
    "### Content, schema, entity similarities"
   ]
  },
  {
   "cell_type": "code",
   "execution_count": 6,
   "metadata": {
    "collapsed": false
   },
   "outputs": [
    {
     "name": "stdout",
     "output_type": "stream",
     "text": [
      "source: Mit_student_directory.csv\t\t\t\t\t field: Full Name Uppercase\n"
     ]
    }
   ],
   "source": [
    "field = (\"Mit_student_directory.csv\", \"Full Name\")\n",
    "res = api.similar_content_fields(field)\n",
    "api.output(res)"
   ]
  },
  {
   "cell_type": "code",
   "execution_count": 7,
   "metadata": {
    "collapsed": false
   },
   "outputs": [
    {
     "name": "stdout",
     "output_type": "stream",
     "text": [
      "source: Employee_directory.csv\t\t\t\t\t field: Full Name\n",
      "source: Se_person.csv\t\t\t\t\t field: Full Name\n",
      "source: Drupal_employee_directory.csv\t\t\t\t\t field: Full Name\n"
     ]
    }
   ],
   "source": [
    "field = (\"Mit_student_directory.csv\", \"Full Name\")\n",
    "res = api.similar_schema_fields(field)\n",
    "api.output(res)"
   ]
  },
  {
   "cell_type": "code",
   "execution_count": null,
   "metadata": {
    "collapsed": false,
    "scrolled": true
   },
   "outputs": [],
   "source": [
    "field = (\"Se_person.csv\", \"Full Name\")\n",
    "res = api.similar_entities_fields(field)\n",
    "api.output(res)"
   ]
  },
  {
   "cell_type": "markdown",
   "metadata": {},
   "source": [
    "# Combining Primitives"
   ]
  },
  {
   "cell_type": "markdown",
   "metadata": {},
   "source": [
    "### AND"
   ]
  },
  {
   "cell_type": "code",
   "execution_count": 8,
   "metadata": {
    "collapsed": false
   },
   "outputs": [
    {
     "name": "stdout",
     "output_type": "stream",
     "text": [
      "source: Fclt_organization.csv\t\t\t\t\t field: Hr Department Name\n",
      "source: Hr_org_unit_new.csv\t\t\t\t\t field: Hr Department Code\n",
      "source: Hr_org_unit_new.csv\t\t\t\t\t field: Hr Department Name\n",
      "source: Hr_org_unit_new.csv\t\t\t\t\t field: Hr Department Name Long\n"
     ]
    }
   ],
   "source": [
    "r1 = api.schema_search(\"department\", max_results=50)\n",
    "r2 = api.entity_search(\"organization\", max_results=50)\n",
    "res = api.and_conjunctive(r1, r2)\n",
    "api.output(res)"
   ]
  },
  {
   "cell_type": "markdown",
   "metadata": {},
   "source": [
    "### OR"
   ]
  },
  {
   "cell_type": "code",
   "execution_count": 9,
   "metadata": {
    "collapsed": false
   },
   "outputs": [
    {
     "name": "stdout",
     "output_type": "stream",
     "text": [
      "source: Employee_directory.csv\t\t\t\t\t field: Last Name\n",
      "source: Moira_list.csv\t\t\t\t\t field: Moira List Description\n",
      "source: Warehouse_users.csv\t\t\t\t\t field: Last Name\n",
      "source: Employee_directory.csv\t\t\t\t\t field: Directory Full Name\n",
      "source: Drupal_employee_directory.csv\t\t\t\t\t field: Last Name\n",
      "source: Library_course_instructor.csv\t\t\t\t\t field: Instructor Name\n",
      "source: Employee_directory.csv\t\t\t\t\t field: Email Address\n",
      "source: Se_person.csv\t\t\t\t\t field: Full Name\n",
      "source: Employee_directory.csv\t\t\t\t\t field: Personal Url\n",
      "source: Employee_directory.csv\t\t\t\t\t field: Preferred Last Name Upper\n",
      "source: Zip_usa.csv\t\t\t\t\t field: City Name\n",
      "source: Moira_list.csv\t\t\t\t\t field: Moira List Name\n",
      "source: Moira_list.csv\t\t\t\t\t field: Moira List Key\n",
      "source: Employee_directory.csv\t\t\t\t\t field: Full Name\n",
      "source: Warehouse_users.csv\t\t\t\t\t field: Email Address\n",
      "source: Library_subject_offered.csv\t\t\t\t\t field: Responsible Faculty Name\n",
      "source: Drupal_employee_directory.csv\t\t\t\t\t field: Personal Url\n",
      "source: Employee_directory.csv\t\t\t\t\t field: Email Address Uppercase\n",
      "source: Tip_material.csv\t\t\t\t\t field: Author\n",
      "source: Drupal_employee_directory.csv\t\t\t\t\t field: Email Address\n",
      "source: Employee_directory.csv\t\t\t\t\t field: Full Name Uppercase\n",
      "source: Se_person.csv\t\t\t\t\t field: Last Name\n",
      "source: Drupal_employee_directory.csv\t\t\t\t\t field: Full Name\n"
     ]
    }
   ],
   "source": [
    "r1 = api.keyword_search(\"Madden\", max_results=50)\n",
    "r2 = api.keyword_search(\"Stonebraker\", max_results=50)\n",
    "res = api.or_conjunctive(r1, r2)\n",
    "api.output(res)"
   ]
  },
  {
   "cell_type": "markdown",
   "metadata": {
    "collapsed": true
   },
   "source": [
    "# Discovery Functions"
   ]
  },
  {
   "cell_type": "markdown",
   "metadata": {},
   "source": [
    "### Join path"
   ]
  },
  {
   "cell_type": "code",
   "execution_count": null,
   "metadata": {
    "collapsed": false
   },
   "outputs": [],
   "source": [
    "field1 = (\"Fclt_rooms.csv\", \"Building Room\")\n",
    "field2 = (\"Fac_rooms.csv\", \"Room\")\n",
    "res = api.join_path(field1, field2)\n",
    "api.output(res)"
   ]
  },
  {
   "cell_type": "markdown",
   "metadata": {
    "collapsed": true
   },
   "source": [
    "### Find matching schema"
   ]
  },
  {
   "cell_type": "code",
   "execution_count": null,
   "metadata": {
    "collapsed": false
   },
   "outputs": [],
   "source": [
    "sn = \"Fclt_organization.csv\"\n",
    "res = api.schema_complement(sn)\n",
    "api.output_raw(res)"
   ]
  },
  {
   "cell_type": "markdown",
   "metadata": {
    "collapsed": true
   },
   "source": [
    "### Find tables matching schema"
   ]
  },
  {
   "cell_type": "code",
   "execution_count": 10,
   "metadata": {
    "collapsed": false
   },
   "outputs": [
    {
     "name": "stdout",
     "output_type": "stream",
     "text": [
      "('Master_dept_dcode_parent.csv', [('d', 3.8367095)])\n",
      "('Fac_organization.csv', [('d', 3.8181076)])\n"
     ]
    }
   ],
   "source": [
    "res = api.find_tables_matching_schema(\"name, department\", 10)\n",
    "api.output_raw(res)"
   ]
  },
  {
   "cell_type": "code",
   "execution_count": 11,
   "metadata": {
    "collapsed": false,
    "scrolled": true
   },
   "outputs": [
    {
     "name": "stdout",
     "output_type": "stream",
     "text": [
      "('Master_dept_dcode_parent.csv', [('d', 3.8367095)])\n",
      "('Sdo_units_of_measure.csv', [('c', 3.8199923)])\n",
      "('Fac_organization.csv', [('d', 3.8181076)])\n"
     ]
    }
   ],
   "source": [
    "res = api.find_tables_matching_schema(\"course, department\", 30)\n",
    "api.output_raw(res)"
   ]
  },
  {
   "cell_type": "code",
   "execution_count": null,
   "metadata": {
    "collapsed": false
   },
   "outputs": [],
   "source": [
    "res = api.find_tables_matching_schema(\"Table, type\", 40)\n",
    "api.output_raw(res)"
   ]
  },
  {
   "cell_type": "code",
   "execution_count": null,
   "metadata": {
    "collapsed": true
   },
   "outputs": [],
   "source": []
  }
 ],
 "metadata": {
  "kernelspec": {
   "display_name": "Python 3",
   "language": "python",
   "name": "python3"
  },
  "language_info": {
   "codemirror_mode": {
    "name": "ipython",
    "version": 3
   },
   "file_extension": ".py",
   "mimetype": "text/x-python",
   "name": "python",
   "nbconvert_exporter": "python",
   "pygments_lexer": "ipython3",
   "version": "3.5.0"
  }
 },
 "nbformat": 4,
 "nbformat_minor": 0
}
