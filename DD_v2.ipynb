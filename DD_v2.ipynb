{
 "cells": [
  {
   "cell_type": "code",
   "execution_count": null,
   "metadata": {
    "collapsed": false
   },
   "outputs": [],
   "source": [
    "from main import init_system\n",
    "api = init_system(\"/Users/ra-mit/development/discovery_proto/test/network.pickle\")"
   ]
  },
  {
   "cell_type": "markdown",
   "metadata": {},
   "source": [
    "# Discovery Primitives"
   ]
  },
  {
   "cell_type": "markdown",
   "metadata": {},
   "source": [
    "### Keyword, schema and entity search"
   ]
  },
  {
   "cell_type": "code",
   "execution_count": 2,
   "metadata": {
    "collapsed": false,
    "scrolled": true
   },
   "outputs": [
    {
     "name": "stdout",
     "output_type": "stream",
     "text": [
      "source: Se_person.csv\t\t\t\t\t field: Last Name\n",
      "source: Drupal_employee_directory.csv\t\t\t\t\t field: Personal Url\n",
      "source: Employee_directory.csv\t\t\t\t\t field: Personal Url\n",
      "source: Library_subject_offered.csv\t\t\t\t\t field: Responsible Faculty Name\n",
      "source: Employee_directory.csv\t\t\t\t\t field: Last Name\n",
      "source: Se_person.csv\t\t\t\t\t field: Last Name\n",
      "source: Warehouse_users.csv\t\t\t\t\t field: Last Name\n",
      "source: Library_course_instructor.csv\t\t\t\t\t field: Instructor Name\n",
      "source: Drupal_employee_directory.csv\t\t\t\t\t field: Last Name\n",
      "source: Employee_directory.csv\t\t\t\t\t field: Preferred Last Name Upper\n"
     ]
    }
   ],
   "source": [
    "res = api.keyword_search(\"Madden\")\n",
    "api.output(res)"
   ]
  },
  {
   "cell_type": "code",
   "execution_count": 4,
   "metadata": {
    "collapsed": false
   },
   "outputs": [
    {
     "name": "stdout",
     "output_type": "stream",
     "text": [
      "source: Mit_student_directory.csv\t\t\t\t\t field: Department\n",
      "source: Student_degree_program.csv\t\t\t\t\t field: Department\n",
      "source: Library_course_instructor.csv\t\t\t\t\t field: Department\n",
      "source: Sis_course_description.csv\t\t\t\t\t field: Department\n",
      "source: short_cis_course_catalog.csv\t\t\t\t\t field: Department Code\n",
      "source: short_cis_course_catalog.csv\t\t\t\t\t field: Department Name\n",
      "source: subject_grouping_slice.csv\t\t\t\t\t field: Department Code\n",
      "source: Sis_department.csv\t\t\t\t\t field: Department Name\n",
      "source: Sis_course_description.csv\t\t\t\t\t field: Department Name\n",
      "source: short_subject_summary.csv\t\t\t\t\t field: Department Code\n",
      "source: subject_grouping_slice.csv\t\t\t\t\t field: Department Name\n",
      "source: Mit_student_directory.csv\t\t\t\t\t field: Department Name\n",
      "source: Employee_directory.csv\t\t\t\t\t field: Department Name\n",
      "source: Student_department.csv\t\t\t\t\t field: Department Code\n",
      "source: short_drupal_course_catalog.csv\t\t\t\t\t field: Department Code\n",
      "source: short_drupal_course_catalog.csv\t\t\t\t\t field: Department Name\n",
      "source: short_course_catalog_subject_offered.csv\t\t\t\t\t field: Department Code\n",
      "source: short_course_catalog_subject_offered.csv\t\t\t\t\t field: Department Name\n",
      "source: short_subject_summary.csv\t\t\t\t\t field: Department Name\n",
      "source: Sis_department.csv\t\t\t\t\t field: Department Code\n",
      "source: Sis_subject_code.csv\t\t\t\t\t field: Department Code\n",
      "source: Sis_subject_code.csv\t\t\t\t\t field: Department Name\n",
      "source: Student_department.csv\t\t\t\t\t field: Department Name\n",
      "source: Employee_directory.csv\t\t\t\t\t field: Department Number\n",
      "source: Fclt_organization.csv\t\t\t\t\t field: Hr Department Name\n",
      "source: Fclt_organization_hist.csv\t\t\t\t\t field: Hr Department Code Old\n",
      "source: subject_grouping_slice.csv\t\t\t\t\t field: Department Full Name\n",
      "source: Fac_organization.csv\t\t\t\t\t field: Hr Department Code Old\n",
      "source: Hr_org_unit_new.csv\t\t\t\t\t field: Hr Department Code\n",
      "source: Hr_org_unit_new.csv\t\t\t\t\t field: Hr Department Code Old\n",
      "source: Sis_department.csv\t\t\t\t\t field: Department Full Name\n",
      "source: Sis_department.csv\t\t\t\t\t field: Department Last Activity Date\n",
      "source: Sis_admin_department.csv\t\t\t\t\t field: Sis Admin Department Name\n",
      "source: Sis_admin_department.csv\t\t\t\t\t field: Department Phone Number\n",
      "source: Hr_org_unit_new.csv\t\t\t\t\t field: Hr Department Name\n",
      "source: Fclt_organization_hist.csv\t\t\t\t\t field: Hr Department Name\n",
      "source: Hr_org_unit.csv\t\t\t\t\t field: Hr Department Id\n",
      "source: Hr_org_unit.csv\t\t\t\t\t field: Hr Department Name Long\n",
      "source: Sis_admin_department.csv\t\t\t\t\t field: Department Phone Area Code\n",
      "source: Student_department.csv\t\t\t\t\t field: Department Full Name\n",
      "source: Fac_organization.csv\t\t\t\t\t field: Hr Department Name\n",
      "source: Hr_org_unit_new.csv\t\t\t\t\t field: Hr Department Id\n",
      "source: Hr_org_unit_new.csv\t\t\t\t\t field: Hr Department Name Alpha\n",
      "source: Hr_org_unit.csv\t\t\t\t\t field: Hr Department Code\n",
      "source: Hr_org_unit.csv\t\t\t\t\t field: Hr Department Name Alpha\n",
      "source: Hr_org_unit.csv\t\t\t\t\t field: Hr Department Code Old\n",
      "source: Hr_org_unit.csv\t\t\t\t\t field: Hr Department Name\n",
      "source: Fclt_organization.csv\t\t\t\t\t field: Hr Department Code Old\n",
      "source: Hr_org_unit_new.csv\t\t\t\t\t field: Hr Department Name Long\n",
      "source: Sis_department.csv\t\t\t\t\t field: Department Name History\n"
     ]
    }
   ],
   "source": [
    "res = api.schema_search(\"department\", max_results=50)\n",
    "api.output(res)"
   ]
  },
  {
   "cell_type": "code",
   "execution_count": 5,
   "metadata": {
    "collapsed": false,
    "scrolled": true
   },
   "outputs": [
    {
     "name": "stdout",
     "output_type": "stream",
     "text": [
      "source: Ctx_object_attribute_lov.csv\t\t\t\t\t field: Oal Label\n",
      "source: Ctx_object_attribute_lov.csv\t\t\t\t\t field: Oal Object\n",
      "source: Fclt_organization.csv\t\t\t\t\t field: Organization\n",
      "source: Fclt_organization.csv\t\t\t\t\t field: Dlc Key\n",
      "source: Fclt_organization.csv\t\t\t\t\t field: Hr Department Name\n",
      "source: Master_dept_hierarchy.csv\t\t\t\t\t field: Dlc Name\n",
      "source: Master_dept_hierarchy.csv\t\t\t\t\t field: Master Dept Hier Level 2 Name\n",
      "source: Master_dept_hierarchy.csv\t\t\t\t\t field: Master Dept Hier Level 4 Name\n",
      "source: Sdo_coord_op_methods.csv\t\t\t\t\t field: Legacy Name\n",
      "source: Sdo_coord_op_params.csv\t\t\t\t\t field: Parameter Name\n"
     ]
    }
   ],
   "source": [
    "res = api.entity_search(\"organization\")\n",
    "api.output(res)"
   ]
  },
  {
   "cell_type": "markdown",
   "metadata": {},
   "source": [
    "### Content, schema, entity similarities"
   ]
  },
  {
   "cell_type": "code",
   "execution_count": 6,
   "metadata": {
    "collapsed": false
   },
   "outputs": [
    {
     "name": "stdout",
     "output_type": "stream",
     "text": [
      "source: Mit_student_directory.csv\t\t\t\t\t field: Full Name Uppercase\n"
     ]
    }
   ],
   "source": [
    "field = (\"Mit_student_directory.csv\", \"Full Name\")\n",
    "res = api.similar_content_fields(field)\n",
    "api.output(res)"
   ]
  },
  {
   "cell_type": "code",
   "execution_count": 7,
   "metadata": {
    "collapsed": false
   },
   "outputs": [
    {
     "name": "stdout",
     "output_type": "stream",
     "text": [
      "source: Employee_directory.csv\t\t\t\t\t field: Full Name\n",
      "source: Se_person.csv\t\t\t\t\t field: Full Name\n",
      "source: Drupal_employee_directory.csv\t\t\t\t\t field: Full Name\n"
     ]
    }
   ],
   "source": [
    "field = (\"Mit_student_directory.csv\", \"Full Name\")\n",
    "res = api.similar_schema_fields(field)\n",
    "api.output(res)"
   ]
  },
  {
   "cell_type": "code",
   "execution_count": null,
   "metadata": {
    "collapsed": false,
    "scrolled": true
   },
   "outputs": [],
   "source": [
    "field = (\"Se_person.csv\", \"Full Name\")\n",
    "res = api.similar_entities_fields(field)\n",
    "api.output(res)"
   ]
  },
  {
   "cell_type": "markdown",
   "metadata": {},
   "source": [
    "# Combining Primitives"
   ]
  },
  {
   "cell_type": "markdown",
   "metadata": {},
   "source": [
    "### AND"
   ]
  },
  {
   "cell_type": "code",
   "execution_count": 8,
   "metadata": {
    "collapsed": false
   },
   "outputs": [
    {
     "name": "stdout",
     "output_type": "stream",
     "text": [
      "source: Fclt_organization.csv\t\t\t\t\t field: Hr Department Name\n",
      "source: Hr_org_unit_new.csv\t\t\t\t\t field: Hr Department Code\n",
      "source: Hr_org_unit_new.csv\t\t\t\t\t field: Hr Department Name\n",
      "source: Hr_org_unit_new.csv\t\t\t\t\t field: Hr Department Name Long\n"
     ]
    }
   ],
   "source": [
    "r1 = api.schema_search(\"department\", max_results=50)\n",
    "r2 = api.entity_search(\"organization\", max_results=50)\n",
    "res = api.and_conjunctive(r1, r2)\n",
    "api.output(res)"
   ]
  },
  {
   "cell_type": "markdown",
   "metadata": {},
   "source": [
    "### OR"
   ]
  },
  {
   "cell_type": "code",
   "execution_count": 9,
   "metadata": {
    "collapsed": false
   },
   "outputs": [
    {
     "name": "stdout",
     "output_type": "stream",
     "text": [
      "source: Employee_directory.csv\t\t\t\t\t field: Last Name\n",
      "source: Moira_list.csv\t\t\t\t\t field: Moira List Description\n",
      "source: Warehouse_users.csv\t\t\t\t\t field: Last Name\n",
      "source: Employee_directory.csv\t\t\t\t\t field: Directory Full Name\n",
      "source: Drupal_employee_directory.csv\t\t\t\t\t field: Last Name\n",
      "source: Library_course_instructor.csv\t\t\t\t\t field: Instructor Name\n",
      "source: Employee_directory.csv\t\t\t\t\t field: Email Address\n",
      "source: Se_person.csv\t\t\t\t\t field: Full Name\n",
      "source: Employee_directory.csv\t\t\t\t\t field: Personal Url\n",
      "source: Employee_directory.csv\t\t\t\t\t field: Preferred Last Name Upper\n",
      "source: Zip_usa.csv\t\t\t\t\t field: City Name\n",
      "source: Moira_list.csv\t\t\t\t\t field: Moira List Name\n",
      "source: Moira_list.csv\t\t\t\t\t field: Moira List Key\n",
      "source: Employee_directory.csv\t\t\t\t\t field: Full Name\n",
      "source: Warehouse_users.csv\t\t\t\t\t field: Email Address\n",
      "source: Library_subject_offered.csv\t\t\t\t\t field: Responsible Faculty Name\n",
      "source: Drupal_employee_directory.csv\t\t\t\t\t field: Personal Url\n",
      "source: Employee_directory.csv\t\t\t\t\t field: Email Address Uppercase\n",
      "source: Tip_material.csv\t\t\t\t\t field: Author\n",
      "source: Drupal_employee_directory.csv\t\t\t\t\t field: Email Address\n",
      "source: Employee_directory.csv\t\t\t\t\t field: Full Name Uppercase\n",
      "source: Se_person.csv\t\t\t\t\t field: Last Name\n",
      "source: Drupal_employee_directory.csv\t\t\t\t\t field: Full Name\n"
     ]
    }
   ],
   "source": [
    "r1 = api.keyword_search(\"Madden\", max_results=50)\n",
    "r2 = api.keyword_search(\"Stonebraker\", max_results=50)\n",
    "res = api.or_conjunctive(r1, r2)\n",
    "api.output(res)"
   ]
  },
  {
   "cell_type": "markdown",
   "metadata": {
    "collapsed": true
   },
   "source": [
    "# Discovery Functions"
   ]
  },
  {
   "cell_type": "markdown",
   "metadata": {},
   "source": [
    "### Join path"
   ]
  },
  {
   "cell_type": "code",
   "execution_count": 10,
   "metadata": {
    "collapsed": false
   },
   "outputs": [],
   "source": [
    "field1 = (\"Fclt_rooms.csv\", \"Building Room\")\n",
    "field2 = (\"Fac_rooms.csv\", \"Room\")\n",
    "res = api.join_path(field1, field2)\n",
    "api.output(res)"
   ]
  },
  {
   "cell_type": "markdown",
   "metadata": {
    "collapsed": true
   },
   "source": [
    "### Find matching schema"
   ]
  },
  {
   "cell_type": "code",
   "execution_count": 13,
   "metadata": {
    "collapsed": false
   },
   "outputs": [
    {
     "name": "stdout",
     "output_type": "stream",
     "text": [
      "source: Fclt_org_dlc_key.csv\t\t\t\t\t field: Fclt Organization Key\n",
      "source: Fclt_organization.csv\t\t\t\t\t field: Fclt Organization Key\n",
      "source: All_version_hview_wdepth.csv\t\t\t\t\t field: Parent Version\n",
      "source: All_hversion_view.csv\t\t\t\t\t field: Parent Version\n",
      "source: Fclt_organization.csv\t\t\t\t\t field: Organization Id\n",
      "source: Fclt_org_dlc_key.csv\t\t\t\t\t field: Fclt Organization Key\n",
      "source: Student_department.csv\t\t\t\t\t field: Department Code\n",
      "source: Fac_organization.csv\t\t\t\t\t field: Organization Level\n",
      "source: Fclt_organization_hist.csv\t\t\t\t\t field: Organization Level\n",
      "source: Fac_organization.csv\t\t\t\t\t field: Description\n",
      "source: Fac_organization.csv\t\t\t\t\t field: Major Org Key\n",
      "source: Fclt_floor.csv\t\t\t\t\t field: Warehouse Load Date\n",
      "source: Fclt_rooms.csv\t\t\t\t\t field: Warehouse Load Date\n",
      "source: Fac_rooms.csv\t\t\t\t\t field: Warehouse Load Date\n",
      "source: Fclt_building_address.csv\t\t\t\t\t field: Warehouse Load Date\n",
      "source: Space_unit.csv\t\t\t\t\t field: Warehouse Load Date\n",
      "source: Fac_building_address.csv\t\t\t\t\t field: Warehouse Load Date\n",
      "source: Fac_building.csv\t\t\t\t\t field: Warehouse Load Date\n",
      "source: Fac_major_use.csv\t\t\t\t\t field: Warehouse Load Date\n",
      "source: Fac_floor.csv\t\t\t\t\t field: Warehouse Load Date\n",
      "source: org.postgresql.jdbc.PgConnection@61f76eb5\t\t\t\t\t field: warehousedate\n",
      "source: Fclt_major_use.csv\t\t\t\t\t field: Warehouse Load Date\n",
      "source: Fac_organization.csv\t\t\t\t\t field: Warehouse Load Date\n",
      "source: org.postgresql.jdbc.PgConnection@ef2f7de\t\t\t\t\t field: warehousedate\n",
      "source: Fclt_building.csv\t\t\t\t\t field: Warehouse Load Date\n",
      "source: Fclt_org_dlc_key.csv\t\t\t\t\t field: Fclt Organization Key\n",
      "source: Fclt_organization.csv\t\t\t\t\t field: Fclt Organization Key\n",
      "source: short_library_reserve_catalog.csv\t\t\t\t\t field: Record Counter\n",
      "source: Buildings.csv\t\t\t\t\t field: Building Counter\n",
      "source: Fclt_major_use.csv\t\t\t\t\t field: Assignable\n",
      "source: All_olap_function_parameters.csv\t\t\t\t\t field: Position\n",
      "source: Fac_organization.csv\t\t\t\t\t field: Assignable\n",
      "source: Sdo_coord_op_methods.csv\t\t\t\t\t field: Reverse Op\n",
      "source: Sdo_available_ops.csv\t\t\t\t\t field: Is Implemented\n",
      "source: Sdo_non_available_elem_units.csv\t\t\t\t\t field: Is Implemented\n",
      "source: Fclt_major_user_hist.csv\t\t\t\t\t field: Assignable\n",
      "source: Space_supervisor_usage.csv\t\t\t\t\t field: Dept Count\n",
      "source: Sdo_coord_ops.csv\t\t\t\t\t field: Is Implemented Forward\n",
      "source: Space_detail.csv\t\t\t\t\t field: Room Counter\n",
      "source: Sdo_coord_ops.csv\t\t\t\t\t field: Reverse Op\n",
      "source: Sdo_coord_ops.csv\t\t\t\t\t field: Is Implemented Reverse\n",
      "source: All_version_hview_wdepth.csv\t\t\t\t\t field: Parent Version\n",
      "source: All_hversion_view.csv\t\t\t\t\t field: Parent Version\n",
      "source: Fac_major_use.csv\t\t\t\t\t field: Assignable\n",
      "source: Sdo_coord_ops.csv\t\t\t\t\t field: Show Operation\n",
      "source: Hr_org_unit_new.csv\t\t\t\t\t field: Hr Org Level1 Sort\n",
      "source: short_moira_list_detail.csv\t\t\t\t\t field: Counter\n",
      "source: Sdo_available_elem_ops.csv\t\t\t\t\t field: Is Implemented\n",
      "source: Tip_detail.csv\t\t\t\t\t field: Record Count\n",
      "source: Fclt_organization_hist.csv\t\t\t\t\t field: Assignable\n",
      "source: Hr_org_unit.csv\t\t\t\t\t field: Hr Org Level1 Sort\n",
      "source: Fclt_organization.csv\t\t\t\t\t field: Organization Id\n",
      "source: Fclt_org_dlc_key.csv\t\t\t\t\t field: Fclt Organization Key\n",
      "source: Fclt_organization_hist.csv\t\t\t\t\t field: Fclt Org Parent Key\n",
      "source: Fclt_organization_hist.csv\t\t\t\t\t field: Fclt Major Org Key\n",
      "source: Fac_organization.csv\t\t\t\t\t field: Org Parent Key\n",
      "source: Fac_organization.csv\t\t\t\t\t field: Org Parent\n",
      "source: Student_department.csv\t\t\t\t\t field: Department Code\n",
      "source: Fac_organization.csv\t\t\t\t\t field: Course\n"
     ]
    }
   ],
   "source": [
    "sn = \"Fclt_organization.csv\"\n",
    "res = api.schema_complement(sn)\n",
    "api.output(res)"
   ]
  },
  {
   "cell_type": "markdown",
   "metadata": {
    "collapsed": true
   },
   "source": [
    "### Find tables matching schema"
   ]
  },
  {
   "cell_type": "code",
   "execution_count": 14,
   "metadata": {
    "collapsed": false
   },
   "outputs": [
    {
     "name": "stdout",
     "output_type": "stream",
     "text": [
      "('Fac_organization.csv', [('d', 3.8181076)])\n",
      "('Master_dept_dcode_parent.csv', [('d', 3.8367095)])\n"
     ]
    }
   ],
   "source": [
    "res = api.find_tables_matching_schema(\"name, department\", 10)\n",
    "api.output_raw(res)"
   ]
  },
  {
   "cell_type": "code",
   "execution_count": 15,
   "metadata": {
    "collapsed": false,
    "scrolled": true
   },
   "outputs": [
    {
     "name": "stdout",
     "output_type": "stream",
     "text": [
      "('Sdo_units_of_measure.csv', [('c', 3.8199923)])\n",
      "('Fac_organization.csv', [('d', 3.8181076)])\n",
      "('Master_dept_dcode_parent.csv', [('d', 3.8367095)])\n"
     ]
    }
   ],
   "source": [
    "res = api.find_tables_matching_schema(\"course, department\", 30)\n",
    "api.output_raw(res)"
   ]
  },
  {
   "cell_type": "code",
   "execution_count": 16,
   "metadata": {
    "collapsed": false
   },
   "outputs": [
    {
     "name": "stdout",
     "output_type": "stream",
     "text": [
      "('Fclt_building.csv', [('y', 2.7094202)])\n",
      "('Fclt_building_hist_1.csv', [('y', 2.611222)])\n",
      "('Sdo_datums_old_format.csv', [('y', 3.1314743)])\n",
      "('Fac_building.csv', [('y', 2.8472006)])\n",
      "('Sdo_datum_engineering.csv', [('y', 3.6137006)])\n",
      "('Sdo_units_of_measure.csv', [('b', 3.8671162)])\n",
      "('Sdo_datum_geodetic.csv', [('y', 3.3867753)])\n",
      "('Sdo_datums_old_snapshot.csv', [('y', 3.1314743)])\n",
      "('Sdo_datums.csv', [('y', 3.3867753)])\n",
      "('Fclt_building_list.csv', [('y', 2.611222)])\n",
      "('Sdo_datum_vertical.csv', [('y', 3.6137006)])\n"
     ]
    }
   ],
   "source": [
    "res = api.find_tables_matching_schema(\"Table, type\", 40)\n",
    "api.output_raw(res)"
   ]
  },
  {
   "cell_type": "code",
   "execution_count": null,
   "metadata": {
    "collapsed": true
   },
   "outputs": [],
   "source": []
  }
 ],
 "metadata": {
  "kernelspec": {
   "display_name": "Python 3",
   "language": "python",
   "name": "python3"
  },
  "language_info": {
   "codemirror_mode": {
    "name": "ipython",
    "version": 3
   },
   "file_extension": ".py",
   "mimetype": "text/x-python",
   "name": "python",
   "nbconvert_exporter": "python",
   "pygments_lexer": "ipython3",
   "version": "3.5.0"
  }
 },
 "nbformat": 4,
 "nbformat_minor": 0
}
