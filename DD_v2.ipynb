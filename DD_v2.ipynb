{
 "cells": [
  {
   "cell_type": "code",
   "execution_count": 1,
   "metadata": {
    "collapsed": false
   },
   "outputs": [
    {
     "data": {
      "text/markdown": [
       "Loading: */Users/ra-mit/development/discovery_proto/test/network.pickle*"
      ],
      "text/plain": [
       "<IPython.core.display.Markdown object>"
      ]
     },
     "metadata": {},
     "output_type": "display_data"
    },
    {
     "data": {
      "text/markdown": [
       "### Help Menu"
      ],
      "text/plain": [
       "<IPython.core.display.Markdown object>"
      ]
     },
     "metadata": {},
     "output_type": "display_data"
    },
    {
     "data": {
      "text/markdown": [
       "You can use the system through an **API** object. API objects are returnedby the *init_system* function, so you can get one by doing:"
      ],
      "text/plain": [
       "<IPython.core.display.Markdown object>"
      ]
     },
     "metadata": {},
     "output_type": "display_data"
    },
    {
     "data": {
      "text/markdown": [
       "***your_api_object = init_system(<path_to_stored_model>)***"
      ],
      "text/plain": [
       "<IPython.core.display.Markdown object>"
      ]
     },
     "metadata": {},
     "output_type": "display_data"
    },
    {
     "data": {
      "text/markdown": [
       "Once you have access to an API object there are a few concepts that are useful to use the API. **content** refers to actual values of a given field. For example, if you have a table with an attribute called __Name__ and values *Mike, Sam, Olu*, content refers to the actual values, e.g. Mike, Sam, Olu."
      ],
      "text/plain": [
       "<IPython.core.display.Markdown object>"
      ]
     },
     "metadata": {},
     "output_type": "display_data"
    },
    {
     "data": {
      "text/markdown": [
       "**schema** refers to the name of a given field. In the previous example, schema refers to the word__Name__ as that's how the field is called."
      ],
      "text/plain": [
       "<IPython.core.display.Markdown object>"
      ]
     },
     "metadata": {},
     "output_type": "display_data"
    },
    {
     "data": {
      "text/markdown": [
       "Finally, **entity** refers to the *semantic type* of the content. This is in experimental state. For the previous example it would return *'person'* as that's what those names refer to."
      ],
      "text/plain": [
       "<IPython.core.display.Markdown object>"
      ]
     },
     "metadata": {},
     "output_type": "display_data"
    },
    {
     "data": {
      "text/markdown": [
       "Certain functions require a *field* as input. In general a field is specified by the source name (e.g. table name) and the field name (e.g. attribute name). For example, if we are interested in finding content similar to the one of the attribute *year* in the table *Employee* we can provide the field in the following way:"
      ],
      "text/plain": [
       "<IPython.core.display.Markdown object>"
      ]
     },
     "metadata": {},
     "output_type": "display_data"
    },
    {
     "name": "stdout",
     "output_type": "stream",
     "text": [
      "field = ('Employee', 'year') # field = [<source_name>, <field_name>)\n"
     ]
    }
   ],
   "source": [
    "from main import init_system\n",
    "api = init_system(\"/Users/ra-mit/development/discovery_proto/test/network.pickle\")"
   ]
  },
  {
   "cell_type": "markdown",
   "metadata": {},
   "source": [
    "# Discovery Primitives"
   ]
  },
  {
   "cell_type": "markdown",
   "metadata": {},
   "source": [
    "### Keyword, schema and entity search"
   ]
  },
  {
   "cell_type": "code",
   "execution_count": 3,
   "metadata": {
    "collapsed": false,
    "scrolled": true
   },
   "outputs": [
    {
     "name": "stdout",
     "output_type": "stream",
     "text": [
      "source: Se_person.csv\t\t\t\t\t field: Last Name\n",
      "source: Drupal_employee_directory.csv\t\t\t\t\t field: Personal Url\n",
      "source: Employee_directory.csv\t\t\t\t\t field: Personal Url\n",
      "source: Library_subject_offered.csv\t\t\t\t\t field: Responsible Faculty Name\n",
      "source: Employee_directory.csv\t\t\t\t\t field: Last Name\n",
      "source: Se_person.csv\t\t\t\t\t field: Last Name\n",
      "source: Warehouse_users.csv\t\t\t\t\t field: Last Name\n",
      "source: Library_course_instructor.csv\t\t\t\t\t field: Instructor Name\n",
      "source: Drupal_employee_directory.csv\t\t\t\t\t field: Last Name\n",
      "source: Employee_directory.csv\t\t\t\t\t field: Preferred Last Name Upper\n"
     ]
    }
   ],
   "source": [
    "res = api.keyword_search(\"Madden\")\n",
    "api.output(res)"
   ]
  },
  {
   "cell_type": "code",
   "execution_count": 4,
   "metadata": {
    "collapsed": false
   },
   "outputs": [
    {
     "name": "stdout",
     "output_type": "stream",
     "text": [
      "source: Mit_student_directory.csv\t\t\t\t\t field: Department\n",
      "source: Student_degree_program.csv\t\t\t\t\t field: Department\n",
      "source: Library_course_instructor.csv\t\t\t\t\t field: Department\n",
      "source: Sis_course_description.csv\t\t\t\t\t field: Department\n",
      "source: short_cis_course_catalog.csv\t\t\t\t\t field: Department Code\n",
      "source: short_cis_course_catalog.csv\t\t\t\t\t field: Department Name\n",
      "source: subject_grouping_slice.csv\t\t\t\t\t field: Department Code\n",
      "source: Sis_department.csv\t\t\t\t\t field: Department Name\n",
      "source: Sis_course_description.csv\t\t\t\t\t field: Department Name\n",
      "source: short_subject_summary.csv\t\t\t\t\t field: Department Code\n"
     ]
    }
   ],
   "source": [
    "res = api.schema_search(\"department\")\n",
    "api.output(res)"
   ]
  },
  {
   "cell_type": "code",
   "execution_count": 5,
   "metadata": {
    "collapsed": false
   },
   "outputs": [
    {
     "name": "stdout",
     "output_type": "stream",
     "text": [
      "source: Ctx_object_attribute_lov.csv\t\t\t\t\t field: Oal Label\n",
      "source: Ctx_object_attribute_lov.csv\t\t\t\t\t field: Oal Object\n",
      "source: Fclt_organization.csv\t\t\t\t\t field: Organization\n",
      "source: Fclt_organization.csv\t\t\t\t\t field: Dlc Key\n",
      "source: Fclt_organization.csv\t\t\t\t\t field: Hr Department Name\n",
      "source: Master_dept_hierarchy.csv\t\t\t\t\t field: Dlc Name\n",
      "source: Master_dept_hierarchy.csv\t\t\t\t\t field: Master Dept Hier Level 2 Name\n",
      "source: Master_dept_hierarchy.csv\t\t\t\t\t field: Master Dept Hier Level 4 Name\n",
      "source: Sdo_coord_op_methods.csv\t\t\t\t\t field: Legacy Name\n",
      "source: Sdo_coord_op_params.csv\t\t\t\t\t field: Parameter Name\n"
     ]
    }
   ],
   "source": [
    "res = api.entity_search(\"organization\")\n",
    "api.output(res)"
   ]
  },
  {
   "cell_type": "markdown",
   "metadata": {},
   "source": [
    "### Content, schema, entity similarities"
   ]
  },
  {
   "cell_type": "code",
   "execution_count": 6,
   "metadata": {
    "collapsed": false
   },
   "outputs": [
    {
     "name": "stdout",
     "output_type": "stream",
     "text": [
      "source: Mit_student_directory.csv\t\t\t\t\t field: Full Name Uppercase\n"
     ]
    }
   ],
   "source": [
    "field = (\"Mit_student_directory.csv\", \"Full Name\")\n",
    "res = api.similar_content_fields(field)\n",
    "api.output(res)"
   ]
  },
  {
   "cell_type": "code",
   "execution_count": 7,
   "metadata": {
    "collapsed": false
   },
   "outputs": [
    {
     "name": "stdout",
     "output_type": "stream",
     "text": [
      "source: Employee_directory.csv\t\t\t\t\t field: Full Name\n",
      "source: Se_person.csv\t\t\t\t\t field: Full Name\n",
      "source: Drupal_employee_directory.csv\t\t\t\t\t field: Full Name\n"
     ]
    }
   ],
   "source": [
    "field = (\"Mit_student_directory.csv\", \"Full Name\")\n",
    "res = api.similar_schema_fields(field)\n",
    "api.output(res)"
   ]
  },
  {
   "cell_type": "code",
   "execution_count": 8,
   "metadata": {
    "collapsed": false,
    "scrolled": true
   },
   "outputs": [
    {
     "name": "stdout",
     "output_type": "stream",
     "text": [
      "source: short_cis_course_catalog.csv\t\t\t\t\t field: Subject Description\n",
      "source: short_course_catalog_subject_offered.csv\t\t\t\t\t field: Meet Time\n",
      "source: Warehouse_users.csv\t\t\t\t\t field: Middle Name\n",
      "source: short_subject_summary.csv\t\t\t\t\t field: Subject Id\n",
      "source: Tip_material.csv\t\t\t\t\t field: Tip Material Key\n",
      "source: short_subject_summary.csv\t\t\t\t\t field: Cluster List\n",
      "source: Drupal_employee_directory.csv\t\t\t\t\t field: Office Location\n",
      "source: Sis_course_description.csv\t\t\t\t\t field: From Term\n",
      "source: Master_dept_hierarchy_links.csv\t\t\t\t\t field: Dlc Key\n",
      "source: Sis_course_description.csv\t\t\t\t\t field: Course Option\n"
     ]
    }
   ],
   "source": [
    "field = (\"Se_person.csv\", \"Full Name\")\n",
    "res = api.similar_entities_fields(field)\n",
    "api.output(res)"
   ]
  },
  {
   "cell_type": "markdown",
   "metadata": {},
   "source": [
    "# Combining Primitives"
   ]
  },
  {
   "cell_type": "markdown",
   "metadata": {},
   "source": [
    "### AND"
   ]
  },
  {
   "cell_type": "code",
   "execution_count": 9,
   "metadata": {
    "collapsed": false
   },
   "outputs": [
    {
     "name": "stdout",
     "output_type": "stream",
     "text": [
      "source: Fclt_organization.csv\t\t\t\t\t field: Hr Department Name\n",
      "source: Hr_org_unit_new.csv\t\t\t\t\t field: Hr Department Code\n",
      "source: Hr_org_unit_new.csv\t\t\t\t\t field: Hr Department Name\n",
      "source: Hr_org_unit_new.csv\t\t\t\t\t field: Hr Department Name Long\n"
     ]
    }
   ],
   "source": [
    "r1 = api.schema_search(\"department\", max_results=50)\n",
    "r2 = api.entity_search(\"organization\", max_results=50)\n",
    "res = api.and_conjunctive(r1, r2)\n",
    "api.output(res)"
   ]
  },
  {
   "cell_type": "markdown",
   "metadata": {},
   "source": [
    "### OR"
   ]
  },
  {
   "cell_type": "code",
   "execution_count": 10,
   "metadata": {
    "collapsed": false
   },
   "outputs": [
    {
     "name": "stdout",
     "output_type": "stream",
     "text": [
      "source: Employee_directory.csv\t\t\t\t\t field: Last Name\n",
      "source: Moira_list.csv\t\t\t\t\t field: Moira List Description\n",
      "source: Warehouse_users.csv\t\t\t\t\t field: Last Name\n",
      "source: Employee_directory.csv\t\t\t\t\t field: Directory Full Name\n",
      "source: Drupal_employee_directory.csv\t\t\t\t\t field: Last Name\n",
      "source: Library_course_instructor.csv\t\t\t\t\t field: Instructor Name\n",
      "source: Employee_directory.csv\t\t\t\t\t field: Email Address\n",
      "source: Se_person.csv\t\t\t\t\t field: Full Name\n",
      "source: Employee_directory.csv\t\t\t\t\t field: Personal Url\n",
      "source: Employee_directory.csv\t\t\t\t\t field: Preferred Last Name Upper\n",
      "source: Zip_usa.csv\t\t\t\t\t field: City Name\n",
      "source: Moira_list.csv\t\t\t\t\t field: Moira List Name\n",
      "source: Moira_list.csv\t\t\t\t\t field: Moira List Key\n",
      "source: Employee_directory.csv\t\t\t\t\t field: Full Name\n",
      "source: Warehouse_users.csv\t\t\t\t\t field: Email Address\n",
      "source: Library_subject_offered.csv\t\t\t\t\t field: Responsible Faculty Name\n",
      "source: Drupal_employee_directory.csv\t\t\t\t\t field: Personal Url\n",
      "source: Employee_directory.csv\t\t\t\t\t field: Email Address Uppercase\n",
      "source: Tip_material.csv\t\t\t\t\t field: Author\n",
      "source: Drupal_employee_directory.csv\t\t\t\t\t field: Email Address\n",
      "source: Employee_directory.csv\t\t\t\t\t field: Full Name Uppercase\n",
      "source: Se_person.csv\t\t\t\t\t field: Last Name\n",
      "source: Drupal_employee_directory.csv\t\t\t\t\t field: Full Name\n"
     ]
    }
   ],
   "source": [
    "r1 = api.keyword_search(\"Madden\", max_results=50)\n",
    "r2 = api.keyword_search(\"Stonebraker\", max_results=50)\n",
    "res = api.or_conjunctive(r1, r2)\n",
    "api.output(res)"
   ]
  },
  {
   "cell_type": "markdown",
   "metadata": {
    "collapsed": true
   },
   "source": [
    "# Discovery Functions"
   ]
  },
  {
   "cell_type": "markdown",
   "metadata": {},
   "source": [
    "### Join path"
   ]
  },
  {
   "cell_type": "code",
   "execution_count": 11,
   "metadata": {
    "collapsed": false
   },
   "outputs": [],
   "source": [
    "field1 = (\"Fclt_rooms.csv\", \"Building Room\")\n",
    "field2 = (\"Fac_rooms.csv\", \"Room\")\n",
    "res = api.join_path(field1, field2)\n",
    "api.output(res)"
   ]
  },
  {
   "cell_type": "markdown",
   "metadata": {
    "collapsed": true
   },
   "source": [
    "### Find matching schema"
   ]
  },
  {
   "cell_type": "code",
   "execution_count": 12,
   "metadata": {
    "collapsed": false
   },
   "outputs": [
    {
     "name": "stdout",
     "output_type": "stream",
     "text": [
      "Hit(nid=355897770, source_name='Fclt_org_dlc_key.csv', field_name='Fclt Organization Key', score=1.0)\n",
      "Hit(nid=2799362288, source_name='Fclt_organization.csv', field_name='Fclt Organization Key', score=0.9879518072289156)\n",
      "Hit(nid=2280816136, source_name='All_hversion_view.csv', field_name='Parent Version', score=1.0)\n",
      "Hit(nid=1266149968, source_name='All_version_hview_wdepth.csv', field_name='Parent Version', score=1.0)\n",
      "Hit(nid=2299711430, source_name='Fclt_organization.csv', field_name='Organization Id', score=0.9879518072289156)\n",
      "Hit(nid=355897770, source_name='Fclt_org_dlc_key.csv', field_name='Fclt Organization Key', score=1.0)\n",
      "Hit(nid=3003106695, source_name='Student_department.csv', field_name='Department Code', score=1.0)\n",
      "Hit(nid=3931661923, source_name='Fac_organization.csv', field_name='Organization Level', score=1)\n",
      "Hit(nid=759833849, source_name='Fclt_organization_hist.csv', field_name='Organization Level', score=1)\n",
      "Hit(nid=3348719160, source_name='Fac_organization.csv', field_name='Description', score=0.0)\n",
      "Hit(nid=1957776828, source_name='Fac_organization.csv', field_name='Major Org Key', score=0.0)\n",
      "Hit(nid=2825806118, source_name='Fclt_building_address.csv', field_name='Warehouse Load Date', score=0.0)\n",
      "Hit(nid=511720768, source_name='org.postgresql.jdbc.PgConnection@61f76eb5', field_name='warehousedate', score=0.0)\n",
      "Hit(nid=3994219890, source_name='org.postgresql.jdbc.PgConnection@ef2f7de', field_name='warehousedate', score=0.0)\n",
      "Hit(nid=3441876372, source_name='Fclt_rooms.csv', field_name='Warehouse Load Date', score=0.0)\n",
      "Hit(nid=2368947869, source_name='Fac_building.csv', field_name='Warehouse Load Date', score=0.0)\n",
      "Hit(nid=4107962529, source_name='Fac_rooms.csv', field_name='Warehouse Load Date', score=0.0)\n",
      "Hit(nid=1143911340, source_name='Fac_building_address.csv', field_name='Warehouse Load Date', score=0.0)\n",
      "Hit(nid=17234356, source_name='Fac_major_use.csv', field_name='Warehouse Load Date', score=0.0)\n",
      "Hit(nid=1267057596, source_name='Fac_floor.csv', field_name='Warehouse Load Date', score=0.0)\n",
      "Hit(nid=1267219397, source_name='Fclt_major_use.csv', field_name='Warehouse Load Date', score=0.0)\n",
      "Hit(nid=355897770, source_name='Fclt_org_dlc_key.csv', field_name='Fclt Organization Key', score=1)\n",
      "Hit(nid=2799362288, source_name='Fclt_organization.csv', field_name='Fclt Organization Key', score=1)\n",
      "Hit(nid=3154036118, source_name='All_olap_function_parameters.csv', field_name='Position', score=1)\n",
      "Hit(nid=65608712, source_name='Buildings.csv', field_name='Building Counter', score=1)\n",
      "Hit(nid=1505687823, source_name='Fclt_major_use.csv', field_name='Assignable', score=1)\n",
      "Hit(nid=4178260246, source_name='short_library_reserve_catalog.csv', field_name='Record Counter', score=1)\n",
      "Hit(nid=1036978457, source_name='Sdo_available_ops.csv', field_name='Is Implemented', score=1)\n",
      "Hit(nid=3655227800, source_name='Sdo_coord_op_methods.csv', field_name='Reverse Op', score=1)\n",
      "Hit(nid=2280816136, source_name='All_hversion_view.csv', field_name='Parent Version', score=1)\n",
      "Hit(nid=2409330255, source_name='Fclt_major_user_hist.csv', field_name='Assignable', score=1)\n",
      "Hit(nid=1353772697, source_name='Fac_organization.csv', field_name='Assignable', score=1)\n",
      "Hit(nid=2754860872, source_name='Space_supervisor_usage.csv', field_name='Dept Count', score=1)\n",
      "Hit(nid=3343763020, source_name='Sdo_coord_ops.csv', field_name='Is Implemented Forward', score=1)\n",
      "Hit(nid=1276873039, source_name='Space_detail.csv', field_name='Room Counter', score=1)\n",
      "Hit(nid=1266149968, source_name='All_version_hview_wdepth.csv', field_name='Parent Version', score=1)\n",
      "Hit(nid=1016353273, source_name='Sdo_coord_ops.csv', field_name='Reverse Op', score=1)\n",
      "Hit(nid=1975890952, source_name='Sdo_non_available_elem_units.csv', field_name='Is Implemented', score=1)\n",
      "Hit(nid=2326493405, source_name='Sdo_coord_ops.csv', field_name='Is Implemented Reverse', score=1)\n",
      "Hit(nid=380925382, source_name='Fac_major_use.csv', field_name='Assignable', score=1)\n",
      "Hit(nid=1774357616, source_name='Sdo_coord_ops.csv', field_name='Show Operation', score=1)\n",
      "Hit(nid=1031682041, source_name='short_moira_list_detail.csv', field_name='Counter', score=1)\n",
      "Hit(nid=1623913593, source_name='Hr_org_unit_new.csv', field_name='Hr Org Level1 Sort', score=1)\n",
      "Hit(nid=2885367674, source_name='Sdo_available_elem_ops.csv', field_name='Is Implemented', score=1)\n",
      "Hit(nid=1016498928, source_name='Tip_detail.csv', field_name='Record Count', score=1)\n",
      "Hit(nid=3566385278, source_name='Fclt_organization_hist.csv', field_name='Assignable', score=1)\n",
      "Hit(nid=2432830233, source_name='Hr_org_unit.csv', field_name='Hr Org Level1 Sort', score=1)\n",
      "Hit(nid=2299711430, source_name='Fclt_organization.csv', field_name='Organization Id', score=1)\n",
      "Hit(nid=355897770, source_name='Fclt_org_dlc_key.csv', field_name='Fclt Organization Key', score=1)\n",
      "Hit(nid=3180454115, source_name='Fclt_organization_hist.csv', field_name='Fclt Major Org Key', score=1)\n",
      "Hit(nid=3861632178, source_name='Fac_organization.csv', field_name='Org Parent Key', score=1)\n",
      "Hit(nid=490125434, source_name='Fclt_organization_hist.csv', field_name='Fclt Org Parent Key', score=1)\n",
      "Hit(nid=4096444754, source_name='Fac_organization.csv', field_name='Org Parent', score=0.0)\n",
      "Hit(nid=3003106695, source_name='Student_department.csv', field_name='Department Code', score=0.0)\n",
      "Hit(nid=254360665, source_name='Fac_organization.csv', field_name='Course', score=0.0)\n"
     ]
    }
   ],
   "source": [
    "sn = \"Fclt_organization.csv\"\n",
    "res = api.schema_complement(sn)\n",
    "api.output_raw(res)"
   ]
  },
  {
   "cell_type": "markdown",
   "metadata": {
    "collapsed": true
   },
   "source": [
    "### Find tables matching schema"
   ]
  },
  {
   "cell_type": "code",
   "execution_count": 13,
   "metadata": {
    "collapsed": false
   },
   "outputs": [
    {
     "name": "stdout",
     "output_type": "stream",
     "text": [
      "('Master_dept_dcode_parent.csv', [('d', 3.8367095)])\n",
      "('Fac_organization.csv', [('d', 3.8181076)])\n"
     ]
    }
   ],
   "source": [
    "res = api.find_tables_matching_schema(\"name, department\", 10)\n",
    "api.output_raw(res)"
   ]
  },
  {
   "cell_type": "code",
   "execution_count": 14,
   "metadata": {
    "collapsed": false,
    "scrolled": true
   },
   "outputs": [
    {
     "name": "stdout",
     "output_type": "stream",
     "text": [
      "('Fac_organization.csv', [('d', 3.8181076)])\n",
      "('Sdo_units_of_measure.csv', [('c', 3.8199923)])\n",
      "('Master_dept_dcode_parent.csv', [('d', 3.8367095)])\n"
     ]
    }
   ],
   "source": [
    "res = api.find_tables_matching_schema(\"course, department\", 30)\n",
    "api.output_raw(res)"
   ]
  },
  {
   "cell_type": "code",
   "execution_count": 15,
   "metadata": {
    "collapsed": false
   },
   "outputs": [
    {
     "name": "stdout",
     "output_type": "stream",
     "text": [
      "('Sdo_datums.csv', [('y', 3.3867753)])\n",
      "('Sdo_datums_old_format.csv', [('y', 3.1314743)])\n",
      "('Fclt_building.csv', [('y', 2.7094202)])\n",
      "('Sdo_datum_geodetic.csv', [('y', 3.3867753)])\n",
      "('Fclt_building_list.csv', [('y', 2.611222)])\n",
      "('Fclt_building_hist_1.csv', [('y', 2.611222)])\n",
      "('Fac_building.csv', [('y', 2.8472006)])\n",
      "('Sdo_datum_engineering.csv', [('y', 3.6137006)])\n",
      "('Sdo_datums_old_snapshot.csv', [('y', 3.1314743)])\n",
      "('Sdo_units_of_measure.csv', [('b', 3.8671162)])\n",
      "('Sdo_datum_vertical.csv', [('y', 3.6137006)])\n"
     ]
    }
   ],
   "source": [
    "res = api.find_tables_matching_schema(\"Table, type\", 40)\n",
    "api.output_raw(res)"
   ]
  },
  {
   "cell_type": "code",
   "execution_count": null,
   "metadata": {
    "collapsed": true
   },
   "outputs": [],
   "source": []
  }
 ],
 "metadata": {
  "kernelspec": {
   "display_name": "Python 3",
   "language": "python",
   "name": "python3"
  },
  "language_info": {
   "codemirror_mode": {
    "name": "ipython",
    "version": 3
   },
   "file_extension": ".py",
   "mimetype": "text/x-python",
   "name": "python",
   "nbconvert_exporter": "python",
   "pygments_lexer": "ipython3",
   "version": "3.5.0"
  }
 },
 "nbformat": 4,
 "nbformat_minor": 0
}
