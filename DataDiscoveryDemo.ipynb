{
 "cells": [
  {
   "cell_type": "markdown",
   "metadata": {},
   "source": [
    "# Data Discovery Demonstration"
   ]
  },
  {
   "cell_type": "markdown",
   "metadata": {},
   "source": [
    "The **goal** of *data discovery* is to find and suggest datasets that are relevant to answer a question. For that, we propose an interface where users of the *discovery system* interact to explore the available datasets in the organization. Users can use different **primitives** which goal is to capture user's intuition. Examples: \"give me any column that contains this term\", i.e. keyword search, \"I want to see all columns that are *similar* to this one\"."
   ]
  },
  {
   "cell_type": "markdown",
   "metadata": {},
   "source": [
    "In this demo we show some of the primitives to analyze a small dataset (50MB) that consists of 10 files extracted from data.gov. The files are related to three main topics: (i) taxes, (ii) taxes for liquor and tobacco and (iii) contracts granted to institutions such as grants, etc.\n",
    "\n",
    "\n",
    "One important goal is to *understand what is the minimum set of primitives necessary to approach data discovery*.\n",
    "\n",
    "- name for 4th primitive\n",
    "- formulate examples as real questions\n",
    "- comment on db connector"
   ]
  },
  {
   "cell_type": "markdown",
   "metadata": {},
   "source": [
    "##### Pre-Processing: Loading data and creating signatures"
   ]
  },
  {
   "cell_type": "code",
   "execution_count": 72,
   "metadata": {
    "collapsed": false
   },
   "outputs": [
    {
     "name": "stdout",
     "output_type": "stream",
     "text": [
      "Loading signature collections...\n",
      "Done deserialization of signature collections!\n",
      "Loading signature collections...DONE!\n",
      "Loading graph...\n",
      "Done deserialization of signature collection!\n",
      "Loading graph...DONE!\n",
      "Loading simrank matrix...\n",
      "Done deserialization of simrank matrix!\n",
      "Loading simrank matrix...DONE!\n",
      "Loading dataset columns...\n",
      "Done deserialization of dataset columns!\n",
      "Loading dataset columns...DONE!\n"
     ]
    }
   ],
   "source": [
    "import api as API\n",
    "API.load_precomputed_model()"
   ]
  },
  {
   "cell_type": "markdown",
   "metadata": {},
   "source": [
    "## Data Discovery Primitives"
   ]
  },
  {
   "cell_type": "markdown",
   "metadata": {},
   "source": [
    "We introduce 4 different primitives for data discovery\n",
    "1. **Keyword search** : Traditional keyword search on all the datasets available\n",
    "2. **Column similarity** : Provide all columns similar to column X (for both textual and numerical values), where similarity captures data distributions and features\n",
    "3. **Structural similarity** : Provide all columns similar to column X, where similarity captures structural knowledge\n",
    "4. **find a name** : Given the relation between X->Y, give columns that can replace Y keeping the relation\n",
    "\n",
    "We demonstrate 2, **column similarity** and **structural similarity**."
   ]
  },
  {
   "cell_type": "markdown",
   "metadata": {},
   "source": [
    "### Column Similarity"
   ]
  },
  {
   "cell_type": "markdown",
   "metadata": {},
   "source": [
    "The column similarity primitive will return all columns in the dataset that are similar to the one provided. In the case of textual columns, a similar column is one that contains similar term distribution and content. In the case of numerical columns, a similar column is one with similar data distribution.\n",
    "\n",
    "---"
   ]
  },
  {
   "cell_type": "markdown",
   "metadata": {},
   "source": [
    "***Example A***: Find columns similar to \"Geography\" which is a **textual** column."
   ]
  },
  {
   "cell_type": "code",
   "execution_count": 63,
   "metadata": {
    "collapsed": false
   },
   "outputs": [
    {
     "data": {
      "text/markdown": [
       "**STC_2014_STC005_with_ann.csv**"
      ],
      "text/plain": [
       "<IPython.core.display.Markdown object>"
      ]
     },
     "metadata": {},
     "output_type": "display_data"
    },
    {
     "name": "stdout",
     "output_type": "stream",
     "text": [
      "   Geography\n"
     ]
    },
    {
     "data": {
      "text/markdown": [
       "**SAMHSA_Synar_Reports__Youth_Tobacco_Sales.csv**"
      ],
      "text/plain": [
       "<IPython.core.display.Markdown object>"
      ]
     },
     "metadata": {},
     "output_type": "display_data"
    },
    {
     "name": "stdout",
     "output_type": "stream",
     "text": [
      "   LocationDesc\n"
     ]
    },
    {
     "data": {
      "text/markdown": [
       "**The_Tax_Burden_on_Tobacco_Volume_49__1970-2014.csv**"
      ],
      "text/plain": [
       "<IPython.core.display.Markdown object>"
      ]
     },
     "metadata": {},
     "output_type": "display_data"
    },
    {
     "name": "stdout",
     "output_type": "stream",
     "text": [
      "   LocationDesc\n"
     ]
    },
    {
     "data": {
      "text/markdown": [
       "**NYS_Liquor_Authority_New_Applications_Received.csv**"
      ],
      "text/plain": [
       "<IPython.core.display.Markdown object>"
      ]
     },
     "metadata": {},
     "output_type": "display_data"
    },
    {
     "name": "stdout",
     "output_type": "stream",
     "text": [
      "   City\n"
     ]
    },
    {
     "data": {
      "text/markdown": [
       "**datafeeds\\2000_NASA_Contracts_Full_20151015.csv**"
      ],
      "text/plain": [
       "<IPython.core.display.Markdown object>"
      ]
     },
     "metadata": {},
     "output_type": "display_data"
    },
    {
     "name": "stdout",
     "output_type": "stream",
     "text": [
      "   statecode\n"
     ]
    },
    {
     "data": {
      "text/markdown": [
       "**STC_2014_STC006.US01_with_ann.csv**"
      ],
      "text/plain": [
       "<IPython.core.display.Markdown object>"
      ]
     },
     "metadata": {},
     "output_type": "display_data"
    },
    {
     "name": "stdout",
     "output_type": "stream",
     "text": [
      "   Government\n"
     ]
    },
    {
     "data": {
      "text/markdown": [
       "**Income_Tax_Components_by_Size_of_Income_by_Place_of_Residence__Beginning_Tax_Year_1999.csv**"
      ],
      "text/plain": [
       "<IPython.core.display.Markdown object>"
      ]
     },
     "metadata": {},
     "output_type": "display_data"
    },
    {
     "name": "stdout",
     "output_type": "stream",
     "text": [
      "   State\n",
      "   Place of Residence\n"
     ]
    },
    {
     "data": {
      "text/markdown": [
       "**CDC_STATE_System_Tobacco_Legislation_-_Tax.csv**"
      ],
      "text/plain": [
       "<IPython.core.display.Markdown object>"
      ]
     },
     "metadata": {},
     "output_type": "display_data"
    },
    {
     "name": "stdout",
     "output_type": "stream",
     "text": [
      "   LocationDesc\n"
     ]
    }
   ],
   "source": [
    "filename = \"STC_2014_STC005_with_ann.csv\"\n",
    "columnname = \"Geography\"\n",
    "res = API.columns_similar_to(filename, columnname, \"ks\")\n",
    "API.print_result(res)"
   ]
  },
  {
   "cell_type": "markdown",
   "metadata": {},
   "source": [
    "\n"
   ]
  },
  {
   "cell_type": "markdown",
   "metadata": {},
   "source": [
    "---"
   ]
  },
  {
   "cell_type": "markdown",
   "metadata": {},
   "source": [
    "***Example B***: Find columns similar to \"License Taxes - Alcoholic Beverages License\" which is a **numerical** column"
   ]
  },
  {
   "cell_type": "code",
   "execution_count": 64,
   "metadata": {
    "collapsed": false
   },
   "outputs": [
    {
     "data": {
      "text/markdown": [
       "**STC_2014_STC005_with_ann.csv**"
      ],
      "text/plain": [
       "<IPython.core.display.Markdown object>"
      ]
     },
     "metadata": {},
     "output_type": "display_data"
    },
    {
     "name": "stdout",
     "output_type": "stream",
     "text": [
      "   License Taxes - Other License Taxes\n",
      "   License Taxes - Alcoholic Beverages License\n",
      "   Sales and Gross Receipts Taxes - Selective Sales and Gross Receipts Taxes - Amusements Sales Tax\n"
     ]
    }
   ],
   "source": [
    "filename = \"STC_2014_STC005_with_ann.csv\"\n",
    "columname = \"License Taxes - Alcoholic Beverages License\"\n",
    "res = API.columns_similar_to(filename, columname, \"ks\")\n",
    "API.print_result(res)"
   ]
  },
  {
   "cell_type": "markdown",
   "metadata": {},
   "source": [
    "\n"
   ]
  },
  {
   "cell_type": "markdown",
   "metadata": {},
   "source": [
    "### Structural Similarity"
   ]
  },
  {
   "cell_type": "markdown",
   "metadata": {},
   "source": [
    "The structural similarity primitive will return any column that is *structurally similar* to the one provided. Structural similarity relies on the structural context in which relations between objects occur, and captures relationships among such objects. Our primitive relies on a graph where nodes are columns and there are edges whenever the similarity between two nodes is higher than a given threshold. On such graph, we run SimRank to compute structural similarity and answer operations that require this primitive."
   ]
  },
  {
   "cell_type": "code",
   "execution_count": 75,
   "metadata": {
    "collapsed": true
   },
   "outputs": [],
   "source": [
    "concept = (\"STC_2014_STC005_with_ann.csv\", \"Geography\")"
   ]
  },
  {
   "cell_type": "code",
   "execution_count": 78,
   "metadata": {
    "collapsed": false
   },
   "outputs": [
    {
     "data": {
      "text/markdown": [
       "**STC_2014_STC005_with_ann.csv**"
      ],
      "text/plain": [
       "<IPython.core.display.Markdown object>"
      ]
     },
     "metadata": {},
     "output_type": "display_data"
    },
    {
     "name": "stdout",
     "output_type": "stream",
     "text": [
      "   Geography\n"
     ]
    },
    {
     "data": {
      "text/markdown": [
       "**SAMHSA_Synar_Reports__Youth_Tobacco_Sales.csv**"
      ],
      "text/plain": [
       "<IPython.core.display.Markdown object>"
      ]
     },
     "metadata": {},
     "output_type": "display_data"
    },
    {
     "name": "stdout",
     "output_type": "stream",
     "text": [
      "   LocationDesc\n"
     ]
    },
    {
     "data": {
      "text/markdown": [
       "**CDC_STATE_System_Tobacco_Legislation_-_Tax.csv**"
      ],
      "text/plain": [
       "<IPython.core.display.Markdown object>"
      ]
     },
     "metadata": {},
     "output_type": "display_data"
    },
    {
     "name": "stdout",
     "output_type": "stream",
     "text": [
      "   LocationDesc\n"
     ]
    },
    {
     "data": {
      "text/markdown": [
       "**NYS_Liquor_Authority_New_Applications_Received.csv**"
      ],
      "text/plain": [
       "<IPython.core.display.Markdown object>"
      ]
     },
     "metadata": {},
     "output_type": "display_data"
    },
    {
     "name": "stdout",
     "output_type": "stream",
     "text": [
      "   Agency Zone Office Name\n",
      "   County Name (Licensee)\n",
      "   City\n"
     ]
    },
    {
     "data": {
      "text/markdown": [
       "**The_Tax_Burden_on_Tobacco_Volume_49__1970-2014.csv**"
      ],
      "text/plain": [
       "<IPython.core.display.Markdown object>"
      ]
     },
     "metadata": {},
     "output_type": "display_data"
    },
    {
     "name": "stdout",
     "output_type": "stream",
     "text": [
      "   LocationDesc\n"
     ]
    },
    {
     "data": {
      "text/markdown": [
       "**STC_2014_STC006.US01_with_ann.csv**"
      ],
      "text/plain": [
       "<IPython.core.display.Markdown object>"
      ]
     },
     "metadata": {},
     "output_type": "display_data"
    },
    {
     "name": "stdout",
     "output_type": "stream",
     "text": [
      "   Government\n"
     ]
    },
    {
     "data": {
      "text/markdown": [
       "**Income_Tax_Components_by_Size_of_Income_by_Place_of_Residence__Beginning_Tax_Year_1999.csv**"
      ],
      "text/plain": [
       "<IPython.core.display.Markdown object>"
      ]
     },
     "metadata": {},
     "output_type": "display_data"
    },
    {
     "name": "stdout",
     "output_type": "stream",
     "text": [
      "   State\n",
      "   Place of Residence\n"
     ]
    }
   ],
   "source": [
    "res = API.give_structural_sim_of(concept)\n",
    "API.print_result(res)"
   ]
  },
  {
   "cell_type": "code",
   "execution_count": 67,
   "metadata": {
    "collapsed": true
   },
   "outputs": [],
   "source": [
    "concept = (\"datafeeds\\\\2000_NASA_Contracts_Full_20151015.csv\", \"vendorname\")"
   ]
  },
  {
   "cell_type": "code",
   "execution_count": 68,
   "metadata": {
    "collapsed": false
   },
   "outputs": [
    {
     "data": {
      "text/markdown": [
       "**NYS_Liquor_Authority_New_Applications_Received.csv**"
      ],
      "text/plain": [
       "<IPython.core.display.Markdown object>"
      ]
     },
     "metadata": {},
     "output_type": "display_data"
    },
    {
     "name": "stdout",
     "output_type": "stream",
     "text": [
      "   Premises Name\n"
     ]
    },
    {
     "data": {
      "text/markdown": [
       "**Contracts_matchUSASpending.csv**"
      ],
      "text/plain": [
       "<IPython.core.display.Markdown object>"
      ]
     },
     "metadata": {},
     "output_type": "display_data"
    },
    {
     "name": "stdout",
     "output_type": "stream",
     "text": [
      "   Vendor Name (USAspending)\n"
     ]
    },
    {
     "data": {
      "text/markdown": [
       "**Contracts.csv**"
      ],
      "text/plain": [
       "<IPython.core.display.Markdown object>"
      ]
     },
     "metadata": {},
     "output_type": "display_data"
    },
    {
     "name": "stdout",
     "output_type": "stream",
     "text": [
      "   Vendor Name (USAspending)\n"
     ]
    },
    {
     "data": {
      "text/markdown": [
       "**datafeeds\\2000_NASA_Contracts_Full_20151015.csv**"
      ],
      "text/plain": [
       "<IPython.core.display.Markdown object>"
      ]
     },
     "metadata": {},
     "output_type": "display_data"
    },
    {
     "name": "stdout",
     "output_type": "stream",
     "text": [
      "   vendorlegalorganizationname\n",
      "   vendordoingasbusinessname\n",
      "   vendoralternatename\n",
      "   vendorname\n",
      "   mod_parent\n"
     ]
    }
   ],
   "source": [
    "res = API.give_structural_sim_of(concept)\n",
    "API.print_result(res)"
   ]
  },
  {
   "cell_type": "markdown",
   "metadata": {},
   "source": [
    "### The advantage of context"
   ]
  },
  {
   "cell_type": "markdown",
   "metadata": {},
   "source": [
    "Column similarity will provide any column with a similarity higher than the threshold, when looking columns one to one. Structural similarity captures information about the context. For example ..."
   ]
  },
  {
   "cell_type": "code",
   "execution_count": 69,
   "metadata": {
    "collapsed": true
   },
   "outputs": [],
   "source": [
    "concept = (\"NYS_Liquor_Authority_New_Applications_Received.csv\", \"License Received Date\")"
   ]
  },
  {
   "cell_type": "code",
   "execution_count": 70,
   "metadata": {
    "collapsed": false
   },
   "outputs": [
    {
     "data": {
      "text/markdown": [
       "**NYS_Liquor_Authority_New_Applications_Received.csv**"
      ],
      "text/plain": [
       "<IPython.core.display.Markdown object>"
      ]
     },
     "metadata": {},
     "output_type": "display_data"
    },
    {
     "name": "stdout",
     "output_type": "stream",
     "text": [
      "   License Received Date\n"
     ]
    }
   ],
   "source": [
    "res = API.give_structural_sim_of(concept)\n",
    "API.print_result(res)"
   ]
  },
  {
   "cell_type": "code",
   "execution_count": 71,
   "metadata": {
    "collapsed": false
   },
   "outputs": [
    {
     "data": {
      "text/markdown": [
       "**NYS_Liquor_Authority_New_Applications_Received.csv**"
      ],
      "text/plain": [
       "<IPython.core.display.Markdown object>"
      ]
     },
     "metadata": {},
     "output_type": "display_data"
    },
    {
     "name": "stdout",
     "output_type": "stream",
     "text": [
      "   License Received Date\n"
     ]
    },
    {
     "data": {
      "text/markdown": [
       "**Contracts.csv**"
      ],
      "text/plain": [
       "<IPython.core.display.Markdown object>"
      ]
     },
     "metadata": {},
     "output_type": "display_data"
    },
    {
     "name": "stdout",
     "output_type": "stream",
     "text": [
      "   Timestamp (Base Contract)\n",
      "   Timestamp (Contract)\n",
      "   Contract Start Date (USAspending)\n",
      "   Contract End Date (USAspending)\n"
     ]
    }
   ],
   "source": [
    "res = API.columns_similar_to(\"NYS_Liquor_Authority_New_Applications_Received.csv\", \"License Received Date\", \"ks\")\n",
    "API.print_result(res)"
   ]
  },
  {
   "cell_type": "code",
   "execution_count": null,
   "metadata": {
    "collapsed": true
   },
   "outputs": [],
   "source": []
  }
 ],
 "metadata": {
  "kernelspec": {
   "display_name": "Python 3",
   "language": "python",
   "name": "python3"
  },
  "language_info": {
   "codemirror_mode": {
    "name": "ipython",
    "version": 3
   },
   "file_extension": ".py",
   "mimetype": "text/x-python",
   "name": "python",
   "nbconvert_exporter": "python",
   "pygments_lexer": "ipython3",
   "version": "3.5.0"
  }
 },
 "nbformat": 4,
 "nbformat_minor": 0
}
