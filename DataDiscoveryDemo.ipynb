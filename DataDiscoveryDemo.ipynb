{
 "cells": [
  {
   "cell_type": "markdown",
   "metadata": {},
   "source": [
    "# Data Discovery Demonstration"
   ]
  },
  {
   "cell_type": "markdown",
   "metadata": {},
   "source": [
    "In this demo we are going to analyze a small dataset that has been extracted from data.gov.\n",
    "The dataset consists of 6 CSV files and it it 10MB size in total.\n",
    "The files are related to X and Y and Z"
   ]
  },
  {
   "cell_type": "markdown",
   "metadata": {},
   "source": [
    "### Pre-Processing: Loading data and creating signatures"
   ]
  },
  {
   "cell_type": "code",
   "execution_count": 4,
   "metadata": {
    "collapsed": false
   },
   "outputs": [
    {
     "name": "stdout",
     "output_type": "stream",
     "text": [
      "Loading signature collections...\n",
      "Done deserialization of signature collections!\n",
      "Loading signature collections...DONE!\n",
      "Loading graph...\n",
      "Done deserialization of signature collection!\n",
      "Loading graph...DONE!\n",
      "Loading dataset columns...\n",
      "Done deserialization of dataset columns!\n",
      "Loading dataset columns...DONE!\n"
     ]
    }
   ],
   "source": [
    "import api as API\n",
    "API.load_precomputed_model()"
   ]
  },
  {
   "cell_type": "code",
   "execution_count": 5,
   "metadata": {
    "collapsed": true
   },
   "outputs": [],
   "source": [
    "concept = (\"STC_2014_STC005_with_ann.csv\", \"Geography\")"
   ]
  },
  {
   "cell_type": "code",
   "execution_count": 6,
   "metadata": {
    "collapsed": true
   },
   "outputs": [],
   "source": [
    "discovered_concepts = API.give_related_concepts(concept)"
   ]
  },
  {
   "cell_type": "code",
   "execution_count": 8,
   "metadata": {
    "collapsed": false
   },
   "outputs": [
    {
     "data": {
      "text/plain": [
       "[('STC_2014_STC005_with_ann.csv', 'Geography'),\n",
       " ('Income_Tax_Components_by_Size_of_Income_by_Place_of_Residence__Beginning_Tax_Year_1999.csv',\n",
       "  'State'),\n",
       " ('The_Tax_Burden_on_Tobacco_Volume_49__1970-2014.csv', 'LocationDesc'),\n",
       " ('STC_2014_STC006.US01_with_ann.csv', 'Government'),\n",
       " ('SAMHSA_Synar_Reports__Youth_Tobacco_Sales.csv', 'LocationDesc'),\n",
       " ('NYS_Liquor_Authority_New_Applications_Received.csv', 'City'),\n",
       " ('Income_Tax_Components_by_Size_of_Income_by_Place_of_Residence__Beginning_Tax_Year_1999.csv',\n",
       "  'Place of Residence'),\n",
       " ('STC_2014_STC005_with_ann.csv', 'Geography')]"
      ]
     },
     "execution_count": 8,
     "metadata": {},
     "output_type": "execute_result"
    }
   ],
   "source": [
    "discovered_concepts"
   ]
  },
  {
   "cell_type": "code",
   "execution_count": 9,
   "metadata": {
    "collapsed": true
   },
   "outputs": [],
   "source": [
    "import pprint"
   ]
  },
  {
   "cell_type": "code",
   "execution_count": 10,
   "metadata": {
    "collapsed": true
   },
   "outputs": [],
   "source": [
    "pp = pprint.PrettyPrinter(indent=4)"
   ]
  },
  {
   "cell_type": "code",
   "execution_count": 12,
   "metadata": {
    "collapsed": false
   },
   "outputs": [
    {
     "name": "stdout",
     "output_type": "stream",
     "text": [
      "[   ('STC_2014_STC005_with_ann.csv', 'Geography'),\n",
      "    (   'Income_Tax_Components_by_Size_of_Income_by_Place_of_Residence__Beginning_Tax_Year_1999.csv',\n",
      "        'State'),\n",
      "    ('The_Tax_Burden_on_Tobacco_Volume_49__1970-2014.csv', 'LocationDesc'),\n",
      "    ('STC_2014_STC006.US01_with_ann.csv', 'Government'),\n",
      "    ('SAMHSA_Synar_Reports__Youth_Tobacco_Sales.csv', 'LocationDesc'),\n",
      "    ('NYS_Liquor_Authority_New_Applications_Received.csv', 'City'),\n",
      "    (   'Income_Tax_Components_by_Size_of_Income_by_Place_of_Residence__Beginning_Tax_Year_1999.csv',\n",
      "        'Place of Residence'),\n",
      "    ('STC_2014_STC005_with_ann.csv', 'Geography')]\n"
     ]
    }
   ],
   "source": [
    "pp.pprint(discovered_concepts)"
   ]
  },
  {
   "cell_type": "code",
   "execution_count": null,
   "metadata": {
    "collapsed": true
   },
   "outputs": [],
   "source": []
  }
 ],
 "metadata": {
  "kernelspec": {
   "display_name": "Python 3",
   "language": "python",
   "name": "python3"
  },
  "language_info": {
   "codemirror_mode": {
    "name": "ipython",
    "version": 3
   },
   "file_extension": ".py",
   "mimetype": "text/x-python",
   "name": "python",
   "nbconvert_exporter": "python",
   "pygments_lexer": "ipython3",
   "version": "3.5.0"
  }
 },
 "nbformat": 4,
 "nbformat_minor": 0
}
