{
 "cells": [
  {
   "cell_type": "markdown",
   "metadata": {},
   "source": [
    "# Data Discovery Demonstration"
   ]
  },
  {
   "cell_type": "markdown",
   "metadata": {},
   "source": [
    "In this demo we are going to analyze a small dataset that has been extracted from data.gov.\n",
    "The dataset consists of 6 CSV files and it it 10MB size in total.\n",
    "The files are related to X and Y and Z"
   ]
  },
  {
   "cell_type": "markdown",
   "metadata": {},
   "source": [
    "### Pre-Processing: Loading data and creating signatures"
   ]
  },
  {
   "cell_type": "code",
   "execution_count": 1,
   "metadata": {
    "collapsed": false
   },
   "outputs": [
    {
     "name": "stdout",
     "output_type": "stream",
     "text": [
      "Loading signature collections...\n",
      "Done deserialization of signature collections!\n",
      "Loading signature collections...DONE!\n",
      "Loading graph...\n",
      "Done deserialization of signature collection!\n",
      "Loading graph...DONE!\n",
      "Loading dataset columns...\n",
      "Done deserialization of dataset columns!\n",
      "Loading dataset columns...DONE!\n"
     ]
    }
   ],
   "source": [
    "import api as API\n",
    "API.load_precomputed_model()"
   ]
  },
  {
   "cell_type": "markdown",
   "metadata": {},
   "source": [
    "## Data Discovery Primitives"
   ]
  },
  {
   "cell_type": "markdown",
   "metadata": {},
   "source": [
    "We introduce 4 differnet primitives for data discovery\n",
    "* Columns similar to X : Provide all columns similar to the one provided (for both textual and numerical values)\n",
    "* Structural similarity queries : Return all columns similar (structural similarity) to the column/value provided\n",
    "* Columns similar to X->Y : Given the relation between X->Y, give columns that can replace Y keeping the relation"
   ]
  },
  {
   "cell_type": "markdown",
   "metadata": {},
   "source": [
    "##### Column Similarity"
   ]
  },
  {
   "cell_type": "markdown",
   "metadata": {},
   "source": [
    "The column similarity primitive will return all columns in the dataset that are similar to the one provided. In the case of textual columns, a similar column is one that contains similar term distribution and content. In the case of numerical columns, it may be columns with similar descriptive statistics and data distribution."
   ]
  },
  {
   "cell_type": "markdown",
   "metadata": {},
   "source": [
    "Example A: Find columns similar to \"Geography\" which is a **textual** column"
   ]
  },
  {
   "cell_type": "code",
   "execution_count": 2,
   "metadata": {
    "collapsed": false
   },
   "outputs": [
    {
     "data": {
      "text/plain": [
       "[('Income_Tax_Components_by_Size_of_Income_by_Place_of_Residence__Beginning_Tax_Year_1999.csv',\n",
       "  'Place of Residence'),\n",
       " ('STC_2014_STC005_with_ann.csv', 'Geography'),\n",
       " ('STC_2014_STC006.US01_with_ann.csv', 'Government'),\n",
       " ('SAMHSA_Synar_Reports__Youth_Tobacco_Sales.csv', 'LocationDesc'),\n",
       " ('The_Tax_Burden_on_Tobacco_Volume_49__1970-2014.csv', 'LocationDesc'),\n",
       " ('NYS_Liquor_Authority_New_Applications_Received.csv', 'City'),\n",
       " ('Income_Tax_Components_by_Size_of_Income_by_Place_of_Residence__Beginning_Tax_Year_1999.csv',\n",
       "  'State')]"
      ]
     },
     "execution_count": 2,
     "metadata": {},
     "output_type": "execute_result"
    }
   ],
   "source": [
    "filename = \"STC_2014_STC005_with_ann.csv\"\n",
    "columnname = \"Geography\"\n",
    "API.columns_similar_to(filename, columnname, \"ks\")"
   ]
  },
  {
   "cell_type": "markdown",
   "metadata": {},
   "source": [
    "\n"
   ]
  },
  {
   "cell_type": "markdown",
   "metadata": {},
   "source": [
    "Example B: Find columns similar to \"License Taxes - Alcoholic Beverages\" which is a **numerical** column"
   ]
  },
  {
   "cell_type": "code",
   "execution_count": 7,
   "metadata": {
    "collapsed": false
   },
   "outputs": [
    {
     "data": {
      "text/plain": [
       "[('STC_2014_STC005_with_ann.csv', 'License Taxes - Other License Taxes'),\n",
       " ('STC_2014_STC005_with_ann.csv',\n",
       "  'Sales and Gross Receipts Taxes - Selective Sales and Gross Receipts Taxes - Amusements Sales Tax'),\n",
       " ('STC_2014_STC005_with_ann.csv',\n",
       "  'License Taxes - Alcoholic Beverages License')]"
      ]
     },
     "execution_count": 7,
     "metadata": {},
     "output_type": "execute_result"
    }
   ],
   "source": [
    "columname = \"License Taxes - Alcoholic Beverages License\"\n",
    "API.columns_similar_to(filename, columname, \"ks\")"
   ]
  },
  {
   "cell_type": "markdown",
   "metadata": {},
   "source": [
    "\n"
   ]
  },
  {
   "cell_type": "markdown",
   "metadata": {},
   "source": [
    "##### Structural Similarity"
   ]
  },
  {
   "cell_type": "code",
   "execution_count": 3,
   "metadata": {
    "collapsed": true
   },
   "outputs": [],
   "source": [
    "concept = (\"STC_2014_STC005_with_ann.csv\", \"Geography\")"
   ]
  },
  {
   "cell_type": "code",
   "execution_count": 6,
   "metadata": {
    "collapsed": false
   },
   "outputs": [
    {
     "data": {
      "text/plain": [
       "[('STC_2014_STC005_with_ann.csv', 'Geography'),\n",
       " ('Income_Tax_Components_by_Size_of_Income_by_Place_of_Residence__Beginning_Tax_Year_1999.csv',\n",
       "  'State'),\n",
       " ('The_Tax_Burden_on_Tobacco_Volume_49__1970-2014.csv', 'LocationDesc'),\n",
       " ('STC_2014_STC006.US01_with_ann.csv', 'Government'),\n",
       " ('SAMHSA_Synar_Reports__Youth_Tobacco_Sales.csv', 'LocationDesc'),\n",
       " ('NYS_Liquor_Authority_New_Applications_Received.csv', 'City'),\n",
       " ('Income_Tax_Components_by_Size_of_Income_by_Place_of_Residence__Beginning_Tax_Year_1999.csv',\n",
       "  'Place of Residence'),\n",
       " ('STC_2014_STC005_with_ann.csv', 'Geography')]"
      ]
     },
     "execution_count": 6,
     "metadata": {},
     "output_type": "execute_result"
    }
   ],
   "source": [
    "API.give_related_concepts(concept)"
   ]
  },
  {
   "cell_type": "code",
   "execution_count": null,
   "metadata": {
    "collapsed": true
   },
   "outputs": [],
   "source": []
  }
 ],
 "metadata": {
  "kernelspec": {
   "display_name": "Python 3",
   "language": "python",
   "name": "python3"
  },
  "language_info": {
   "codemirror_mode": {
    "name": "ipython",
    "version": 3
   },
   "file_extension": ".py",
   "mimetype": "text/x-python",
   "name": "python",
   "nbconvert_exporter": "python",
   "pygments_lexer": "ipython3",
   "version": "3.5.0"
  }
 },
 "nbformat": 4,
 "nbformat_minor": 0
}
