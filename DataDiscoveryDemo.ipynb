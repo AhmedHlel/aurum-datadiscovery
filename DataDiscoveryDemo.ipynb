{
 "cells": [
  {
   "cell_type": "markdown",
   "metadata": {},
   "source": [
    "# Data Discovery Demonstration"
   ]
  },
  {
   "cell_type": "markdown",
   "metadata": {},
   "source": [
    "The **goal** of *data discovery* is to find and suggest datasets that are relevant to answer a question. For that, we propose an interface where users of the *discovery system* interact to explore the available datasets in the organization. Users can choose among different **primitives** that try to capture the user's intuition. Examples: \"give me any column that contains this term\", i.e. keyword search, \"I want to see all columns that are *similar* to this one\"."
   ]
  },
  {
   "cell_type": "markdown",
   "metadata": {},
   "source": [
    "In this demo we show some of the primitives to analyze a small dataset (50MB) that consists of 10 files extracted from data.gov. The files are related to three main topics: (i) taxes, (ii) taxes for liquor and tobacco and (iii) contracts granted to institutions such as grants, etc. *Note that, in general, the data discovery system does not need to own the data, only have read access to it.*\n",
    "\n",
    "\n",
    "One important goal is to *understand what is the minimum set of primitives necessary to approach data discovery*."
   ]
  },
  {
   "cell_type": "markdown",
   "metadata": {},
   "source": [
    "##### Pre-Processing: Loading data and creating signatures"
   ]
  },
  {
   "cell_type": "code",
   "execution_count": 24,
   "metadata": {
    "collapsed": false
   },
   "outputs": [
    {
     "name": "stdout",
     "output_type": "stream",
     "text": [
      "Loading signature collections...\n",
      "Done deserialization of signature collections!\n",
      "Loading signature collections...DONE!\n",
      "Loading graph...\n",
      "Done deserialization of signature collection!\n",
      "Loading graph...DONE!\n",
      "Loading simrank matrix...\n",
      "Done deserialization of simrank matrix!\n",
      "Loading simrank matrix...DONE!\n",
      "Loading dataset columns...\n",
      "Done deserialization of dataset columns!\n",
      "Loading dataset columns...DONE!\n"
     ]
    }
   ],
   "source": [
    "import api as API\n",
    "API.load_precomputed_model()"
   ]
  },
  {
   "cell_type": "markdown",
   "metadata": {},
   "source": [
    "## Data Discovery Primitives"
   ]
  },
  {
   "cell_type": "markdown",
   "metadata": {},
   "source": [
    "We introduce 4 different primitives for data discovery\n",
    "1. **Keyword search** : Traditional keyword search on all the datasets available.\n",
    "2. **Column similarity** : Provide all columns similar to column X (for both textual and numerical values).\n",
    "3. **Structural similarity** : Provide all columns similar to column X, where similarity captures structural knowledge.\n",
    "4. **Relation similarity** : Given X,Y, find f(X->Y). Then find Z such that f is similar to s, where s is s(X->Z)\n",
    "\n",
    "We demonstrate 2, **column similarity** and **structural similarity**."
   ]
  },
  {
   "cell_type": "markdown",
   "metadata": {},
   "source": [
    "### Column Similarity"
   ]
  },
  {
   "cell_type": "markdown",
   "metadata": {},
   "source": [
    "The column similarity primitive will return all columns in the dataset that are similar to the one provided. In the case of textual columns, a similar column is one that contains similar term distribution and content. In the case of numerical columns, a similar column is one with similar data distribution.\n",
    "\n",
    "---"
   ]
  },
  {
   "cell_type": "markdown",
   "metadata": {},
   "source": [
    "***Example A***: Which columns refer to US states? Find columns similar to \"Geography\" which is a **textual** column."
   ]
  },
  {
   "cell_type": "code",
   "execution_count": 25,
   "metadata": {
    "collapsed": false
   },
   "outputs": [
    {
     "data": {
      "text/markdown": [
       "**STC_2014_STC006.US01_with_ann.csv**"
      ],
      "text/plain": [
       "<IPython.core.display.Markdown object>"
      ]
     },
     "metadata": {},
     "output_type": "display_data"
    },
    {
     "name": "stdout",
     "output_type": "stream",
     "text": [
      "   Government\n"
     ]
    },
    {
     "data": {
      "text/markdown": [
       "**The_Tax_Burden_on_Tobacco_Volume_49__1970-2014.csv**"
      ],
      "text/plain": [
       "<IPython.core.display.Markdown object>"
      ]
     },
     "metadata": {},
     "output_type": "display_data"
    },
    {
     "name": "stdout",
     "output_type": "stream",
     "text": [
      "   LocationDesc\n"
     ]
    },
    {
     "data": {
      "text/markdown": [
       "**CDC_STATE_System_Tobacco_Legislation_-_Tax.csv**"
      ],
      "text/plain": [
       "<IPython.core.display.Markdown object>"
      ]
     },
     "metadata": {},
     "output_type": "display_data"
    },
    {
     "name": "stdout",
     "output_type": "stream",
     "text": [
      "   LocationDesc\n"
     ]
    },
    {
     "data": {
      "text/markdown": [
       "**Income_Tax_Components_by_Size_of_Income_by_Place_of_Residence__Beginning_Tax_Year_1999.csv**"
      ],
      "text/plain": [
       "<IPython.core.display.Markdown object>"
      ]
     },
     "metadata": {},
     "output_type": "display_data"
    },
    {
     "name": "stdout",
     "output_type": "stream",
     "text": [
      "   State\n",
      "   Place of Residence\n"
     ]
    },
    {
     "data": {
      "text/markdown": [
       "**STC_2014_STC005_with_ann.csv**"
      ],
      "text/plain": [
       "<IPython.core.display.Markdown object>"
      ]
     },
     "metadata": {},
     "output_type": "display_data"
    },
    {
     "name": "stdout",
     "output_type": "stream",
     "text": [
      "   Geography\n"
     ]
    },
    {
     "data": {
      "text/markdown": [
       "**datafeeds\\2000_NASA_Contracts_Full_20151015.csv**"
      ],
      "text/plain": [
       "<IPython.core.display.Markdown object>"
      ]
     },
     "metadata": {},
     "output_type": "display_data"
    },
    {
     "name": "stdout",
     "output_type": "stream",
     "text": [
      "   statecode\n"
     ]
    },
    {
     "data": {
      "text/markdown": [
       "**SAMHSA_Synar_Reports__Youth_Tobacco_Sales.csv**"
      ],
      "text/plain": [
       "<IPython.core.display.Markdown object>"
      ]
     },
     "metadata": {},
     "output_type": "display_data"
    },
    {
     "name": "stdout",
     "output_type": "stream",
     "text": [
      "   LocationDesc\n"
     ]
    },
    {
     "data": {
      "text/markdown": [
       "**NYS_Liquor_Authority_New_Applications_Received.csv**"
      ],
      "text/plain": [
       "<IPython.core.display.Markdown object>"
      ]
     },
     "metadata": {},
     "output_type": "display_data"
    },
    {
     "name": "stdout",
     "output_type": "stream",
     "text": [
      "   City\n"
     ]
    }
   ],
   "source": [
    "filename = \"STC_2014_STC005_with_ann.csv\"\n",
    "columnname = \"Geography\"\n",
    "res = API.columns_similar_to(filename, columnname, \"ks\")\n",
    "API.print_result(res)"
   ]
  },
  {
   "cell_type": "markdown",
   "metadata": {},
   "source": [
    "\n"
   ]
  },
  {
   "cell_type": "markdown",
   "metadata": {},
   "source": [
    "---"
   ]
  },
  {
   "cell_type": "markdown",
   "metadata": {},
   "source": [
    "***Example B***: What columns in the dataset are taxes? Find columns similar to \"License Taxes - Alcoholic Beverages License\" which is a **numerical** column"
   ]
  },
  {
   "cell_type": "code",
   "execution_count": 26,
   "metadata": {
    "collapsed": false
   },
   "outputs": [
    {
     "data": {
      "text/markdown": [
       "**STC_2014_STC005_with_ann.csv**"
      ],
      "text/plain": [
       "<IPython.core.display.Markdown object>"
      ]
     },
     "metadata": {},
     "output_type": "display_data"
    },
    {
     "name": "stdout",
     "output_type": "stream",
     "text": [
      "   Sales and Gross Receipts Taxes - Selective Sales and Gross Receipts Taxes - Amusements Sales Tax\n",
      "   License Taxes - Alcoholic Beverages License\n",
      "   License Taxes - Other License Taxes\n"
     ]
    }
   ],
   "source": [
    "filename = \"STC_2014_STC005_with_ann.csv\"\n",
    "columname = \"License Taxes - Alcoholic Beverages License\"\n",
    "res = API.columns_similar_to(filename, columname, \"ks\")\n",
    "API.print_result(res)"
   ]
  },
  {
   "cell_type": "markdown",
   "metadata": {},
   "source": [
    "\n"
   ]
  },
  {
   "cell_type": "markdown",
   "metadata": {},
   "source": [
    "### Structural Similarity"
   ]
  },
  {
   "cell_type": "markdown",
   "metadata": {},
   "source": [
    "The structural similarity primitive will return any column that is *structurally similar* to the one provided. Structural similarity relies on the structural context in which relations between objects occur, and captures relationships among such objects. Our primitive relies on a graph where nodes are columns and there are edges whenever the similarity between two nodes is higher than a given threshold. On such graph, we run SimRank to compute structural similarity and answer operations that require this primitive."
   ]
  },
  {
   "cell_type": "code",
   "execution_count": null,
   "metadata": {
    "collapsed": false
   },
   "outputs": [],
   "source": [
    "concept = (\"datafeeds\\\\2000_NASA_Contracts_Full_20151015.csv\", \"vendorname\")\n",
    "res = API.give_structural_sim_of(concept)\n",
    "API.print_result(res)"
   ]
  },
  {
   "cell_type": "code",
   "execution_count": null,
   "metadata": {
    "collapsed": false
   },
   "outputs": [],
   "source": [
    "concept = (\"Contracts_matchUSASpending.csv\", \"Agency Name\")\n",
    "res = API.give_structural_sim_of(concept)\n",
    "API.print_result(res)"
   ]
  },
  {
   "cell_type": "markdown",
   "metadata": {},
   "source": [
    "### The advantage of context"
   ]
  },
  {
   "cell_type": "markdown",
   "metadata": {},
   "source": [
    "Column similarity will provide any column with a similarity higher than the threshold, when looking columns one to one. Structural similarity captures information about the context. For example ..."
   ]
  },
  {
   "cell_type": "markdown",
   "metadata": {},
   "source": [
    "First we run **structural similarity**"
   ]
  },
  {
   "cell_type": "code",
   "execution_count": 27,
   "metadata": {
    "collapsed": false
   },
   "outputs": [
    {
     "data": {
      "text/markdown": [
       "**NYS_Liquor_Authority_New_Applications_Received.csv**"
      ],
      "text/plain": [
       "<IPython.core.display.Markdown object>"
      ]
     },
     "metadata": {},
     "output_type": "display_data"
    },
    {
     "name": "stdout",
     "output_type": "stream",
     "text": [
      "   License Received Date\n"
     ]
    }
   ],
   "source": [
    "concept = (\"NYS_Liquor_Authority_New_Applications_Received.csv\", \"License Received Date\")\n",
    "res = API.give_structural_sim_of(concept)\n",
    "API.print_result(res)"
   ]
  },
  {
   "cell_type": "markdown",
   "metadata": {},
   "source": [
    "---\n",
    "And **column similarity**"
   ]
  },
  {
   "cell_type": "code",
   "execution_count": 28,
   "metadata": {
    "collapsed": false
   },
   "outputs": [
    {
     "data": {
      "text/markdown": [
       "**Contracts.csv**"
      ],
      "text/plain": [
       "<IPython.core.display.Markdown object>"
      ]
     },
     "metadata": {},
     "output_type": "display_data"
    },
    {
     "name": "stdout",
     "output_type": "stream",
     "text": [
      "   Timestamp (Contract)\n",
      "   Contract End Date (USAspending)\n",
      "   Contract Start Date (USAspending)\n",
      "   Timestamp (Base Contract)\n"
     ]
    },
    {
     "data": {
      "text/markdown": [
       "**NYS_Liquor_Authority_New_Applications_Received.csv**"
      ],
      "text/plain": [
       "<IPython.core.display.Markdown object>"
      ]
     },
     "metadata": {},
     "output_type": "display_data"
    },
    {
     "name": "stdout",
     "output_type": "stream",
     "text": [
      "   License Received Date\n"
     ]
    }
   ],
   "source": [
    "res = API.columns_similar_to(\"NYS_Liquor_Authority_New_Applications_Received.csv\", \"License Received Date\", \"ks\")\n",
    "API.print_result(res)"
   ]
  },
  {
   "cell_type": "code",
   "execution_count": null,
   "metadata": {
    "collapsed": true
   },
   "outputs": [],
   "source": [
    "API."
   ]
  }
 ],
 "metadata": {
  "kernelspec": {
   "display_name": "Python 3",
   "language": "python",
   "name": "python3"
  },
  "language_info": {
   "codemirror_mode": {
    "name": "ipython",
    "version": 3
   },
   "file_extension": ".py",
   "mimetype": "text/x-python",
   "name": "python",
   "nbconvert_exporter": "python",
   "pygments_lexer": "ipython3",
   "version": "3.5.0"
  }
 },
 "nbformat": 4,
 "nbformat_minor": 0
}
