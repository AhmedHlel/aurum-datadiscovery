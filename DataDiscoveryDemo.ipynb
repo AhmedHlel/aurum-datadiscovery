{
 "cells": [
  {
   "cell_type": "markdown",
   "metadata": {},
   "source": [
    "# Data Discovery Demonstration"
   ]
  },
  {
   "cell_type": "markdown",
   "metadata": {},
   "source": [
    "The **GOAL** of *data discovery* is to find and suggest datasets that are relevant to answer a question. \n",
    "\n",
    "##### Scenario:\n",
    "* Users of the *discovery system* interact, during a *data discovery session* to explore the available datasets in the organization.\n",
    "* Users can choose among different **primitives** that capture user's intuition. Examples: \"give me any column that contains this term\", i.e. keyword search, \"I want to see all columns that are *similar* to this one\"."
   ]
  },
  {
   "cell_type": "markdown",
   "metadata": {},
   "source": [
    "##### Demo Setup\n",
    "* Small dataset (50MB) that consists of 10 files extracted from data.gov. \n",
    "* Data related to: (i) taxes, (ii) taxes for liquor and tobacco and (iii) contracts granted to institutions such as grants, etc. \n",
    "\n",
    "\n",
    "#### Setting\n",
    "* Server that exposes an API (also can be used as embedded libraries, or as a plugin for ElasticSearch, Splunk, etc).\n",
    "* We do not own data. We have read access to required datasets.\n",
    "* Systems serves while ingests new data and previously ingested data that is updated."
   ]
  },
  {
   "cell_type": "markdown",
   "metadata": {},
   "source": [
    "##### Pre-Processing: Loading data and creating signatures"
   ]
  },
  {
   "cell_type": "code",
   "execution_count": 9,
   "metadata": {
    "collapsed": false
   },
   "outputs": [
    {
     "name": "stdout",
     "output_type": "stream",
     "text": [
      "Loading signature collections...\n",
      "Done deserialization of signature collections!\n",
      "Loading signature collections...DONE!\n",
      "Loading graph...\n",
      "Done deserialization of signature collection!\n",
      "Loading graph...DONE!\n",
      "Loading simrank matrix...\n",
      "Done deserialization of simrank matrix!\n",
      "Loading simrank matrix...DONE!\n",
      "Loading dataset columns...\n",
      "Done deserialization of dataset columns!\n",
      "Loading dataset columns...DONE!\n"
     ]
    }
   ],
   "source": [
    "import api as API\n",
    "API.load_precomputed_model()"
   ]
  },
  {
   "cell_type": "markdown",
   "metadata": {},
   "source": [
    "## Data Discovery Primitives"
   ]
  },
  {
   "cell_type": "markdown",
   "metadata": {},
   "source": [
    "We present 5 different primitives for data discovery (One important goal is to *understand what is the minimum set of primitives necessary to approach data discovery*.)\n",
    "1. **Keyword search** : Traditional keyword search on all the datasets available.\n",
    "2. **Column similarity** : Provide all columns similar to column X (text similarity or distribution similarity in the case of numerical columns).\n",
    "3. **Structural similarity** : Provide all columns similar to column X, where similarity captures structural knowledge (i.e. common neighbors).\n",
    "4. **Column-Pair similarity** : Given a pair of columns, find other pairs that are related with a similar column.\n",
    "5. **Relation similarity** : Given X,Y, find f(X->Y). Then find Z such that f is similar to s, where s is s(X->Z)\n",
    "\n",
    "We demonstrate 3, **column similarity**, **structural similarity** and **column-pair similarity**."
   ]
  },
  {
   "cell_type": "markdown",
   "metadata": {},
   "source": [
    "### Column Similarity"
   ]
  },
  {
   "cell_type": "markdown",
   "metadata": {},
   "source": [
    "The column similarity primitive will return all columns in the dataset that are similar to the one provided. In the case of textual columns, a similar column is one that contains similar term distribution and content. In the case of numerical columns, a similar column is one with similar data distribution.\n",
    "\n",
    "---"
   ]
  },
  {
   "cell_type": "markdown",
   "metadata": {},
   "source": [
    "***Example A***: Which columns refer to US states? Find columns similar to \"Geography\" which is a **textual** column."
   ]
  },
  {
   "cell_type": "code",
   "execution_count": 10,
   "metadata": {
    "collapsed": false
   },
   "outputs": [
    {
     "data": {
      "text/markdown": [
       "**datafeeds\\2000_NASA_Contracts_Full_20151015.csv**"
      ],
      "text/plain": [
       "<IPython.core.display.Markdown object>"
      ]
     },
     "metadata": {},
     "output_type": "display_data"
    },
    {
     "name": "stdout",
     "output_type": "stream",
     "text": [
      "   statecode\n"
     ]
    },
    {
     "data": {
      "text/markdown": [
       "**STC_2014_STC005_with_ann.csv**"
      ],
      "text/plain": [
       "<IPython.core.display.Markdown object>"
      ]
     },
     "metadata": {},
     "output_type": "display_data"
    },
    {
     "name": "stdout",
     "output_type": "stream",
     "text": [
      "   Geography\n"
     ]
    },
    {
     "data": {
      "text/markdown": [
       "**SAMHSA_Synar_Reports__Youth_Tobacco_Sales.csv**"
      ],
      "text/plain": [
       "<IPython.core.display.Markdown object>"
      ]
     },
     "metadata": {},
     "output_type": "display_data"
    },
    {
     "name": "stdout",
     "output_type": "stream",
     "text": [
      "   LocationDesc\n"
     ]
    },
    {
     "data": {
      "text/markdown": [
       "**CDC_STATE_System_Tobacco_Legislation_-_Tax.csv**"
      ],
      "text/plain": [
       "<IPython.core.display.Markdown object>"
      ]
     },
     "metadata": {},
     "output_type": "display_data"
    },
    {
     "name": "stdout",
     "output_type": "stream",
     "text": [
      "   LocationDesc\n"
     ]
    },
    {
     "data": {
      "text/markdown": [
       "**Income_Tax_Components_by_Size_of_Income_by_Place_of_Residence__Beginning_Tax_Year_1999.csv**"
      ],
      "text/plain": [
       "<IPython.core.display.Markdown object>"
      ]
     },
     "metadata": {},
     "output_type": "display_data"
    },
    {
     "name": "stdout",
     "output_type": "stream",
     "text": [
      "   State\n",
      "   Place of Residence\n"
     ]
    },
    {
     "data": {
      "text/markdown": [
       "**NYS_Liquor_Authority_New_Applications_Received.csv**"
      ],
      "text/plain": [
       "<IPython.core.display.Markdown object>"
      ]
     },
     "metadata": {},
     "output_type": "display_data"
    },
    {
     "name": "stdout",
     "output_type": "stream",
     "text": [
      "   City\n"
     ]
    },
    {
     "data": {
      "text/markdown": [
       "**The_Tax_Burden_on_Tobacco_Volume_49__1970-2014.csv**"
      ],
      "text/plain": [
       "<IPython.core.display.Markdown object>"
      ]
     },
     "metadata": {},
     "output_type": "display_data"
    },
    {
     "name": "stdout",
     "output_type": "stream",
     "text": [
      "   LocationDesc\n"
     ]
    },
    {
     "data": {
      "text/markdown": [
       "**STC_2014_STC006.US01_with_ann.csv**"
      ],
      "text/plain": [
       "<IPython.core.display.Markdown object>"
      ]
     },
     "metadata": {},
     "output_type": "display_data"
    },
    {
     "name": "stdout",
     "output_type": "stream",
     "text": [
      "   Government\n"
     ]
    }
   ],
   "source": [
    "filename = \"STC_2014_STC005_with_ann.csv\"\n",
    "columnname = \"Geography\"\n",
    "res = API.columns_similar_to(filename, columnname, \"ks\")\n",
    "API.print_result(res)"
   ]
  },
  {
   "cell_type": "markdown",
   "metadata": {},
   "source": [
    "\n"
   ]
  },
  {
   "cell_type": "markdown",
   "metadata": {},
   "source": [
    "---"
   ]
  },
  {
   "cell_type": "markdown",
   "metadata": {},
   "source": [
    "***Example B***: What columns in the dataset are taxes? Find columns similar to \"License Taxes - Alcoholic Beverages License\" which is a **numerical** column"
   ]
  },
  {
   "cell_type": "code",
   "execution_count": 11,
   "metadata": {
    "collapsed": false
   },
   "outputs": [
    {
     "data": {
      "text/markdown": [
       "**STC_2014_STC005_with_ann.csv**"
      ],
      "text/plain": [
       "<IPython.core.display.Markdown object>"
      ]
     },
     "metadata": {},
     "output_type": "display_data"
    },
    {
     "name": "stdout",
     "output_type": "stream",
     "text": [
      "   License Taxes - Other License Taxes\n",
      "   Sales and Gross Receipts Taxes - Selective Sales and Gross Receipts Taxes - Amusements Sales Tax\n",
      "   License Taxes - Alcoholic Beverages License\n"
     ]
    }
   ],
   "source": [
    "filename = \"STC_2014_STC005_with_ann.csv\"\n",
    "columname = \"License Taxes - Alcoholic Beverages License\"\n",
    "res = API.columns_similar_to(filename, columname, \"ks\")\n",
    "API.print_result(res)"
   ]
  },
  {
   "cell_type": "markdown",
   "metadata": {},
   "source": [
    "\n"
   ]
  },
  {
   "cell_type": "markdown",
   "metadata": {},
   "source": [
    "### Structural Similarity"
   ]
  },
  {
   "cell_type": "markdown",
   "metadata": {},
   "source": [
    "The structural similarity primitive will return any column that is *structurally similar* to the one provided. Structural similarity relies on the structural context in which relations between objects occur, and captures relationships among such objects. Our primitive relies on a graph where nodes are columns and there are edges whenever the similarity between two nodes is higher than a given threshold. On such graph, we run SimRank to compute structural similarity and answer operations that require this primitive."
   ]
  },
  {
   "cell_type": "code",
   "execution_count": 12,
   "metadata": {
    "collapsed": false
   },
   "outputs": [
    {
     "data": {
      "text/markdown": [
       "**datafeeds\\2000_NASA_Contracts_Full_20151015.csv**"
      ],
      "text/plain": [
       "<IPython.core.display.Markdown object>"
      ]
     },
     "metadata": {},
     "output_type": "display_data"
    },
    {
     "name": "stdout",
     "output_type": "stream",
     "text": [
      "   vendorlegalorganizationname\n",
      "   vendordoingasbusinessname\n",
      "   vendoralternatename\n",
      "   vendorname\n",
      "   mod_parent\n"
     ]
    },
    {
     "data": {
      "text/markdown": [
       "**NYS_Liquor_Authority_New_Applications_Received.csv**"
      ],
      "text/plain": [
       "<IPython.core.display.Markdown object>"
      ]
     },
     "metadata": {},
     "output_type": "display_data"
    },
    {
     "name": "stdout",
     "output_type": "stream",
     "text": [
      "   Premises Name\n"
     ]
    },
    {
     "data": {
      "text/markdown": [
       "**Contracts.csv**"
      ],
      "text/plain": [
       "<IPython.core.display.Markdown object>"
      ]
     },
     "metadata": {},
     "output_type": "display_data"
    },
    {
     "name": "stdout",
     "output_type": "stream",
     "text": [
      "   Vendor Name (USAspending)\n"
     ]
    },
    {
     "data": {
      "text/markdown": [
       "**Contracts_matchUSASpending.csv**"
      ],
      "text/plain": [
       "<IPython.core.display.Markdown object>"
      ]
     },
     "metadata": {},
     "output_type": "display_data"
    },
    {
     "name": "stdout",
     "output_type": "stream",
     "text": [
      "   Vendor Name (USAspending)\n"
     ]
    }
   ],
   "source": [
    "concept = (\"datafeeds\\\\2000_NASA_Contracts_Full_20151015.csv\", \"vendorname\")\n",
    "res = API.give_structural_sim_of(concept)\n",
    "API.print_result(res)"
   ]
  },
  {
   "cell_type": "code",
   "execution_count": null,
   "metadata": {
    "collapsed": false
   },
   "outputs": [],
   "source": [
    "concept = (\"Contracts_matchUSASpending.csv\", \"Agency Name\")\n",
    "res = API.give_structural_sim_of(concept)\n",
    "API.print_result(res)"
   ]
  },
  {
   "cell_type": "markdown",
   "metadata": {},
   "source": [
    "### The advantage of context"
   ]
  },
  {
   "cell_type": "markdown",
   "metadata": {},
   "source": [
    "Column similarity will provide any column with a similarity higher than the threshold, when looking columns one to one. Structural similarity captures information about the context. For example ..."
   ]
  },
  {
   "cell_type": "markdown",
   "metadata": {},
   "source": [
    "---\n",
    "First we run **column similarity**"
   ]
  },
  {
   "cell_type": "code",
   "execution_count": 13,
   "metadata": {
    "collapsed": false
   },
   "outputs": [
    {
     "data": {
      "text/markdown": [
       "**NYS_Liquor_Authority_New_Applications_Received.csv**"
      ],
      "text/plain": [
       "<IPython.core.display.Markdown object>"
      ]
     },
     "metadata": {},
     "output_type": "display_data"
    },
    {
     "name": "stdout",
     "output_type": "stream",
     "text": [
      "   License Received Date\n"
     ]
    },
    {
     "data": {
      "text/markdown": [
       "**Contracts.csv**"
      ],
      "text/plain": [
       "<IPython.core.display.Markdown object>"
      ]
     },
     "metadata": {},
     "output_type": "display_data"
    },
    {
     "name": "stdout",
     "output_type": "stream",
     "text": [
      "   Contract End Date (USAspending)\n",
      "   Timestamp (Contract)\n",
      "   Timestamp (Base Contract)\n",
      "   Contract Start Date (USAspending)\n"
     ]
    }
   ],
   "source": [
    "res = API.columns_similar_to(\"NYS_Liquor_Authority_New_Applications_Received.csv\", \"License Received Date\", \"ks\")\n",
    "API.print_result(res)"
   ]
  },
  {
   "cell_type": "markdown",
   "metadata": {},
   "source": [
    "If we run **structural similarity**"
   ]
  },
  {
   "cell_type": "code",
   "execution_count": 14,
   "metadata": {
    "collapsed": false
   },
   "outputs": [
    {
     "data": {
      "text/markdown": [
       "**NYS_Liquor_Authority_New_Applications_Received.csv**"
      ],
      "text/plain": [
       "<IPython.core.display.Markdown object>"
      ]
     },
     "metadata": {},
     "output_type": "display_data"
    },
    {
     "name": "stdout",
     "output_type": "stream",
     "text": [
      "   License Received Date\n"
     ]
    }
   ],
   "source": [
    "concept = (\"NYS_Liquor_Authority_New_Applications_Received.csv\", \"License Received Date\")\n",
    "res = API.give_structural_sim_of(concept)\n",
    "API.print_result(res)"
   ]
  },
  {
   "cell_type": "markdown",
   "metadata": {
    "collapsed": true
   },
   "source": [
    "### Column-Pair Similarity"
   ]
  },
  {
   "cell_type": "markdown",
   "metadata": {},
   "source": [
    "Given a pair of columns X and Y that are related by some function f(X,Y), find other pairs of columns Z,W that are related similarly. Example. Given the correlation between X and Y, find other pairs of columns similarly correlated."
   ]
  },
  {
   "cell_type": "code",
   "execution_count": 15,
   "metadata": {
    "collapsed": false
   },
   "outputs": [
    {
     "data": {
      "text/markdown": [
       "**('STC_2014_STC006.US01_with_ann.csv', 'License Taxes')**"
      ],
      "text/plain": [
       "<IPython.core.display.Markdown object>"
      ]
     },
     "metadata": {},
     "output_type": "display_data"
    },
    {
     "name": "stdout",
     "output_type": "stream",
     "text": [
      "   ('STC_2014_STC005_with_ann.csv', 'Sales and Gross Receipts Taxes - Selective Sales and Gross Receipts Taxes')\n",
      "   ('STC_2014_STC005_with_ann.csv', 'License Taxes - Alcoholic Beverages License')\n",
      "   ('STC_2014_STC005_with_ann.csv', 'License Taxes - Corporations in General License')\n",
      "   ('STC_2014_STC005_with_ann.csv', 'Sales and Gross Receipts Taxes - Selective Sales and Gross Receipts Taxes - Public Utilities Sales Tax')\n",
      "   ('STC_2014_STC005_with_ann.csv', 'License Taxes - Motor Vehicle Operators License')\n",
      "   ('STC_2014_STC005_with_ann.csv', 'Sales and Gross Receipts Taxes - Selective Sales and Gross Receipts Taxes - Amusements Sales Tax')\n",
      "   ('STC_2014_STC006.US01_with_ann.csv', 'Other Taxes')\n",
      "   ('STC_2014_STC005_with_ann.csv', 'Other Taxes')\n",
      "   ('STC_2014_STC005_with_ann.csv', 'License Taxes - Occupation and Business License, NEC')\n",
      "   ('STC_2014_STC005_with_ann.csv', 'License Taxes')\n",
      "   ('STC_2014_STC005_with_ann.csv', 'Sales and Gross Receipts Taxes - Selective Sales and Gross Receipts Taxes - Tobacco Products Sales Tax')\n",
      "   ('STC_2014_STC006.US01_with_ann.csv', 'Total Taxes')\n",
      "   ('STC_2014_STC005_with_ann.csv', 'Sales and Gross Receipts Taxes - Selective Sales and Gross Receipts Taxes - Other Selective Sales and Gross Receipts Taxes')\n",
      "   ('STC_2014_STC005_with_ann.csv', 'License Taxes - Other License Taxes')\n",
      "   ('STC_2014_STC005_with_ann.csv', 'Sales and Gross Receipts Taxes - Selective Sales and Gross Receipts Taxes - Alcoholic Beverages Sales Tax')\n",
      "   ('STC_2014_STC005_with_ann.csv', 'Sales and Gross Receipts Taxes - Selective Sales and Gross Receipts Taxes - Insurance Premiums Sales Tax')\n",
      "   ('STC_2014_STC005_with_ann.csv', 'Income Taxes')\n",
      "   ('STC_2014_STC005_with_ann.csv', 'Total Taxes')\n",
      "   ('STC_2014_STC006.US01_with_ann.csv', 'Income Taxes')\n",
      "   ('STC_2014_STC006.US01_with_ann.csv', 'Sales and Gross Receipts Taxes')\n",
      "   ('STC_2014_STC005_with_ann.csv', 'License Taxes - Hunting and Fishing License')\n"
     ]
    },
    {
     "data": {
      "text/markdown": [
       "**('STC_2014_STC005_with_ann.csv', 'License Taxes - Other License Taxes')**"
      ],
      "text/plain": [
       "<IPython.core.display.Markdown object>"
      ]
     },
     "metadata": {},
     "output_type": "display_data"
    },
    {
     "name": "stdout",
     "output_type": "stream",
     "text": [
      "   ('STC_2014_STC005_with_ann.csv', 'Sales and Gross Receipts Taxes - Selective Sales and Gross Receipts Taxes - Alcoholic Beverages Sales Tax')\n",
      "   ('STC_2014_STC005_with_ann.csv', 'Sales and Gross Receipts Taxes - Selective Sales and Gross Receipts Taxes - Insurance Premiums Sales Tax')\n",
      "   ('STC_2014_STC005_with_ann.csv', 'Income Taxes')\n",
      "   ('STC_2014_STC005_with_ann.csv', 'Total Taxes')\n",
      "   ('STC_2014_STC006.US01_with_ann.csv', 'Income Taxes')\n",
      "   ('STC_2014_STC006.US01_with_ann.csv', 'Sales and Gross Receipts Taxes')\n",
      "   ('STC_2014_STC005_with_ann.csv', 'License Taxes - Hunting and Fishing License')\n"
     ]
    },
    {
     "data": {
      "text/markdown": [
       "**('STC_2014_STC005_with_ann.csv', 'Sales and Gross Receipts Taxes - Selective Sales and Gross Receipts Taxes - Insurance Premiums Sales Tax')**"
      ],
      "text/plain": [
       "<IPython.core.display.Markdown object>"
      ]
     },
     "metadata": {},
     "output_type": "display_data"
    },
    {
     "name": "stdout",
     "output_type": "stream",
     "text": [
      "   ('STC_2014_STC005_with_ann.csv', 'Income Taxes')\n",
      "   ('STC_2014_STC005_with_ann.csv', 'Total Taxes')\n",
      "   ('STC_2014_STC006.US01_with_ann.csv', 'Income Taxes')\n",
      "   ('STC_2014_STC006.US01_with_ann.csv', 'Sales and Gross Receipts Taxes')\n",
      "   ('STC_2014_STC005_with_ann.csv', 'License Taxes - Hunting and Fishing License')\n"
     ]
    },
    {
     "data": {
      "text/markdown": [
       "**('STC_2014_STC005_with_ann.csv', 'Sales and Gross Receipts Taxes - Selective Sales and Gross Receipts Taxes - Motor Fuels Sales Tax')**"
      ],
      "text/plain": [
       "<IPython.core.display.Markdown object>"
      ]
     },
     "metadata": {},
     "output_type": "display_data"
    },
    {
     "name": "stdout",
     "output_type": "stream",
     "text": [
      "   ('STC_2014_STC005_with_ann.csv', 'Sales and Gross Receipts Taxes - Selective Sales and Gross Receipts Taxes - Motor Fuels Sales Tax')\n",
      "   ('STC_2014_STC005_with_ann.csv', 'License Taxes - Motor Vehicle License')\n",
      "   ('STC_2014_STC005_with_ann.csv', 'Sales and Gross Receipts Taxes')\n",
      "   ('STC_2014_STC006.US01_with_ann.csv', 'License Taxes')\n",
      "   ('STC_2014_STC005_with_ann.csv', 'Sales and Gross Receipts Taxes - Selective Sales and Gross Receipts Taxes')\n",
      "   ('STC_2014_STC005_with_ann.csv', 'License Taxes - Alcoholic Beverages License')\n",
      "   ('STC_2014_STC005_with_ann.csv', 'License Taxes - Corporations in General License')\n",
      "   ('STC_2014_STC005_with_ann.csv', 'Sales and Gross Receipts Taxes - Selective Sales and Gross Receipts Taxes - Public Utilities Sales Tax')\n",
      "   ('STC_2014_STC005_with_ann.csv', 'License Taxes - Motor Vehicle Operators License')\n",
      "   ('STC_2014_STC005_with_ann.csv', 'Sales and Gross Receipts Taxes - Selective Sales and Gross Receipts Taxes - Amusements Sales Tax')\n",
      "   ('STC_2014_STC006.US01_with_ann.csv', 'Other Taxes')\n",
      "   ('STC_2014_STC005_with_ann.csv', 'Other Taxes')\n",
      "   ('STC_2014_STC005_with_ann.csv', 'License Taxes - Occupation and Business License, NEC')\n",
      "   ('STC_2014_STC005_with_ann.csv', 'License Taxes')\n",
      "   ('STC_2014_STC005_with_ann.csv', 'Sales and Gross Receipts Taxes - Selective Sales and Gross Receipts Taxes - Tobacco Products Sales Tax')\n",
      "   ('STC_2014_STC006.US01_with_ann.csv', 'Total Taxes')\n",
      "   ('STC_2014_STC005_with_ann.csv', 'Sales and Gross Receipts Taxes - Selective Sales and Gross Receipts Taxes - Other Selective Sales and Gross Receipts Taxes')\n",
      "   ('STC_2014_STC005_with_ann.csv', 'License Taxes - Other License Taxes')\n",
      "   ('STC_2014_STC005_with_ann.csv', 'Sales and Gross Receipts Taxes - Selective Sales and Gross Receipts Taxes - Alcoholic Beverages Sales Tax')\n",
      "   ('STC_2014_STC005_with_ann.csv', 'Sales and Gross Receipts Taxes - Selective Sales and Gross Receipts Taxes - Insurance Premiums Sales Tax')\n",
      "   ('STC_2014_STC005_with_ann.csv', 'Income Taxes')\n",
      "   ('STC_2014_STC005_with_ann.csv', 'Total Taxes')\n",
      "   ('STC_2014_STC006.US01_with_ann.csv', 'Income Taxes')\n",
      "   ('STC_2014_STC006.US01_with_ann.csv', 'Sales and Gross Receipts Taxes')\n",
      "   ('STC_2014_STC005_with_ann.csv', 'License Taxes - Hunting and Fishing License')\n"
     ]
    },
    {
     "data": {
      "text/markdown": [
       "**('STC_2014_STC005_with_ann.csv', 'Sales and Gross Receipts Taxes - Selective Sales and Gross Receipts Taxes - Amusements Sales Tax')**"
      ],
      "text/plain": [
       "<IPython.core.display.Markdown object>"
      ]
     },
     "metadata": {},
     "output_type": "display_data"
    },
    {
     "name": "stdout",
     "output_type": "stream",
     "text": [
      "   ('STC_2014_STC006.US01_with_ann.csv', 'Other Taxes')\n",
      "   ('STC_2014_STC005_with_ann.csv', 'Other Taxes')\n",
      "   ('STC_2014_STC005_with_ann.csv', 'License Taxes - Occupation and Business License, NEC')\n",
      "   ('STC_2014_STC005_with_ann.csv', 'License Taxes')\n",
      "   ('STC_2014_STC005_with_ann.csv', 'Sales and Gross Receipts Taxes - Selective Sales and Gross Receipts Taxes - Tobacco Products Sales Tax')\n",
      "   ('STC_2014_STC006.US01_with_ann.csv', 'Total Taxes')\n",
      "   ('STC_2014_STC005_with_ann.csv', 'Sales and Gross Receipts Taxes - Selective Sales and Gross Receipts Taxes - Other Selective Sales and Gross Receipts Taxes')\n",
      "   ('STC_2014_STC005_with_ann.csv', 'License Taxes - Other License Taxes')\n",
      "   ('STC_2014_STC005_with_ann.csv', 'Sales and Gross Receipts Taxes - Selective Sales and Gross Receipts Taxes - Alcoholic Beverages Sales Tax')\n",
      "   ('STC_2014_STC005_with_ann.csv', 'Sales and Gross Receipts Taxes - Selective Sales and Gross Receipts Taxes - Insurance Premiums Sales Tax')\n",
      "   ('STC_2014_STC005_with_ann.csv', 'Income Taxes')\n",
      "   ('STC_2014_STC005_with_ann.csv', 'Total Taxes')\n",
      "   ('STC_2014_STC006.US01_with_ann.csv', 'Income Taxes')\n",
      "   ('STC_2014_STC006.US01_with_ann.csv', 'Sales and Gross Receipts Taxes')\n",
      "   ('STC_2014_STC005_with_ann.csv', 'License Taxes - Hunting and Fishing License')\n"
     ]
    },
    {
     "data": {
      "text/markdown": [
       "**('STC_2014_STC005_with_ann.csv', 'License Taxes - Motor Vehicle Operators License')**"
      ],
      "text/plain": [
       "<IPython.core.display.Markdown object>"
      ]
     },
     "metadata": {},
     "output_type": "display_data"
    },
    {
     "name": "stdout",
     "output_type": "stream",
     "text": [
      "   ('STC_2014_STC005_with_ann.csv', 'Sales and Gross Receipts Taxes - Selective Sales and Gross Receipts Taxes - Amusements Sales Tax')\n",
      "   ('STC_2014_STC006.US01_with_ann.csv', 'Other Taxes')\n",
      "   ('STC_2014_STC005_with_ann.csv', 'Other Taxes')\n",
      "   ('STC_2014_STC005_with_ann.csv', 'License Taxes - Occupation and Business License, NEC')\n",
      "   ('STC_2014_STC005_with_ann.csv', 'License Taxes')\n",
      "   ('STC_2014_STC005_with_ann.csv', 'Sales and Gross Receipts Taxes - Selective Sales and Gross Receipts Taxes - Tobacco Products Sales Tax')\n",
      "   ('STC_2014_STC006.US01_with_ann.csv', 'Total Taxes')\n",
      "   ('STC_2014_STC005_with_ann.csv', 'Sales and Gross Receipts Taxes - Selective Sales and Gross Receipts Taxes - Other Selective Sales and Gross Receipts Taxes')\n",
      "   ('STC_2014_STC005_with_ann.csv', 'License Taxes - Other License Taxes')\n",
      "   ('STC_2014_STC005_with_ann.csv', 'Sales and Gross Receipts Taxes - Selective Sales and Gross Receipts Taxes - Alcoholic Beverages Sales Tax')\n",
      "   ('STC_2014_STC005_with_ann.csv', 'Sales and Gross Receipts Taxes - Selective Sales and Gross Receipts Taxes - Insurance Premiums Sales Tax')\n",
      "   ('STC_2014_STC005_with_ann.csv', 'Income Taxes')\n",
      "   ('STC_2014_STC005_with_ann.csv', 'Total Taxes')\n",
      "   ('STC_2014_STC006.US01_with_ann.csv', 'Income Taxes')\n",
      "   ('STC_2014_STC006.US01_with_ann.csv', 'Sales and Gross Receipts Taxes')\n",
      "   ('STC_2014_STC005_with_ann.csv', 'License Taxes - Hunting and Fishing License')\n"
     ]
    },
    {
     "data": {
      "text/markdown": [
       "**('STC_2014_STC005_with_ann.csv', 'License Taxes')**"
      ],
      "text/plain": [
       "<IPython.core.display.Markdown object>"
      ]
     },
     "metadata": {},
     "output_type": "display_data"
    },
    {
     "name": "stdout",
     "output_type": "stream",
     "text": [
      "   ('STC_2014_STC005_with_ann.csv', 'Sales and Gross Receipts Taxes - Selective Sales and Gross Receipts Taxes - Tobacco Products Sales Tax')\n",
      "   ('STC_2014_STC006.US01_with_ann.csv', 'Total Taxes')\n",
      "   ('STC_2014_STC005_with_ann.csv', 'Sales and Gross Receipts Taxes - Selective Sales and Gross Receipts Taxes - Other Selective Sales and Gross Receipts Taxes')\n",
      "   ('STC_2014_STC005_with_ann.csv', 'License Taxes - Other License Taxes')\n",
      "   ('STC_2014_STC005_with_ann.csv', 'Sales and Gross Receipts Taxes - Selective Sales and Gross Receipts Taxes - Alcoholic Beverages Sales Tax')\n",
      "   ('STC_2014_STC005_with_ann.csv', 'Sales and Gross Receipts Taxes - Selective Sales and Gross Receipts Taxes - Insurance Premiums Sales Tax')\n",
      "   ('STC_2014_STC005_with_ann.csv', 'Income Taxes')\n",
      "   ('STC_2014_STC005_with_ann.csv', 'Total Taxes')\n",
      "   ('STC_2014_STC006.US01_with_ann.csv', 'Income Taxes')\n",
      "   ('STC_2014_STC006.US01_with_ann.csv', 'Sales and Gross Receipts Taxes')\n",
      "   ('STC_2014_STC005_with_ann.csv', 'License Taxes - Hunting and Fishing License')\n"
     ]
    },
    {
     "data": {
      "text/markdown": [
       "**('STC_2014_STC005_with_ann.csv', 'Sales and Gross Receipts Taxes - Selective Sales and Gross Receipts Taxes - Public Utilities Sales Tax')**"
      ],
      "text/plain": [
       "<IPython.core.display.Markdown object>"
      ]
     },
     "metadata": {},
     "output_type": "display_data"
    },
    {
     "name": "stdout",
     "output_type": "stream",
     "text": [
      "   ('STC_2014_STC005_with_ann.csv', 'License Taxes - Motor Vehicle Operators License')\n",
      "   ('STC_2014_STC005_with_ann.csv', 'Sales and Gross Receipts Taxes - Selective Sales and Gross Receipts Taxes - Amusements Sales Tax')\n",
      "   ('STC_2014_STC006.US01_with_ann.csv', 'Other Taxes')\n",
      "   ('STC_2014_STC005_with_ann.csv', 'Other Taxes')\n",
      "   ('STC_2014_STC005_with_ann.csv', 'License Taxes - Occupation and Business License, NEC')\n",
      "   ('STC_2014_STC005_with_ann.csv', 'License Taxes')\n",
      "   ('STC_2014_STC005_with_ann.csv', 'Sales and Gross Receipts Taxes - Selective Sales and Gross Receipts Taxes - Tobacco Products Sales Tax')\n",
      "   ('STC_2014_STC006.US01_with_ann.csv', 'Total Taxes')\n",
      "   ('STC_2014_STC005_with_ann.csv', 'Sales and Gross Receipts Taxes - Selective Sales and Gross Receipts Taxes - Other Selective Sales and Gross Receipts Taxes')\n",
      "   ('STC_2014_STC005_with_ann.csv', 'License Taxes - Other License Taxes')\n",
      "   ('STC_2014_STC005_with_ann.csv', 'Sales and Gross Receipts Taxes - Selective Sales and Gross Receipts Taxes - Alcoholic Beverages Sales Tax')\n",
      "   ('STC_2014_STC005_with_ann.csv', 'Sales and Gross Receipts Taxes - Selective Sales and Gross Receipts Taxes - Insurance Premiums Sales Tax')\n",
      "   ('STC_2014_STC005_with_ann.csv', 'Income Taxes')\n",
      "   ('STC_2014_STC005_with_ann.csv', 'Total Taxes')\n",
      "   ('STC_2014_STC006.US01_with_ann.csv', 'Income Taxes')\n",
      "   ('STC_2014_STC006.US01_with_ann.csv', 'Sales and Gross Receipts Taxes')\n",
      "   ('STC_2014_STC005_with_ann.csv', 'License Taxes - Hunting and Fishing License')\n"
     ]
    },
    {
     "data": {
      "text/markdown": [
       "**('STC_2014_STC005_with_ann.csv', 'License Taxes - Motor Vehicle License')**"
      ],
      "text/plain": [
       "<IPython.core.display.Markdown object>"
      ]
     },
     "metadata": {},
     "output_type": "display_data"
    },
    {
     "name": "stdout",
     "output_type": "stream",
     "text": [
      "   ('STC_2014_STC005_with_ann.csv', 'Sales and Gross Receipts Taxes')\n",
      "   ('STC_2014_STC006.US01_with_ann.csv', 'License Taxes')\n",
      "   ('STC_2014_STC005_with_ann.csv', 'Sales and Gross Receipts Taxes - Selective Sales and Gross Receipts Taxes')\n",
      "   ('STC_2014_STC005_with_ann.csv', 'License Taxes - Alcoholic Beverages License')\n",
      "   ('STC_2014_STC005_with_ann.csv', 'License Taxes - Corporations in General License')\n",
      "   ('STC_2014_STC005_with_ann.csv', 'Sales and Gross Receipts Taxes - Selective Sales and Gross Receipts Taxes - Public Utilities Sales Tax')\n",
      "   ('STC_2014_STC005_with_ann.csv', 'License Taxes - Motor Vehicle Operators License')\n",
      "   ('STC_2014_STC005_with_ann.csv', 'Sales and Gross Receipts Taxes - Selective Sales and Gross Receipts Taxes - Amusements Sales Tax')\n",
      "   ('STC_2014_STC006.US01_with_ann.csv', 'Other Taxes')\n",
      "   ('STC_2014_STC005_with_ann.csv', 'Other Taxes')\n",
      "   ('STC_2014_STC005_with_ann.csv', 'License Taxes - Occupation and Business License, NEC')\n",
      "   ('STC_2014_STC005_with_ann.csv', 'License Taxes')\n",
      "   ('STC_2014_STC005_with_ann.csv', 'Sales and Gross Receipts Taxes - Selective Sales and Gross Receipts Taxes - Tobacco Products Sales Tax')\n",
      "   ('STC_2014_STC006.US01_with_ann.csv', 'Total Taxes')\n",
      "   ('STC_2014_STC005_with_ann.csv', 'Sales and Gross Receipts Taxes - Selective Sales and Gross Receipts Taxes - Other Selective Sales and Gross Receipts Taxes')\n",
      "   ('STC_2014_STC005_with_ann.csv', 'License Taxes - Other License Taxes')\n",
      "   ('STC_2014_STC005_with_ann.csv', 'Sales and Gross Receipts Taxes - Selective Sales and Gross Receipts Taxes - Alcoholic Beverages Sales Tax')\n",
      "   ('STC_2014_STC005_with_ann.csv', 'Sales and Gross Receipts Taxes - Selective Sales and Gross Receipts Taxes - Insurance Premiums Sales Tax')\n",
      "   ('STC_2014_STC005_with_ann.csv', 'Income Taxes')\n",
      "   ('STC_2014_STC005_with_ann.csv', 'Total Taxes')\n",
      "   ('STC_2014_STC006.US01_with_ann.csv', 'Income Taxes')\n",
      "   ('STC_2014_STC006.US01_with_ann.csv', 'Sales and Gross Receipts Taxes')\n",
      "   ('STC_2014_STC005_with_ann.csv', 'License Taxes - Hunting and Fishing License')\n"
     ]
    },
    {
     "data": {
      "text/markdown": [
       "**('STC_2014_STC006.US01_with_ann.csv', 'Other Taxes')**"
      ],
      "text/plain": [
       "<IPython.core.display.Markdown object>"
      ]
     },
     "metadata": {},
     "output_type": "display_data"
    },
    {
     "name": "stdout",
     "output_type": "stream",
     "text": [
      "   ('STC_2014_STC005_with_ann.csv', 'Other Taxes')\n",
      "   ('STC_2014_STC005_with_ann.csv', 'License Taxes - Occupation and Business License, NEC')\n",
      "   ('STC_2014_STC005_with_ann.csv', 'License Taxes')\n",
      "   ('STC_2014_STC005_with_ann.csv', 'Sales and Gross Receipts Taxes - Selective Sales and Gross Receipts Taxes - Tobacco Products Sales Tax')\n",
      "   ('STC_2014_STC006.US01_with_ann.csv', 'Total Taxes')\n",
      "   ('STC_2014_STC005_with_ann.csv', 'Sales and Gross Receipts Taxes - Selective Sales and Gross Receipts Taxes - Other Selective Sales and Gross Receipts Taxes')\n",
      "   ('STC_2014_STC005_with_ann.csv', 'License Taxes - Other License Taxes')\n",
      "   ('STC_2014_STC005_with_ann.csv', 'Sales and Gross Receipts Taxes - Selective Sales and Gross Receipts Taxes - Alcoholic Beverages Sales Tax')\n",
      "   ('STC_2014_STC005_with_ann.csv', 'Sales and Gross Receipts Taxes - Selective Sales and Gross Receipts Taxes - Insurance Premiums Sales Tax')\n",
      "   ('STC_2014_STC005_with_ann.csv', 'Income Taxes')\n",
      "   ('STC_2014_STC005_with_ann.csv', 'Total Taxes')\n",
      "   ('STC_2014_STC006.US01_with_ann.csv', 'Income Taxes')\n",
      "   ('STC_2014_STC006.US01_with_ann.csv', 'Sales and Gross Receipts Taxes')\n",
      "   ('STC_2014_STC005_with_ann.csv', 'License Taxes - Hunting and Fishing License')\n"
     ]
    },
    {
     "data": {
      "text/markdown": [
       "**('STC_2014_STC005_with_ann.csv', 'Income Taxes')**"
      ],
      "text/plain": [
       "<IPython.core.display.Markdown object>"
      ]
     },
     "metadata": {},
     "output_type": "display_data"
    },
    {
     "name": "stdout",
     "output_type": "stream",
     "text": [
      "   ('STC_2014_STC005_with_ann.csv', 'Total Taxes')\n",
      "   ('STC_2014_STC006.US01_with_ann.csv', 'Income Taxes')\n",
      "   ('STC_2014_STC006.US01_with_ann.csv', 'Sales and Gross Receipts Taxes')\n",
      "   ('STC_2014_STC005_with_ann.csv', 'License Taxes - Hunting and Fishing License')\n"
     ]
    },
    {
     "data": {
      "text/markdown": [
       "**('STC_2014_STC005_with_ann.csv', 'Total Taxes')**"
      ],
      "text/plain": [
       "<IPython.core.display.Markdown object>"
      ]
     },
     "metadata": {},
     "output_type": "display_data"
    },
    {
     "name": "stdout",
     "output_type": "stream",
     "text": [
      "   ('STC_2014_STC006.US01_with_ann.csv', 'Income Taxes')\n",
      "   ('STC_2014_STC006.US01_with_ann.csv', 'Sales and Gross Receipts Taxes')\n",
      "   ('STC_2014_STC005_with_ann.csv', 'License Taxes - Hunting and Fishing License')\n"
     ]
    },
    {
     "data": {
      "text/markdown": [
       "**('STC_2014_STC006.US01_with_ann.csv', 'Total Taxes')**"
      ],
      "text/plain": [
       "<IPython.core.display.Markdown object>"
      ]
     },
     "metadata": {},
     "output_type": "display_data"
    },
    {
     "name": "stdout",
     "output_type": "stream",
     "text": [
      "   ('STC_2014_STC005_with_ann.csv', 'Sales and Gross Receipts Taxes - Selective Sales and Gross Receipts Taxes - Other Selective Sales and Gross Receipts Taxes')\n",
      "   ('STC_2014_STC005_with_ann.csv', 'License Taxes - Other License Taxes')\n",
      "   ('STC_2014_STC005_with_ann.csv', 'Sales and Gross Receipts Taxes - Selective Sales and Gross Receipts Taxes - Alcoholic Beverages Sales Tax')\n",
      "   ('STC_2014_STC005_with_ann.csv', 'Sales and Gross Receipts Taxes - Selective Sales and Gross Receipts Taxes - Insurance Premiums Sales Tax')\n",
      "   ('STC_2014_STC005_with_ann.csv', 'Income Taxes')\n",
      "   ('STC_2014_STC005_with_ann.csv', 'Total Taxes')\n",
      "   ('STC_2014_STC006.US01_with_ann.csv', 'Income Taxes')\n",
      "   ('STC_2014_STC006.US01_with_ann.csv', 'Sales and Gross Receipts Taxes')\n",
      "   ('STC_2014_STC005_with_ann.csv', 'License Taxes - Hunting and Fishing License')\n"
     ]
    },
    {
     "data": {
      "text/markdown": [
       "**('STC_2014_STC005_with_ann.csv', 'License Taxes - Occupation and Business License, NEC')**"
      ],
      "text/plain": [
       "<IPython.core.display.Markdown object>"
      ]
     },
     "metadata": {},
     "output_type": "display_data"
    },
    {
     "name": "stdout",
     "output_type": "stream",
     "text": [
      "   ('STC_2014_STC005_with_ann.csv', 'License Taxes')\n",
      "   ('STC_2014_STC005_with_ann.csv', 'Sales and Gross Receipts Taxes - Selective Sales and Gross Receipts Taxes - Tobacco Products Sales Tax')\n",
      "   ('STC_2014_STC006.US01_with_ann.csv', 'Total Taxes')\n",
      "   ('STC_2014_STC005_with_ann.csv', 'Sales and Gross Receipts Taxes - Selective Sales and Gross Receipts Taxes - Other Selective Sales and Gross Receipts Taxes')\n",
      "   ('STC_2014_STC005_with_ann.csv', 'License Taxes - Other License Taxes')\n",
      "   ('STC_2014_STC005_with_ann.csv', 'Sales and Gross Receipts Taxes - Selective Sales and Gross Receipts Taxes - Alcoholic Beverages Sales Tax')\n",
      "   ('STC_2014_STC005_with_ann.csv', 'Sales and Gross Receipts Taxes - Selective Sales and Gross Receipts Taxes - Insurance Premiums Sales Tax')\n",
      "   ('STC_2014_STC005_with_ann.csv', 'Income Taxes')\n",
      "   ('STC_2014_STC005_with_ann.csv', 'Total Taxes')\n",
      "   ('STC_2014_STC006.US01_with_ann.csv', 'Income Taxes')\n",
      "   ('STC_2014_STC006.US01_with_ann.csv', 'Sales and Gross Receipts Taxes')\n",
      "   ('STC_2014_STC005_with_ann.csv', 'License Taxes - Hunting and Fishing License')\n"
     ]
    },
    {
     "data": {
      "text/markdown": [
       "**('STC_2014_STC005_with_ann.csv', 'Other Taxes')**"
      ],
      "text/plain": [
       "<IPython.core.display.Markdown object>"
      ]
     },
     "metadata": {},
     "output_type": "display_data"
    },
    {
     "name": "stdout",
     "output_type": "stream",
     "text": [
      "   ('STC_2014_STC005_with_ann.csv', 'License Taxes - Occupation and Business License, NEC')\n",
      "   ('STC_2014_STC005_with_ann.csv', 'License Taxes')\n",
      "   ('STC_2014_STC005_with_ann.csv', 'Sales and Gross Receipts Taxes - Selective Sales and Gross Receipts Taxes - Tobacco Products Sales Tax')\n",
      "   ('STC_2014_STC006.US01_with_ann.csv', 'Total Taxes')\n",
      "   ('STC_2014_STC005_with_ann.csv', 'Sales and Gross Receipts Taxes - Selective Sales and Gross Receipts Taxes - Other Selective Sales and Gross Receipts Taxes')\n",
      "   ('STC_2014_STC005_with_ann.csv', 'License Taxes - Other License Taxes')\n",
      "   ('STC_2014_STC005_with_ann.csv', 'Sales and Gross Receipts Taxes - Selective Sales and Gross Receipts Taxes - Alcoholic Beverages Sales Tax')\n",
      "   ('STC_2014_STC005_with_ann.csv', 'Sales and Gross Receipts Taxes - Selective Sales and Gross Receipts Taxes - Insurance Premiums Sales Tax')\n",
      "   ('STC_2014_STC005_with_ann.csv', 'Income Taxes')\n",
      "   ('STC_2014_STC005_with_ann.csv', 'Total Taxes')\n",
      "   ('STC_2014_STC006.US01_with_ann.csv', 'Income Taxes')\n",
      "   ('STC_2014_STC006.US01_with_ann.csv', 'Sales and Gross Receipts Taxes')\n",
      "   ('STC_2014_STC005_with_ann.csv', 'License Taxes - Hunting and Fishing License')\n"
     ]
    },
    {
     "data": {
      "text/markdown": [
       "**('STC_2014_STC006.US01_with_ann.csv', 'Income Taxes')**"
      ],
      "text/plain": [
       "<IPython.core.display.Markdown object>"
      ]
     },
     "metadata": {},
     "output_type": "display_data"
    },
    {
     "name": "stdout",
     "output_type": "stream",
     "text": [
      "   ('STC_2014_STC006.US01_with_ann.csv', 'Sales and Gross Receipts Taxes')\n",
      "   ('STC_2014_STC005_with_ann.csv', 'License Taxes - Hunting and Fishing License')\n"
     ]
    },
    {
     "data": {
      "text/markdown": [
       "**('STC_2014_STC005_with_ann.csv', 'Sales and Gross Receipts Taxes')**"
      ],
      "text/plain": [
       "<IPython.core.display.Markdown object>"
      ]
     },
     "metadata": {},
     "output_type": "display_data"
    },
    {
     "name": "stdout",
     "output_type": "stream",
     "text": [
      "   ('STC_2014_STC006.US01_with_ann.csv', 'License Taxes')\n",
      "   ('STC_2014_STC005_with_ann.csv', 'Sales and Gross Receipts Taxes - Selective Sales and Gross Receipts Taxes')\n",
      "   ('STC_2014_STC005_with_ann.csv', 'License Taxes - Alcoholic Beverages License')\n",
      "   ('STC_2014_STC005_with_ann.csv', 'License Taxes - Corporations in General License')\n",
      "   ('STC_2014_STC005_with_ann.csv', 'Sales and Gross Receipts Taxes - Selective Sales and Gross Receipts Taxes - Public Utilities Sales Tax')\n",
      "   ('STC_2014_STC005_with_ann.csv', 'License Taxes - Motor Vehicle Operators License')\n",
      "   ('STC_2014_STC005_with_ann.csv', 'Sales and Gross Receipts Taxes - Selective Sales and Gross Receipts Taxes - Amusements Sales Tax')\n",
      "   ('STC_2014_STC006.US01_with_ann.csv', 'Other Taxes')\n",
      "   ('STC_2014_STC005_with_ann.csv', 'Other Taxes')\n",
      "   ('STC_2014_STC005_with_ann.csv', 'License Taxes - Occupation and Business License, NEC')\n",
      "   ('STC_2014_STC005_with_ann.csv', 'License Taxes')\n",
      "   ('STC_2014_STC005_with_ann.csv', 'Sales and Gross Receipts Taxes - Selective Sales and Gross Receipts Taxes - Tobacco Products Sales Tax')\n",
      "   ('STC_2014_STC006.US01_with_ann.csv', 'Total Taxes')\n",
      "   ('STC_2014_STC005_with_ann.csv', 'Sales and Gross Receipts Taxes - Selective Sales and Gross Receipts Taxes - Other Selective Sales and Gross Receipts Taxes')\n",
      "   ('STC_2014_STC005_with_ann.csv', 'License Taxes - Other License Taxes')\n",
      "   ('STC_2014_STC005_with_ann.csv', 'Sales and Gross Receipts Taxes - Selective Sales and Gross Receipts Taxes - Alcoholic Beverages Sales Tax')\n",
      "   ('STC_2014_STC005_with_ann.csv', 'Sales and Gross Receipts Taxes - Selective Sales and Gross Receipts Taxes - Insurance Premiums Sales Tax')\n",
      "   ('STC_2014_STC005_with_ann.csv', 'Income Taxes')\n",
      "   ('STC_2014_STC005_with_ann.csv', 'Total Taxes')\n",
      "   ('STC_2014_STC006.US01_with_ann.csv', 'Income Taxes')\n",
      "   ('STC_2014_STC006.US01_with_ann.csv', 'Sales and Gross Receipts Taxes')\n",
      "   ('STC_2014_STC005_with_ann.csv', 'License Taxes - Hunting and Fishing License')\n"
     ]
    },
    {
     "data": {
      "text/markdown": [
       "**('STC_2014_STC005_with_ann.csv', 'License Taxes - Corporations in General License')**"
      ],
      "text/plain": [
       "<IPython.core.display.Markdown object>"
      ]
     },
     "metadata": {},
     "output_type": "display_data"
    },
    {
     "name": "stdout",
     "output_type": "stream",
     "text": [
      "   ('STC_2014_STC005_with_ann.csv', 'Sales and Gross Receipts Taxes - Selective Sales and Gross Receipts Taxes - Public Utilities Sales Tax')\n",
      "   ('STC_2014_STC005_with_ann.csv', 'License Taxes - Motor Vehicle Operators License')\n",
      "   ('STC_2014_STC005_with_ann.csv', 'Sales and Gross Receipts Taxes - Selective Sales and Gross Receipts Taxes - Amusements Sales Tax')\n",
      "   ('STC_2014_STC006.US01_with_ann.csv', 'Other Taxes')\n",
      "   ('STC_2014_STC005_with_ann.csv', 'Other Taxes')\n",
      "   ('STC_2014_STC005_with_ann.csv', 'License Taxes - Occupation and Business License, NEC')\n",
      "   ('STC_2014_STC005_with_ann.csv', 'License Taxes')\n",
      "   ('STC_2014_STC005_with_ann.csv', 'Sales and Gross Receipts Taxes - Selective Sales and Gross Receipts Taxes - Tobacco Products Sales Tax')\n",
      "   ('STC_2014_STC006.US01_with_ann.csv', 'Total Taxes')\n",
      "   ('STC_2014_STC005_with_ann.csv', 'Sales and Gross Receipts Taxes - Selective Sales and Gross Receipts Taxes - Other Selective Sales and Gross Receipts Taxes')\n",
      "   ('STC_2014_STC005_with_ann.csv', 'License Taxes - Other License Taxes')\n",
      "   ('STC_2014_STC005_with_ann.csv', 'Sales and Gross Receipts Taxes - Selective Sales and Gross Receipts Taxes - Alcoholic Beverages Sales Tax')\n",
      "   ('STC_2014_STC005_with_ann.csv', 'Sales and Gross Receipts Taxes - Selective Sales and Gross Receipts Taxes - Insurance Premiums Sales Tax')\n",
      "   ('STC_2014_STC005_with_ann.csv', 'Income Taxes')\n",
      "   ('STC_2014_STC005_with_ann.csv', 'Total Taxes')\n",
      "   ('STC_2014_STC006.US01_with_ann.csv', 'Income Taxes')\n",
      "   ('STC_2014_STC006.US01_with_ann.csv', 'Sales and Gross Receipts Taxes')\n",
      "   ('STC_2014_STC005_with_ann.csv', 'License Taxes - Hunting and Fishing License')\n"
     ]
    },
    {
     "data": {
      "text/markdown": [
       "**('STC_2014_STC005_with_ann.csv', 'Sales and Gross Receipts Taxes - Selective Sales and Gross Receipts Taxes')**"
      ],
      "text/plain": [
       "<IPython.core.display.Markdown object>"
      ]
     },
     "metadata": {},
     "output_type": "display_data"
    },
    {
     "name": "stdout",
     "output_type": "stream",
     "text": [
      "   ('STC_2014_STC005_with_ann.csv', 'License Taxes - Alcoholic Beverages License')\n",
      "   ('STC_2014_STC005_with_ann.csv', 'License Taxes - Corporations in General License')\n",
      "   ('STC_2014_STC005_with_ann.csv', 'Sales and Gross Receipts Taxes - Selective Sales and Gross Receipts Taxes - Public Utilities Sales Tax')\n",
      "   ('STC_2014_STC005_with_ann.csv', 'License Taxes - Motor Vehicle Operators License')\n",
      "   ('STC_2014_STC005_with_ann.csv', 'Sales and Gross Receipts Taxes - Selective Sales and Gross Receipts Taxes - Amusements Sales Tax')\n",
      "   ('STC_2014_STC006.US01_with_ann.csv', 'Other Taxes')\n",
      "   ('STC_2014_STC005_with_ann.csv', 'Other Taxes')\n",
      "   ('STC_2014_STC005_with_ann.csv', 'License Taxes - Occupation and Business License, NEC')\n",
      "   ('STC_2014_STC005_with_ann.csv', 'License Taxes')\n",
      "   ('STC_2014_STC005_with_ann.csv', 'Sales and Gross Receipts Taxes - Selective Sales and Gross Receipts Taxes - Tobacco Products Sales Tax')\n",
      "   ('STC_2014_STC006.US01_with_ann.csv', 'Total Taxes')\n",
      "   ('STC_2014_STC005_with_ann.csv', 'Sales and Gross Receipts Taxes - Selective Sales and Gross Receipts Taxes - Other Selective Sales and Gross Receipts Taxes')\n",
      "   ('STC_2014_STC005_with_ann.csv', 'License Taxes - Other License Taxes')\n",
      "   ('STC_2014_STC005_with_ann.csv', 'Sales and Gross Receipts Taxes - Selective Sales and Gross Receipts Taxes - Alcoholic Beverages Sales Tax')\n",
      "   ('STC_2014_STC005_with_ann.csv', 'Sales and Gross Receipts Taxes - Selective Sales and Gross Receipts Taxes - Insurance Premiums Sales Tax')\n",
      "   ('STC_2014_STC005_with_ann.csv', 'Income Taxes')\n",
      "   ('STC_2014_STC005_with_ann.csv', 'Total Taxes')\n",
      "   ('STC_2014_STC006.US01_with_ann.csv', 'Income Taxes')\n",
      "   ('STC_2014_STC006.US01_with_ann.csv', 'Sales and Gross Receipts Taxes')\n",
      "   ('STC_2014_STC005_with_ann.csv', 'License Taxes - Hunting and Fishing License')\n"
     ]
    },
    {
     "data": {
      "text/markdown": [
       "**('STC_2014_STC005_with_ann.csv', 'Sales and Gross Receipts Taxes - Selective Sales and Gross Receipts Taxes - Alcoholic Beverages Sales Tax')**"
      ],
      "text/plain": [
       "<IPython.core.display.Markdown object>"
      ]
     },
     "metadata": {},
     "output_type": "display_data"
    },
    {
     "name": "stdout",
     "output_type": "stream",
     "text": [
      "   ('STC_2014_STC005_with_ann.csv', 'Sales and Gross Receipts Taxes - Selective Sales and Gross Receipts Taxes - Insurance Premiums Sales Tax')\n",
      "   ('STC_2014_STC005_with_ann.csv', 'Income Taxes')\n",
      "   ('STC_2014_STC005_with_ann.csv', 'Total Taxes')\n",
      "   ('STC_2014_STC006.US01_with_ann.csv', 'Income Taxes')\n",
      "   ('STC_2014_STC006.US01_with_ann.csv', 'Sales and Gross Receipts Taxes')\n",
      "   ('STC_2014_STC005_with_ann.csv', 'License Taxes - Hunting and Fishing License')\n"
     ]
    },
    {
     "data": {
      "text/markdown": [
       "**('STC_2014_STC005_with_ann.csv', 'Sales and Gross Receipts Taxes - Selective Sales and Gross Receipts Taxes - Other Selective Sales and Gross Receipts Taxes')**"
      ],
      "text/plain": [
       "<IPython.core.display.Markdown object>"
      ]
     },
     "metadata": {},
     "output_type": "display_data"
    },
    {
     "name": "stdout",
     "output_type": "stream",
     "text": [
      "   ('STC_2014_STC005_with_ann.csv', 'License Taxes - Other License Taxes')\n",
      "   ('STC_2014_STC005_with_ann.csv', 'Sales and Gross Receipts Taxes - Selective Sales and Gross Receipts Taxes - Alcoholic Beverages Sales Tax')\n",
      "   ('STC_2014_STC005_with_ann.csv', 'Sales and Gross Receipts Taxes - Selective Sales and Gross Receipts Taxes - Insurance Premiums Sales Tax')\n",
      "   ('STC_2014_STC005_with_ann.csv', 'Income Taxes')\n",
      "   ('STC_2014_STC005_with_ann.csv', 'Total Taxes')\n",
      "   ('STC_2014_STC006.US01_with_ann.csv', 'Income Taxes')\n",
      "   ('STC_2014_STC006.US01_with_ann.csv', 'Sales and Gross Receipts Taxes')\n",
      "   ('STC_2014_STC005_with_ann.csv', 'License Taxes - Hunting and Fishing License')\n"
     ]
    },
    {
     "data": {
      "text/markdown": [
       "**('STC_2014_STC006.US01_with_ann.csv', 'Sales and Gross Receipts Taxes')**"
      ],
      "text/plain": [
       "<IPython.core.display.Markdown object>"
      ]
     },
     "metadata": {},
     "output_type": "display_data"
    },
    {
     "name": "stdout",
     "output_type": "stream",
     "text": [
      "   ('STC_2014_STC005_with_ann.csv', 'License Taxes - Hunting and Fishing License')\n"
     ]
    },
    {
     "data": {
      "text/markdown": [
       "**('STC_2014_STC005_with_ann.csv', 'License Taxes - Alcoholic Beverages License')**"
      ],
      "text/plain": [
       "<IPython.core.display.Markdown object>"
      ]
     },
     "metadata": {},
     "output_type": "display_data"
    },
    {
     "name": "stdout",
     "output_type": "stream",
     "text": [
      "   ('STC_2014_STC005_with_ann.csv', 'License Taxes - Corporations in General License')\n",
      "   ('STC_2014_STC005_with_ann.csv', 'Sales and Gross Receipts Taxes - Selective Sales and Gross Receipts Taxes - Public Utilities Sales Tax')\n",
      "   ('STC_2014_STC005_with_ann.csv', 'License Taxes - Motor Vehicle Operators License')\n",
      "   ('STC_2014_STC005_with_ann.csv', 'Sales and Gross Receipts Taxes - Selective Sales and Gross Receipts Taxes - Amusements Sales Tax')\n",
      "   ('STC_2014_STC006.US01_with_ann.csv', 'Other Taxes')\n",
      "   ('STC_2014_STC005_with_ann.csv', 'Other Taxes')\n",
      "   ('STC_2014_STC005_with_ann.csv', 'License Taxes - Occupation and Business License, NEC')\n",
      "   ('STC_2014_STC005_with_ann.csv', 'License Taxes')\n",
      "   ('STC_2014_STC005_with_ann.csv', 'Sales and Gross Receipts Taxes - Selective Sales and Gross Receipts Taxes - Tobacco Products Sales Tax')\n",
      "   ('STC_2014_STC006.US01_with_ann.csv', 'Total Taxes')\n",
      "   ('STC_2014_STC005_with_ann.csv', 'Sales and Gross Receipts Taxes - Selective Sales and Gross Receipts Taxes - Other Selective Sales and Gross Receipts Taxes')\n",
      "   ('STC_2014_STC005_with_ann.csv', 'License Taxes - Other License Taxes')\n",
      "   ('STC_2014_STC005_with_ann.csv', 'Sales and Gross Receipts Taxes - Selective Sales and Gross Receipts Taxes - Alcoholic Beverages Sales Tax')\n",
      "   ('STC_2014_STC005_with_ann.csv', 'Sales and Gross Receipts Taxes - Selective Sales and Gross Receipts Taxes - Insurance Premiums Sales Tax')\n",
      "   ('STC_2014_STC005_with_ann.csv', 'Income Taxes')\n",
      "   ('STC_2014_STC005_with_ann.csv', 'Total Taxes')\n",
      "   ('STC_2014_STC006.US01_with_ann.csv', 'Income Taxes')\n",
      "   ('STC_2014_STC006.US01_with_ann.csv', 'Sales and Gross Receipts Taxes')\n",
      "   ('STC_2014_STC005_with_ann.csv', 'License Taxes - Hunting and Fishing License')\n"
     ]
    },
    {
     "data": {
      "text/markdown": [
       "**('STC_2014_STC005_with_ann.csv', 'Sales and Gross Receipts Taxes - Selective Sales and Gross Receipts Taxes - Tobacco Products Sales Tax')**"
      ],
      "text/plain": [
       "<IPython.core.display.Markdown object>"
      ]
     },
     "metadata": {},
     "output_type": "display_data"
    },
    {
     "name": "stdout",
     "output_type": "stream",
     "text": [
      "   ('STC_2014_STC006.US01_with_ann.csv', 'Total Taxes')\n",
      "   ('STC_2014_STC005_with_ann.csv', 'Sales and Gross Receipts Taxes - Selective Sales and Gross Receipts Taxes - Other Selective Sales and Gross Receipts Taxes')\n",
      "   ('STC_2014_STC005_with_ann.csv', 'License Taxes - Other License Taxes')\n",
      "   ('STC_2014_STC005_with_ann.csv', 'Sales and Gross Receipts Taxes - Selective Sales and Gross Receipts Taxes - Alcoholic Beverages Sales Tax')\n",
      "   ('STC_2014_STC005_with_ann.csv', 'Sales and Gross Receipts Taxes - Selective Sales and Gross Receipts Taxes - Insurance Premiums Sales Tax')\n",
      "   ('STC_2014_STC005_with_ann.csv', 'Income Taxes')\n",
      "   ('STC_2014_STC005_with_ann.csv', 'Total Taxes')\n",
      "   ('STC_2014_STC006.US01_with_ann.csv', 'Income Taxes')\n",
      "   ('STC_2014_STC006.US01_with_ann.csv', 'Sales and Gross Receipts Taxes')\n",
      "   ('STC_2014_STC005_with_ann.csv', 'License Taxes - Hunting and Fishing License')\n"
     ]
    }
   ],
   "source": [
    "X = (\"STC_2014_STC006.US01_with_ann.csv\", \"License Taxes\")\n",
    "Y = (\"STC_2014_STC006.US01_with_ann.csv\", \"Other Taxes\")\n",
    "res = API.pairs_similar_to_pair(X, Y, \"pearson\")\n",
    "API.print_result(res)"
   ]
  },
  {
   "cell_type": "code",
   "execution_count": null,
   "metadata": {
    "collapsed": true
   },
   "outputs": [],
   "source": []
  }
 ],
 "metadata": {
  "kernelspec": {
   "display_name": "Python 3",
   "language": "python",
   "name": "python3"
  },
  "language_info": {
   "codemirror_mode": {
    "name": "ipython",
    "version": 3
   },
   "file_extension": ".py",
   "mimetype": "text/x-python",
   "name": "python",
   "nbconvert_exporter": "python",
   "pygments_lexer": "ipython3",
   "version": "3.5.0"
  }
 },
 "nbformat": 4,
 "nbformat_minor": 0
}
