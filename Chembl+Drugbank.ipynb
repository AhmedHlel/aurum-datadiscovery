{
 "cells": [
  {
   "cell_type": "code",
   "execution_count": 1,
   "metadata": {
    "collapsed": false
   },
   "outputs": [
    {
     "data": {
      "text/markdown": [
       "Loading: */Users/ra-mit/development/discovery_proto/test/partialchembl.pickle*"
      ],
      "text/plain": [
       "<IPython.core.display.Markdown object>"
      ]
     },
     "metadata": {},
     "output_type": "display_data"
    },
    {
     "data": {
      "text/markdown": [
       "### Help Menu"
      ],
      "text/plain": [
       "<IPython.core.display.Markdown object>"
      ]
     },
     "metadata": {},
     "output_type": "display_data"
    },
    {
     "data": {
      "text/markdown": [
       "You can use the system through an **API** object. API objects are returnedby the *init_system* function, so you can get one by doing:"
      ],
      "text/plain": [
       "<IPython.core.display.Markdown object>"
      ]
     },
     "metadata": {},
     "output_type": "display_data"
    },
    {
     "data": {
      "text/markdown": [
       "***your_api_object = init_system('path_to_stored_model')***"
      ],
      "text/plain": [
       "<IPython.core.display.Markdown object>"
      ]
     },
     "metadata": {},
     "output_type": "display_data"
    },
    {
     "data": {
      "text/markdown": [
       "Once you have access to an API object there are a few concepts that are useful to use the API. **content** refers to actual values of a given field. For example, if you have a table with an attribute called __Name__ and values *Olu, Mike, Sam*, content refers to the actual values, e.g. Mike, Sam, Olu."
      ],
      "text/plain": [
       "<IPython.core.display.Markdown object>"
      ]
     },
     "metadata": {},
     "output_type": "display_data"
    },
    {
     "data": {
      "text/markdown": [
       "**schema** refers to the name of a given field. In the previous example, schema refers to the word__Name__ as that's how the field is called."
      ],
      "text/plain": [
       "<IPython.core.display.Markdown object>"
      ]
     },
     "metadata": {},
     "output_type": "display_data"
    },
    {
     "data": {
      "text/markdown": [
       "Finally, **entity** refers to the *semantic type* of the content. This is in experimental state. For the previous example it would return *'person'* as that's what those names refer to."
      ],
      "text/plain": [
       "<IPython.core.display.Markdown object>"
      ]
     },
     "metadata": {},
     "output_type": "display_data"
    },
    {
     "data": {
      "text/markdown": [
       "Certain functions require a *field* as input. In general a field is specified by the source name (e.g. table name) and the field name (e.g. attribute name). For example, if we are interested in finding content similar to the one of the attribute *year* in the table *Employee* we can provide the field in the following way:"
      ],
      "text/plain": [
       "<IPython.core.display.Markdown object>"
      ]
     },
     "metadata": {},
     "output_type": "display_data"
    },
    {
     "name": "stdout",
     "output_type": "stream",
     "text": [
      "field = ('Employee', 'year') # field = [<source_name>, <field_name>)\n"
     ]
    }
   ],
   "source": [
    "from main import init_system\n",
    "api = init_system(\"/Users/ra-mit/development/discovery_proto/test/partialchembl.pickle\")"
   ]
  },
  {
   "cell_type": "markdown",
   "metadata": {},
   "source": [
    "# Discovery Primitives"
   ]
  },
  {
   "cell_type": "markdown",
   "metadata": {},
   "source": [
    "### Keyword, schema, entity search"
   ]
  },
  {
   "cell_type": "code",
   "execution_count": 6,
   "metadata": {
    "collapsed": false
   },
   "outputs": [
    {
     "name": "stdout",
     "output_type": "stream",
     "text": [
      "source: compound_records\t\t\t\t\t field: compound_key\n",
      "source: compound_records\t\t\t\t\t field: compound_key\n",
      "source: drug_indication\t\t\t\t\t field: efo_term\n",
      "source: drug_indication\t\t\t\t\t field: mesh_heading\n",
      "source: drug_indication\t\t\t\t\t field: efo_term\n",
      "source: drug_indication\t\t\t\t\t field: mesh_heading\n",
      "source: drug_indication\t\t\t\t\t field: mesh_heading\n",
      "source: drug_indication\t\t\t\t\t field: efo_term\n",
      "source: drug_indication\t\t\t\t\t field: efo_term\n",
      "source: drug_indication\t\t\t\t\t field: mesh_heading\n",
      "source: drugs_vw\t\t\t\t\t field: name\n",
      "source: drug_synonyms\t\t\t\t\t field: synonym\n",
      "source: drugs\t\t\t\t\t field: name\n",
      "source: drugs\t\t\t\t\t field: description\n",
      "source: drugs_vw\t\t\t\t\t field: description\n",
      "source: compound_records\t\t\t\t\t field: compound_name\n",
      "source: drugs_vw\t\t\t\t\t field: description\n",
      "source: compound_records\t\t\t\t\t field: compound_name\n",
      "source: drugs_vw\t\t\t\t\t field: synonyms\n",
      "source: drugs\t\t\t\t\t field: description\n",
      "source: drugs_vw\t\t\t\t\t field: description\n",
      "source: drugs\t\t\t\t\t field: description\n",
      "source: drugs\t\t\t\t\t field: description\n",
      "source: drugs_vw\t\t\t\t\t field: description\n"
     ]
    }
   ],
   "source": [
    "res = api.keyword_search(\"heroin\", max_results=500)\n",
    "api.output(res)"
   ]
  },
  {
   "cell_type": "code",
   "execution_count": 11,
   "metadata": {
    "collapsed": false
   },
   "outputs": [
    {
     "name": "stdout",
     "output_type": "stream",
     "text": [
      "source: drugs_vw\t\t\t\t\t field: name\n",
      "source: drugs\t\t\t\t\t field: name\n",
      "source: compound_records\t\t\t\t\t field: compound_name\n",
      "source: compound_records\t\t\t\t\t field: compound_name\n",
      "source: compound_records\t\t\t\t\t field: compound_name\n",
      "source: compound_records\t\t\t\t\t field: compound_name\n"
     ]
    }
   ],
   "source": [
    "res = api.keyword_search(\"Methylenedioxymethamphetamine\")\n",
    "api.output(res)"
   ]
  },
  {
   "cell_type": "code",
   "execution_count": 13,
   "metadata": {
    "collapsed": false
   },
   "outputs": [
    {
     "name": "stdout",
     "output_type": "stream",
     "text": [
      "source: drugs_vw\t\t\t\t\t field: synonyms\n",
      "source: drug_synonyms\t\t\t\t\t field: synonym\n",
      "source: drugs\t\t\t\t\t field: name\n",
      "source: drugs_vw\t\t\t\t\t field: name\n",
      "source: compound_records\t\t\t\t\t field: compound_key\n",
      "source: compound_properties\t\t\t\t\t field: molecular_species\n",
      "source: compound_properties\t\t\t\t\t field: molecular_species\n",
      "source: compound_properties\t\t\t\t\t field: molecular_species\n",
      "source: compound_records\t\t\t\t\t field: compound_name\n",
      "source: drug_synonyms\t\t\t\t\t field: synonym\n"
     ]
    }
   ],
   "source": [
    "res = api.keyword_search(\"Lysergic acid diethylamide\")\n",
    "api.output(res)"
   ]
  },
  {
   "cell_type": "code",
   "execution_count": 12,
   "metadata": {
    "collapsed": false
   },
   "outputs": [
    {
     "name": "stdout",
     "output_type": "stream",
     "text": [
      "source: docs\t\t\t\t\t field: year\n"
     ]
    }
   ],
   "source": [
    "res = api.schema_search(\"year\")\n",
    "api.output(res)"
   ]
  },
  {
   "cell_type": "markdown",
   "metadata": {},
   "source": [
    "### Content, schema, entity similarity"
   ]
  },
  {
   "cell_type": "code",
   "execution_count": 10,
   "metadata": {
    "collapsed": false
   },
   "outputs": [
    {
     "name": "stdout",
     "output_type": "stream",
     "text": [
      "source: assays\t\t\t\t\t field: relationship_type\n",
      "source: irac_classification\t\t\t\t\t field: level1\n",
      "source: assays\t\t\t\t\t field: assay_type\n",
      "source: go_classification\t\t\t\t\t field: aspect\n",
      "source: compound_properties\t\t\t\t\t field: ro3_pass\n"
     ]
    }
   ],
   "source": [
    "field = (\"atc_classification\", \"level1\")\n",
    "res = api.similar_content_fields(field)\n",
    "api.output(res)"
   ]
  },
  {
   "cell_type": "code",
   "execution_count": 14,
   "metadata": {
    "collapsed": false
   },
   "outputs": [
    {
     "name": "stdout",
     "output_type": "stream",
     "text": [
      "source: assays\t\t\t\t\t field: relationship_type\n",
      "source: compound_properties\t\t\t\t\t field: ro3_pass\n",
      "source: irac_classification\t\t\t\t\t field: level1\n",
      "source: atc_classification\t\t\t\t\t field: level1\n",
      "source: assays\t\t\t\t\t field: assay_type\n"
     ]
    }
   ],
   "source": [
    "field = (\"go_classification\", \"aspect\")\n",
    "res = api.similar_content_fields(field)\n",
    "api.output(res)"
   ]
  },
  {
   "cell_type": "code",
   "execution_count": 24,
   "metadata": {
    "collapsed": false,
    "scrolled": true
   },
   "outputs": [
    {
     "name": "stdout",
     "output_type": "stream",
     "text": [
      "source: component_sequences\t\t\t\t\t field: component_type\n"
     ]
    }
   ],
   "source": [
    "field = (\"bio_component_sequences\", \"component_type\")\n",
    "res = api.similar_content_fields(field)\n",
    "api.output(res)"
   ]
  },
  {
   "cell_type": "code",
   "execution_count": 25,
   "metadata": {
    "collapsed": false
   },
   "outputs": [
    {
     "name": "stdout",
     "output_type": "stream",
     "text": [
      "source: chembl_id_lookup\t\t\t\t\t field: status\n"
     ]
    }
   ],
   "source": [
    "field = (\"activities\", \"activity_comment\")\n",
    "res = api.similar_content_fields(field)\n",
    "api.output(res)"
   ]
  },
  {
   "cell_type": "markdown",
   "metadata": {},
   "source": [
    "# Discovery Functions"
   ]
  },
  {
   "cell_type": "code",
   "execution_count": 16,
   "metadata": {
    "collapsed": false
   },
   "outputs": [
    {
     "name": "stdout",
     "output_type": "stream",
     "text": [
      "Hit(nid=690794884, source_name='assays', field_name='src_id', score=1)\n",
      "Hit(nid=1369694679, source_name='drug_mechanism', field_name='disease_efficacy', score=1)\n",
      "Hit(nid=1927220725, source_name='drug_mechanism', field_name='molecular_mechanism', score=1)\n",
      "Hit(nid=1796642281, source_name='drug_mechanism', field_name='direct_interaction', score=1)\n",
      "Hit(nid=1320796556, source_name='assays', field_name='relationship_type', score=1.0)\n",
      "Hit(nid=2948285653, source_name='irac_classification', field_name='level1', score=1.0)\n",
      "Hit(nid=513959026, source_name='compound_properties', field_name='ro3_pass', score=1.0)\n",
      "Hit(nid=928927733, source_name='go_classification', field_name='aspect', score=1.0)\n",
      "Hit(nid=3659419128, source_name='atc_classification', field_name='level1', score=1.0)\n",
      "Hit(nid=2948285653, source_name='irac_classification', field_name='level1', score=1.0)\n",
      "Hit(nid=874131486, source_name='assays', field_name='assay_type', score=1.0)\n",
      "Hit(nid=513959026, source_name='compound_properties', field_name='ro3_pass', score=1.0)\n",
      "Hit(nid=928927733, source_name='go_classification', field_name='aspect', score=1.0)\n",
      "Hit(nid=3659419128, source_name='atc_classification', field_name='level1', score=1.0)\n",
      "Hit(nid=1369694679, source_name='drug_mechanism', field_name='disease_efficacy', score=1)\n",
      "Hit(nid=3812389298, source_name='assays', field_name='confidence_score', score=1)\n",
      "Hit(nid=1927220725, source_name='drug_mechanism', field_name='molecular_mechanism', score=1)\n",
      "Hit(nid=1796642281, source_name='drug_mechanism', field_name='direct_interaction', score=1)\n"
     ]
    }
   ],
   "source": [
    "sn = \"assays\"\n",
    "res = api.schema_complement(sn)\n",
    "api.output_raw(res)"
   ]
  },
  {
   "cell_type": "code",
   "execution_count": 23,
   "metadata": {
    "collapsed": true
   },
   "outputs": [],
   "source": [
    "res = api.find_tables_matching_schema(\"disease_efficacy\", 10)\n",
    "api.output_raw(res)"
   ]
  }
 ],
 "metadata": {
  "kernelspec": {
   "display_name": "Python 3",
   "language": "python",
   "name": "python3"
  },
  "language_info": {
   "codemirror_mode": {
    "name": "ipython",
    "version": 3
   },
   "file_extension": ".py",
   "mimetype": "text/x-python",
   "name": "python",
   "nbconvert_exporter": "python",
   "pygments_lexer": "ipython3",
   "version": "3.5.0"
  }
 },
 "nbformat": 4,
 "nbformat_minor": 0
}
